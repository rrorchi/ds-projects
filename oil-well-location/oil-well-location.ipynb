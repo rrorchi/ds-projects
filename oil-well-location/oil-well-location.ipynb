{
 "cells": [
  {
   "cell_type": "markdown",
   "metadata": {},
   "source": [
    "# Выбор локации для скважины"
   ]
  },
  {
   "cell_type": "markdown",
   "metadata": {},
   "source": [
    "## Загрузка и подготовка данных"
   ]
  },
  {
   "cell_type": "code",
   "execution_count": 2,
   "metadata": {},
   "outputs": [],
   "source": [
    "import pandas as pd\n",
    "import numpy as np\n",
    "import matplotlib.pyplot as plt\n",
    "\n",
    "from sklearn.model_selection import train_test_split\n",
    "from sklearn.linear_model import LinearRegression\n",
    "from sklearn.metrics import mean_squared_error\n",
    "\n",
    "from scipy import stats as st"
   ]
  },
  {
   "cell_type": "code",
   "execution_count": 3,
   "metadata": {
    "scrolled": true
   },
   "outputs": [
    {
     "data": {
      "text/plain": [
       "'geo_data_0.csv'"
      ]
     },
     "metadata": {},
     "output_type": "display_data"
    },
    {
     "data": {
      "text/html": [
       "<div>\n",
       "<style scoped>\n",
       "    .dataframe tbody tr th:only-of-type {\n",
       "        vertical-align: middle;\n",
       "    }\n",
       "\n",
       "    .dataframe tbody tr th {\n",
       "        vertical-align: top;\n",
       "    }\n",
       "\n",
       "    .dataframe thead th {\n",
       "        text-align: right;\n",
       "    }\n",
       "</style>\n",
       "<table border=\"1\" class=\"dataframe\">\n",
       "  <thead>\n",
       "    <tr style=\"text-align: right;\">\n",
       "      <th></th>\n",
       "      <th>id</th>\n",
       "      <th>f0</th>\n",
       "      <th>f1</th>\n",
       "      <th>f2</th>\n",
       "      <th>product</th>\n",
       "    </tr>\n",
       "  </thead>\n",
       "  <tbody>\n",
       "    <tr>\n",
       "      <th>0</th>\n",
       "      <td>txEyH</td>\n",
       "      <td>0.705745</td>\n",
       "      <td>-0.497823</td>\n",
       "      <td>1.221170</td>\n",
       "      <td>105.280062</td>\n",
       "    </tr>\n",
       "    <tr>\n",
       "      <th>1</th>\n",
       "      <td>2acmU</td>\n",
       "      <td>1.334711</td>\n",
       "      <td>-0.340164</td>\n",
       "      <td>4.365080</td>\n",
       "      <td>73.037750</td>\n",
       "    </tr>\n",
       "    <tr>\n",
       "      <th>2</th>\n",
       "      <td>409Wp</td>\n",
       "      <td>1.022732</td>\n",
       "      <td>0.151990</td>\n",
       "      <td>1.419926</td>\n",
       "      <td>85.265647</td>\n",
       "    </tr>\n",
       "    <tr>\n",
       "      <th>3</th>\n",
       "      <td>iJLyR</td>\n",
       "      <td>-0.032172</td>\n",
       "      <td>0.139033</td>\n",
       "      <td>2.978566</td>\n",
       "      <td>168.620776</td>\n",
       "    </tr>\n",
       "    <tr>\n",
       "      <th>4</th>\n",
       "      <td>Xdl7t</td>\n",
       "      <td>1.988431</td>\n",
       "      <td>0.155413</td>\n",
       "      <td>4.751769</td>\n",
       "      <td>154.036647</td>\n",
       "    </tr>\n",
       "  </tbody>\n",
       "</table>\n",
       "</div>"
      ],
      "text/plain": [
       "      id        f0        f1        f2     product\n",
       "0  txEyH  0.705745 -0.497823  1.221170  105.280062\n",
       "1  2acmU  1.334711 -0.340164  4.365080   73.037750\n",
       "2  409Wp  1.022732  0.151990  1.419926   85.265647\n",
       "3  iJLyR -0.032172  0.139033  2.978566  168.620776\n",
       "4  Xdl7t  1.988431  0.155413  4.751769  154.036647"
      ]
     },
     "metadata": {},
     "output_type": "display_data"
    },
    {
     "name": "stdout",
     "output_type": "stream",
     "text": [
      "<class 'pandas.core.frame.DataFrame'>\n",
      "RangeIndex: 100000 entries, 0 to 99999\n",
      "Data columns (total 5 columns):\n",
      " #   Column   Non-Null Count   Dtype  \n",
      "---  ------   --------------   -----  \n",
      " 0   id       100000 non-null  object \n",
      " 1   f0       100000 non-null  float64\n",
      " 2   f1       100000 non-null  float64\n",
      " 3   f2       100000 non-null  float64\n",
      " 4   product  100000 non-null  float64\n",
      "dtypes: float64(4), object(1)\n",
      "memory usage: 3.8+ MB\n"
     ]
    },
    {
     "data": {
      "text/plain": [
       "None"
      ]
     },
     "metadata": {},
     "output_type": "display_data"
    },
    {
     "name": "stdout",
     "output_type": "stream",
     "text": [
      "Дубликаты: 0\n"
     ]
    },
    {
     "data": {
      "text/plain": [
       "'geo_data_1.csv'"
      ]
     },
     "metadata": {},
     "output_type": "display_data"
    },
    {
     "data": {
      "text/html": [
       "<div>\n",
       "<style scoped>\n",
       "    .dataframe tbody tr th:only-of-type {\n",
       "        vertical-align: middle;\n",
       "    }\n",
       "\n",
       "    .dataframe tbody tr th {\n",
       "        vertical-align: top;\n",
       "    }\n",
       "\n",
       "    .dataframe thead th {\n",
       "        text-align: right;\n",
       "    }\n",
       "</style>\n",
       "<table border=\"1\" class=\"dataframe\">\n",
       "  <thead>\n",
       "    <tr style=\"text-align: right;\">\n",
       "      <th></th>\n",
       "      <th>id</th>\n",
       "      <th>f0</th>\n",
       "      <th>f1</th>\n",
       "      <th>f2</th>\n",
       "      <th>product</th>\n",
       "    </tr>\n",
       "  </thead>\n",
       "  <tbody>\n",
       "    <tr>\n",
       "      <th>0</th>\n",
       "      <td>kBEdx</td>\n",
       "      <td>-15.001348</td>\n",
       "      <td>-8.276000</td>\n",
       "      <td>-0.005876</td>\n",
       "      <td>3.179103</td>\n",
       "    </tr>\n",
       "    <tr>\n",
       "      <th>1</th>\n",
       "      <td>62mP7</td>\n",
       "      <td>14.272088</td>\n",
       "      <td>-3.475083</td>\n",
       "      <td>0.999183</td>\n",
       "      <td>26.953261</td>\n",
       "    </tr>\n",
       "    <tr>\n",
       "      <th>2</th>\n",
       "      <td>vyE1P</td>\n",
       "      <td>6.263187</td>\n",
       "      <td>-5.948386</td>\n",
       "      <td>5.001160</td>\n",
       "      <td>134.766305</td>\n",
       "    </tr>\n",
       "    <tr>\n",
       "      <th>3</th>\n",
       "      <td>KcrkZ</td>\n",
       "      <td>-13.081196</td>\n",
       "      <td>-11.506057</td>\n",
       "      <td>4.999415</td>\n",
       "      <td>137.945408</td>\n",
       "    </tr>\n",
       "    <tr>\n",
       "      <th>4</th>\n",
       "      <td>AHL4O</td>\n",
       "      <td>12.702195</td>\n",
       "      <td>-8.147433</td>\n",
       "      <td>5.004363</td>\n",
       "      <td>134.766305</td>\n",
       "    </tr>\n",
       "  </tbody>\n",
       "</table>\n",
       "</div>"
      ],
      "text/plain": [
       "      id         f0         f1        f2     product\n",
       "0  kBEdx -15.001348  -8.276000 -0.005876    3.179103\n",
       "1  62mP7  14.272088  -3.475083  0.999183   26.953261\n",
       "2  vyE1P   6.263187  -5.948386  5.001160  134.766305\n",
       "3  KcrkZ -13.081196 -11.506057  4.999415  137.945408\n",
       "4  AHL4O  12.702195  -8.147433  5.004363  134.766305"
      ]
     },
     "metadata": {},
     "output_type": "display_data"
    },
    {
     "name": "stdout",
     "output_type": "stream",
     "text": [
      "<class 'pandas.core.frame.DataFrame'>\n",
      "RangeIndex: 100000 entries, 0 to 99999\n",
      "Data columns (total 5 columns):\n",
      " #   Column   Non-Null Count   Dtype  \n",
      "---  ------   --------------   -----  \n",
      " 0   id       100000 non-null  object \n",
      " 1   f0       100000 non-null  float64\n",
      " 2   f1       100000 non-null  float64\n",
      " 3   f2       100000 non-null  float64\n",
      " 4   product  100000 non-null  float64\n",
      "dtypes: float64(4), object(1)\n",
      "memory usage: 3.8+ MB\n"
     ]
    },
    {
     "data": {
      "text/plain": [
       "None"
      ]
     },
     "metadata": {},
     "output_type": "display_data"
    },
    {
     "name": "stdout",
     "output_type": "stream",
     "text": [
      "Дубликаты: 0\n"
     ]
    },
    {
     "data": {
      "text/plain": [
       "'geo_data_2.csv'"
      ]
     },
     "metadata": {},
     "output_type": "display_data"
    },
    {
     "data": {
      "text/html": [
       "<div>\n",
       "<style scoped>\n",
       "    .dataframe tbody tr th:only-of-type {\n",
       "        vertical-align: middle;\n",
       "    }\n",
       "\n",
       "    .dataframe tbody tr th {\n",
       "        vertical-align: top;\n",
       "    }\n",
       "\n",
       "    .dataframe thead th {\n",
       "        text-align: right;\n",
       "    }\n",
       "</style>\n",
       "<table border=\"1\" class=\"dataframe\">\n",
       "  <thead>\n",
       "    <tr style=\"text-align: right;\">\n",
       "      <th></th>\n",
       "      <th>id</th>\n",
       "      <th>f0</th>\n",
       "      <th>f1</th>\n",
       "      <th>f2</th>\n",
       "      <th>product</th>\n",
       "    </tr>\n",
       "  </thead>\n",
       "  <tbody>\n",
       "    <tr>\n",
       "      <th>0</th>\n",
       "      <td>fwXo0</td>\n",
       "      <td>-1.146987</td>\n",
       "      <td>0.963328</td>\n",
       "      <td>-0.828965</td>\n",
       "      <td>27.758673</td>\n",
       "    </tr>\n",
       "    <tr>\n",
       "      <th>1</th>\n",
       "      <td>WJtFt</td>\n",
       "      <td>0.262778</td>\n",
       "      <td>0.269839</td>\n",
       "      <td>-2.530187</td>\n",
       "      <td>56.069697</td>\n",
       "    </tr>\n",
       "    <tr>\n",
       "      <th>2</th>\n",
       "      <td>ovLUW</td>\n",
       "      <td>0.194587</td>\n",
       "      <td>0.289035</td>\n",
       "      <td>-5.586433</td>\n",
       "      <td>62.871910</td>\n",
       "    </tr>\n",
       "    <tr>\n",
       "      <th>3</th>\n",
       "      <td>q6cA6</td>\n",
       "      <td>2.236060</td>\n",
       "      <td>-0.553760</td>\n",
       "      <td>0.930038</td>\n",
       "      <td>114.572842</td>\n",
       "    </tr>\n",
       "    <tr>\n",
       "      <th>4</th>\n",
       "      <td>WPMUX</td>\n",
       "      <td>-0.515993</td>\n",
       "      <td>1.716266</td>\n",
       "      <td>5.899011</td>\n",
       "      <td>149.600746</td>\n",
       "    </tr>\n",
       "  </tbody>\n",
       "</table>\n",
       "</div>"
      ],
      "text/plain": [
       "      id        f0        f1        f2     product\n",
       "0  fwXo0 -1.146987  0.963328 -0.828965   27.758673\n",
       "1  WJtFt  0.262778  0.269839 -2.530187   56.069697\n",
       "2  ovLUW  0.194587  0.289035 -5.586433   62.871910\n",
       "3  q6cA6  2.236060 -0.553760  0.930038  114.572842\n",
       "4  WPMUX -0.515993  1.716266  5.899011  149.600746"
      ]
     },
     "metadata": {},
     "output_type": "display_data"
    },
    {
     "name": "stdout",
     "output_type": "stream",
     "text": [
      "<class 'pandas.core.frame.DataFrame'>\n",
      "RangeIndex: 100000 entries, 0 to 99999\n",
      "Data columns (total 5 columns):\n",
      " #   Column   Non-Null Count   Dtype  \n",
      "---  ------   --------------   -----  \n",
      " 0   id       100000 non-null  object \n",
      " 1   f0       100000 non-null  float64\n",
      " 2   f1       100000 non-null  float64\n",
      " 3   f2       100000 non-null  float64\n",
      " 4   product  100000 non-null  float64\n",
      "dtypes: float64(4), object(1)\n",
      "memory usage: 3.8+ MB\n"
     ]
    },
    {
     "data": {
      "text/plain": [
       "None"
      ]
     },
     "metadata": {},
     "output_type": "display_data"
    },
    {
     "name": "stdout",
     "output_type": "stream",
     "text": [
      "Дубликаты: 0\n"
     ]
    },
    {
     "data": {
      "image/png": "[encoded data removed]",
      "text/plain": [
       "<Figure size 720x288 with 1 Axes>"
      ]
     },
     "metadata": {
      "needs_background": "light"
     },
     "output_type": "display_data"
    },
    {
     "data": {
      "image/png": "[encoded data removed]",
      "text/plain": [
       "<Figure size 432x216 with 1 Axes>"
      ]
     },
     "metadata": {
      "needs_background": "light"
     },
     "output_type": "display_data"
    },
    {
     "data": {
      "image/png": "[encoded data removed]",
      "text/plain": [
       "<Figure size 720x288 with 1 Axes>"
      ]
     },
     "metadata": {
      "needs_background": "light"
     },
     "output_type": "display_data"
    },
    {
     "data": {
      "image/png": "[encoded data removed]",
      "text/plain": [
       "<Figure size 432x216 with 1 Axes>"
      ]
     },
     "metadata": {
      "needs_background": "light"
     },
     "output_type": "display_data"
    },
    {
     "data": {
      "image/png": "[encoded data removed]",
      "text/plain": [
       "<Figure size 720x288 with 1 Axes>"
      ]
     },
     "metadata": {
      "needs_background": "light"
     },
     "output_type": "display_data"
    },
    {
     "data": {
      "image/png": "[encoded data removed]",
      "text/plain": [
       "<Figure size 432x216 with 1 Axes>"
      ]
     },
     "metadata": {
      "needs_background": "light"
     },
     "output_type": "display_data"
    }
   ],
   "source": [
    "def init(dataset):\n",
    "    display(dataset)\n",
    "    data = pd.read_csv('https://code.s3.yandex.net/datasets/' + dataset)\n",
    "    display(data.head())\n",
    "    display(data.info())\n",
    "    print('Дубликаты:', data.duplicated().sum())\n",
    "    \n",
    "    plt.figure(figsize=(10, 4))\n",
    "    plt.hist(data['f0'], bins=100, alpha=0.5, label='f0')\n",
    "    plt.hist(data['f1'], bins=100, alpha=0.5, label='f1')\n",
    "    plt.hist(data['f2'], bins=100, alpha=0.3, label='f2')\n",
    "    plt.legend(loc='upper right')\n",
    "    plt.title(dataset)\n",
    "    plt.figure(figsize=(6, 3))\n",
    "    plt.hist(data['product'], bins=50, alpha=0.5, label='product')\n",
    "    plt.legend(loc='upper right')\n",
    "    \n",
    "    return data\n",
    "\n",
    "data_0 = init('geo_data_0.csv')\n",
    "data_1 = init('geo_data_1.csv')\n",
    "data_2 = init('geo_data_2.csv')\n"
   ]
  },
  {
   "cell_type": "markdown",
   "metadata": {},
   "source": [
    "Для каждого из трёх регионов представлен датасет с пятью столбцами - `id` скважины, три характеристики и количество продукта в скважине. В данных нет дубликатов и пропусков. Во втором регионе есть странное распределение продукта и третьего признака - у многих скважин были одинаковые замеры.\n",
    "\n",
    "Нужно построить модель, которая оценит объём запасов нефти в скважине. Целевой признак - столбец `product`. Для модели столбец с идентификатором скважины не нужен, удалю его."
   ]
  },
  {
   "cell_type": "code",
   "execution_count": 3,
   "metadata": {},
   "outputs": [
    {
     "data": {
      "text/html": [
       "<div>\n",
       "<style scoped>\n",
       "    .dataframe tbody tr th:only-of-type {\n",
       "        vertical-align: middle;\n",
       "    }\n",
       "\n",
       "    .dataframe tbody tr th {\n",
       "        vertical-align: top;\n",
       "    }\n",
       "\n",
       "    .dataframe thead th {\n",
       "        text-align: right;\n",
       "    }\n",
       "</style>\n",
       "<table border=\"1\" class=\"dataframe\">\n",
       "  <thead>\n",
       "    <tr style=\"text-align: right;\">\n",
       "      <th></th>\n",
       "      <th>f0</th>\n",
       "      <th>f1</th>\n",
       "      <th>f2</th>\n",
       "      <th>product</th>\n",
       "    </tr>\n",
       "  </thead>\n",
       "  <tbody>\n",
       "    <tr>\n",
       "      <th>0</th>\n",
       "      <td>-1.146987</td>\n",
       "      <td>0.963328</td>\n",
       "      <td>-0.828965</td>\n",
       "      <td>27.758673</td>\n",
       "    </tr>\n",
       "    <tr>\n",
       "      <th>1</th>\n",
       "      <td>0.262778</td>\n",
       "      <td>0.269839</td>\n",
       "      <td>-2.530187</td>\n",
       "      <td>56.069697</td>\n",
       "    </tr>\n",
       "    <tr>\n",
       "      <th>2</th>\n",
       "      <td>0.194587</td>\n",
       "      <td>0.289035</td>\n",
       "      <td>-5.586433</td>\n",
       "      <td>62.871910</td>\n",
       "    </tr>\n",
       "    <tr>\n",
       "      <th>3</th>\n",
       "      <td>2.236060</td>\n",
       "      <td>-0.553760</td>\n",
       "      <td>0.930038</td>\n",
       "      <td>114.572842</td>\n",
       "    </tr>\n",
       "    <tr>\n",
       "      <th>4</th>\n",
       "      <td>-0.515993</td>\n",
       "      <td>1.716266</td>\n",
       "      <td>5.899011</td>\n",
       "      <td>149.600746</td>\n",
       "    </tr>\n",
       "  </tbody>\n",
       "</table>\n",
       "</div>"
      ],
      "text/plain": [
       "         f0        f1        f2     product\n",
       "0 -1.146987  0.963328 -0.828965   27.758673\n",
       "1  0.262778  0.269839 -2.530187   56.069697\n",
       "2  0.194587  0.289035 -5.586433   62.871910\n",
       "3  2.236060 -0.553760  0.930038  114.572842\n",
       "4 -0.515993  1.716266  5.899011  149.600746"
      ]
     },
     "execution_count": 3,
     "metadata": {},
     "output_type": "execute_result"
    }
   ],
   "source": [
    "data_0 = data_0.drop('id', axis=1)\n",
    "data_1 = data_1.drop('id', axis=1)\n",
    "data_2 = data_2.drop('id', axis=1)\n",
    "\n",
    "data_2.head()"
   ]
  },
  {
   "cell_type": "markdown",
   "metadata": {},
   "source": [
    "Разделю данные каждого региона на обучающую и валидационную выборку. Размер обучающей выборки - 75% от данных."
   ]
  },
  {
   "cell_type": "code",
   "execution_count": 4,
   "metadata": {},
   "outputs": [
    {
     "name": "stdout",
     "output_type": "stream",
     "text": [
      "75000 строк в обучающей, 25000 строк в валидационной выборке\n"
     ]
    }
   ],
   "source": [
    "feat_0 = data_0.drop('product', axis=1)\n",
    "target_0 = data_0['product']\n",
    "feat_1 = data_1.drop('product', axis=1)\n",
    "target_1 = data_1['product']\n",
    "feat_2 = data_2.drop('product', axis=1)\n",
    "target_2 = data_2['product']\n",
    "\n",
    "train_feat_0, valid_feat_0, train_target_0, valid_target_0 = train_test_split(feat_0, target_0, \n",
    "                                                                              train_size=0.75, random_state=1234)\n",
    "train_feat_1, valid_feat_1, train_target_1, valid_target_1 = train_test_split(feat_1, target_1, \n",
    "                                                                              train_size=0.75, random_state=1234)\n",
    "train_feat_2, valid_feat_2, train_target_2, valid_target_2 = train_test_split(feat_2, target_2, \n",
    "                                                                              train_size=0.75, random_state=1234)\n",
    "\n",
    "print(len(train_feat_0), 'строк в обучающей,', len(valid_feat_0), 'строк в валидационной выборке')"
   ]
  },
  {
   "cell_type": "markdown",
   "metadata": {},
   "source": [
    "## Обучение и проверка модели"
   ]
  },
  {
   "cell_type": "markdown",
   "metadata": {},
   "source": [
    "Нужно предсказать количество продукта, значит, решается задача регрессии. Подходяща модель для этого - линейная регрессия. \n",
    "\n",
    "Обучу модель для каждого региона."
   ]
  },
  {
   "cell_type": "code",
   "execution_count": 5,
   "metadata": {},
   "outputs": [
    {
     "name": "stdout",
     "output_type": "stream",
     "text": [
      "rmse: 37.562394183637785\n",
      "среднее модели: 92.43045952558441\n",
      "среднее ответов: 92.57965325518721\n"
     ]
    },
    {
     "data": {
      "image/png": "[encoded data removed]",
      "text/plain": [
       "<Figure size 432x216 with 1 Axes>"
      ]
     },
     "metadata": {
      "needs_background": "light"
     },
     "output_type": "display_data"
    }
   ],
   "source": [
    "model_0 = LinearRegression()\n",
    "model_0.fit(train_feat_0, train_target_0)\n",
    "predict_0 = model_0.predict(valid_feat_0)\n",
    "predict_0 = pd.Series(predict_0)\n",
    "\n",
    "print('rmse:', mean_squared_error(valid_target_0, predict_0) ** 0.5)\n",
    "print('среднее модели:', predict_0.mean())\n",
    "print('среднее ответов:', valid_target_0.mean())\n",
    "\n",
    "plt.figure(figsize=(6, 3))\n",
    "plt.hist(predict_0, bins=50, alpha=0.5, label='предсказания')\n",
    "plt.hist(valid_target_0, bins=50, alpha=0.5, label='ответы')\n",
    "plt.legend(loc='upper right');"
   ]
  },
  {
   "cell_type": "markdown",
   "metadata": {},
   "source": [
    "В первом регионе RMSE модели равна 37.5, это значит, что результат предсказания отличается от реального значения в среднем на 37.5 единиц. На графике предсказания и ответы распределены достаточно симметрично, но видно, что модель \"неохотно\" предсказывает очень большие и маленькие значения. Среднее предсказаний модели - 92.4, что немного меньше реального среднего."
   ]
  },
  {
   "cell_type": "code",
   "execution_count": 6,
   "metadata": {},
   "outputs": [
    {
     "name": "stdout",
     "output_type": "stream",
     "text": [
      "rmse: 0.8939344738117703\n",
      "среднее модели: 68.80248249798366\n",
      "среднее ответов: 68.80279604178406\n"
     ]
    },
    {
     "data": {
      "image/png": "[encoded data removed]",
      "text/plain": [
       "<Figure size 432x216 with 1 Axes>"
      ]
     },
     "metadata": {
      "needs_background": "light"
     },
     "output_type": "display_data"
    }
   ],
   "source": [
    "model_1 = LinearRegression()\n",
    "model_1.fit(train_feat_1, train_target_1)\n",
    "predict_1 = model_1.predict(valid_feat_1)\n",
    "predict_1 = pd.Series(predict_1)\n",
    "\n",
    "print('rmse:', mean_squared_error(valid_target_1, predict_1) ** 0.5)\n",
    "print('среднее модели:', predict_1.mean())\n",
    "print('среднее ответов:', valid_target_1.mean())\n",
    "\n",
    "plt.figure(figsize=(6, 3))\n",
    "plt.hist(predict_1, bins=50, alpha=0.5, label='предсказания')\n",
    "plt.hist(valid_target_1, bins=50, alpha=0.5, label='ответы')\n",
    "plt.legend(loc='upper right');"
   ]
  },
  {
   "cell_type": "markdown",
   "metadata": {},
   "source": [
    "Во втором регионе RMSE резко отличается от первого - ошибка всего 0.89 единиц продукта! График ответов и предсказаний почти совпадает, также как и среднее."
   ]
  },
  {
   "cell_type": "code",
   "execution_count": 7,
   "metadata": {},
   "outputs": [
    {
     "name": "stdout",
     "output_type": "stream",
     "text": [
      "rmse: 40.10318099258418\n",
      "среднее модели: 94.91573817913459\n",
      "среднее ответов: 94.97180046006052\n"
     ]
    },
    {
     "data": {
      "image/png": "[encoded data removed]",
      "text/plain": [
       "<Figure size 432x216 with 1 Axes>"
      ]
     },
     "metadata": {
      "needs_background": "light"
     },
     "output_type": "display_data"
    }
   ],
   "source": [
    "model_2 = LinearRegression()\n",
    "model_2.fit(train_feat_2, train_target_2)\n",
    "predict_2 = model_2.predict(valid_feat_2)\n",
    "predict_2 = pd.Series(predict_2)\n",
    "\n",
    "print('rmse:', mean_squared_error(valid_target_2, predict_2) ** 0.5)\n",
    "print('среднее модели:', predict_2.mean())\n",
    "print('среднее ответов:', valid_target_2.mean())\n",
    "    \n",
    "plt.figure(figsize=(6, 3))\n",
    "plt.hist(predict_2, bins=50, alpha=0.5, label='предсказания')\n",
    "plt.hist(valid_target_2, bins=50, alpha=0.5, label='ответы')\n",
    "plt.legend(loc='upper right');\n",
    "    "
   ]
  },
  {
   "cell_type": "markdown",
   "metadata": {},
   "source": [
    "В третьем регионе ситуация та же, что в первом: ответы и предсказания распределены похоже, среднее почти одинаково, но модель плохо предсказывает крайние значения, отсюда RMSE в 40 единиц."
   ]
  },
  {
   "cell_type": "markdown",
   "metadata": {},
   "source": [
    "Самая высокая точность предсказаний у модели во втором регионе - RMSE равна 0.89. Метрики в первом и третьем регионах похожи - RMSE равна 37.5 и 40.1, среднее 92.4 и 94.9 соответственно. Среднее второго региона равно 68.8, что заметно ниже, чем в других."
   ]
  },
  {
   "cell_type": "markdown",
   "metadata": {},
   "source": [
    "## Подготовка к расчёту прибыли"
   ]
  },
  {
   "cell_type": "markdown",
   "metadata": {},
   "source": [
    "Для расчёта прибыли нужны будут предсказания и ответы, записанные в переменных `predict_#` и `valid_target_#`, и значения из ячейки ниже:"
   ]
  },
  {
   "cell_type": "code",
   "execution_count": 8,
   "metadata": {},
   "outputs": [],
   "source": [
    "price = 450000 # стоимость одной единицы продукта\n",
    "budget = 10000000000 # бюджет на разработку одного региона\n",
    "spots = 200 # количество скважин для разработки"
   ]
  },
  {
   "cell_type": "code",
   "execution_count": 9,
   "metadata": {},
   "outputs": [
    {
     "name": "stdout",
     "output_type": "stream",
     "text": [
      "бюджет на одну скважину: 50000000.0\n",
      "мин. кол-во продукта в скважине для безубытка: 111.11\n",
      "среднее продукта в регионе 0: 92.5\n",
      "среднее продукта в регионе 1: 68.83\n",
      "среднее продукта в регионе 2: 95.0\n"
     ]
    }
   ],
   "source": [
    "budget_p_1 = budget / spots \n",
    "print('бюджет на одну скважину:', budget_p_1)\n",
    "min_product = round(budget_p_1 / price, 2)\n",
    "print('мин. кол-во продукта в скважине для безубытка:', min_product)\n",
    "\n",
    "print('среднее продукта в регионе 0:', round(target_0.mean(), 2))\n",
    "print('среднее продукта в регионе 1:', round(target_1.mean(), 2))\n",
    "print('среднее продукта в регионе 2:', round(target_2.mean(), 2))"
   ]
  },
  {
   "cell_type": "markdown",
   "metadata": {},
   "source": [
    "Среднее во всех регионах меньше минимально необходимого для получения прибыли продукта. Но нам нужны не все, а только 200 самых прибыльных скважин - среднее кол-во продукта в них точно должно быть больше 111.\n",
    "\n",
    "Чтобы посчитать прибыль в регионе, нужно отобрать скважины с самым большим запасом продукта, умножить его количество на стоимость и вычесть затраты на разработку. В ячейке ниже функция для расчёта прибыли. На вход она принимает списки с реальным количеством продукта и предсказанным, возвращает список с чистой прибылью."
   ]
  },
  {
   "cell_type": "code",
   "execution_count": 10,
   "metadata": {},
   "outputs": [],
   "source": [
    "def profit(target, predict):\n",
    "    target = pd.Series(target).reset_index(drop=True)\n",
    "    \n",
    "    predict_sorted = predict.sort_values(ascending=False)\n",
    "    selected = target[predict_sorted.index][:spots]\n",
    "    \n",
    "    return selected.sum() * price - budget"
   ]
  },
  {
   "cell_type": "markdown",
   "metadata": {},
   "source": [
    "Проверю работу функции на одной выборке:"
   ]
  },
  {
   "cell_type": "code",
   "execution_count": 11,
   "metadata": {},
   "outputs": [
    {
     "name": "stdout",
     "output_type": "stream",
     "text": [
      "прибыль : 633338085.184906\n",
      "среднее продукта: 118.14820094649895\n"
     ]
    }
   ],
   "source": [
    "target = pd.Series(valid_target_0).reset_index(drop=True)\n",
    "predict = pd.Series(predict_0).reset_index(drop=True)\n",
    "subsample = predict.sample(n=500, replace=True, random_state=1234)\n",
    "\n",
    "print('прибыль :', profit(target, subsample))\n",
    "\n",
    "predict_sorted = subsample.sort_values(ascending=False)\n",
    "selected = target[predict_sorted.index][:spots]\n",
    "\n",
    "print('среднее продукта:', selected.mean())"
   ]
  },
  {
   "cell_type": "markdown",
   "metadata": {},
   "source": [
    "Несмотря на малое общее среднее, у выборки среднее больше необходимого, и прибыль положительная. Но для оценки прибыли в регионах недостаточно одной выборки - нужно посмотреть на распределение прибыли по многим выборкам."
   ]
  },
  {
   "cell_type": "markdown",
   "metadata": {},
   "source": [
    "## Расчёт прибыли и рисков "
   ]
  },
  {
   "cell_type": "markdown",
   "metadata": {},
   "source": [
    "Напишу функцию, которая проведёт процедуру бутстреп, собрав значения прибыли для 1000 выборок, после найдёт и выведет их среднюю прибыль, 95% доверительный интервал и процент убытков. Она принимает на вход реальное количество продукта в регионе и предсказанное."
   ]
  },
  {
   "cell_type": "code",
   "execution_count": 12,
   "metadata": {},
   "outputs": [],
   "source": [
    "def status(valid_target, predict):\n",
    "    state = np.random.RandomState(1234)\n",
    "    profits = []\n",
    "    for i in range(1000):\n",
    "        subsample = predict.sample(n=500, replace=True, random_state=state)\n",
    "        profits.append(profit(valid_target, subsample))\n",
    "\n",
    "    profits = pd.Series(profits)\n",
    "    print('средняя прибыль:', round(profits.mean(), 2))\n",
    "\n",
    "    lower = profits.quantile(0.025)\n",
    "    upper = profits.quantile(0.975)\n",
    "    print('95% интервал:', round(lower), '|', round(upper))\n",
    "    \n",
    "    losses = profits[profits <= 0]\n",
    "    profits = profits[profits > 0]\n",
    "    print('убытки:', round(losses.count() / profits.count() * 100, 2), '%')\n",
    "\n",
    "    plt.figure(figsize=(8, 3))\n",
    "    profits.plot(kind='hist', bins=50, label='прибыль');\n",
    "    losses.plot(kind='hist', bins=20, label='убытки')\n",
    "    plt.legend(loc='upper right');"
   ]
  },
  {
   "cell_type": "markdown",
   "metadata": {},
   "source": [
    "Вызову функцию для первого региона:"
   ]
  },
  {
   "cell_type": "code",
   "execution_count": 13,
   "metadata": {},
   "outputs": [
    {
     "name": "stdout",
     "output_type": "stream",
     "text": [
      "средняя прибыль: 379402878.22\n",
      "95% интервал: -107976792 | 918803442\n",
      "убытки: 7.76 %\n"
     ]
    },
    {
     "data": {
      "image/png": "[encoded data removed]",
      "text/plain": [
       "<Figure size 576x216 with 1 Axes>"
      ]
     },
     "metadata": {
      "needs_background": "light"
     },
     "output_type": "display_data"
    }
   ],
   "source": [
    "status(valid_target_0, predict_0)"
   ]
  },
  {
   "cell_type": "markdown",
   "metadata": {},
   "source": [
    "Средняя прибыль в первом регионе - 379.4 млн. 95% значений прибыли лежат в интервале от -107.9 млн до 918.8 млн. Какая бы большая прибыль ни была, в этот интервал попали убытки. Всего убытки появляются в 7.76% случаев."
   ]
  },
  {
   "cell_type": "code",
   "execution_count": 14,
   "metadata": {},
   "outputs": [
    {
     "name": "stdout",
     "output_type": "stream",
     "text": [
      "средняя прибыль: 429085147.91\n",
      "95% интервал: 32450558 | 847355452\n",
      "убытки: 1.94 %\n"
     ]
    },
    {
     "data": {
      "image/png": "[encoded data removed]",
      "text/plain": [
       "<Figure size 576x216 with 1 Axes>"
      ]
     },
     "metadata": {
      "needs_background": "light"
     },
     "output_type": "display_data"
    }
   ],
   "source": [
    "status(valid_target_1, predict_1)"
   ]
  },
  {
   "cell_type": "markdown",
   "metadata": {},
   "source": [
    "Во втором регионе средняя прибыль равна 429 млн, 95% значений прибыли в пределах 32.4 млн и 847.3 млн, а риск убытков всего 1,94%."
   ]
  },
  {
   "cell_type": "code",
   "execution_count": 15,
   "metadata": {},
   "outputs": [
    {
     "name": "stdout",
     "output_type": "stream",
     "text": [
      "средняя прибыль: 353931385.93\n",
      "95% интервал: -210845231 | 892073818\n",
      "убытки: 9.89 %\n"
     ]
    },
    {
     "data": {
      "image/png": "[encoded data removed]",
      "text/plain": [
       "<Figure size 576x216 with 1 Axes>"
      ]
     },
     "metadata": {
      "needs_background": "light"
     },
     "output_type": "display_data"
    }
   ],
   "source": [
    "status(valid_target_2, predict_2)"
   ]
  },
  {
   "cell_type": "markdown",
   "metadata": {},
   "source": [
    "В третьем регионе средняя прибыль самая маленькая - 353.9 млн, 95% значений в интервале от -210.8 млн до 892 млн. Риск убытков самымй большой - 9.89%"
   ]
  },
  {
   "cell_type": "markdown",
   "metadata": {},
   "source": [
    "В итоге самая большая средняя прибыль во втором регионе, самая маленькая - в третьем. Несмотря на более высокое среднее количество продукта в первом и третьем регионах, убытки в них гораздо больше. В условии задачи было сказано, что для разработки подходят регионы, в которых вероятность убытков меньше 2.5%. При этом условии *только второй регион подходит для разработки* - вероятность убытков в нём 1.94%. Ожидаемая прибыль - 429 млн. руб..\n",
    "\n",
    "Для выбора подходящего региона была проделана следующая работа:\n",
    "- подготовлены данные: удалён ненужный признак, данные разделены на две выборки для обучения модели;\n",
    "- обучены модели для каждого региона, проверено их качество;\n",
    "- написана функция расчёта прибыли;\n",
    "- найдено распределение прибыли для каждого региона;\n",
    "- из распределения найдены средняя прибыль, риски и 95% доверительный интервал."
   ]
  },
  {
   "cell_type": "code",
   "execution_count": null,
   "metadata": {},
   "outputs": [],
   "source": []
  }
 ],
 "metadata": {
  "ExecuteTimeLog": [
   {
    "duration": 471,
    "start_time": "2023-03-06T07:53:34.781Z"
   },
   {
    "duration": 1092,
    "start_time": "2023-03-06T07:55:09.499Z"
   },
   {
    "duration": 1956,
    "start_time": "2023-03-06T07:57:58.283Z"
   },
   {
    "duration": 1473,
    "start_time": "2023-03-06T07:58:14.686Z"
   },
   {
    "duration": 2306,
    "start_time": "2023-03-06T07:58:33.518Z"
   },
   {
    "duration": 1218,
    "start_time": "2023-03-06T07:59:28.814Z"
   },
   {
    "duration": 1558,
    "start_time": "2023-03-06T08:01:30.173Z"
   },
   {
    "duration": 518,
    "start_time": "2023-03-06T08:02:26.709Z"
   },
   {
    "duration": 3668,
    "start_time": "2023-03-06T08:03:08.632Z"
   },
   {
    "duration": 762,
    "start_time": "2023-03-06T08:03:33.199Z"
   },
   {
    "duration": 1495,
    "start_time": "2023-03-06T08:04:18.818Z"
   },
   {
    "duration": 605,
    "start_time": "2023-03-06T08:04:32.436Z"
   },
   {
    "duration": 784,
    "start_time": "2023-03-06T08:04:40.312Z"
   },
   {
    "duration": 702,
    "start_time": "2023-03-06T08:05:06.159Z"
   },
   {
    "duration": 663,
    "start_time": "2023-03-06T08:05:13.634Z"
   },
   {
    "duration": 614,
    "start_time": "2023-03-06T08:05:29.787Z"
   },
   {
    "duration": 981,
    "start_time": "2023-03-06T08:05:47.279Z"
   },
   {
    "duration": 445,
    "start_time": "2023-03-06T08:07:00.072Z"
   },
   {
    "duration": 518,
    "start_time": "2023-03-06T08:07:12.381Z"
   },
   {
    "duration": 3,
    "start_time": "2023-03-06T08:07:29.210Z"
   },
   {
    "duration": 1950,
    "start_time": "2023-03-06T08:07:37.269Z"
   },
   {
    "duration": 984,
    "start_time": "2023-03-06T08:07:57.777Z"
   },
   {
    "duration": 668,
    "start_time": "2023-03-06T08:09:04.419Z"
   },
   {
    "duration": 961,
    "start_time": "2023-03-06T08:09:29.015Z"
   },
   {
    "duration": 865,
    "start_time": "2023-03-06T08:10:27.894Z"
   },
   {
    "duration": 1000,
    "start_time": "2023-03-06T08:10:36.806Z"
   },
   {
    "duration": 386,
    "start_time": "2023-03-06T08:10:58.910Z"
   },
   {
    "duration": 512,
    "start_time": "2023-03-06T08:11:30.580Z"
   },
   {
    "duration": 818,
    "start_time": "2023-03-06T08:14:58.685Z"
   },
   {
    "duration": 845,
    "start_time": "2023-03-06T08:15:11.825Z"
   },
   {
    "duration": 624,
    "start_time": "2023-03-06T08:16:55.162Z"
   },
   {
    "duration": 567,
    "start_time": "2023-03-06T08:17:15.591Z"
   },
   {
    "duration": 933,
    "start_time": "2023-03-06T08:17:53.183Z"
   },
   {
    "duration": 804,
    "start_time": "2023-03-06T08:18:09.029Z"
   },
   {
    "duration": 1126,
    "start_time": "2023-03-06T08:18:26.484Z"
   },
   {
    "duration": 1304,
    "start_time": "2023-03-06T08:19:21.578Z"
   },
   {
    "duration": 1086,
    "start_time": "2023-03-06T08:19:30.725Z"
   },
   {
    "duration": 1165,
    "start_time": "2023-03-06T08:19:54.911Z"
   },
   {
    "duration": 1166,
    "start_time": "2023-03-06T08:20:04.713Z"
   },
   {
    "duration": 1106,
    "start_time": "2023-03-06T08:20:09.575Z"
   },
   {
    "duration": 1738,
    "start_time": "2023-03-06T08:20:16.171Z"
   },
   {
    "duration": 1088,
    "start_time": "2023-03-06T08:24:14.086Z"
   },
   {
    "duration": 1091,
    "start_time": "2023-03-06T08:24:20.718Z"
   },
   {
    "duration": 1725,
    "start_time": "2023-03-06T08:24:27.004Z"
   },
   {
    "duration": 1001,
    "start_time": "2023-03-06T08:24:34.596Z"
   },
   {
    "duration": 756,
    "start_time": "2023-03-06T08:24:49.386Z"
   },
   {
    "duration": 1101,
    "start_time": "2023-03-06T08:25:06.861Z"
   },
   {
    "duration": 1134,
    "start_time": "2023-03-06T08:27:07.385Z"
   },
   {
    "duration": 970,
    "start_time": "2023-03-06T08:28:23.391Z"
   },
   {
    "duration": 915,
    "start_time": "2023-03-06T08:28:30.571Z"
   },
   {
    "duration": 970,
    "start_time": "2023-03-06T08:28:44.329Z"
   },
   {
    "duration": 1591,
    "start_time": "2023-03-06T08:29:37.188Z"
   },
   {
    "duration": 1224,
    "start_time": "2023-03-06T08:29:47.658Z"
   },
   {
    "duration": 1288,
    "start_time": "2023-03-06T08:30:14.601Z"
   },
   {
    "duration": 1169,
    "start_time": "2023-03-06T08:30:24.633Z"
   },
   {
    "duration": 1160,
    "start_time": "2023-03-06T08:30:32.781Z"
   },
   {
    "duration": 4227,
    "start_time": "2023-03-06T08:31:13.165Z"
   },
   {
    "duration": 4483,
    "start_time": "2023-03-06T08:51:32.304Z"
   },
   {
    "duration": 509,
    "start_time": "2023-03-06T08:52:03.585Z"
   },
   {
    "duration": 3905,
    "start_time": "2023-03-06T08:52:22.497Z"
   },
   {
    "duration": 4513,
    "start_time": "2023-03-06T08:53:00.786Z"
   },
   {
    "duration": 4474,
    "start_time": "2023-03-06T08:53:25.890Z"
   },
   {
    "duration": 4252,
    "start_time": "2023-03-06T08:53:55.514Z"
   },
   {
    "duration": 4203,
    "start_time": "2023-03-06T08:54:21.323Z"
   },
   {
    "duration": 4625,
    "start_time": "2023-03-06T08:55:23.479Z"
   },
   {
    "duration": 18,
    "start_time": "2023-03-06T08:56:58.003Z"
   },
   {
    "duration": 12,
    "start_time": "2023-03-06T08:57:27.205Z"
   },
   {
    "duration": 15,
    "start_time": "2023-03-06T08:57:43.118Z"
   },
   {
    "duration": 4913,
    "start_time": "2023-03-06T08:57:51.098Z"
   },
   {
    "duration": 30,
    "start_time": "2023-03-06T08:58:00.426Z"
   },
   {
    "duration": 958,
    "start_time": "2023-03-09T10:52:46.047Z"
   },
   {
    "duration": 4501,
    "start_time": "2023-03-09T10:52:47.008Z"
   },
   {
    "duration": 35,
    "start_time": "2023-03-09T10:52:51.512Z"
   },
   {
    "duration": 93,
    "start_time": "2023-03-09T10:53:50.072Z"
   },
   {
    "duration": 3,
    "start_time": "2023-03-09T10:53:57.803Z"
   },
   {
    "duration": 4119,
    "start_time": "2023-03-09T10:53:57.808Z"
   },
   {
    "duration": 30,
    "start_time": "2023-03-09T10:54:02.351Z"
   },
   {
    "duration": 871,
    "start_time": "2023-03-09T10:57:19.853Z"
   },
   {
    "duration": 6,
    "start_time": "2023-03-09T11:03:14.239Z"
   },
   {
    "duration": 6,
    "start_time": "2023-03-09T11:03:37.499Z"
   },
   {
    "duration": 17,
    "start_time": "2023-03-09T11:07:09.601Z"
   },
   {
    "duration": 47,
    "start_time": "2023-03-09T11:10:11.449Z"
   },
   {
    "duration": 53,
    "start_time": "2023-03-09T11:10:51.511Z"
   },
   {
    "duration": 30,
    "start_time": "2023-03-09T11:13:10.121Z"
   },
   {
    "duration": 247,
    "start_time": "2023-03-09T11:16:34.097Z"
   },
   {
    "duration": 17,
    "start_time": "2023-03-09T11:17:12.707Z"
   },
   {
    "duration": 18,
    "start_time": "2023-03-09T11:17:20.161Z"
   },
   {
    "duration": 19,
    "start_time": "2023-03-09T11:18:27.543Z"
   },
   {
    "duration": 22,
    "start_time": "2023-03-09T11:18:29.692Z"
   },
   {
    "duration": 18,
    "start_time": "2023-03-09T11:18:32.688Z"
   },
   {
    "duration": 16,
    "start_time": "2023-03-09T11:18:40.202Z"
   },
   {
    "duration": 121,
    "start_time": "2023-03-09T11:20:41.219Z"
   },
   {
    "duration": 4,
    "start_time": "2023-03-09T11:20:47.444Z"
   },
   {
    "duration": 14,
    "start_time": "2023-03-09T11:20:51.004Z"
   },
   {
    "duration": 19,
    "start_time": "2023-03-09T11:23:11.015Z"
   },
   {
    "duration": 21,
    "start_time": "2023-03-09T11:25:32.536Z"
   },
   {
    "duration": 196,
    "start_time": "2023-03-09T11:27:40.953Z"
   },
   {
    "duration": 250,
    "start_time": "2023-03-09T11:27:57.381Z"
   },
   {
    "duration": 356,
    "start_time": "2023-03-09T11:28:57.270Z"
   },
   {
    "duration": 304,
    "start_time": "2023-03-09T11:29:13.161Z"
   },
   {
    "duration": 298,
    "start_time": "2023-03-09T11:33:20.440Z"
   },
   {
    "duration": 189,
    "start_time": "2023-03-09T11:33:31.661Z"
   },
   {
    "duration": 336,
    "start_time": "2023-03-09T11:35:02.925Z"
   },
   {
    "duration": 4,
    "start_time": "2023-03-09T11:41:39.956Z"
   },
   {
    "duration": 4,
    "start_time": "2023-03-09T11:45:04.050Z"
   },
   {
    "duration": 7,
    "start_time": "2023-03-09T11:46:27.146Z"
   },
   {
    "duration": 7,
    "start_time": "2023-03-09T11:46:32.912Z"
   },
   {
    "duration": 10,
    "start_time": "2023-03-09T11:47:25.624Z"
   },
   {
    "duration": 7,
    "start_time": "2023-03-09T11:47:40.753Z"
   },
   {
    "duration": 7,
    "start_time": "2023-03-09T11:47:45.050Z"
   },
   {
    "duration": 7,
    "start_time": "2023-03-09T11:47:46.931Z"
   },
   {
    "duration": 25,
    "start_time": "2023-03-09T11:47:56.142Z"
   },
   {
    "duration": 8,
    "start_time": "2023-03-09T11:48:02.142Z"
   },
   {
    "duration": 19,
    "start_time": "2023-03-09T11:48:22.299Z"
   },
   {
    "duration": 28,
    "start_time": "2023-03-09T11:48:29.597Z"
   },
   {
    "duration": 21,
    "start_time": "2023-03-09T11:48:49.345Z"
   },
   {
    "duration": 25,
    "start_time": "2023-03-09T11:48:54.664Z"
   },
   {
    "duration": 17,
    "start_time": "2023-03-09T11:49:00.267Z"
   },
   {
    "duration": 20,
    "start_time": "2023-03-09T11:49:27.846Z"
   },
   {
    "duration": 14,
    "start_time": "2023-03-09T11:49:32.098Z"
   },
   {
    "duration": 16,
    "start_time": "2023-03-09T11:49:34.495Z"
   },
   {
    "duration": 20,
    "start_time": "2023-03-09T11:49:43.549Z"
   },
   {
    "duration": 27,
    "start_time": "2023-03-09T11:50:09.621Z"
   },
   {
    "duration": 11,
    "start_time": "2023-03-09T11:50:22.344Z"
   },
   {
    "duration": 10,
    "start_time": "2023-03-09T11:50:26.995Z"
   },
   {
    "duration": 16,
    "start_time": "2023-03-09T11:51:22.848Z"
   },
   {
    "duration": 14,
    "start_time": "2023-03-09T11:51:44.434Z"
   },
   {
    "duration": 44,
    "start_time": "2023-03-09T11:51:52.235Z"
   },
   {
    "duration": 12,
    "start_time": "2023-03-09T11:51:55.234Z"
   },
   {
    "duration": 12,
    "start_time": "2023-03-09T11:52:26.315Z"
   },
   {
    "duration": 8,
    "start_time": "2023-03-09T11:55:10.425Z"
   },
   {
    "duration": 8,
    "start_time": "2023-03-09T11:55:44.629Z"
   },
   {
    "duration": 14,
    "start_time": "2023-03-09T11:56:12.412Z"
   },
   {
    "duration": 14,
    "start_time": "2023-03-09T11:56:38.791Z"
   },
   {
    "duration": 11,
    "start_time": "2023-03-09T12:00:03.664Z"
   },
   {
    "duration": 5,
    "start_time": "2023-03-09T12:02:41.596Z"
   },
   {
    "duration": 5,
    "start_time": "2023-03-09T12:03:12.210Z"
   },
   {
    "duration": 8,
    "start_time": "2023-03-09T12:03:45.959Z"
   },
   {
    "duration": 8,
    "start_time": "2023-03-09T12:03:53.200Z"
   },
   {
    "duration": 5,
    "start_time": "2023-03-09T12:06:04.458Z"
   },
   {
    "duration": 5,
    "start_time": "2023-03-09T12:06:17.906Z"
   },
   {
    "duration": 5,
    "start_time": "2023-03-09T12:07:10.664Z"
   },
   {
    "duration": 6,
    "start_time": "2023-03-09T12:07:30.544Z"
   },
   {
    "duration": 6,
    "start_time": "2023-03-09T12:08:01.440Z"
   },
   {
    "duration": 11,
    "start_time": "2023-03-09T14:13:30.192Z"
   },
   {
    "duration": 15,
    "start_time": "2023-03-09T14:13:39.133Z"
   },
   {
    "duration": 17,
    "start_time": "2023-03-09T14:13:46.721Z"
   },
   {
    "duration": 16,
    "start_time": "2023-03-09T14:17:58.789Z"
   },
   {
    "duration": 14,
    "start_time": "2023-03-09T14:18:24.522Z"
   },
   {
    "duration": 18,
    "start_time": "2023-03-09T14:20:26.006Z"
   },
   {
    "duration": 18,
    "start_time": "2023-03-09T14:20:51.470Z"
   },
   {
    "duration": 15,
    "start_time": "2023-03-09T14:21:57.230Z"
   },
   {
    "duration": 21,
    "start_time": "2023-03-09T14:22:18.981Z"
   },
   {
    "duration": 15,
    "start_time": "2023-03-09T14:22:27.003Z"
   },
   {
    "duration": 18,
    "start_time": "2023-03-09T14:22:58.810Z"
   },
   {
    "duration": 14,
    "start_time": "2023-03-09T14:23:26.104Z"
   },
   {
    "duration": 15,
    "start_time": "2023-03-09T14:23:47.416Z"
   },
   {
    "duration": 16,
    "start_time": "2023-03-09T14:23:55.684Z"
   },
   {
    "duration": 15,
    "start_time": "2023-03-09T14:25:10.542Z"
   },
   {
    "duration": 15,
    "start_time": "2023-03-09T14:26:07.996Z"
   },
   {
    "duration": 15,
    "start_time": "2023-03-09T14:27:09.716Z"
   },
   {
    "duration": 356,
    "start_time": "2023-03-09T14:27:23.869Z"
   },
   {
    "duration": 10,
    "start_time": "2023-03-09T14:36:02.936Z"
   },
   {
    "duration": 9,
    "start_time": "2023-03-09T14:36:22.612Z"
   },
   {
    "duration": 196,
    "start_time": "2023-03-09T14:36:45.936Z"
   },
   {
    "duration": 9,
    "start_time": "2023-03-09T14:36:49.975Z"
   },
   {
    "duration": 9,
    "start_time": "2023-03-09T14:37:02.832Z"
   },
   {
    "duration": 9,
    "start_time": "2023-03-09T14:37:07.924Z"
   },
   {
    "duration": 10,
    "start_time": "2023-03-09T14:37:11.458Z"
   },
   {
    "duration": 10,
    "start_time": "2023-03-09T14:37:35.775Z"
   },
   {
    "duration": 21,
    "start_time": "2023-03-09T14:38:31.266Z"
   },
   {
    "duration": 11,
    "start_time": "2023-03-09T14:38:49.520Z"
   },
   {
    "duration": 9,
    "start_time": "2023-03-09T14:39:02.360Z"
   },
   {
    "duration": 12,
    "start_time": "2023-03-09T14:39:10.539Z"
   },
   {
    "duration": 14,
    "start_time": "2023-03-09T14:39:51.191Z"
   },
   {
    "duration": 10,
    "start_time": "2023-03-09T14:40:14.648Z"
   },
   {
    "duration": 9,
    "start_time": "2023-03-09T14:41:05.161Z"
   },
   {
    "duration": 10,
    "start_time": "2023-03-09T14:41:37.019Z"
   },
   {
    "duration": 79,
    "start_time": "2023-03-09T14:43:17.252Z"
   },
   {
    "duration": 24,
    "start_time": "2023-03-09T14:43:26.661Z"
   },
   {
    "duration": 9,
    "start_time": "2023-03-09T14:44:57.606Z"
   },
   {
    "duration": 12,
    "start_time": "2023-03-09T14:46:32.096Z"
   },
   {
    "duration": 11,
    "start_time": "2023-03-09T14:46:37.330Z"
   },
   {
    "duration": 9,
    "start_time": "2023-03-09T14:46:55.668Z"
   },
   {
    "duration": 15,
    "start_time": "2023-03-09T14:58:02.952Z"
   },
   {
    "duration": 11,
    "start_time": "2023-03-09T14:58:07.544Z"
   },
   {
    "duration": 48,
    "start_time": "2023-03-09T14:58:16.057Z"
   },
   {
    "duration": 11,
    "start_time": "2023-03-09T14:58:18.766Z"
   },
   {
    "duration": 11,
    "start_time": "2023-03-09T14:58:46.730Z"
   },
   {
    "duration": 17,
    "start_time": "2023-03-09T14:59:29.798Z"
   },
   {
    "duration": 9,
    "start_time": "2023-03-09T14:59:32.521Z"
   },
   {
    "duration": 19,
    "start_time": "2023-03-09T14:59:47.160Z"
   },
   {
    "duration": 791,
    "start_time": "2023-03-09T15:03:14.336Z"
   },
   {
    "duration": 11,
    "start_time": "2023-03-09T15:03:39.462Z"
   },
   {
    "duration": 16,
    "start_time": "2023-03-09T15:03:46.095Z"
   },
   {
    "duration": 74,
    "start_time": "2023-03-09T15:04:55.135Z"
   },
   {
    "duration": 14,
    "start_time": "2023-03-09T15:05:45.053Z"
   },
   {
    "duration": 14,
    "start_time": "2023-03-09T15:05:52.577Z"
   },
   {
    "duration": 767,
    "start_time": "2023-03-09T15:06:06.416Z"
   },
   {
    "duration": 76,
    "start_time": "2023-03-09T15:06:29.830Z"
   },
   {
    "duration": 43,
    "start_time": "2023-03-09T15:06:44.861Z"
   },
   {
    "duration": 91,
    "start_time": "2023-03-09T15:06:53.759Z"
   },
   {
    "duration": 10,
    "start_time": "2023-03-09T15:07:27.407Z"
   },
   {
    "duration": 11,
    "start_time": "2023-03-09T15:07:36.413Z"
   },
   {
    "duration": 11,
    "start_time": "2023-03-09T15:07:49.837Z"
   },
   {
    "duration": 103,
    "start_time": "2023-03-09T15:08:04.845Z"
   },
   {
    "duration": 18,
    "start_time": "2023-03-09T15:08:22.214Z"
   },
   {
    "duration": 56,
    "start_time": "2023-03-09T15:08:30.749Z"
   },
   {
    "duration": 214,
    "start_time": "2023-03-09T15:09:02.087Z"
   },
   {
    "duration": 12,
    "start_time": "2023-03-09T15:09:30.408Z"
   },
   {
    "duration": 12,
    "start_time": "2023-03-09T15:09:51.173Z"
   },
   {
    "duration": 10,
    "start_time": "2023-03-09T15:10:14.229Z"
   },
   {
    "duration": 9,
    "start_time": "2023-03-09T15:10:24.989Z"
   },
   {
    "duration": 10,
    "start_time": "2023-03-09T15:10:53.906Z"
   },
   {
    "duration": 1577,
    "start_time": "2023-03-09T19:29:55.863Z"
   },
   {
    "duration": 3426,
    "start_time": "2023-03-09T19:29:57.443Z"
   },
   {
    "duration": 21,
    "start_time": "2023-03-09T19:30:00.871Z"
   },
   {
    "duration": 81,
    "start_time": "2023-03-09T19:30:00.894Z"
   },
   {
    "duration": 217,
    "start_time": "2023-03-09T19:30:00.977Z"
   },
   {
    "duration": 157,
    "start_time": "2023-03-09T19:30:01.196Z"
   },
   {
    "duration": 97,
    "start_time": "2023-03-09T19:30:01.355Z"
   },
   {
    "duration": 65,
    "start_time": "2023-03-09T19:30:01.454Z"
   },
   {
    "duration": 14,
    "start_time": "2023-03-09T19:50:42.544Z"
   },
   {
    "duration": 3,
    "start_time": "2023-03-09T19:51:00.586Z"
   },
   {
    "duration": 411,
    "start_time": "2023-03-09T19:51:37.582Z"
   },
   {
    "duration": 10,
    "start_time": "2023-03-09T19:55:23.142Z"
   },
   {
    "duration": 76,
    "start_time": "2023-03-09T19:55:38.687Z"
   },
   {
    "duration": 8,
    "start_time": "2023-03-09T19:55:41.650Z"
   },
   {
    "duration": 111,
    "start_time": "2023-03-09T19:56:11.317Z"
   },
   {
    "duration": 10,
    "start_time": "2023-03-09T19:56:29.208Z"
   },
   {
    "duration": 10,
    "start_time": "2023-03-09T19:56:39.028Z"
   },
   {
    "duration": 8,
    "start_time": "2023-03-09T19:57:17.480Z"
   },
   {
    "duration": 7,
    "start_time": "2023-03-09T19:57:27.004Z"
   },
   {
    "duration": 14,
    "start_time": "2023-03-09T19:59:22.752Z"
   },
   {
    "duration": 36,
    "start_time": "2023-03-09T20:39:08.725Z"
   },
   {
    "duration": 36,
    "start_time": "2023-03-09T20:39:24.773Z"
   },
   {
    "duration": 33,
    "start_time": "2023-03-09T20:39:30.372Z"
   },
   {
    "duration": 506,
    "start_time": "2023-03-09T20:39:42.005Z"
   },
   {
    "duration": 506,
    "start_time": "2023-03-09T20:39:57.834Z"
   },
   {
    "duration": 68,
    "start_time": "2023-03-09T20:40:46.249Z"
   },
   {
    "duration": 2,
    "start_time": "2023-03-09T20:40:55.258Z"
   },
   {
    "duration": 49,
    "start_time": "2023-03-09T20:40:58.841Z"
   },
   {
    "duration": 15,
    "start_time": "2023-03-09T20:41:08.935Z"
   },
   {
    "duration": 30,
    "start_time": "2023-03-09T20:41:28.022Z"
   },
   {
    "duration": 591,
    "start_time": "2023-03-09T20:41:56.675Z"
   },
   {
    "duration": 539,
    "start_time": "2023-03-09T20:42:24.706Z"
   },
   {
    "duration": 507,
    "start_time": "2023-03-09T20:42:40.315Z"
   },
   {
    "duration": 526,
    "start_time": "2023-03-09T20:42:54.796Z"
   },
   {
    "duration": 518,
    "start_time": "2023-03-09T20:43:01.040Z"
   },
   {
    "duration": 489,
    "start_time": "2023-03-09T20:43:18.723Z"
   },
   {
    "duration": 516,
    "start_time": "2023-03-09T20:43:27.992Z"
   },
   {
    "duration": 523,
    "start_time": "2023-03-09T20:44:09.315Z"
   },
   {
    "duration": 57,
    "start_time": "2023-03-09T20:44:26.958Z"
   },
   {
    "duration": 35,
    "start_time": "2023-03-09T20:44:40.898Z"
   },
   {
    "duration": 35,
    "start_time": "2023-03-09T20:44:45.521Z"
   },
   {
    "duration": 519,
    "start_time": "2023-03-09T20:44:56.179Z"
   },
   {
    "duration": 478,
    "start_time": "2023-03-09T20:45:08.850Z"
   },
   {
    "duration": 475,
    "start_time": "2023-03-09T21:15:43.855Z"
   },
   {
    "duration": 125,
    "start_time": "2023-03-09T21:16:07.051Z"
   },
   {
    "duration": 470,
    "start_time": "2023-03-09T21:16:10.283Z"
   },
   {
    "duration": 475,
    "start_time": "2023-03-09T21:16:46.743Z"
   },
   {
    "duration": 1542,
    "start_time": "2023-03-10T10:46:03.286Z"
   },
   {
    "duration": 3759,
    "start_time": "2023-03-10T10:46:04.829Z"
   },
   {
    "duration": 21,
    "start_time": "2023-03-10T10:46:08.590Z"
   },
   {
    "duration": 55,
    "start_time": "2023-03-10T10:46:08.614Z"
   },
   {
    "duration": 298,
    "start_time": "2023-03-10T10:46:08.672Z"
   },
   {
    "duration": 106,
    "start_time": "2023-03-10T10:46:08.972Z"
   },
   {
    "duration": 13,
    "start_time": "2023-03-10T10:46:09.080Z"
   },
   {
    "duration": 9,
    "start_time": "2023-03-10T10:46:09.095Z"
   },
   {
    "duration": 3,
    "start_time": "2023-03-10T10:46:09.106Z"
   },
   {
    "duration": 573,
    "start_time": "2023-03-10T10:46:09.112Z"
   },
   {
    "duration": 527,
    "start_time": "2023-03-10T10:52:10.555Z"
   },
   {
    "duration": 508,
    "start_time": "2023-03-10T10:52:41.484Z"
   },
   {
    "duration": 504,
    "start_time": "2023-03-10T10:53:08.951Z"
   },
   {
    "duration": 493,
    "start_time": "2023-03-10T10:54:07.537Z"
   },
   {
    "duration": 2091,
    "start_time": "2023-03-10T10:55:05.931Z"
   },
   {
    "duration": 20811,
    "start_time": "2023-03-10T10:55:46.151Z"
   },
   {
    "duration": 2256,
    "start_time": "2023-03-10T10:56:22.630Z"
   },
   {
    "duration": 2159,
    "start_time": "2023-03-10T10:57:44.029Z"
   },
   {
    "duration": 2051,
    "start_time": "2023-03-10T10:58:19.020Z"
   },
   {
    "duration": 2167,
    "start_time": "2023-03-10T10:59:13.636Z"
   },
   {
    "duration": 2122,
    "start_time": "2023-03-10T10:59:28.588Z"
   },
   {
    "duration": 3,
    "start_time": "2023-03-10T11:02:12.827Z"
   },
   {
    "duration": 65,
    "start_time": "2023-03-10T11:03:38.827Z"
   },
   {
    "duration": 2159,
    "start_time": "2023-03-10T11:03:41.732Z"
   },
   {
    "duration": 2269,
    "start_time": "2023-03-10T11:04:02.110Z"
   },
   {
    "duration": 2258,
    "start_time": "2023-03-10T11:07:12.681Z"
   },
   {
    "duration": 2349,
    "start_time": "2023-03-10T11:09:04.249Z"
   },
   {
    "duration": 3,
    "start_time": "2023-03-10T11:12:14.714Z"
   },
   {
    "duration": 112,
    "start_time": "2023-03-10T11:15:30.199Z"
   },
   {
    "duration": 789,
    "start_time": "2023-03-10T11:15:46.509Z"
   },
   {
    "duration": 795,
    "start_time": "2023-03-10T11:16:18.450Z"
   },
   {
    "duration": 16,
    "start_time": "2023-03-10T11:18:52.020Z"
   },
   {
    "duration": 14,
    "start_time": "2023-03-10T11:19:02.843Z"
   },
   {
    "duration": 14,
    "start_time": "2023-03-10T11:19:14.959Z"
   },
   {
    "duration": 12,
    "start_time": "2023-03-10T11:19:29.770Z"
   },
   {
    "duration": 4202,
    "start_time": "2023-03-10T11:21:17.034Z"
   },
   {
    "duration": 2059,
    "start_time": "2023-03-10T11:21:40.807Z"
   },
   {
    "duration": 328,
    "start_time": "2023-03-10T11:22:26.675Z"
   },
   {
    "duration": 31,
    "start_time": "2023-03-10T11:22:54.507Z"
   },
   {
    "duration": 886,
    "start_time": "2023-03-10T11:23:08.365Z"
   },
   {
    "duration": 851,
    "start_time": "2023-03-10T11:23:21.448Z"
   },
   {
    "duration": 918,
    "start_time": "2023-03-10T11:23:31.281Z"
   },
   {
    "duration": 891,
    "start_time": "2023-03-10T11:23:45.052Z"
   },
   {
    "duration": 1046,
    "start_time": "2023-03-10T11:23:59.774Z"
   },
   {
    "duration": 793,
    "start_time": "2023-03-10T11:24:04.507Z"
   },
   {
    "duration": 350,
    "start_time": "2023-03-10T11:24:36.661Z"
   },
   {
    "duration": 348,
    "start_time": "2023-03-10T11:24:46.243Z"
   },
   {
    "duration": 3,
    "start_time": "2023-03-10T17:56:22.499Z"
   },
   {
    "duration": 22,
    "start_time": "2023-03-10T17:58:25.060Z"
   },
   {
    "duration": 38,
    "start_time": "2023-03-10T17:58:48.744Z"
   },
   {
    "duration": 3,
    "start_time": "2023-03-10T17:59:43.345Z"
   },
   {
    "duration": 38,
    "start_time": "2023-03-10T17:59:44.999Z"
   },
   {
    "duration": 4,
    "start_time": "2023-03-10T18:00:53.234Z"
   },
   {
    "duration": 4625,
    "start_time": "2023-03-10T18:00:54.917Z"
   },
   {
    "duration": 5458,
    "start_time": "2023-03-10T18:02:10.359Z"
   },
   {
    "duration": 1395,
    "start_time": "2023-03-10T18:02:39.397Z"
   },
   {
    "duration": 1410,
    "start_time": "2023-03-10T18:02:57.330Z"
   },
   {
    "duration": 18,
    "start_time": "2023-03-10T18:04:07.502Z"
   },
   {
    "duration": 1254,
    "start_time": "2023-03-10T18:05:17.812Z"
   },
   {
    "duration": 274,
    "start_time": "2023-03-10T18:05:44.901Z"
   },
   {
    "duration": 1285,
    "start_time": "2023-03-10T18:05:49.745Z"
   },
   {
    "duration": 75,
    "start_time": "2023-03-10T18:06:12.047Z"
   },
   {
    "duration": 3834,
    "start_time": "2023-03-10T18:06:17.319Z"
   },
   {
    "duration": 1437,
    "start_time": "2023-03-10T18:07:32.406Z"
   },
   {
    "duration": 35,
    "start_time": "2023-03-10T18:09:07.364Z"
   },
   {
    "duration": 17,
    "start_time": "2023-03-10T18:11:55.035Z"
   },
   {
    "duration": 26,
    "start_time": "2023-03-10T18:13:22.305Z"
   },
   {
    "duration": 6,
    "start_time": "2023-03-10T18:13:52.475Z"
   },
   {
    "duration": 1421,
    "start_time": "2023-03-10T18:14:02.057Z"
   },
   {
    "duration": 12,
    "start_time": "2023-03-10T18:14:18.898Z"
   },
   {
    "duration": 1165,
    "start_time": "2023-03-10T18:14:21.177Z"
   },
   {
    "duration": 17,
    "start_time": "2023-03-10T18:15:41.484Z"
   },
   {
    "duration": 17,
    "start_time": "2023-03-10T18:16:21.513Z"
   },
   {
    "duration": 11,
    "start_time": "2023-03-10T18:16:26.542Z"
   },
   {
    "duration": 11,
    "start_time": "2023-03-10T18:16:39.116Z"
   },
   {
    "duration": 18,
    "start_time": "2023-03-10T18:17:24.084Z"
   },
   {
    "duration": 1416,
    "start_time": "2023-03-10T18:17:53.833Z"
   },
   {
    "duration": 26,
    "start_time": "2023-03-10T18:19:04.088Z"
   },
   {
    "duration": 26,
    "start_time": "2023-03-10T18:19:30.708Z"
   },
   {
    "duration": 19,
    "start_time": "2023-03-10T18:20:52.495Z"
   },
   {
    "duration": 15,
    "start_time": "2023-03-10T18:22:22.641Z"
   },
   {
    "duration": 33,
    "start_time": "2023-03-10T18:22:28.066Z"
   },
   {
    "duration": 26,
    "start_time": "2023-03-10T18:22:35.753Z"
   },
   {
    "duration": 1447,
    "start_time": "2023-03-10T18:22:46.170Z"
   },
   {
    "duration": 1382,
    "start_time": "2023-03-10T18:22:58.081Z"
   },
   {
    "duration": 1422,
    "start_time": "2023-03-10T18:23:12.340Z"
   },
   {
    "duration": 1454,
    "start_time": "2023-03-10T18:24:07.124Z"
   },
   {
    "duration": 1475,
    "start_time": "2023-03-10T18:24:21.039Z"
   },
   {
    "duration": 1383,
    "start_time": "2023-03-11T08:43:10.247Z"
   },
   {
    "duration": 3499,
    "start_time": "2023-03-11T08:43:11.632Z"
   },
   {
    "duration": 24,
    "start_time": "2023-03-11T08:43:15.133Z"
   },
   {
    "duration": 47,
    "start_time": "2023-03-11T08:43:15.160Z"
   },
   {
    "duration": 200,
    "start_time": "2023-03-11T08:43:15.209Z"
   },
   {
    "duration": 109,
    "start_time": "2023-03-11T08:43:15.480Z"
   },
   {
    "duration": 15,
    "start_time": "2023-03-11T08:43:15.591Z"
   },
   {
    "duration": 8,
    "start_time": "2023-03-11T08:43:15.607Z"
   },
   {
    "duration": 14,
    "start_time": "2023-03-11T08:43:15.617Z"
   },
   {
    "duration": 1023,
    "start_time": "2023-03-11T08:43:15.634Z"
   },
   {
    "duration": 1150,
    "start_time": "2023-03-11T08:44:29.666Z"
   },
   {
    "duration": 937,
    "start_time": "2023-03-11T08:44:39.858Z"
   },
   {
    "duration": 2038,
    "start_time": "2023-03-11T08:46:07.012Z"
   },
   {
    "duration": 3195,
    "start_time": "2023-03-11T08:46:14.910Z"
   },
   {
    "duration": 559,
    "start_time": "2023-03-11T08:47:01.496Z"
   },
   {
    "duration": 917,
    "start_time": "2023-03-11T08:48:03.753Z"
   },
   {
    "duration": 919,
    "start_time": "2023-03-11T08:48:42.838Z"
   },
   {
    "duration": 28,
    "start_time": "2023-03-11T08:50:15.271Z"
   },
   {
    "duration": 17,
    "start_time": "2023-03-11T08:50:54.324Z"
   },
   {
    "duration": 15,
    "start_time": "2023-03-11T08:51:12.461Z"
   },
   {
    "duration": 31,
    "start_time": "2023-03-11T08:51:19.866Z"
   },
   {
    "duration": 16,
    "start_time": "2023-03-11T08:51:39.301Z"
   },
   {
    "duration": 16,
    "start_time": "2023-03-11T08:52:14.759Z"
   },
   {
    "duration": 19,
    "start_time": "2023-03-11T08:54:26.104Z"
   },
   {
    "duration": 17,
    "start_time": "2023-03-11T08:54:44.598Z"
   },
   {
    "duration": 17,
    "start_time": "2023-03-11T08:54:52.598Z"
   },
   {
    "duration": 923,
    "start_time": "2023-03-11T08:55:18.666Z"
   },
   {
    "duration": 1005,
    "start_time": "2023-03-11T08:55:33.595Z"
   },
   {
    "duration": 14,
    "start_time": "2023-03-11T08:59:31.820Z"
   },
   {
    "duration": 911,
    "start_time": "2023-03-11T08:59:39.641Z"
   },
   {
    "duration": 12,
    "start_time": "2023-03-11T09:01:57.132Z"
   },
   {
    "duration": 15,
    "start_time": "2023-03-11T09:02:09.911Z"
   },
   {
    "duration": 20,
    "start_time": "2023-03-11T09:02:31.176Z"
   },
   {
    "duration": 912,
    "start_time": "2023-03-11T09:03:42.022Z"
   },
   {
    "duration": 30,
    "start_time": "2023-03-11T09:04:42.967Z"
   },
   {
    "duration": 1436,
    "start_time": "2023-03-11T09:04:50.866Z"
   },
   {
    "duration": 13,
    "start_time": "2023-03-11T09:05:28.007Z"
   },
   {
    "duration": 2047,
    "start_time": "2023-03-11T09:05:32.939Z"
   },
   {
    "duration": 21,
    "start_time": "2023-03-11T09:06:01.974Z"
   },
   {
    "duration": 2300,
    "start_time": "2023-03-11T09:06:04.451Z"
   },
   {
    "duration": 13,
    "start_time": "2023-03-11T09:08:06.626Z"
   },
   {
    "duration": 1446,
    "start_time": "2023-03-11T09:08:09.514Z"
   },
   {
    "duration": 13,
    "start_time": "2023-03-11T09:09:10.791Z"
   },
   {
    "duration": 1024,
    "start_time": "2023-03-11T09:11:03.237Z"
   },
   {
    "duration": 1010,
    "start_time": "2023-03-11T09:11:19.312Z"
   },
   {
    "duration": 4037,
    "start_time": "2023-03-11T09:11:49.507Z"
   },
   {
    "duration": 4490,
    "start_time": "2023-03-11T09:12:10.067Z"
   },
   {
    "duration": 1087,
    "start_time": "2023-03-11T09:12:54.871Z"
   },
   {
    "duration": 929,
    "start_time": "2023-03-11T09:13:17.135Z"
   },
   {
    "duration": 1099,
    "start_time": "2023-03-11T09:13:25.339Z"
   },
   {
    "duration": 261,
    "start_time": "2023-03-11T09:13:38.799Z"
   },
   {
    "duration": 42,
    "start_time": "2023-03-11T09:13:44.032Z"
   },
   {
    "duration": 45,
    "start_time": "2023-03-11T09:13:47.556Z"
   },
   {
    "duration": 918,
    "start_time": "2023-03-11T09:13:51.797Z"
   },
   {
    "duration": 131,
    "start_time": "2023-03-11T09:15:33.096Z"
   },
   {
    "duration": 16,
    "start_time": "2023-03-11T09:16:29.503Z"
   },
   {
    "duration": 17,
    "start_time": "2023-03-11T09:16:35.743Z"
   },
   {
    "duration": 19,
    "start_time": "2023-03-11T09:16:46.244Z"
   },
   {
    "duration": 938,
    "start_time": "2023-03-11T09:17:19.612Z"
   },
   {
    "duration": 13,
    "start_time": "2023-03-11T09:17:59.537Z"
   },
   {
    "duration": 16,
    "start_time": "2023-03-11T09:18:14.629Z"
   },
   {
    "duration": 15,
    "start_time": "2023-03-11T09:18:21.504Z"
   },
   {
    "duration": 23,
    "start_time": "2023-03-11T09:18:45.939Z"
   },
   {
    "duration": 20,
    "start_time": "2023-03-11T09:18:58.833Z"
   },
   {
    "duration": 17,
    "start_time": "2023-03-11T09:20:02.258Z"
   },
   {
    "duration": 15,
    "start_time": "2023-03-11T09:20:28.816Z"
   },
   {
    "duration": 13,
    "start_time": "2023-03-11T09:20:35.935Z"
   },
   {
    "duration": 12,
    "start_time": "2023-03-11T09:20:38.360Z"
   },
   {
    "duration": 13,
    "start_time": "2023-03-11T09:20:40.915Z"
   },
   {
    "duration": 4,
    "start_time": "2023-03-11T09:23:28.123Z"
   },
   {
    "duration": 2994,
    "start_time": "2023-03-11T09:23:28.129Z"
   },
   {
    "duration": 21,
    "start_time": "2023-03-11T09:23:31.125Z"
   },
   {
    "duration": 51,
    "start_time": "2023-03-11T09:23:31.148Z"
   },
   {
    "duration": 747,
    "start_time": "2023-03-11T09:23:31.201Z"
   },
   {
    "duration": 14,
    "start_time": "2023-03-11T09:23:31.950Z"
   },
   {
    "duration": 29,
    "start_time": "2023-03-11T09:23:31.966Z"
   },
   {
    "duration": 8,
    "start_time": "2023-03-11T09:23:31.997Z"
   },
   {
    "duration": 51,
    "start_time": "2023-03-11T09:23:32.007Z"
   },
   {
    "duration": 912,
    "start_time": "2023-03-11T09:23:32.061Z"
   },
   {
    "duration": 11,
    "start_time": "2023-03-11T09:23:44.309Z"
   },
   {
    "duration": 11,
    "start_time": "2023-03-11T09:23:55.222Z"
   },
   {
    "duration": 12,
    "start_time": "2023-03-11T09:24:01.350Z"
   },
   {
    "duration": 13,
    "start_time": "2023-03-11T09:25:32.155Z"
   },
   {
    "duration": 20,
    "start_time": "2023-03-11T09:26:02.724Z"
   },
   {
    "duration": 14,
    "start_time": "2023-03-11T09:26:58.000Z"
   },
   {
    "duration": 1063,
    "start_time": "2023-03-11T09:27:00.409Z"
   },
   {
    "duration": 10,
    "start_time": "2023-03-11T09:27:19.937Z"
   },
   {
    "duration": 918,
    "start_time": "2023-03-11T09:27:26.857Z"
   },
   {
    "duration": 1059,
    "start_time": "2023-03-11T09:27:49.023Z"
   },
   {
    "duration": 20,
    "start_time": "2023-03-11T09:28:26.866Z"
   },
   {
    "duration": 17,
    "start_time": "2023-03-11T09:28:32.475Z"
   },
   {
    "duration": 1049,
    "start_time": "2023-03-11T09:28:57.364Z"
   },
   {
    "duration": 981,
    "start_time": "2023-03-11T09:30:01.055Z"
   },
   {
    "duration": 1328,
    "start_time": "2023-03-11T09:31:45.110Z"
   },
   {
    "duration": 11,
    "start_time": "2023-03-11T09:32:20.704Z"
   },
   {
    "duration": 1331,
    "start_time": "2023-03-11T09:32:23.433Z"
   },
   {
    "duration": 980,
    "start_time": "2023-03-11T09:32:36.037Z"
   },
   {
    "duration": 1026,
    "start_time": "2023-03-11T09:34:03.010Z"
   },
   {
    "duration": 17,
    "start_time": "2023-03-11T09:34:10.658Z"
   },
   {
    "duration": 12,
    "start_time": "2023-03-11T09:34:15.314Z"
   },
   {
    "duration": 11,
    "start_time": "2023-03-11T09:34:17.699Z"
   },
   {
    "duration": 11,
    "start_time": "2023-03-11T09:34:58.937Z"
   },
   {
    "duration": 15,
    "start_time": "2023-03-11T09:35:01.804Z"
   },
   {
    "duration": 16,
    "start_time": "2023-03-11T09:35:29.914Z"
   },
   {
    "duration": 13,
    "start_time": "2023-03-11T09:35:33.540Z"
   },
   {
    "duration": 17,
    "start_time": "2023-03-11T09:35:35.900Z"
   },
   {
    "duration": 15,
    "start_time": "2023-03-11T09:35:38.648Z"
   },
   {
    "duration": 16,
    "start_time": "2023-03-11T09:36:27.479Z"
   },
   {
    "duration": 1061,
    "start_time": "2023-03-11T09:36:30.359Z"
   },
   {
    "duration": 11,
    "start_time": "2023-03-11T09:37:17.504Z"
   },
   {
    "duration": 976,
    "start_time": "2023-03-11T09:37:27.779Z"
   },
   {
    "duration": 113,
    "start_time": "2023-03-11T09:37:43.629Z"
   },
   {
    "duration": 930,
    "start_time": "2023-03-11T09:37:46.135Z"
   },
   {
    "duration": 11,
    "start_time": "2023-03-11T09:38:17.558Z"
   },
   {
    "duration": 988,
    "start_time": "2023-03-11T09:38:19.200Z"
   },
   {
    "duration": 14,
    "start_time": "2023-03-11T09:38:25.143Z"
   },
   {
    "duration": 959,
    "start_time": "2023-03-11T09:38:26.836Z"
   },
   {
    "duration": 960,
    "start_time": "2023-03-11T09:38:57.311Z"
   },
   {
    "duration": 139,
    "start_time": "2023-03-11T12:20:57.950Z"
   },
   {
    "duration": 13,
    "start_time": "2023-03-11T12:21:20.863Z"
   },
   {
    "duration": 35,
    "start_time": "2023-03-11T12:21:31.075Z"
   },
   {
    "duration": 10,
    "start_time": "2023-03-11T12:22:11.725Z"
   },
   {
    "duration": 21,
    "start_time": "2023-03-11T12:22:19.974Z"
   },
   {
    "duration": 21,
    "start_time": "2023-03-11T12:22:36.669Z"
   },
   {
    "duration": 15,
    "start_time": "2023-03-11T12:23:02.417Z"
   },
   {
    "duration": 17,
    "start_time": "2023-03-11T12:23:16.652Z"
   },
   {
    "duration": 14,
    "start_time": "2023-03-11T12:23:34.105Z"
   },
   {
    "duration": 27,
    "start_time": "2023-03-11T12:24:15.479Z"
   },
   {
    "duration": 33,
    "start_time": "2023-03-11T12:25:38.276Z"
   },
   {
    "duration": 16,
    "start_time": "2023-03-11T12:26:02.656Z"
   },
   {
    "duration": 12,
    "start_time": "2023-03-11T12:26:47.162Z"
   },
   {
    "duration": 1015,
    "start_time": "2023-03-11T12:31:16.575Z"
   },
   {
    "duration": 1128,
    "start_time": "2023-03-11T12:32:11.777Z"
   },
   {
    "duration": 3,
    "start_time": "2023-03-11T12:32:19.335Z"
   },
   {
    "duration": 4369,
    "start_time": "2023-03-11T12:32:19.340Z"
   },
   {
    "duration": 22,
    "start_time": "2023-03-11T12:32:23.713Z"
   },
   {
    "duration": 33,
    "start_time": "2023-03-11T12:32:23.737Z"
   },
   {
    "duration": 1022,
    "start_time": "2023-03-11T12:32:23.779Z"
   },
   {
    "duration": 15,
    "start_time": "2023-03-11T12:32:24.805Z"
   },
   {
    "duration": 12,
    "start_time": "2023-03-11T12:32:24.822Z"
   },
   {
    "duration": 15,
    "start_time": "2023-03-11T12:32:24.836Z"
   },
   {
    "duration": 16,
    "start_time": "2023-03-11T12:32:24.853Z"
   },
   {
    "duration": 938,
    "start_time": "2023-03-11T12:32:24.871Z"
   },
   {
    "duration": 936,
    "start_time": "2023-03-11T12:33:45.626Z"
   },
   {
    "duration": 1067,
    "start_time": "2023-03-11T12:42:20.669Z"
   },
   {
    "duration": 1067,
    "start_time": "2023-03-11T12:45:38.950Z"
   },
   {
    "duration": 942,
    "start_time": "2023-03-11T12:46:34.259Z"
   },
   {
    "duration": 1001,
    "start_time": "2023-03-11T12:47:01.359Z"
   },
   {
    "duration": 959,
    "start_time": "2023-03-11T12:47:11.067Z"
   },
   {
    "duration": 1023,
    "start_time": "2023-03-11T12:47:45.015Z"
   },
   {
    "duration": 861,
    "start_time": "2023-03-11T12:48:11.655Z"
   },
   {
    "duration": 847,
    "start_time": "2023-03-11T12:48:18.171Z"
   },
   {
    "duration": 368,
    "start_time": "2023-03-11T12:56:39.578Z"
   },
   {
    "duration": 327,
    "start_time": "2023-03-11T12:56:42.206Z"
   },
   {
    "duration": 434,
    "start_time": "2023-03-11T12:56:44.021Z"
   },
   {
    "duration": 392,
    "start_time": "2023-03-11T12:58:12.515Z"
   },
   {
    "duration": 320,
    "start_time": "2023-03-11T12:58:22.714Z"
   },
   {
    "duration": 8,
    "start_time": "2023-03-11T13:00:38.903Z"
   },
   {
    "duration": 19,
    "start_time": "2023-03-11T13:00:41.697Z"
   },
   {
    "duration": 953,
    "start_time": "2023-03-11T13:02:40.462Z"
   },
   {
    "duration": 1046,
    "start_time": "2023-03-11T13:03:16.112Z"
   },
   {
    "duration": 1030,
    "start_time": "2023-03-11T13:03:42.771Z"
   },
   {
    "duration": 1015,
    "start_time": "2023-03-11T13:04:06.931Z"
   },
   {
    "duration": 952,
    "start_time": "2023-03-11T13:04:23.978Z"
   },
   {
    "duration": 909,
    "start_time": "2023-03-11T13:04:36.151Z"
   },
   {
    "duration": 909,
    "start_time": "2023-03-11T13:04:54.632Z"
   },
   {
    "duration": 950,
    "start_time": "2023-03-11T13:05:04.272Z"
   },
   {
    "duration": 875,
    "start_time": "2023-03-11T13:05:16.535Z"
   },
   {
    "duration": 976,
    "start_time": "2023-03-11T13:05:42.159Z"
   },
   {
    "duration": 984,
    "start_time": "2023-03-11T13:05:53.509Z"
   },
   {
    "duration": 888,
    "start_time": "2023-03-11T13:06:06.505Z"
   },
   {
    "duration": 862,
    "start_time": "2023-03-11T13:06:11.007Z"
   },
   {
    "duration": 885,
    "start_time": "2023-03-11T13:06:17.273Z"
   },
   {
    "duration": 886,
    "start_time": "2023-03-11T13:06:26.613Z"
   },
   {
    "duration": 947,
    "start_time": "2023-03-11T13:06:49.723Z"
   },
   {
    "duration": 1020,
    "start_time": "2023-03-11T13:07:00.595Z"
   },
   {
    "duration": 890,
    "start_time": "2023-03-11T13:07:11.422Z"
   },
   {
    "duration": 903,
    "start_time": "2023-03-11T13:07:22.406Z"
   },
   {
    "duration": 859,
    "start_time": "2023-03-11T13:07:28.103Z"
   },
   {
    "duration": 953,
    "start_time": "2023-03-11T13:07:36.798Z"
   },
   {
    "duration": 2973,
    "start_time": "2023-03-11T13:09:56.152Z"
   },
   {
    "duration": 11,
    "start_time": "2023-03-11T13:11:01.967Z"
   },
   {
    "duration": 882,
    "start_time": "2023-03-11T13:11:22.015Z"
   },
   {
    "duration": 1122,
    "start_time": "2023-03-11T13:11:25.539Z"
   },
   {
    "duration": 951,
    "start_time": "2023-03-11T13:11:29.409Z"
   },
   {
    "duration": 111,
    "start_time": "2023-03-11T13:12:03.117Z"
   },
   {
    "duration": 987,
    "start_time": "2023-03-11T13:12:06.466Z"
   },
   {
    "duration": 951,
    "start_time": "2023-03-11T13:12:11.422Z"
   },
   {
    "duration": 911,
    "start_time": "2023-03-11T13:12:17.435Z"
   },
   {
    "duration": 1642,
    "start_time": "2023-03-11T19:41:12.017Z"
   },
   {
    "duration": 3768,
    "start_time": "2023-03-11T19:41:14.323Z"
   },
   {
    "duration": 19,
    "start_time": "2023-03-11T19:42:59.510Z"
   },
   {
    "duration": 155,
    "start_time": "2023-03-11T19:43:51.028Z"
   },
   {
    "duration": 51,
    "start_time": "2023-03-11T19:43:54.220Z"
   },
   {
    "duration": 339,
    "start_time": "2023-03-11T19:43:56.077Z"
   },
   {
    "duration": 464,
    "start_time": "2023-03-11T19:45:19.380Z"
   },
   {
    "duration": 394,
    "start_time": "2023-03-11T19:45:22.325Z"
   },
   {
    "duration": 16,
    "start_time": "2023-03-11T19:48:43.667Z"
   },
   {
    "duration": 20,
    "start_time": "2023-03-11T19:49:45.774Z"
   },
   {
    "duration": 18,
    "start_time": "2023-03-11T19:51:11.766Z"
   },
   {
    "duration": 7,
    "start_time": "2023-03-11T19:52:04.665Z"
   },
   {
    "duration": 7,
    "start_time": "2023-03-11T19:53:14.899Z"
   },
   {
    "duration": 13,
    "start_time": "2023-03-11T19:53:17.283Z"
   },
   {
    "duration": 11,
    "start_time": "2023-03-11T19:53:51.832Z"
   },
   {
    "duration": 10,
    "start_time": "2023-03-11T19:53:55.111Z"
   },
   {
    "duration": 10,
    "start_time": "2023-03-11T19:53:59.288Z"
   },
   {
    "duration": 9,
    "start_time": "2023-03-11T19:54:06.196Z"
   },
   {
    "duration": 18,
    "start_time": "2023-03-11T19:54:08.798Z"
   },
   {
    "duration": 9,
    "start_time": "2023-03-11T19:54:10.435Z"
   },
   {
    "duration": 10,
    "start_time": "2023-03-11T19:54:18.970Z"
   },
   {
    "duration": 10,
    "start_time": "2023-03-11T19:54:21.404Z"
   },
   {
    "duration": 9,
    "start_time": "2023-03-11T19:54:29.339Z"
   },
   {
    "duration": 9,
    "start_time": "2023-03-11T19:54:32.322Z"
   },
   {
    "duration": 9,
    "start_time": "2023-03-11T19:54:38.578Z"
   },
   {
    "duration": 8,
    "start_time": "2023-03-11T19:57:05.919Z"
   },
   {
    "duration": 1161,
    "start_time": "2023-03-11T19:57:10.685Z"
   },
   {
    "duration": 1151,
    "start_time": "2023-03-11T19:58:11.491Z"
   },
   {
    "duration": 1221,
    "start_time": "2023-03-11T20:01:25.722Z"
   },
   {
    "duration": 1441,
    "start_time": "2023-03-12T11:18:04.608Z"
   },
   {
    "duration": 3489,
    "start_time": "2023-03-12T11:18:06.051Z"
   },
   {
    "duration": 21,
    "start_time": "2023-03-12T11:18:09.542Z"
   },
   {
    "duration": 43,
    "start_time": "2023-03-12T11:20:46.876Z"
   },
   {
    "duration": 411,
    "start_time": "2023-03-12T11:29:03.116Z"
   },
   {
    "duration": 139,
    "start_time": "2023-03-12T11:30:31.349Z"
   },
   {
    "duration": 34,
    "start_time": "2023-03-12T11:31:06.538Z"
   },
   {
    "duration": 451,
    "start_time": "2023-03-12T11:32:16.602Z"
   },
   {
    "duration": 322,
    "start_time": "2023-03-12T11:35:12.297Z"
   },
   {
    "duration": 407,
    "start_time": "2023-03-12T11:35:33.043Z"
   },
   {
    "duration": 392,
    "start_time": "2023-03-12T11:35:49.044Z"
   },
   {
    "duration": 351,
    "start_time": "2023-03-12T11:35:58.987Z"
   },
   {
    "duration": 361,
    "start_time": "2023-03-12T11:37:42.011Z"
   },
   {
    "duration": 431,
    "start_time": "2023-03-12T11:38:25.007Z"
   },
   {
    "duration": 520,
    "start_time": "2023-03-12T11:38:55.180Z"
   },
   {
    "duration": 455,
    "start_time": "2023-03-12T11:39:38.835Z"
   },
   {
    "duration": 428,
    "start_time": "2023-03-12T11:39:58.320Z"
   },
   {
    "duration": 477,
    "start_time": "2023-03-12T11:40:13.698Z"
   },
   {
    "duration": 5,
    "start_time": "2023-03-12T12:00:45.200Z"
   },
   {
    "duration": 8,
    "start_time": "2023-03-12T12:00:59.813Z"
   },
   {
    "duration": 11,
    "start_time": "2023-03-12T12:04:50.266Z"
   },
   {
    "duration": 6,
    "start_time": "2023-03-12T12:05:49.931Z"
   },
   {
    "duration": 6,
    "start_time": "2023-03-12T12:06:01.922Z"
   },
   {
    "duration": 8,
    "start_time": "2023-03-12T12:06:14.059Z"
   },
   {
    "duration": 1053,
    "start_time": "2023-03-12T12:06:17.047Z"
   },
   {
    "duration": 7,
    "start_time": "2023-03-12T12:06:29.801Z"
   },
   {
    "duration": 1203,
    "start_time": "2023-03-12T12:06:35.467Z"
   },
   {
    "duration": 107,
    "start_time": "2023-03-12T12:06:48.788Z"
   },
   {
    "duration": 1119,
    "start_time": "2023-03-12T12:06:50.889Z"
   },
   {
    "duration": 6,
    "start_time": "2023-03-12T12:07:55.432Z"
   },
   {
    "duration": 1182,
    "start_time": "2023-03-12T12:07:59.140Z"
   },
   {
    "duration": 1177,
    "start_time": "2023-03-12T12:08:10.840Z"
   },
   {
    "duration": 1237,
    "start_time": "2023-03-12T12:08:16.791Z"
   },
   {
    "duration": 7,
    "start_time": "2023-03-12T12:09:18.280Z"
   },
   {
    "duration": 1136,
    "start_time": "2023-03-12T12:09:21.149Z"
   },
   {
    "duration": 6,
    "start_time": "2023-03-12T12:09:49.904Z"
   },
   {
    "duration": 1378,
    "start_time": "2023-03-12T12:09:52.820Z"
   },
   {
    "duration": 6,
    "start_time": "2023-03-12T12:11:02.939Z"
   },
   {
    "duration": 1132,
    "start_time": "2023-03-12T12:11:04.971Z"
   },
   {
    "duration": 6,
    "start_time": "2023-03-12T12:11:36.506Z"
   },
   {
    "duration": 1125,
    "start_time": "2023-03-12T12:11:39.700Z"
   },
   {
    "duration": 6,
    "start_time": "2023-03-12T12:12:02.663Z"
   },
   {
    "duration": 1097,
    "start_time": "2023-03-12T12:12:04.063Z"
   },
   {
    "duration": 1275,
    "start_time": "2023-03-12T12:13:43.148Z"
   },
   {
    "duration": 1136,
    "start_time": "2023-03-12T12:13:48.002Z"
   },
   {
    "duration": 29,
    "start_time": "2023-03-12T12:16:58.429Z"
   },
   {
    "duration": 34,
    "start_time": "2023-03-12T12:17:04.471Z"
   },
   {
    "duration": 30,
    "start_time": "2023-03-12T12:17:11.495Z"
   },
   {
    "duration": 469,
    "start_time": "2023-03-12T12:18:21.906Z"
   },
   {
    "duration": 451,
    "start_time": "2023-03-12T12:19:12.046Z"
   },
   {
    "duration": 381,
    "start_time": "2023-03-12T12:26:42.904Z"
   },
   {
    "duration": 436,
    "start_time": "2023-03-12T12:26:47.169Z"
   },
   {
    "duration": 498,
    "start_time": "2023-03-12T12:28:33.552Z"
   },
   {
    "duration": 522,
    "start_time": "2023-03-12T12:44:40.366Z"
   },
   {
    "duration": 438,
    "start_time": "2023-03-12T12:45:50.350Z"
   },
   {
    "duration": 406,
    "start_time": "2023-03-12T12:45:58.977Z"
   },
   {
    "duration": 6,
    "start_time": "2023-03-12T14:04:32.725Z"
   },
   {
    "duration": 5,
    "start_time": "2023-03-12T14:12:16.925Z"
   },
   {
    "duration": 5,
    "start_time": "2023-03-12T14:13:16.728Z"
   },
   {
    "duration": 4,
    "start_time": "2023-03-12T14:13:42.202Z"
   },
   {
    "duration": 8,
    "start_time": "2023-03-12T14:13:53.020Z"
   },
   {
    "duration": 7,
    "start_time": "2023-03-12T14:14:05.912Z"
   },
   {
    "duration": 4,
    "start_time": "2023-03-12T14:14:13.109Z"
   },
   {
    "duration": 9,
    "start_time": "2023-03-12T14:27:54.556Z"
   },
   {
    "duration": 5,
    "start_time": "2023-03-12T14:28:00.662Z"
   },
   {
    "duration": 1049,
    "start_time": "2023-03-12T14:28:02.755Z"
   },
   {
    "duration": 9,
    "start_time": "2023-03-12T14:34:33.388Z"
   },
   {
    "duration": 8,
    "start_time": "2023-03-12T14:36:43.772Z"
   },
   {
    "duration": 9,
    "start_time": "2023-03-12T14:36:52.418Z"
   },
   {
    "duration": 9,
    "start_time": "2023-03-12T14:36:56.212Z"
   },
   {
    "duration": 8,
    "start_time": "2023-03-12T14:36:59.203Z"
   },
   {
    "duration": 11,
    "start_time": "2023-03-12T14:37:04.782Z"
   },
   {
    "duration": 9,
    "start_time": "2023-03-12T14:37:10.440Z"
   },
   {
    "duration": 10,
    "start_time": "2023-03-12T14:37:14.664Z"
   },
   {
    "duration": 11,
    "start_time": "2023-03-12T14:37:16.470Z"
   },
   {
    "duration": 3,
    "start_time": "2023-03-12T14:42:27.828Z"
   },
   {
    "duration": 8,
    "start_time": "2023-03-12T14:43:09.176Z"
   },
   {
    "duration": 9,
    "start_time": "2023-03-12T14:44:49.350Z"
   },
   {
    "duration": 12,
    "start_time": "2023-03-12T14:45:35.317Z"
   },
   {
    "duration": 10,
    "start_time": "2023-03-12T14:45:51.568Z"
   },
   {
    "duration": 10,
    "start_time": "2023-03-12T14:46:14.376Z"
   },
   {
    "duration": 11,
    "start_time": "2023-03-12T14:47:31.397Z"
   },
   {
    "duration": 14,
    "start_time": "2023-03-12T14:47:35.510Z"
   },
   {
    "duration": 9,
    "start_time": "2023-03-12T14:47:58.440Z"
   },
   {
    "duration": 7,
    "start_time": "2023-03-12T14:59:46.786Z"
   },
   {
    "duration": 1074,
    "start_time": "2023-03-12T14:59:48.152Z"
   },
   {
    "duration": 1328,
    "start_time": "2023-03-12T14:59:52.784Z"
   },
   {
    "duration": 109,
    "start_time": "2023-03-12T14:59:58.231Z"
   },
   {
    "duration": 1110,
    "start_time": "2023-03-12T14:59:59.686Z"
   },
   {
    "duration": 1120,
    "start_time": "2023-03-12T15:00:08.023Z"
   },
   {
    "duration": 8,
    "start_time": "2023-03-12T15:00:14.347Z"
   },
   {
    "duration": 1103,
    "start_time": "2023-03-12T15:00:15.997Z"
   },
   {
    "duration": 11,
    "start_time": "2023-03-12T15:00:53.930Z"
   },
   {
    "duration": 1098,
    "start_time": "2023-03-12T15:00:56.209Z"
   },
   {
    "duration": 9,
    "start_time": "2023-03-12T15:01:10.944Z"
   },
   {
    "duration": 1274,
    "start_time": "2023-03-12T15:01:13.183Z"
   },
   {
    "duration": 7,
    "start_time": "2023-03-12T15:01:29.608Z"
   },
   {
    "duration": 1232,
    "start_time": "2023-03-12T15:01:31.245Z"
   },
   {
    "duration": 6,
    "start_time": "2023-03-12T15:02:06.098Z"
   },
   {
    "duration": 7,
    "start_time": "2023-03-12T15:02:29.990Z"
   },
   {
    "duration": 1136,
    "start_time": "2023-03-12T15:02:31.220Z"
   },
   {
    "duration": 1213,
    "start_time": "2023-03-12T15:02:48.346Z"
   },
   {
    "duration": 1210,
    "start_time": "2023-03-12T15:02:54.160Z"
   },
   {
    "duration": 9,
    "start_time": "2023-03-12T15:09:09.938Z"
   },
   {
    "duration": 1185,
    "start_time": "2023-03-12T15:09:43.482Z"
   },
   {
    "duration": 1096,
    "start_time": "2023-03-12T15:10:26.486Z"
   },
   {
    "duration": 1386,
    "start_time": "2023-03-12T15:10:32.683Z"
   },
   {
    "duration": 1136,
    "start_time": "2023-03-12T15:10:44.610Z"
   },
   {
    "duration": 12,
    "start_time": "2023-03-12T15:11:04.010Z"
   },
   {
    "duration": 1177,
    "start_time": "2023-03-12T15:11:06.537Z"
   },
   {
    "duration": 1178,
    "start_time": "2023-03-12T15:11:10.646Z"
   },
   {
    "duration": 1303,
    "start_time": "2023-03-12T15:11:13.218Z"
   },
   {
    "duration": 1261,
    "start_time": "2023-03-12T15:11:18.143Z"
   },
   {
    "duration": 1222,
    "start_time": "2023-03-12T15:11:22.832Z"
   },
   {
    "duration": 1157,
    "start_time": "2023-03-12T15:11:26.074Z"
   },
   {
    "duration": 1203,
    "start_time": "2023-03-12T15:11:29.052Z"
   },
   {
    "duration": 1238,
    "start_time": "2023-03-12T15:11:32.570Z"
   },
   {
    "duration": 1263,
    "start_time": "2023-03-12T15:11:35.199Z"
   },
   {
    "duration": 107,
    "start_time": "2023-03-12T15:11:42.636Z"
   },
   {
    "duration": 1090,
    "start_time": "2023-03-12T15:11:48.368Z"
   },
   {
    "duration": 7,
    "start_time": "2023-03-12T15:11:53.876Z"
   },
   {
    "duration": 1144,
    "start_time": "2023-03-12T15:11:56.952Z"
   },
   {
    "duration": 1200,
    "start_time": "2023-03-12T15:12:00.377Z"
   },
   {
    "duration": 1256,
    "start_time": "2023-03-12T15:12:04.026Z"
   },
   {
    "duration": 6,
    "start_time": "2023-03-12T15:18:42.618Z"
   },
   {
    "duration": 855,
    "start_time": "2023-03-12T15:18:44.695Z"
   },
   {
    "duration": 6,
    "start_time": "2023-03-12T15:18:57.250Z"
   },
   {
    "duration": 1193,
    "start_time": "2023-03-12T15:19:00.772Z"
   },
   {
    "duration": 6,
    "start_time": "2023-03-12T15:20:19.024Z"
   },
   {
    "duration": 1315,
    "start_time": "2023-03-12T15:20:21.200Z"
   },
   {
    "duration": 1307,
    "start_time": "2023-03-12T15:47:32.220Z"
   },
   {
    "duration": 2870,
    "start_time": "2023-03-12T15:50:10.797Z"
   },
   {
    "duration": 1407,
    "start_time": "2023-03-12T15:50:25.390Z"
   },
   {
    "duration": 1259,
    "start_time": "2023-03-12T15:50:48.556Z"
   },
   {
    "duration": 1441,
    "start_time": "2023-03-13T07:45:27.223Z"
   },
   {
    "duration": 2858,
    "start_time": "2023-03-13T07:45:28.666Z"
   },
   {
    "duration": 18,
    "start_time": "2023-03-13T07:45:31.525Z"
   },
   {
    "duration": 83,
    "start_time": "2023-03-13T07:45:31.545Z"
   },
   {
    "duration": 441,
    "start_time": "2023-03-13T07:45:31.630Z"
   },
   {
    "duration": 505,
    "start_time": "2023-03-13T07:45:32.079Z"
   },
   {
    "duration": 404,
    "start_time": "2023-03-13T07:45:32.586Z"
   },
   {
    "duration": 2,
    "start_time": "2023-03-13T07:45:32.992Z"
   },
   {
    "duration": 11,
    "start_time": "2023-03-13T07:45:32.996Z"
   },
   {
    "duration": 4,
    "start_time": "2023-03-13T07:45:33.009Z"
   },
   {
    "duration": 11,
    "start_time": "2023-03-13T07:45:33.015Z"
   },
   {
    "duration": 5,
    "start_time": "2023-03-13T07:45:33.028Z"
   },
   {
    "duration": 882,
    "start_time": "2023-03-13T07:45:33.034Z"
   },
   {
    "duration": 844,
    "start_time": "2023-03-13T07:45:33.917Z"
   },
   {
    "duration": 843,
    "start_time": "2023-03-13T07:45:34.763Z"
   },
   {
    "duration": 2133,
    "start_time": "2023-03-13T12:03:59.931Z"
   },
   {
    "duration": 3925,
    "start_time": "2023-03-13T12:04:02.066Z"
   },
   {
    "duration": 26,
    "start_time": "2023-03-13T12:04:05.993Z"
   },
   {
    "duration": 51,
    "start_time": "2023-03-13T12:04:06.022Z"
   },
   {
    "duration": 461,
    "start_time": "2023-03-13T12:04:06.075Z"
   },
   {
    "duration": 603,
    "start_time": "2023-03-13T12:04:06.538Z"
   },
   {
    "duration": 442,
    "start_time": "2023-03-13T12:04:07.143Z"
   },
   {
    "duration": 2,
    "start_time": "2023-03-13T12:04:07.587Z"
   },
   {
    "duration": 41,
    "start_time": "2023-03-13T12:04:07.591Z"
   },
   {
    "duration": 6,
    "start_time": "2023-03-13T12:04:07.635Z"
   },
   {
    "duration": 22,
    "start_time": "2023-03-13T12:04:07.643Z"
   },
   {
    "duration": 6,
    "start_time": "2023-03-13T12:04:07.666Z"
   },
   {
    "duration": 0,
    "start_time": "2023-03-13T12:04:07.674Z"
   },
   {
    "duration": 0,
    "start_time": "2023-03-13T12:04:07.675Z"
   },
   {
    "duration": 0,
    "start_time": "2023-03-13T12:04:07.676Z"
   },
   {
    "duration": 6,
    "start_time": "2023-03-13T12:04:23.443Z"
   },
   {
    "duration": 1134,
    "start_time": "2023-03-13T12:04:25.811Z"
   },
   {
    "duration": 5,
    "start_time": "2023-03-13T12:04:50.657Z"
   },
   {
    "duration": 1100,
    "start_time": "2023-03-13T12:04:52.489Z"
   },
   {
    "duration": 1105,
    "start_time": "2023-03-13T12:04:56.769Z"
   },
   {
    "duration": 1891,
    "start_time": "2023-03-13T12:05:14.448Z"
   },
   {
    "duration": 3696,
    "start_time": "2023-03-13T12:05:16.341Z"
   },
   {
    "duration": 20,
    "start_time": "2023-03-13T12:05:20.038Z"
   },
   {
    "duration": 53,
    "start_time": "2023-03-13T12:05:20.060Z"
   },
   {
    "duration": 450,
    "start_time": "2023-03-13T12:05:20.115Z"
   },
   {
    "duration": 558,
    "start_time": "2023-03-13T12:05:20.567Z"
   },
   {
    "duration": 433,
    "start_time": "2023-03-13T12:05:21.127Z"
   },
   {
    "duration": 6,
    "start_time": "2023-03-13T12:05:21.563Z"
   },
   {
    "duration": 7,
    "start_time": "2023-03-13T12:05:21.571Z"
   },
   {
    "duration": 30,
    "start_time": "2023-03-13T12:05:21.581Z"
   },
   {
    "duration": 12,
    "start_time": "2023-03-13T12:05:21.613Z"
   },
   {
    "duration": 8,
    "start_time": "2023-03-13T12:05:21.626Z"
   },
   {
    "duration": 1156,
    "start_time": "2023-03-13T12:05:21.636Z"
   },
   {
    "duration": 1106,
    "start_time": "2023-03-13T12:05:22.794Z"
   },
   {
    "duration": 1180,
    "start_time": "2023-03-13T12:05:23.901Z"
   },
   {
    "duration": 66,
    "start_time": "2023-03-15T12:44:27.676Z"
   },
   {
    "duration": 1587,
    "start_time": "2023-03-15T12:47:17.736Z"
   },
   {
    "duration": 4628,
    "start_time": "2023-03-15T12:47:27.206Z"
   },
   {
    "duration": 689,
    "start_time": "2023-03-15T12:48:32.342Z"
   },
   {
    "duration": 300,
    "start_time": "2023-03-15T12:48:46.527Z"
   },
   {
    "duration": 305,
    "start_time": "2023-03-15T12:48:48.806Z"
   },
   {
    "duration": 300,
    "start_time": "2023-03-15T12:49:29.107Z"
   },
   {
    "duration": 297,
    "start_time": "2023-03-15T12:49:55.923Z"
   },
   {
    "duration": 314,
    "start_time": "2023-03-15T12:50:52.016Z"
   },
   {
    "duration": 287,
    "start_time": "2023-03-15T12:50:54.828Z"
   },
   {
    "duration": 313,
    "start_time": "2023-03-15T12:50:57.278Z"
   },
   {
    "duration": 299,
    "start_time": "2023-03-15T12:52:57.081Z"
   }
  ],
  "kernelspec": {
   "display_name": "Python 3 (ipykernel)",
   "language": "python",
   "name": "python3"
  },
  "language_info": {
   "codemirror_mode": {
    "name": "ipython",
    "version": 3
   },
   "file_extension": ".py",
   "mimetype": "text/x-python",
   "name": "python",
   "nbconvert_exporter": "python",
   "pygments_lexer": "ipython3",
   "version": "3.11.5"
  },
  "toc": {
   "base_numbering": 1,
   "nav_menu": {
    "height": "206px",
    "width": "286px"
   },
   "number_sections": true,
   "sideBar": false,
   "skip_h1_title": true,
   "title_cell": "Table of Contents",
   "title_sidebar": "Contents",
   "toc_cell": false,
   "toc_position": {
    "height": "111px",
    "left": "1043.59px",
    "top": "111.125px",
    "width": "209.422px"
   },
   "toc_section_display": true,
   "toc_window_display": true
  }
 },
 "nbformat": 4,
 "nbformat_minor": 4
}
