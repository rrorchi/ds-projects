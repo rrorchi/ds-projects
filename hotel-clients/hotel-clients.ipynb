{
 "cells": [
  {
   "cell_type": "markdown",
   "metadata": {},
   "source": [
    "# Прогнозирование отказа от брони"
   ]
  },
  {
   "cell_type": "code",
   "execution_count": 2,
   "metadata": {},
   "outputs": [],
   "source": [
    "import pandas as pd\n",
    "import matplotlib.pyplot as plt\n",
    "\n",
    "from sklearn.tree import DecisionTreeClassifier\n",
    "from sklearn.ensemble import RandomForestClassifier\n",
    "from sklearn.linear_model import LogisticRegression\n",
    "\n",
    "from sklearn.preprocessing import OrdinalEncoder, OneHotEncoder, StandardScaler\n",
    "\n",
    "from sklearn.model_selection import cross_val_score, train_test_split\n",
    "\n",
    "from tqdm import tqdm\n",
    "from sklearn.utils import shuffle\n",
    "from sklearn.metrics import f1_score\n",
    "from sklearn.metrics import confusion_matrix, ConfusionMatrixDisplay\n",
    "\n",
    "from sklearn.pipeline import make_pipeline\n",
    "from sklearn.model_selection import GridSearchCV\n",
    "from sklearn.model_selection import KFold"
   ]
  },
  {
   "cell_type": "code",
   "execution_count": 3,
   "metadata": {},
   "outputs": [],
   "source": [
    "# тип номера отеля и цены за одну ночь и одну уборку\n",
    "ROOM_CATEGORY_PRICE = {'A':(1000, 400), 'B':(800, 350), 'C':(600, 350),\n",
    "                       'D':(550, 150), 'E':(500, 150), 'F':(450, 150), \n",
    "                       'G':(350, 150)}\n",
    "# летняя сезонная наценка\n",
    "SUMMER_PRICE = 1.4\n",
    "# осенне-весенняя сезонная наценка\n",
    "SPRING_PRICE = 1.2\n",
    "# размер депозита\n",
    "DEPOSIT = 0.8"
   ]
  },
  {
   "cell_type": "markdown",
   "metadata": {},
   "source": [
    "### Открытие файлов с данными"
   ]
  },
  {
   "cell_type": "code",
   "execution_count": 4,
   "metadata": {},
   "outputs": [
    {
     "data": {
      "text/html": [
       "<div>\n",
       "<style scoped>\n",
       "    .dataframe tbody tr th:only-of-type {\n",
       "        vertical-align: middle;\n",
       "    }\n",
       "\n",
       "    .dataframe tbody tr th {\n",
       "        vertical-align: top;\n",
       "    }\n",
       "\n",
       "    .dataframe thead th {\n",
       "        text-align: right;\n",
       "    }\n",
       "</style>\n",
       "<table border=\"1\" class=\"dataframe\">\n",
       "  <thead>\n",
       "    <tr style=\"text-align: right;\">\n",
       "      <th></th>\n",
       "      <th>id</th>\n",
       "      <th>is_canceled</th>\n",
       "      <th>lead_time</th>\n",
       "      <th>arrival_date_year</th>\n",
       "      <th>arrival_date_month</th>\n",
       "      <th>arrival_date_week_number</th>\n",
       "      <th>arrival_date_day_of_month</th>\n",
       "      <th>stays_in_weekend_nights</th>\n",
       "      <th>stays_in_week_nights</th>\n",
       "      <th>adults</th>\n",
       "      <th>...</th>\n",
       "      <th>is_repeated_guest</th>\n",
       "      <th>previous_cancellations</th>\n",
       "      <th>previous_bookings_not_canceled</th>\n",
       "      <th>reserved_room_type</th>\n",
       "      <th>booking_changes</th>\n",
       "      <th>days_in_waiting_list</th>\n",
       "      <th>customer_type</th>\n",
       "      <th>required_car_parking_spaces</th>\n",
       "      <th>total_of_special_requests</th>\n",
       "      <th>total_nights</th>\n",
       "    </tr>\n",
       "  </thead>\n",
       "  <tbody>\n",
       "    <tr>\n",
       "      <th>0</th>\n",
       "      <td>0</td>\n",
       "      <td>0</td>\n",
       "      <td>7.0</td>\n",
       "      <td>2015</td>\n",
       "      <td>July</td>\n",
       "      <td>27</td>\n",
       "      <td>1</td>\n",
       "      <td>0</td>\n",
       "      <td>1</td>\n",
       "      <td>1.0</td>\n",
       "      <td>...</td>\n",
       "      <td>0</td>\n",
       "      <td>0</td>\n",
       "      <td>0</td>\n",
       "      <td>A</td>\n",
       "      <td>0</td>\n",
       "      <td>0</td>\n",
       "      <td>Transient</td>\n",
       "      <td>0</td>\n",
       "      <td>0</td>\n",
       "      <td>1</td>\n",
       "    </tr>\n",
       "    <tr>\n",
       "      <th>1</th>\n",
       "      <td>1</td>\n",
       "      <td>0</td>\n",
       "      <td>14.0</td>\n",
       "      <td>2015</td>\n",
       "      <td>July</td>\n",
       "      <td>27</td>\n",
       "      <td>1</td>\n",
       "      <td>0</td>\n",
       "      <td>2</td>\n",
       "      <td>2.0</td>\n",
       "      <td>...</td>\n",
       "      <td>0</td>\n",
       "      <td>0</td>\n",
       "      <td>0</td>\n",
       "      <td>A</td>\n",
       "      <td>0</td>\n",
       "      <td>0</td>\n",
       "      <td>Transient</td>\n",
       "      <td>0</td>\n",
       "      <td>1</td>\n",
       "      <td>2</td>\n",
       "    </tr>\n",
       "    <tr>\n",
       "      <th>2</th>\n",
       "      <td>2</td>\n",
       "      <td>0</td>\n",
       "      <td>0.0</td>\n",
       "      <td>2015</td>\n",
       "      <td>July</td>\n",
       "      <td>27</td>\n",
       "      <td>1</td>\n",
       "      <td>0</td>\n",
       "      <td>2</td>\n",
       "      <td>2.0</td>\n",
       "      <td>...</td>\n",
       "      <td>0</td>\n",
       "      <td>0</td>\n",
       "      <td>0</td>\n",
       "      <td>C</td>\n",
       "      <td>0</td>\n",
       "      <td>0</td>\n",
       "      <td>Transient</td>\n",
       "      <td>0</td>\n",
       "      <td>0</td>\n",
       "      <td>2</td>\n",
       "    </tr>\n",
       "    <tr>\n",
       "      <th>3</th>\n",
       "      <td>3</td>\n",
       "      <td>0</td>\n",
       "      <td>9.0</td>\n",
       "      <td>2015</td>\n",
       "      <td>July</td>\n",
       "      <td>27</td>\n",
       "      <td>1</td>\n",
       "      <td>0</td>\n",
       "      <td>2</td>\n",
       "      <td>2.0</td>\n",
       "      <td>...</td>\n",
       "      <td>0</td>\n",
       "      <td>0</td>\n",
       "      <td>0</td>\n",
       "      <td>C</td>\n",
       "      <td>0</td>\n",
       "      <td>0</td>\n",
       "      <td>Transient</td>\n",
       "      <td>0</td>\n",
       "      <td>1</td>\n",
       "      <td>2</td>\n",
       "    </tr>\n",
       "    <tr>\n",
       "      <th>4</th>\n",
       "      <td>4</td>\n",
       "      <td>1</td>\n",
       "      <td>85.0</td>\n",
       "      <td>2015</td>\n",
       "      <td>July</td>\n",
       "      <td>27</td>\n",
       "      <td>1</td>\n",
       "      <td>0</td>\n",
       "      <td>3</td>\n",
       "      <td>2.0</td>\n",
       "      <td>...</td>\n",
       "      <td>0</td>\n",
       "      <td>0</td>\n",
       "      <td>0</td>\n",
       "      <td>A</td>\n",
       "      <td>0</td>\n",
       "      <td>0</td>\n",
       "      <td>Transient</td>\n",
       "      <td>0</td>\n",
       "      <td>1</td>\n",
       "      <td>3</td>\n",
       "    </tr>\n",
       "  </tbody>\n",
       "</table>\n",
       "<p>5 rows × 25 columns</p>\n",
       "</div>"
      ],
      "text/plain": [
       "   id  is_canceled  lead_time  arrival_date_year arrival_date_month  \\\n",
       "0   0            0        7.0               2015               July   \n",
       "1   1            0       14.0               2015               July   \n",
       "2   2            0        0.0               2015               July   \n",
       "3   3            0        9.0               2015               July   \n",
       "4   4            1       85.0               2015               July   \n",
       "\n",
       "   arrival_date_week_number  arrival_date_day_of_month  \\\n",
       "0                        27                          1   \n",
       "1                        27                          1   \n",
       "2                        27                          1   \n",
       "3                        27                          1   \n",
       "4                        27                          1   \n",
       "\n",
       "   stays_in_weekend_nights  stays_in_week_nights  adults  ...  \\\n",
       "0                        0                     1     1.0  ...   \n",
       "1                        0                     2     2.0  ...   \n",
       "2                        0                     2     2.0  ...   \n",
       "3                        0                     2     2.0  ...   \n",
       "4                        0                     3     2.0  ...   \n",
       "\n",
       "   is_repeated_guest  previous_cancellations previous_bookings_not_canceled  \\\n",
       "0                  0                       0                              0   \n",
       "1                  0                       0                              0   \n",
       "2                  0                       0                              0   \n",
       "3                  0                       0                              0   \n",
       "4                  0                       0                              0   \n",
       "\n",
       "  reserved_room_type booking_changes  days_in_waiting_list  customer_type  \\\n",
       "0   A                              0                     0      Transient   \n",
       "1   A                              0                     0      Transient   \n",
       "2   C                              0                     0      Transient   \n",
       "3   C                              0                     0      Transient   \n",
       "4   A                              0                     0      Transient   \n",
       "\n",
       "   required_car_parking_spaces total_of_special_requests  total_nights  \n",
       "0                            0                         0             1  \n",
       "1                            0                         1             2  \n",
       "2                            0                         0             2  \n",
       "3                            0                         1             2  \n",
       "4                            0                         1             3  \n",
       "\n",
       "[5 rows x 25 columns]"
      ]
     },
     "metadata": {},
     "output_type": "display_data"
    },
    {
     "name": "stdout",
     "output_type": "stream",
     "text": [
      "<class 'pandas.core.frame.DataFrame'>\n",
      "RangeIndex: 65229 entries, 0 to 65228\n",
      "Data columns (total 25 columns):\n",
      " #   Column                          Non-Null Count  Dtype  \n",
      "---  ------                          --------------  -----  \n",
      " 0   id                              65229 non-null  int64  \n",
      " 1   is_canceled                     65229 non-null  int64  \n",
      " 2   lead_time                       65229 non-null  float64\n",
      " 3   arrival_date_year               65229 non-null  int64  \n",
      " 4   arrival_date_month              65229 non-null  object \n",
      " 5   arrival_date_week_number        65229 non-null  int64  \n",
      " 6   arrival_date_day_of_month       65229 non-null  int64  \n",
      " 7   stays_in_weekend_nights         65229 non-null  int64  \n",
      " 8   stays_in_week_nights            65229 non-null  int64  \n",
      " 9   adults                          65229 non-null  float64\n",
      " 10  children                        65229 non-null  float64\n",
      " 11  babies                          65229 non-null  float64\n",
      " 12  meal                            65229 non-null  object \n",
      " 13  country                         65229 non-null  object \n",
      " 14  distribution_channel            65229 non-null  object \n",
      " 15  is_repeated_guest               65229 non-null  int64  \n",
      " 16  previous_cancellations          65229 non-null  int64  \n",
      " 17  previous_bookings_not_canceled  65229 non-null  int64  \n",
      " 18  reserved_room_type              65229 non-null  object \n",
      " 19  booking_changes                 65229 non-null  int64  \n",
      " 20  days_in_waiting_list            65229 non-null  int64  \n",
      " 21  customer_type                   65229 non-null  object \n",
      " 22  required_car_parking_spaces     65229 non-null  int64  \n",
      " 23  total_of_special_requests       65229 non-null  int64  \n",
      " 24  total_nights                    65229 non-null  int64  \n",
      "dtypes: float64(4), int64(15), object(6)\n",
      "memory usage: 12.4+ MB\n"
     ]
    },
    {
     "data": {
      "text/plain": [
       "None"
      ]
     },
     "metadata": {},
     "output_type": "display_data"
    },
    {
     "name": "stdout",
     "output_type": "stream",
     "text": [
      "<class 'pandas.core.frame.DataFrame'>\n",
      "RangeIndex: 32412 entries, 0 to 32411\n",
      "Data columns (total 25 columns):\n",
      " #   Column                          Non-Null Count  Dtype  \n",
      "---  ------                          --------------  -----  \n",
      " 0   id                              32412 non-null  int64  \n",
      " 1   is_canceled                     32412 non-null  int64  \n",
      " 2   lead_time                       32412 non-null  float64\n",
      " 3   arrival_date_year               32412 non-null  int64  \n",
      " 4   arrival_date_month              32412 non-null  object \n",
      " 5   arrival_date_week_number        32412 non-null  int64  \n",
      " 6   arrival_date_day_of_month       32412 non-null  int64  \n",
      " 7   stays_in_weekend_nights         32412 non-null  int64  \n",
      " 8   stays_in_week_nights            32412 non-null  int64  \n",
      " 9   adults                          32412 non-null  float64\n",
      " 10  children                        32412 non-null  float64\n",
      " 11  babies                          32412 non-null  float64\n",
      " 12  meal                            32412 non-null  object \n",
      " 13  country                         32412 non-null  object \n",
      " 14  distribution_channel            32412 non-null  object \n",
      " 15  is_repeated_guest               32412 non-null  int64  \n",
      " 16  previous_cancellations          32412 non-null  int64  \n",
      " 17  previous_bookings_not_canceled  32412 non-null  int64  \n",
      " 18  reserved_room_type              32412 non-null  object \n",
      " 19  booking_changes                 32412 non-null  int64  \n",
      " 20  days_in_waiting_list            32412 non-null  int64  \n",
      " 21  customer_type                   32412 non-null  object \n",
      " 22  required_car_parking_spaces     32412 non-null  int64  \n",
      " 23  total_of_special_requests       32412 non-null  int64  \n",
      " 24  total_nights                    32412 non-null  int64  \n",
      "dtypes: float64(4), int64(15), object(6)\n",
      "memory usage: 6.2+ MB\n"
     ]
    },
    {
     "data": {
      "text/plain": [
       "None"
      ]
     },
     "metadata": {},
     "output_type": "display_data"
    }
   ],
   "source": [
    "data = pd.read_csv('https://code.s3.yandex.net/datasets/' + 'hotel_train.csv')\n",
    "data_test = pd.read_csv('https://code.s3.yandex.net/datasets/' + 'hotel_test.csv')\n",
    "\n",
    "display(data.head())\n",
    "display(data.info())\n",
    "display(data_test.info())"
   ]
  },
  {
   "cell_type": "markdown",
   "metadata": {},
   "source": [
    "В таблицах `hotel_train` и `hotel_test` лежат данные о бронировании номеров: дата заказа, тип номера, тип клиента, количество постояльцев и много других. Всего признаков 25, записей в данных для обучения - 65229, в тестовых - 32412. Столбец `is_canceled` - целевой признак."
   ]
  },
  {
   "cell_type": "markdown",
   "metadata": {},
   "source": [
    "### Предобработка и исследовательский анализ данных"
   ]
  },
  {
   "cell_type": "markdown",
   "metadata": {},
   "source": [
    "#### Предобработка"
   ]
  },
  {
   "cell_type": "markdown",
   "metadata": {},
   "source": [
    "У столбцов `lead_time`, `adults`, `babies` и `children` тип float, хотя значения в них должны быть целыми. Может в `lead_time` записаны не целые дни?"
   ]
  },
  {
   "cell_type": "code",
   "execution_count": 5,
   "metadata": {},
   "outputs": [
    {
     "name": "stdout",
     "output_type": "stream",
     "text": [
      "[0.]\n"
     ]
    }
   ],
   "source": [
    "lead = data['lead_time'] * 10 % 10\n",
    "print(lead.unique())"
   ]
  },
  {
   "cell_type": "markdown",
   "metadata": {},
   "source": [
    "Нет, все значения целые. Меняем тип столбцов:"
   ]
  },
  {
   "cell_type": "code",
   "execution_count": 6,
   "metadata": {},
   "outputs": [],
   "source": [
    "data['lead_time'], data_test['lead_time'] = data['lead_time'].astype('int'), data_test['lead_time'].astype('int')\n",
    "data['adults'], data_test['adults'] = data['adults'].astype('int'), data_test['adults'].astype('int')\n",
    "data['babies'], data_test['babies'] = data['babies'].astype('int'), data_test['babies'].astype('int')\n",
    "data['children'], data_test['children'] = data['children'].astype('int'), data_test['children'].astype('int')"
   ]
  },
  {
   "cell_type": "code",
   "execution_count": 7,
   "metadata": {},
   "outputs": [
    {
     "name": "stdout",
     "output_type": "stream",
     "text": [
      "['A               ' 'C               ' 'D               '\n",
      " 'E               ' 'G               ' 'F               '\n",
      " 'B               ']\n",
      "['BB       ' 'FB       ' 'HB       ' 'SC       ' 'SC']\n",
      "['Direct' 'TA/TO' 'Corporate' 'GDS']\n",
      "['Transient' 'Contract' 'Transient-Party' 'Group']\n",
      "['July' 'August' 'September' 'October' 'November' 'December' 'January'\n",
      " 'February' 'March' 'April' 'May' 'June']\n",
      "['GBR' 'PRT' 'ESP' 'IRL' 'FRA' 'ROU' 'NOR' 'USA' 'DEU' 'BEL' 'CHE' 'CN'\n",
      " 'GRC' 'NLD' 'ARG' 'RUS' 'SWE' 'POL' 'EST' 'CZE' 'ITA' 'FIN' 'DNK' 'MOZ'\n",
      " 'BWA' 'LUX' 'BRA' 'SVN' 'ALB' 'CHN' 'MEX' 'MAR' 'SMR' 'LVA' 'CHL' 'AUT'\n",
      " 'LTU' 'TUR' 'ISR' 'IND' 'CYM' 'AUS' 'CPV' 'ZWE' 'DZA' 'KOR' 'CRI' 'HUN'\n",
      " 'TUN' 'ARE' 'HRV' 'HKG' 'IRN' 'GIB' 'JEY' 'URY' 'ZAF' 'COL' 'GGY' 'KWT'\n",
      " 'CYP' 'KAZ' 'THA' 'DOM' 'NGA' 'BLR' 'VEN' 'UKR' 'ARM' 'JPN' 'LKA' 'MYS'\n",
      " 'BIH' 'MUS' 'OMN' 'SUR' 'JAM' 'BGR' 'CIV' 'SRB' 'JOR' 'SYR' 'PHL' 'PRI'\n",
      " 'SGP' 'BDI' 'LBN' 'AGO' 'VNM' 'AZE' 'PLW' 'NZL' 'EGY' 'MDV' 'CMR' 'MLT'\n",
      " 'SVK' 'MWI' 'STP' 'TWN' 'IDN' 'SEN' 'PER' 'SAU' 'KNA' 'ETH' 'ECU' 'IRQ'\n",
      " 'AND' 'HND' 'PAK' 'GEO' 'ZMB' 'QAT' 'KHM' 'MCO' 'BGD' 'ISL' 'UZB' 'IMN'\n",
      " 'TJK' 'NIC' 'BEN' 'MAC' 'VGB' 'TZA' 'GAB' 'MKD' 'TMP' 'GLP' 'KEN' 'LIE'\n",
      " 'MMR' 'PAN' 'BFA' 'LBY' 'GNB' 'MLI' 'BHR' 'NAM' 'BOL' 'SYC' 'PRY' 'BRB'\n",
      " 'ABW' 'SLV' 'DMA' 'CUB' 'PYF' 'UGA' 'GUY' 'LCA' 'ATA' 'RWA' 'MNE']\n"
     ]
    }
   ],
   "source": [
    "print(data['reserved_room_type'].unique())\n",
    "print(data['meal'].unique())\n",
    "print(data['distribution_channel'].unique())\n",
    "print(data['customer_type'].unique())\n",
    "print(data['arrival_date_month'].unique())\n",
    "print(data['country'].unique())\n",
    "\n",
    "data['reserved_room_type'], data_test['reserved_room_type'] = \\\n",
    "    data['reserved_room_type'].str.strip(), data_test['reserved_room_type'].str.strip()\n",
    "data['meal'], data_test['meal'] = data['meal'].str.strip(), data_test['meal'].str.strip()"
   ]
  },
  {
   "cell_type": "markdown",
   "metadata": {},
   "source": [
    "В категориальных признаках в столбцах `reserved_room_type` и `meal` были лишние пробелы."
   ]
  },
  {
   "cell_type": "code",
   "execution_count": 8,
   "metadata": {},
   "outputs": [
    {
     "name": "stdout",
     "output_type": "stream",
     "text": [
      "полные дубликаты: 0\n",
      "дубли id: 0\n"
     ]
    }
   ],
   "source": [
    "print('полные дубликаты:', data.duplicated().sum())\n",
    "print('дубли id:', data['id'].duplicated().sum())"
   ]
  },
  {
   "cell_type": "markdown",
   "metadata": {},
   "source": [
    "Дубликатов в `hotel_train` нет."
   ]
  },
  {
   "cell_type": "code",
   "execution_count": 10,
   "metadata": {},
   "outputs": [
    {
     "data": {
      "text/html": [
       "<div>\n",
       "<style scoped>\n",
       "    .dataframe tbody tr th:only-of-type {\n",
       "        vertical-align: middle;\n",
       "    }\n",
       "\n",
       "    .dataframe tbody tr th {\n",
       "        vertical-align: top;\n",
       "    }\n",
       "\n",
       "    .dataframe thead th {\n",
       "        text-align: right;\n",
       "    }\n",
       "</style>\n",
       "<table border=\"1\" class=\"dataframe\">\n",
       "  <thead>\n",
       "    <tr style=\"text-align: right;\">\n",
       "      <th></th>\n",
       "      <th>id</th>\n",
       "      <th>is_canceled</th>\n",
       "      <th>lead_time</th>\n",
       "      <th>arrival_date_year</th>\n",
       "      <th>arrival_date_week_number</th>\n",
       "      <th>arrival_date_day_of_month</th>\n",
       "      <th>stays_in_weekend_nights</th>\n",
       "      <th>stays_in_week_nights</th>\n",
       "      <th>adults</th>\n",
       "      <th>children</th>\n",
       "      <th>babies</th>\n",
       "      <th>is_repeated_guest</th>\n",
       "      <th>previous_cancellations</th>\n",
       "      <th>previous_bookings_not_canceled</th>\n",
       "      <th>booking_changes</th>\n",
       "      <th>days_in_waiting_list</th>\n",
       "      <th>required_car_parking_spaces</th>\n",
       "      <th>total_of_special_requests</th>\n",
       "      <th>total_nights</th>\n",
       "    </tr>\n",
       "  </thead>\n",
       "  <tbody>\n",
       "    <tr>\n",
       "      <th>count</th>\n",
       "      <td>65229.000000</td>\n",
       "      <td>65229.000000</td>\n",
       "      <td>65229.000000</td>\n",
       "      <td>65229.000000</td>\n",
       "      <td>65229.000000</td>\n",
       "      <td>65229.000000</td>\n",
       "      <td>65229.000000</td>\n",
       "      <td>65229.000000</td>\n",
       "      <td>65229.000000</td>\n",
       "      <td>65229.000000</td>\n",
       "      <td>65229.000000</td>\n",
       "      <td>65229.000000</td>\n",
       "      <td>65229.000000</td>\n",
       "      <td>65229.000000</td>\n",
       "      <td>65229.000000</td>\n",
       "      <td>65229.000000</td>\n",
       "      <td>65229.000000</td>\n",
       "      <td>65229.000000</td>\n",
       "      <td>65229.000000</td>\n",
       "    </tr>\n",
       "    <tr>\n",
       "      <th>mean</th>\n",
       "      <td>43544.069172</td>\n",
       "      <td>0.368609</td>\n",
       "      <td>96.337917</td>\n",
       "      <td>2015.719021</td>\n",
       "      <td>31.339772</td>\n",
       "      <td>15.847813</td>\n",
       "      <td>0.825185</td>\n",
       "      <td>2.224793</td>\n",
       "      <td>1.836576</td>\n",
       "      <td>0.074890</td>\n",
       "      <td>0.007236</td>\n",
       "      <td>0.027151</td>\n",
       "      <td>0.128915</td>\n",
       "      <td>0.107713</td>\n",
       "      <td>0.194269</td>\n",
       "      <td>3.334422</td>\n",
       "      <td>0.056647</td>\n",
       "      <td>0.512763</td>\n",
       "      <td>3.049978</td>\n",
       "    </tr>\n",
       "    <tr>\n",
       "      <th>std</th>\n",
       "      <td>25614.858971</td>\n",
       "      <td>0.482431</td>\n",
       "      <td>96.127545</td>\n",
       "      <td>0.449481</td>\n",
       "      <td>13.464024</td>\n",
       "      <td>8.748182</td>\n",
       "      <td>0.853477</td>\n",
       "      <td>1.354992</td>\n",
       "      <td>0.480245</td>\n",
       "      <td>0.334243</td>\n",
       "      <td>0.098790</td>\n",
       "      <td>0.162523</td>\n",
       "      <td>0.965326</td>\n",
       "      <td>1.326638</td>\n",
       "      <td>0.593838</td>\n",
       "      <td>18.239606</td>\n",
       "      <td>0.232094</td>\n",
       "      <td>0.752590</td>\n",
       "      <td>1.738108</td>\n",
       "    </tr>\n",
       "    <tr>\n",
       "      <th>min</th>\n",
       "      <td>0.000000</td>\n",
       "      <td>0.000000</td>\n",
       "      <td>0.000000</td>\n",
       "      <td>2015.000000</td>\n",
       "      <td>1.000000</td>\n",
       "      <td>1.000000</td>\n",
       "      <td>0.000000</td>\n",
       "      <td>0.000000</td>\n",
       "      <td>0.000000</td>\n",
       "      <td>0.000000</td>\n",
       "      <td>0.000000</td>\n",
       "      <td>0.000000</td>\n",
       "      <td>0.000000</td>\n",
       "      <td>0.000000</td>\n",
       "      <td>0.000000</td>\n",
       "      <td>0.000000</td>\n",
       "      <td>0.000000</td>\n",
       "      <td>0.000000</td>\n",
       "      <td>1.000000</td>\n",
       "    </tr>\n",
       "    <tr>\n",
       "      <th>25%</th>\n",
       "      <td>19108.000000</td>\n",
       "      <td>0.000000</td>\n",
       "      <td>17.000000</td>\n",
       "      <td>2015.000000</td>\n",
       "      <td>21.000000</td>\n",
       "      <td>8.000000</td>\n",
       "      <td>0.000000</td>\n",
       "      <td>1.000000</td>\n",
       "      <td>2.000000</td>\n",
       "      <td>0.000000</td>\n",
       "      <td>0.000000</td>\n",
       "      <td>0.000000</td>\n",
       "      <td>0.000000</td>\n",
       "      <td>0.000000</td>\n",
       "      <td>0.000000</td>\n",
       "      <td>0.000000</td>\n",
       "      <td>0.000000</td>\n",
       "      <td>0.000000</td>\n",
       "      <td>2.000000</td>\n",
       "    </tr>\n",
       "    <tr>\n",
       "      <th>50%</th>\n",
       "      <td>40554.000000</td>\n",
       "      <td>0.000000</td>\n",
       "      <td>64.000000</td>\n",
       "      <td>2016.000000</td>\n",
       "      <td>34.000000</td>\n",
       "      <td>16.000000</td>\n",
       "      <td>1.000000</td>\n",
       "      <td>2.000000</td>\n",
       "      <td>2.000000</td>\n",
       "      <td>0.000000</td>\n",
       "      <td>0.000000</td>\n",
       "      <td>0.000000</td>\n",
       "      <td>0.000000</td>\n",
       "      <td>0.000000</td>\n",
       "      <td>0.000000</td>\n",
       "      <td>0.000000</td>\n",
       "      <td>0.000000</td>\n",
       "      <td>0.000000</td>\n",
       "      <td>3.000000</td>\n",
       "    </tr>\n",
       "    <tr>\n",
       "      <th>75%</th>\n",
       "      <td>67414.000000</td>\n",
       "      <td>1.000000</td>\n",
       "      <td>151.000000</td>\n",
       "      <td>2016.000000</td>\n",
       "      <td>42.000000</td>\n",
       "      <td>23.000000</td>\n",
       "      <td>2.000000</td>\n",
       "      <td>3.000000</td>\n",
       "      <td>2.000000</td>\n",
       "      <td>0.000000</td>\n",
       "      <td>0.000000</td>\n",
       "      <td>0.000000</td>\n",
       "      <td>0.000000</td>\n",
       "      <td>0.000000</td>\n",
       "      <td>0.000000</td>\n",
       "      <td>0.000000</td>\n",
       "      <td>0.000000</td>\n",
       "      <td>1.000000</td>\n",
       "      <td>4.000000</td>\n",
       "    </tr>\n",
       "    <tr>\n",
       "      <th>max</th>\n",
       "      <td>84121.000000</td>\n",
       "      <td>1.000000</td>\n",
       "      <td>374.000000</td>\n",
       "      <td>2016.000000</td>\n",
       "      <td>53.000000</td>\n",
       "      <td>31.000000</td>\n",
       "      <td>4.000000</td>\n",
       "      <td>6.000000</td>\n",
       "      <td>4.000000</td>\n",
       "      <td>3.000000</td>\n",
       "      <td>10.000000</td>\n",
       "      <td>1.000000</td>\n",
       "      <td>26.000000</td>\n",
       "      <td>58.000000</td>\n",
       "      <td>17.000000</td>\n",
       "      <td>259.000000</td>\n",
       "      <td>3.000000</td>\n",
       "      <td>5.000000</td>\n",
       "      <td>10.000000</td>\n",
       "    </tr>\n",
       "  </tbody>\n",
       "</table>\n",
       "</div>"
      ],
      "text/plain": [
       "                 id   is_canceled     lead_time  arrival_date_year  \\\n",
       "count  65229.000000  65229.000000  65229.000000       65229.000000   \n",
       "mean   43544.069172      0.368609     96.337917        2015.719021   \n",
       "std    25614.858971      0.482431     96.127545           0.449481   \n",
       "min        0.000000      0.000000      0.000000        2015.000000   \n",
       "25%    19108.000000      0.000000     17.000000        2015.000000   \n",
       "50%    40554.000000      0.000000     64.000000        2016.000000   \n",
       "75%    67414.000000      1.000000    151.000000        2016.000000   \n",
       "max    84121.000000      1.000000    374.000000        2016.000000   \n",
       "\n",
       "       arrival_date_week_number  arrival_date_day_of_month  \\\n",
       "count              65229.000000               65229.000000   \n",
       "mean                  31.339772                  15.847813   \n",
       "std                   13.464024                   8.748182   \n",
       "min                    1.000000                   1.000000   \n",
       "25%                   21.000000                   8.000000   \n",
       "50%                   34.000000                  16.000000   \n",
       "75%                   42.000000                  23.000000   \n",
       "max                   53.000000                  31.000000   \n",
       "\n",
       "       stays_in_weekend_nights  stays_in_week_nights        adults  \\\n",
       "count             65229.000000          65229.000000  65229.000000   \n",
       "mean                  0.825185              2.224793      1.836576   \n",
       "std                   0.853477              1.354992      0.480245   \n",
       "min                   0.000000              0.000000      0.000000   \n",
       "25%                   0.000000              1.000000      2.000000   \n",
       "50%                   1.000000              2.000000      2.000000   \n",
       "75%                   2.000000              3.000000      2.000000   \n",
       "max                   4.000000              6.000000      4.000000   \n",
       "\n",
       "           children        babies  is_repeated_guest  previous_cancellations  \\\n",
       "count  65229.000000  65229.000000       65229.000000            65229.000000   \n",
       "mean       0.074890      0.007236           0.027151                0.128915   \n",
       "std        0.334243      0.098790           0.162523                0.965326   \n",
       "min        0.000000      0.000000           0.000000                0.000000   \n",
       "25%        0.000000      0.000000           0.000000                0.000000   \n",
       "50%        0.000000      0.000000           0.000000                0.000000   \n",
       "75%        0.000000      0.000000           0.000000                0.000000   \n",
       "max        3.000000     10.000000           1.000000               26.000000   \n",
       "\n",
       "       previous_bookings_not_canceled  booking_changes  days_in_waiting_list  \\\n",
       "count                    65229.000000     65229.000000          65229.000000   \n",
       "mean                         0.107713         0.194269              3.334422   \n",
       "std                          1.326638         0.593838             18.239606   \n",
       "min                          0.000000         0.000000              0.000000   \n",
       "25%                          0.000000         0.000000              0.000000   \n",
       "50%                          0.000000         0.000000              0.000000   \n",
       "75%                          0.000000         0.000000              0.000000   \n",
       "max                         58.000000        17.000000            259.000000   \n",
       "\n",
       "       required_car_parking_spaces  total_of_special_requests  total_nights  \n",
       "count                 65229.000000               65229.000000  65229.000000  \n",
       "mean                      0.056647                   0.512763      3.049978  \n",
       "std                       0.232094                   0.752590      1.738108  \n",
       "min                       0.000000                   0.000000      1.000000  \n",
       "25%                       0.000000                   0.000000      2.000000  \n",
       "50%                       0.000000                   0.000000      3.000000  \n",
       "75%                       0.000000                   1.000000      4.000000  \n",
       "max                       3.000000                   5.000000     10.000000  "
      ]
     },
     "metadata": {},
     "output_type": "display_data"
    }
   ],
   "source": [
    "display(data.describe())"
   ]
  },
  {
   "cell_type": "markdown",
   "metadata": {},
   "source": [
    "Описание данных показывает выбивающиеся значения в столбцах `lead_time`, `babies` `previous_bookings_not_canceled`, `previous_cancellations`, `booking_changes` и `days_in_waiting_list`."
   ]
  },
  {
   "cell_type": "code",
   "execution_count": 11,
   "metadata": {},
   "outputs": [
    {
     "name": "stdout",
     "output_type": "stream",
     "text": [
      "(150.77599999999998, 173.3]    2742\n",
      "(173.3, 195.6]                 2473\n",
      "(195.6, 217.9]                 1813\n",
      "(217.9, 240.2]                 1530\n",
      "(240.2, 262.5]                 1455\n",
      "(262.5, 284.8]                 1963\n",
      "(284.8, 307.1]                 1700\n",
      "(307.1, 329.4]                 1133\n",
      "(329.4, 351.7]                 1079\n",
      "(351.7, 374.0]                  494\n",
      "Name: lead_time, dtype: int64\n"
     ]
    },
    {
     "data": {
      "image/png": "[encoded data removed]",
      "text/plain": [
       "<Figure size 432x288 with 1 Axes>"
      ]
     },
     "metadata": {
      "needs_background": "light"
     },
     "output_type": "display_data"
    }
   ],
   "source": [
    "print(data[data['lead_time'] > 150]['lead_time'].value_counts(bins=10).sort_index())\n",
    "data['lead_time'].plot(kind='hist', bins=100);"
   ]
  },
  {
   "cell_type": "markdown",
   "metadata": {},
   "source": [
    "В столбце `lead_time` хранится количество дней между датой бронирования и датой прибытия клиента. Большинство клиентов занимают номер менее чем за сто дней, но и тех, кто планирует приезд на полгода-год вперед достаточно много - это не назовешь выбросом."
   ]
  },
  {
   "cell_type": "code",
   "execution_count": 12,
   "metadata": {},
   "outputs": [
    {
     "name": "stdout",
     "output_type": "stream",
     "text": [
      "0     64777\n",
      "1       447\n",
      "2         3\n",
      "9         1\n",
      "10        1\n",
      "Name: babies, dtype: int64\n",
      "0    61712\n",
      "1     2165\n",
      "2     1336\n",
      "3       16\n",
      "Name: children, dtype: int64\n",
      "2    48980\n",
      "1    13212\n",
      "3     2858\n",
      "0      166\n",
      "4       13\n",
      "Name: adults, dtype: int64\n",
      "0.25 %\n"
     ]
    }
   ],
   "source": [
    "print(data['babies'].value_counts())\n",
    "print(data['children'].value_counts())\n",
    "print(data['adults'].value_counts())\n",
    "\n",
    "print(round(data['adults'].value_counts()[0] / len(data) * 100, 2), '%')"
   ]
  },
  {
   "cell_type": "markdown",
   "metadata": {},
   "source": [
    "А в столбце `babies` уже точно выбросы - 10 младенцев на один номер это что-то. В столбцах `children` и `adults` также есть редкие значения. В столбце со взрослыми есть 166 записей о номерах с нулем взрослых - вероятно, это просто пропуски, ведь кто-то же должен был забронировать номер на себя? Эти пропуски можно было бы заполнить, например средним значением, но поскольку их мало (всего 0.25% от данных), думаю, их стоит удалить вместе с выбивающимися значениями."
   ]
  },
  {
   "cell_type": "code",
   "execution_count": 13,
   "metadata": {},
   "outputs": [
    {
     "name": "stdout",
     "output_type": "stream",
     "text": [
      "(-0.059000000000000004, 5.8]    64922\n",
      "(5.8, 11.6]                       175\n",
      "(11.6, 17.4]                       49\n",
      "(17.4, 23.2]                       32\n",
      "(23.2, 29.0]                       21\n",
      "(29.0, 34.8]                        5\n",
      "(34.8, 40.6]                        6\n",
      "(40.6, 46.4]                        6\n",
      "(46.4, 52.2]                        7\n",
      "(52.2, 58.0]                        6\n",
      "Name: previous_bookings_not_canceled, dtype: int64\n",
      "645\n",
      "898\n",
      "0     59591\n",
      "1      5367\n",
      "2        54\n",
      "3        51\n",
      "4         5\n",
      "5        13\n",
      "6         7\n",
      "11       35\n",
      "13       12\n",
      "14       11\n",
      "19       17\n",
      "21        1\n",
      "24       28\n",
      "25       19\n",
      "26       18\n",
      "Name: previous_cancellations, dtype: int64\n",
      "271\n"
     ]
    }
   ],
   "source": [
    "print(data['previous_bookings_not_canceled'].value_counts(bins=10).sort_index())\n",
    "print(data[data['previous_bookings_not_canceled'] == 1]['previous_bookings_not_canceled'].count())\n",
    "print(data[data['previous_bookings_not_canceled'] > 1]['previous_bookings_not_canceled'].count())\n",
    "\n",
    "print(data['previous_cancellations'].value_counts().sort_index())\n",
    "print(data[data['previous_cancellations'] > 1]['previous_cancellations'].count())"
   ]
  },
  {
   "cell_type": "markdown",
   "metadata": {},
   "source": [
    "В столбцах с предыдущими отмененными и неотмененными бронями преобладает 0, есть 1. Остальных значений примерно одинаково мало, но всех вместе их, на самом деле, слишком много, чтобы просто удалить. Можно объединить эти значения в группы, например для столбца с отменами у клиентов в группе 0 нет отмен, в 1 - одна отмена, и в 2 - больше одной отмены. "
   ]
  },
  {
   "cell_type": "code",
   "execution_count": 14,
   "metadata": {},
   "outputs": [
    {
     "name": "stdout",
     "output_type": "stream",
     "text": [
      "(60.801, 80.8]    482\n",
      "(80.8, 100.6]     302\n",
      "(100.6, 120.4]    178\n",
      "(120.4, 140.2]     49\n",
      "(140.2, 160.0]     63\n",
      "(160.0, 179.8]    130\n",
      "(179.8, 199.6]     46\n",
      "(199.6, 219.4]     36\n",
      "(219.4, 239.2]     45\n",
      "(239.2, 259.0]     10\n",
      "Name: days_in_waiting_list, dtype: int64\n",
      "379 | 0.58 %\n"
     ]
    },
    {
     "data": {
      "image/png": "[encoded data removed]",
      "text/plain": [
       "<Figure size 432x288 with 1 Axes>"
      ]
     },
     "metadata": {
      "needs_background": "light"
     },
     "output_type": "display_data"
    }
   ],
   "source": [
    "data[data['days_in_waiting_list'] > 0]['days_in_waiting_list'].plot(kind='hist', bins=100);\n",
    "print(data[data['days_in_waiting_list'] > 60]['days_in_waiting_list'].value_counts(bins=10).sort_index())\n",
    "print(data[data['days_in_waiting_list'] > 120]['days_in_waiting_list'].count(), '|', \n",
    "      round(data[data['days_in_waiting_list'] > 120]['days_in_waiting_list'].count() / len(data) * 100, 2), '%')"
   ]
  },
  {
   "cell_type": "markdown",
   "metadata": {},
   "source": [
    "В столбце `days_in_waiting_list` - количество дней до подтверждения заказа. В основном заказы подтверждались в день поступления; за 4 месяца подтверждено более 99% заказов. Записи о заказах, подтвержденных более чем через 120 дней, придется удалить."
   ]
  },
  {
   "cell_type": "code",
   "execution_count": 15,
   "metadata": {},
   "outputs": [
    {
     "name": "stdout",
     "output_type": "stream",
     "text": [
      "0     56195\n",
      "1      6615\n",
      "2      1754\n",
      "3       413\n",
      "4       149\n",
      "5        42\n",
      "6        19\n",
      "7        18\n",
      "8         7\n",
      "9         5\n",
      "13        4\n",
      "10        2\n",
      "14        2\n",
      "15        2\n",
      "16        1\n",
      "17        1\n",
      "Name: booking_changes, dtype: int64\n",
      "0    40671\n",
      "1    16958\n",
      "2     6444\n",
      "3     1036\n",
      "4      107\n",
      "5       13\n",
      "Name: total_of_special_requests, dtype: int64\n",
      "0    61547\n",
      "1     3670\n",
      "2       11\n",
      "3        1\n",
      "Name: required_car_parking_spaces, dtype: int64\n"
     ]
    }
   ],
   "source": [
    "print(data['booking_changes'].value_counts())\n",
    "print(data['total_of_special_requests'].value_counts().sort_index())\n",
    "print(data['required_car_parking_spaces'].value_counts().sort_index())"
   ]
  },
  {
   "cell_type": "markdown",
   "metadata": {},
   "source": [
    "В `booking_changes` редко встречаются значения больше 4, в `total_of_special_requests` редко встречается 5, в `required_car_parking_spaces` - 2 и 3. Их тоже удалю."
   ]
  },
  {
   "cell_type": "code",
   "execution_count": 16,
   "metadata": {},
   "outputs": [
    {
     "name": "stdout",
     "output_type": "stream",
     "text": [
      "64509 / 65229 | 98.9\n"
     ]
    }
   ],
   "source": [
    "prev = data.shape[0]\n",
    "\n",
    "data = data[(data['adults'] != 0) & (data['adults'] != 4)].reset_index(drop=True)\n",
    "data = data[data['children'] < 3].reset_index(drop=True)\n",
    "data = data[data['babies'] < 2].reset_index(drop=True)\n",
    "\n",
    "data.loc[data['previous_bookings_not_canceled'] > 1, 'previous_bookings_not_canceled'] = 2\n",
    "data.loc[data['previous_cancellations'] > 1, 'previous_cancellations'] = 2\n",
    "data = data[data['days_in_waiting_list'] < 120].reset_index(drop=True)\n",
    "data = data[data['booking_changes'] < 5].reset_index(drop=True)\n",
    "data = data[data['required_car_parking_spaces'] < 2].reset_index(drop=True)\n",
    "data = data[data['total_of_special_requests'] < 5].reset_index(drop=True)\n",
    "\n",
    "print(data.shape[0], '/', prev, '|', round(data.shape[0]/prev*100, 2))"
   ]
  },
  {
   "cell_type": "markdown",
   "metadata": {},
   "source": [
    "Всего удалено 720 записей или 1.1% от данных."
   ]
  },
  {
   "cell_type": "code",
   "execution_count": 17,
   "metadata": {},
   "outputs": [
    {
     "name": "stdout",
     "output_type": "stream",
     "text": [
      "['July' 'August' 'September' 'October' 'November' 'December' 'January'\n",
      " 'February' 'March' 'April' 'May' 'June']\n"
     ]
    },
    {
     "data": {
      "text/plain": [
       "array([ 7,  8,  9, 10, 11, 12,  1,  2,  3,  4,  5,  6])"
      ]
     },
     "execution_count": 17,
     "metadata": {},
     "output_type": "execute_result"
    }
   ],
   "source": [
    "print(data['arrival_date_month'].unique())\n",
    "data['arrival_date_month'] = pd.to_datetime(data['arrival_date_year'].astype('str') + '/' + data['arrival_date_month'] + \\\n",
    "                                          '/' + data['arrival_date_day_of_month'].astype('str')).dt.month\n",
    "data_test['arrival_date_month'] = pd.to_datetime(data_test['arrival_date_year'].astype('str') + '/' + data_test['arrival_date_month'] + \\\n",
    "                                          '/' + data_test['arrival_date_day_of_month'].astype('str')).dt.month\n",
    "data['arrival_date_month'].unique()"
   ]
  },
  {
   "cell_type": "markdown",
   "metadata": {
    "scrolled": true
   },
   "source": [
    "В столбце с названием месяца придется заменить название на номер месяца для удобства анализа и обучения модели."
   ]
  },
  {
   "cell_type": "markdown",
   "metadata": {},
   "source": [
    "#### Исследование данных"
   ]
  },
  {
   "cell_type": "markdown",
   "metadata": {},
   "source": [
    "Чтобы понять, какие клиенты склонны отменять бронирование, можно посмотреть, как процент отмены брони распределен в каждом признаке.\n",
    "\n",
    "Признаков много, поэтому стоит написать функцию, которая делает сводную таблицу, считает процент отмен и выводит график:"
   ]
  },
  {
   "cell_type": "code",
   "execution_count": 18,
   "metadata": {},
   "outputs": [],
   "source": [
    "def cancel_graphs(data, column, desc, figsize):\n",
    "    table = data.pivot_table(index=column, values=['is_canceled'], aggfunc=['sum', 'count']).reset_index()\n",
    "    ratio = table['sum', 'is_canceled'] / table['count', 'is_canceled'] * 100\n",
    "    \n",
    "    ax = plt.subplot()\n",
    "    ratio.plot(kind='bar', figsize=figsize, alpha=0.5, grid=True);\n",
    "    ax.set_xticklabels(data[column].sort_values().unique())\n",
    "    plt.xlabel(desc)\n",
    "    plt.ylabel('% отмены брони')\n",
    "    plt.show()"
   ]
  },
  {
   "cell_type": "code",
   "execution_count": 19,
   "metadata": {},
   "outputs": [
    {
     "name": "stdout",
     "output_type": "stream",
     "text": [
      "Всего отмен: 36.9 %\n"
     ]
    }
   ],
   "source": [
    "print('Всего отмен:',\n",
    "      round(data[data['is_canceled'] == 1]['is_canceled'].count() / data['is_canceled'].count() * 100, 2), '%')"
   ]
  },
  {
   "cell_type": "code",
   "execution_count": 20,
   "metadata": {},
   "outputs": [
    {
     "data": {
      "image/png": "[encoded data removed]",
      "text/plain": [
       "<Figure size 288x288 with 1 Axes>"
      ]
     },
     "metadata": {
      "needs_background": "light"
     },
     "output_type": "display_data"
    },
    {
     "data": {
      "image/png": "[encoded data removed]",
      "text/plain": [
       "<Figure size 288x288 with 1 Axes>"
      ]
     },
     "metadata": {
      "needs_background": "light"
     },
     "output_type": "display_data"
    },
    {
     "data": {
      "image/png": "[encoded data removed]",
      "text/plain": [
       "<Figure size 288x288 with 1 Axes>"
      ]
     },
     "metadata": {
      "needs_background": "light"
     },
     "output_type": "display_data"
    }
   ],
   "source": [
    "cancel_graphs(data, 'adults', 'взрослые', (4, 4))\n",
    "cancel_graphs(data, 'children', 'дети', (4, 4))\n",
    "cancel_graphs(data, 'babies', 'младенцы', (4, 4))"
   ]
  },
  {
   "cell_type": "markdown",
   "metadata": {},
   "source": [
    "Для начала оценим процент отмен в разных возрастных категориях постояльцев.  \n",
    "Среди взрослых самый большой процент отмен с двумя постояльцами - почти 40%. Заказы, где указаны 0 или 2 детей, отменяют примерно в 37% случаев, также как заказы, где 0 младенцев. Заказы, где указан 1 младенец отменяют реже всего - в менее 20% случаев. В целом разница в процентах не очень большая, и зависимостей от количества постояльцев не видно."
   ]
  },
  {
   "cell_type": "code",
   "execution_count": 21,
   "metadata": {},
   "outputs": [
    {
     "data": {
      "image/png": "[encoded data removed]",
      "text/plain": [
       "<Figure size 288x288 with 1 Axes>"
      ]
     },
     "metadata": {
      "needs_background": "light"
     },
     "output_type": "display_data"
    },
    {
     "data": {
      "image/png": "[encoded data removed]",
      "text/plain": [
       "<Figure size 288x288 with 1 Axes>"
      ]
     },
     "metadata": {
      "needs_background": "light"
     },
     "output_type": "display_data"
    },
    {
     "data": {
      "image/png": "[encoded data removed]",
      "text/plain": [
       "<Figure size 288x288 with 1 Axes>"
      ]
     },
     "metadata": {
      "needs_background": "light"
     },
     "output_type": "display_data"
    },
    {
     "data": {
      "image/png": "[encoded data removed]",
      "text/plain": [
       "<Figure size 288x288 with 1 Axes>"
      ]
     },
     "metadata": {
      "needs_background": "light"
     },
     "output_type": "display_data"
    },
    {
     "data": {
      "image/png": "[encoded data removed]",
      "text/plain": [
       "<Figure size 288x288 with 1 Axes>"
      ]
     },
     "metadata": {
      "needs_background": "light"
     },
     "output_type": "display_data"
    }
   ],
   "source": [
    "cancel_graphs(data, 'reserved_room_type', 'тип комнаты',  (4, 4))\n",
    "cancel_graphs(data, 'meal', 'опции заказа', (4, 4))\n",
    "cancel_graphs(data, 'required_car_parking_spaces', 'места для автомобиля', (4, 4))\n",
    "cancel_graphs(data, 'total_of_special_requests', 'специальные отметки', (4, 4))\n",
    "cancel_graphs(data, 'booking_changes', 'изменения параметров заказа', (4, 4))"
   ]
  },
  {
   "cell_type": "markdown",
   "metadata": {},
   "source": [
    "Далее оценим процент отмен по параметрам заказа.  \n",
    "Бронь номеров категории \"А\" отменяют чаще всего - примерно в 40% случаев, вторая по количеству отмен - категория \"G\" - 33% отмен. Меньше всего - около 18% - у категории \"С\". Зависимости от категории нет.  \n",
    "Больше всего отмен у заказов, в которые включён завтрак, обед и ужин - почти 70%. У остальных опций около 35% отмен, что близко к общему проценту отмен.\n",
    "Нет ни одной отмены у заказов, в которых клиенту было необходимо парковочное место.  \n",
    "Заказы без специальных отметок отменяли в 48% случаев, от 1 до 3 отметок - в около 20% случаев, с 4 отметками - в 12%. Очевидно, если у клиента есть дополнительные пожелания, он спланировал поездку и не будет отменять заказ.  \n",
    "Клиенты, не изменявшие параметры заказа, отменяли бронь в 40% случаев. Одно обдуманное изменение в заказе, и количество отмен падает до 14%. Похоже, что чем больше изменений в заказе, тем больше клиент не уверен в самом заказе и, возможно, отменит его. "
   ]
  },
  {
   "cell_type": "code",
   "execution_count": 23,
   "metadata": {},
   "outputs": [
    {
     "data": {
      "image/png": "[encoded data removed]",
      "text/plain": [
       "<Figure size 288x288 with 1 Axes>"
      ]
     },
     "metadata": {
      "needs_background": "light"
     },
     "output_type": "display_data"
    },
    {
     "data": {
      "image/png": "[encoded data removed]",
      "text/plain": [
       "<Figure size 288x288 with 1 Axes>"
      ]
     },
     "metadata": {
      "needs_background": "light"
     },
     "output_type": "display_data"
    },
    {
     "data": {
      "image/png": "[encoded data removed]",
      "text/plain": [
       "<Figure size 288x288 with 1 Axes>"
      ]
     },
     "metadata": {
      "needs_background": "light"
     },
     "output_type": "display_data"
    }
   ],
   "source": [
    "cancel_graphs(data, 'is_repeated_guest', 'клиент уже заказывал номер', (4, 4))\n",
    "cancel_graphs(data, 'previous_cancellations', 'предыдущие отмены', (4, 4))\n",
    "cancel_graphs(data, 'previous_bookings_not_canceled', 'предыдущие успешные заказы', (4, 4))"
   ]
  },
  {
   "cell_type": "markdown",
   "metadata": {},
   "source": [
    "Процент отмен среди клиентов, заказывающих номер первый раз, близок к общим отменам - 37%. Зато те, кто уже был клиентом отеля, отменят заказ всего в 25% случаев.  \n",
    "Те, кто отменил заказ один раз, также отменили следующий. У клиента было две или более отмены в 60% случаев. Те, кто ни разу не отменял бронь, отменили следующую в 30% случаев. В целом похоже, что те, кто уже отменял заказ, отменят следующий.  \n",
    "Процент отмены среди тех, у кого еще не было неотмененных заказов, равен общим отменам. Те, у кого уже были успешные заказы, отменяют бронь всего в 5-7% случаев."
   ]
  },
  {
   "cell_type": "code",
   "execution_count": 24,
   "metadata": {},
   "outputs": [
    {
     "data": {
      "image/png": "[encoded data removed]",
      "text/plain": [
       "<Figure size 288x288 with 1 Axes>"
      ]
     },
     "metadata": {
      "needs_background": "light"
     },
     "output_type": "display_data"
    },
    {
     "data": {
      "image/png": "[encoded data removed]",
      "text/plain": [
       "<Figure size 288x288 with 1 Axes>"
      ]
     },
     "metadata": {
      "needs_background": "light"
     },
     "output_type": "display_data"
    }
   ],
   "source": [
    "cancel_graphs(data, 'customer_type', 'тип заказчика', (4, 4))\n",
    "cancel_graphs(data, 'distribution_channel', 'канал дистрибуции заказа', (4, 4))"
   ]
  },
  {
   "cell_type": "markdown",
   "metadata": {},
   "source": [
    "В типе клиента и источнике заказа самые большие проценты отмены близки к общим отменам. Зависимостей здесь нет, единственное что сильно выделяется - групповые заезды отменили только в 8% случаев."
   ]
  },
  {
   "cell_type": "code",
   "execution_count": 25,
   "metadata": {},
   "outputs": [
    {
     "data": {
      "image/png": "[encoded data removed]",
      "text/plain": [
       "<Figure size 360x288 with 1 Axes>"
      ]
     },
     "metadata": {
      "needs_background": "light"
     },
     "output_type": "display_data"
    },
    {
     "data": {
      "image/png": "[encoded data removed]",
      "text/plain": [
       "<Figure size 360x288 with 1 Axes>"
      ]
     },
     "metadata": {
      "needs_background": "light"
     },
     "output_type": "display_data"
    },
    {
     "data": {
      "image/png": "[encoded data removed]",
      "text/plain": [
       "<Figure size 360x288 with 1 Axes>"
      ]
     },
     "metadata": {
      "needs_background": "light"
     },
     "output_type": "display_data"
    }
   ],
   "source": [
    "cancel_graphs(data, 'total_nights', 'количество ночей', (5, 4))\n",
    "cancel_graphs(data, 'stays_in_week_nights', 'кол-во ночей в будни', (5, 4))\n",
    "cancel_graphs(data, 'stays_in_weekend_nights', 'кол-во ночей в выходные', (5, 4))"
   ]
  },
  {
   "cell_type": "markdown",
   "metadata": {},
   "source": [
    "С количеством ночей, которые клиент планирует остаться в номере, зависимости не видно. Процент отмен в основном близок к общему проценту отмен, выделяются 45% у двух ночей в целом и двух ночей в будние дни. Меньше всего клиентов отменили бронь, если им нужно было остаться всего на одну ночь."
   ]
  },
  {
   "cell_type": "code",
   "execution_count": 26,
   "metadata": {},
   "outputs": [
    {
     "data": {
      "image/png": "[encoded data removed]",
      "text/plain": [
       "<Figure size 360x288 with 1 Axes>"
      ]
     },
     "metadata": {
      "needs_background": "light"
     },
     "output_type": "display_data"
    },
    {
     "data": {
      "image/png": "[encoded data removed]",
      "text/plain": [
       "<Figure size 576x288 with 1 Axes>"
      ]
     },
     "metadata": {
      "needs_background": "light"
     },
     "output_type": "display_data"
    }
   ],
   "source": [
    "cancel_graphs(data, 'arrival_date_month', 'месяц заезда', (5, 4))\n",
    "cancel_graphs(data, 'arrival_date_day_of_month', 'день заезда', (8, 4))"
   ]
  },
  {
   "cell_type": "markdown",
   "metadata": {},
   "source": [
    "От времени заказа отмены зависят не сильно: в зимние месяцы отмен чуть меньше, чем в летние и осенние. День совсем не влияет на количество отмен. Больше всего отмен в июне, или 17 числа - около 43%, что не далеко от общих отмен."
   ]
  },
  {
   "cell_type": "code",
   "execution_count": 27,
   "metadata": {},
   "outputs": [
    {
     "data": {
      "image/png": "[encoded data removed]",
      "text/plain": [
       "<Figure size 1080x288 with 1 Axes>"
      ]
     },
     "metadata": {
      "needs_background": "light"
     },
     "output_type": "display_data"
    }
   ],
   "source": [
    "cancel_country = data.pivot_table(index=['country'], values=['is_canceled'], aggfunc=['sum', 'count']).reset_index()\n",
    "cancel_country_ = cancel_country[cancel_country['count', 'is_canceled'] > 20]\n",
    "\n",
    "cancel_country_ratio = cancel_country_['sum', 'is_canceled'] / cancel_country_['count', 'is_canceled'] * 100\n",
    "ax = plt.subplot()\n",
    "cancel_country_ratio.plot(kind='bar', figsize=(15, 4), alpha=0.5, grid=True);\n",
    "ax.set_xticklabels(cancel_country_['country'].sort_values().unique())\n",
    "plt.show()"
   ]
  },
  {
   "cell_type": "markdown",
   "metadata": {},
   "source": [
    "И наконец распределение по гражданству постояльца. В каждом столбце на графике более 20 заказов.  \n",
    "Почти 90% заказов от граждан ОАЭ были отменены. Португальцы вторые по отменам - ~58%, третьи граждане Туниса - ~48%. Граждане Сербии почти никогда не отменяют заказы, клиенты из Литвы и Новой Зеландии отменили всего 6-9% заказов. Клиенты из остальных стран в среднем отменили заказы в ~22% случаев."
   ]
  },
  {
   "cell_type": "markdown",
   "metadata": {},
   "source": [
    "Есть отдельные признаки надежных и ненадежных клиентов, например, если у клиента уже были успешные заказы, то он скорее всего не отменит следующий, или если в опциях заказа указано \"FB\", то скорее клиент отменит бронь. Зависимостей в признаках нет."
   ]
  },
  {
   "cell_type": "markdown",
   "metadata": {},
   "source": [
    "### Формулировка ML-задачи на основе бизнес-задачи"
   ]
  },
  {
   "cell_type": "markdown",
   "metadata": {},
   "source": [
    "Далее для решения задачи нужно оценить прибыль отеля без внедрения депозитов.\n",
    "\n",
    "Если клиент забронировал номер и успешно заселился, то прибыль отеля равна $$ стоимость\\ номера * количество\\ ночей * сезонный\\ коэффициент - стоимость\\ уборки * количество\\ уборок  $$\n",
    "\n",
    "В случае отмены брони убыток равен $$ стоимость\\ номера * сезонный\\ коэффициент + стоимость\\ уборки  $$  \n",
    "При внесении депозита в 80% отель теряет 20% от прибыли за одну ночь и затрат на одну уборку, т.е теряет\n",
    "$$ (стоимость\\ номера * сезонный\\ коэффициент - стоимость\\ уборки) * 20\\% $$\n",
    "\n",
    "Уборки проводятся каждые два дня: если клиент оставался на 1 или 2 ночи уборка одна, на 3 и 4 ночи - уборок две, и так далее.\n",
    "\n",
    "Осталось собрать все формулы и написать функцию, которая будет считать прибыль для каждой из этих ситуаций:"
   ]
  },
  {
   "cell_type": "code",
   "execution_count": 29,
   "metadata": {},
   "outputs": [],
   "source": [
    "def profit(client):\n",
    "    total_nights, reserved_room_type, month, is_canceled, is_deposit = \\\n",
    "        client['total_nights'], client['reserved_room_type'], client['arrival_date_month'], \\\n",
    "        client['is_canceled'], client['is_deposit']\n",
    "    season_price = 1\n",
    "    profit = 0\n",
    "    \n",
    "    # считаем количество уборок\n",
    "    cleanings = total_nights // 2 + total_nights % 2 \n",
    "    \n",
    "    # определяем сезонную наценку\n",
    "    if (month == 12 or month == 1 or month == 2):\n",
    "        season_price = 1\n",
    "    elif (month == 6 or month == 7 or month == 8):\n",
    "        season_price = SUMMER_PRICE\n",
    "    else:\n",
    "        season_price = SPRING_PRICE\n",
    "        \n",
    "    # если клиент отменяет бронь\n",
    "    if is_canceled:\n",
    "        # если клиент вносит депозит\n",
    "        if is_deposit:\n",
    "            profit = -1 * (ROOM_CATEGORY_PRICE[reserved_room_type][0] * season_price - \n",
    "                           ROOM_CATEGORY_PRICE[reserved_room_type][1]) * (1 - DEPOSIT)\n",
    "        # если клиент не вносит депозит\n",
    "        if not is_deposit:\n",
    "            profit = -1 * (ROOM_CATEGORY_PRICE[reserved_room_type][0] * season_price + \n",
    "                           ROOM_CATEGORY_PRICE[reserved_room_type][1])\n",
    "    # если клиент не отменяет бронь\n",
    "    else:\n",
    "        profit = ROOM_CATEGORY_PRICE[reserved_room_type][0] * total_nights * season_price - \\\n",
    "                ROOM_CATEGORY_PRICE[reserved_room_type][1] * cleanings\n",
    "        \n",
    "    return round(profit, 2)"
   ]
  },
  {
   "cell_type": "markdown",
   "metadata": {},
   "source": [
    "Проверим функцию на примере: если клиент отменит бронь на номер категории \"А\" в июле:"
   ]
  },
  {
   "cell_type": "code",
   "execution_count": 30,
   "metadata": {},
   "outputs": [
    {
     "name": "stdout",
     "output_type": "stream",
     "text": [
      "3 A 7 1\n",
      "-1800.0\n",
      "-200.0\n"
     ]
    }
   ],
   "source": [
    "print(data.loc[4, 'total_nights'], data.loc[4, 'reserved_room_type'],\n",
    "      data.loc[4, 'arrival_date_month'], data.loc[4, 'is_canceled'])\n",
    "\n",
    "test0 = data.join(pd.Series(0, name='is_deposit')).fillna(0).loc[4]\n",
    "test1 = data.join(pd.Series(1, name='is_deposit')).fillna(1).loc[4]\n",
    "\n",
    "print(profit(test0))\n",
    "print(profit(test1))"
   ]
  },
  {
   "cell_type": "markdown",
   "metadata": {},
   "source": [
    "Без внесения депозита отель потеряет 1800 руб., а с депозитом всего 200.\n",
    "\n",
    "Далее можно посчитать прибыль отеля за тестовый период без внедрения депозитов:"
   ]
  },
  {
   "cell_type": "code",
   "execution_count": 31,
   "metadata": {},
   "outputs": [
    {
     "name": "stdout",
     "output_type": "stream",
     "text": [
      "35300770.0\n"
     ]
    }
   ],
   "source": [
    "data_test['is_deposit'] = 0\n",
    "profits_ = data_test.apply(profit, axis=1)\n",
    "print(profits_.sum())"
   ]
  },
  {
   "cell_type": "markdown",
   "metadata": {},
   "source": [
    "Прибыль составит 35.3 млн. Следующим шагом будет обучение модели, которая сможет увеличить прибыль более чем на 400 тыс.."
   ]
  },
  {
   "cell_type": "markdown",
   "metadata": {},
   "source": [
    "### Разработка модели ML"
   ]
  },
  {
   "cell_type": "markdown",
   "metadata": {},
   "source": [
    "Модель будет предсказывать отмену брони - это задача классификации. Для ее решения подойдет модель логистической регрессии, дерева решений или случайного леса. Но прежде чем обучать модели, нужно подготовить данные."
   ]
  },
  {
   "cell_type": "markdown",
   "metadata": {},
   "source": [
    "#### Подготовка"
   ]
  },
  {
   "cell_type": "markdown",
   "metadata": {},
   "source": [
    "Столбцы с id и гражданством клиента и столбцы с датой не будут полезны для модели, отбрасываем их. Далее кодируем категориальные признаки: для обучения логистической регрессии признаки лучше кодировать техникой OHE, для дерева подойдет порядковое кодирование."
   ]
  },
  {
   "cell_type": "code",
   "execution_count": 32,
   "metadata": {},
   "outputs": [
    {
     "data": {
      "text/html": [
       "<div>\n",
       "<style scoped>\n",
       "    .dataframe tbody tr th:only-of-type {\n",
       "        vertical-align: middle;\n",
       "    }\n",
       "\n",
       "    .dataframe tbody tr th {\n",
       "        vertical-align: top;\n",
       "    }\n",
       "\n",
       "    .dataframe thead th {\n",
       "        text-align: right;\n",
       "    }\n",
       "</style>\n",
       "<table border=\"1\" class=\"dataframe\">\n",
       "  <thead>\n",
       "    <tr style=\"text-align: right;\">\n",
       "      <th></th>\n",
       "      <th>lead_time</th>\n",
       "      <th>arrival_date_month</th>\n",
       "      <th>stays_in_weekend_nights</th>\n",
       "      <th>stays_in_week_nights</th>\n",
       "      <th>adults</th>\n",
       "      <th>children</th>\n",
       "      <th>babies</th>\n",
       "      <th>meal</th>\n",
       "      <th>distribution_channel</th>\n",
       "      <th>is_repeated_guest</th>\n",
       "      <th>previous_cancellations</th>\n",
       "      <th>previous_bookings_not_canceled</th>\n",
       "      <th>reserved_room_type</th>\n",
       "      <th>booking_changes</th>\n",
       "      <th>days_in_waiting_list</th>\n",
       "      <th>customer_type</th>\n",
       "      <th>required_car_parking_spaces</th>\n",
       "      <th>total_of_special_requests</th>\n",
       "      <th>total_nights</th>\n",
       "    </tr>\n",
       "  </thead>\n",
       "  <tbody>\n",
       "    <tr>\n",
       "      <th>0</th>\n",
       "      <td>7</td>\n",
       "      <td>7</td>\n",
       "      <td>0</td>\n",
       "      <td>1</td>\n",
       "      <td>1</td>\n",
       "      <td>0</td>\n",
       "      <td>0</td>\n",
       "      <td>0.0</td>\n",
       "      <td>1.0</td>\n",
       "      <td>0</td>\n",
       "      <td>0</td>\n",
       "      <td>0</td>\n",
       "      <td>0.0</td>\n",
       "      <td>0</td>\n",
       "      <td>0</td>\n",
       "      <td>2.0</td>\n",
       "      <td>0</td>\n",
       "      <td>0</td>\n",
       "      <td>1</td>\n",
       "    </tr>\n",
       "  </tbody>\n",
       "</table>\n",
       "</div>"
      ],
      "text/plain": [
       "   lead_time  arrival_date_month  stays_in_weekend_nights  \\\n",
       "0          7                   7                        0   \n",
       "\n",
       "   stays_in_week_nights  adults  children  babies  meal  distribution_channel  \\\n",
       "0                     1       1         0       0   0.0                   1.0   \n",
       "\n",
       "   is_repeated_guest  previous_cancellations  previous_bookings_not_canceled  \\\n",
       "0                  0                       0                               0   \n",
       "\n",
       "   reserved_room_type  booking_changes  days_in_waiting_list  customer_type  \\\n",
       "0                 0.0                0                     0            2.0   \n",
       "\n",
       "   required_car_parking_spaces  total_of_special_requests  total_nights  \n",
       "0                            0                          0             1  "
      ]
     },
     "metadata": {},
     "output_type": "display_data"
    },
    {
     "data": {
      "text/html": [
       "<div>\n",
       "<style scoped>\n",
       "    .dataframe tbody tr th:only-of-type {\n",
       "        vertical-align: middle;\n",
       "    }\n",
       "\n",
       "    .dataframe tbody tr th {\n",
       "        vertical-align: top;\n",
       "    }\n",
       "\n",
       "    .dataframe thead th {\n",
       "        text-align: right;\n",
       "    }\n",
       "</style>\n",
       "<table border=\"1\" class=\"dataframe\">\n",
       "  <thead>\n",
       "    <tr style=\"text-align: right;\">\n",
       "      <th></th>\n",
       "      <th>lead_time</th>\n",
       "      <th>arrival_date_month</th>\n",
       "      <th>stays_in_weekend_nights</th>\n",
       "      <th>stays_in_week_nights</th>\n",
       "      <th>adults</th>\n",
       "      <th>children</th>\n",
       "      <th>babies</th>\n",
       "      <th>is_repeated_guest</th>\n",
       "      <th>previous_cancellations</th>\n",
       "      <th>previous_bookings_not_canceled</th>\n",
       "      <th>...</th>\n",
       "      <th>9</th>\n",
       "      <th>10</th>\n",
       "      <th>11</th>\n",
       "      <th>12</th>\n",
       "      <th>13</th>\n",
       "      <th>14</th>\n",
       "      <th>15</th>\n",
       "      <th>16</th>\n",
       "      <th>17</th>\n",
       "      <th>18</th>\n",
       "    </tr>\n",
       "  </thead>\n",
       "  <tbody>\n",
       "    <tr>\n",
       "      <th>0</th>\n",
       "      <td>7</td>\n",
       "      <td>7</td>\n",
       "      <td>0</td>\n",
       "      <td>1</td>\n",
       "      <td>1</td>\n",
       "      <td>0</td>\n",
       "      <td>0</td>\n",
       "      <td>0</td>\n",
       "      <td>0</td>\n",
       "      <td>0</td>\n",
       "      <td>...</td>\n",
       "      <td>0.0</td>\n",
       "      <td>0.0</td>\n",
       "      <td>0.0</td>\n",
       "      <td>0.0</td>\n",
       "      <td>0.0</td>\n",
       "      <td>0.0</td>\n",
       "      <td>0.0</td>\n",
       "      <td>0.0</td>\n",
       "      <td>1.0</td>\n",
       "      <td>0.0</td>\n",
       "    </tr>\n",
       "  </tbody>\n",
       "</table>\n",
       "<p>1 rows × 34 columns</p>\n",
       "</div>"
      ],
      "text/plain": [
       "   lead_time  arrival_date_month  stays_in_weekend_nights  \\\n",
       "0          7                   7                        0   \n",
       "\n",
       "   stays_in_week_nights  adults  children  babies  is_repeated_guest  \\\n",
       "0                     1       1         0       0                  0   \n",
       "\n",
       "   previous_cancellations  previous_bookings_not_canceled  ...    9   10   11  \\\n",
       "0                       0                               0  ...  0.0  0.0  0.0   \n",
       "\n",
       "    12   13   14   15   16   17   18  \n",
       "0  0.0  0.0  0.0  0.0  0.0  1.0  0.0  \n",
       "\n",
       "[1 rows x 34 columns]"
      ]
     },
     "metadata": {},
     "output_type": "display_data"
    }
   ],
   "source": [
    "features = data.drop(['is_canceled','id','arrival_date_year','arrival_date_week_number','arrival_date_day_of_month', 'country'],\n",
    "                     axis=1)\n",
    "target = data['is_canceled']\n",
    "\n",
    "ordinal = ['meal', 'distribution_channel', 'reserved_room_type', 'customer_type']\n",
    "\n",
    "features_tree = features\n",
    "encoder = OrdinalEncoder(handle_unknown='ignore')\n",
    "features_tree[ordinal] = pd.DataFrame(encoder.fit_transform(features_tree[ordinal]), columns=ordinal)\n",
    "\n",
    "features_log = features\n",
    "onecoder = OneHotEncoder(handle_unknown='ignore', sparse=False)\n",
    "onecoder.fit(features_log[ordinal])\n",
    "features_log = pd.concat([features_log.drop(ordinal, axis=1),\n",
    "                         pd.DataFrame(onecoder.transform(features_log[ordinal]))], axis=1)\n",
    "\n",
    "display(features_tree.head(1), features_log.head(1))"
   ]
  },
  {
   "cell_type": "markdown",
   "metadata": {},
   "source": [
    "Масштабируем цифровые значения:"
   ]
  },
  {
   "cell_type": "code",
   "execution_count": 33,
   "metadata": {},
   "outputs": [
    {
     "data": {
      "text/html": [
       "<div>\n",
       "<style scoped>\n",
       "    .dataframe tbody tr th:only-of-type {\n",
       "        vertical-align: middle;\n",
       "    }\n",
       "\n",
       "    .dataframe tbody tr th {\n",
       "        vertical-align: top;\n",
       "    }\n",
       "\n",
       "    .dataframe thead th {\n",
       "        text-align: right;\n",
       "    }\n",
       "</style>\n",
       "<table border=\"1\" class=\"dataframe\">\n",
       "  <thead>\n",
       "    <tr style=\"text-align: right;\">\n",
       "      <th></th>\n",
       "      <th>lead_time</th>\n",
       "      <th>arrival_date_month</th>\n",
       "      <th>stays_in_weekend_nights</th>\n",
       "      <th>stays_in_week_nights</th>\n",
       "      <th>adults</th>\n",
       "      <th>children</th>\n",
       "      <th>babies</th>\n",
       "      <th>meal</th>\n",
       "      <th>distribution_channel</th>\n",
       "      <th>is_repeated_guest</th>\n",
       "      <th>previous_cancellations</th>\n",
       "      <th>previous_bookings_not_canceled</th>\n",
       "      <th>reserved_room_type</th>\n",
       "      <th>booking_changes</th>\n",
       "      <th>days_in_waiting_list</th>\n",
       "      <th>customer_type</th>\n",
       "      <th>required_car_parking_spaces</th>\n",
       "      <th>total_of_special_requests</th>\n",
       "      <th>total_nights</th>\n",
       "    </tr>\n",
       "  </thead>\n",
       "  <tbody>\n",
       "    <tr>\n",
       "      <th>0</th>\n",
       "      <td>-0.924786</td>\n",
       "      <td>7</td>\n",
       "      <td>-0.967558</td>\n",
       "      <td>-0.899588</td>\n",
       "      <td>-1.783691</td>\n",
       "      <td>-0.219404</td>\n",
       "      <td>-0.083155</td>\n",
       "      <td>0.0</td>\n",
       "      <td>1.0</td>\n",
       "      <td>0</td>\n",
       "      <td>-0.302575</td>\n",
       "      <td>-0.14924</td>\n",
       "      <td>0.0</td>\n",
       "      <td>-0.352995</td>\n",
       "      <td>-0.189925</td>\n",
       "      <td>2.0</td>\n",
       "      <td>-0.245182</td>\n",
       "      <td>-0.683671</td>\n",
       "      <td>-1.175329</td>\n",
       "    </tr>\n",
       "  </tbody>\n",
       "</table>\n",
       "</div>"
      ],
      "text/plain": [
       "   lead_time  arrival_date_month  stays_in_weekend_nights  \\\n",
       "0  -0.924786                   7                -0.967558   \n",
       "\n",
       "   stays_in_week_nights    adults  children    babies  meal  \\\n",
       "0             -0.899588 -1.783691 -0.219404 -0.083155   0.0   \n",
       "\n",
       "   distribution_channel  is_repeated_guest  previous_cancellations  \\\n",
       "0                   1.0                  0               -0.302575   \n",
       "\n",
       "   previous_bookings_not_canceled  reserved_room_type  booking_changes  \\\n",
       "0                        -0.14924                 0.0        -0.352995   \n",
       "\n",
       "   days_in_waiting_list  customer_type  required_car_parking_spaces  \\\n",
       "0             -0.189925            2.0                    -0.245182   \n",
       "\n",
       "   total_of_special_requests  total_nights  \n",
       "0                  -0.683671     -1.175329  "
      ]
     },
     "metadata": {},
     "output_type": "display_data"
    },
    {
     "data": {
      "text/html": [
       "<div>\n",
       "<style scoped>\n",
       "    .dataframe tbody tr th:only-of-type {\n",
       "        vertical-align: middle;\n",
       "    }\n",
       "\n",
       "    .dataframe tbody tr th {\n",
       "        vertical-align: top;\n",
       "    }\n",
       "\n",
       "    .dataframe thead th {\n",
       "        text-align: right;\n",
       "    }\n",
       "</style>\n",
       "<table border=\"1\" class=\"dataframe\">\n",
       "  <thead>\n",
       "    <tr style=\"text-align: right;\">\n",
       "      <th></th>\n",
       "      <th>lead_time</th>\n",
       "      <th>arrival_date_month</th>\n",
       "      <th>stays_in_weekend_nights</th>\n",
       "      <th>stays_in_week_nights</th>\n",
       "      <th>adults</th>\n",
       "      <th>children</th>\n",
       "      <th>babies</th>\n",
       "      <th>is_repeated_guest</th>\n",
       "      <th>previous_cancellations</th>\n",
       "      <th>previous_bookings_not_canceled</th>\n",
       "      <th>...</th>\n",
       "      <th>9</th>\n",
       "      <th>10</th>\n",
       "      <th>11</th>\n",
       "      <th>12</th>\n",
       "      <th>13</th>\n",
       "      <th>14</th>\n",
       "      <th>15</th>\n",
       "      <th>16</th>\n",
       "      <th>17</th>\n",
       "      <th>18</th>\n",
       "    </tr>\n",
       "  </thead>\n",
       "  <tbody>\n",
       "    <tr>\n",
       "      <th>0</th>\n",
       "      <td>-0.924786</td>\n",
       "      <td>7</td>\n",
       "      <td>-0.967558</td>\n",
       "      <td>-0.899588</td>\n",
       "      <td>-1.783691</td>\n",
       "      <td>-0.219404</td>\n",
       "      <td>-0.083155</td>\n",
       "      <td>0</td>\n",
       "      <td>-0.302575</td>\n",
       "      <td>-0.14924</td>\n",
       "      <td>...</td>\n",
       "      <td>0.0</td>\n",
       "      <td>0.0</td>\n",
       "      <td>0.0</td>\n",
       "      <td>0.0</td>\n",
       "      <td>0.0</td>\n",
       "      <td>0.0</td>\n",
       "      <td>0.0</td>\n",
       "      <td>0.0</td>\n",
       "      <td>1.0</td>\n",
       "      <td>0.0</td>\n",
       "    </tr>\n",
       "  </tbody>\n",
       "</table>\n",
       "<p>1 rows × 34 columns</p>\n",
       "</div>"
      ],
      "text/plain": [
       "   lead_time  arrival_date_month  stays_in_weekend_nights  \\\n",
       "0  -0.924786                   7                -0.967558   \n",
       "\n",
       "   stays_in_week_nights    adults  children    babies  is_repeated_guest  \\\n",
       "0             -0.899588 -1.783691 -0.219404 -0.083155                  0   \n",
       "\n",
       "   previous_cancellations  previous_bookings_not_canceled  ...    9   10   11  \\\n",
       "0               -0.302575                        -0.14924  ...  0.0  0.0  0.0   \n",
       "\n",
       "    12   13   14   15   16   17   18  \n",
       "0  0.0  0.0  0.0  0.0  0.0  1.0  0.0  \n",
       "\n",
       "[1 rows x 34 columns]"
      ]
     },
     "metadata": {},
     "output_type": "display_data"
    }
   ],
   "source": [
    "numeric = ['adults', 'babies', 'children', 'booking_changes', 'days_in_waiting_list', 'lead_time',\n",
    "           'previous_bookings_not_canceled','previous_cancellations', 'required_car_parking_spaces',\n",
    "          'stays_in_weekend_nights', 'stays_in_week_nights', 'total_nights', 'total_of_special_requests']\n",
    "scaler = StandardScaler()\n",
    "scaler.fit(features_log[numeric])\n",
    "\n",
    "features_tree[numeric] = scaler.transform(features_tree[numeric])\n",
    "features_log[numeric] = scaler.transform(features_log[numeric])\n",
    "display(features_tree.head(1), features_log.head(1))"
   ]
  },
  {
   "cell_type": "markdown",
   "metadata": {},
   "source": [
    "Также по-разному кодируем тестовую выборку:"
   ]
  },
  {
   "cell_type": "code",
   "execution_count": 34,
   "metadata": {},
   "outputs": [],
   "source": [
    "features_test = data_test.drop(['is_canceled','id','arrival_date_year','arrival_date_week_number',\n",
    "                                'arrival_date_day_of_month', 'is_deposit', 'country'], axis=1)\n",
    "target_test = data_test['is_canceled']\n",
    "\n",
    "features_test_tree = features_test\n",
    "features_test_tree[ordinal] = pd.DataFrame(encoder.transform(features_test_tree[ordinal]))\n",
    "features_test_tree[numeric] = scaler.transform(features_test_tree[numeric])\n",
    "\n",
    "features_test_log = pd.concat([features_test.drop(ordinal, axis=1),\n",
    "                         pd.DataFrame(onecoder.transform(features_test[ordinal]))], axis=1)\n",
    "features_test_log[numeric] = scaler.transform(features_test[numeric])"
   ]
  },
  {
   "cell_type": "markdown",
   "metadata": {},
   "source": [
    "Данные подготовлены, можно приступать к обучению."
   ]
  },
  {
   "cell_type": "markdown",
   "metadata": {},
   "source": [
    "По задаче нужно минимизировать убытки, определив как можно больше отмен. Как метрику качества можно было бы использовать recall, но также нужно не забывать правильно определять клиентов, которые не отменят заказ, чтобы не нагружать их внесением депозита. Как метрика качества в этом случае лучше подойдет F1-мера."
   ]
  },
  {
   "cell_type": "markdown",
   "metadata": {},
   "source": [
    "Для более точной оценки качества модели проведем кросс-валидацию."
   ]
  },
  {
   "cell_type": "code",
   "execution_count": 36,
   "metadata": {},
   "outputs": [
    {
     "data": {
      "text/plain": [
       "0    0.630982\n",
       "1    0.369018\n",
       "Name: is_canceled, dtype: float64"
      ]
     },
     "execution_count": 36,
     "metadata": {},
     "output_type": "execute_result"
    }
   ],
   "source": [
    "target.value_counts(normalize=1) "
   ]
  },
  {
   "cell_type": "markdown",
   "metadata": {},
   "source": [
    "В целевом признаке есть дисбаланс классов. Чтобы это исправить, можно применить, например, балансировку классов в модели или upsampling. Но поскольку мы проводим кросс-валидацию, нельзя сначала сделать upsampling - менять количество данных следует внутри кросс-валидации, на тренировочных фолдах.  \n",
    "Напишу функцию, которая делит данные на фолды, балансирует тренировочные, обучает модель и считает F1-меру. На вход она получает модель для обучения, параметры для модели, и признаки; возращает среднюю для всех фолдов F1-меру."
   ]
  },
  {
   "cell_type": "code",
   "execution_count": 37,
   "metadata": {},
   "outputs": [],
   "source": [
    "kf = KFold(n_splits=5, shuffle=True, random_state=1)\n",
    "\n",
    "def cross_val_score_model(model, params, class_weight, features, target, cv=kf): \n",
    "    scores = []\n",
    "    for train_fold_index, val_fold_index in cv.split(features, target): # для каждого фолда:\n",
    "        # назначаем фолды train и valid выборками\n",
    "        features_train, target_train = features.iloc[train_fold_index], target.iloc[train_fold_index]\n",
    "        features_valid, target_valid = features.iloc[val_fold_index], target.iloc[val_fold_index]\n",
    "        \n",
    "        # если баланс классов не class_weight\n",
    "        if not class_weight == 'balanced':\n",
    "            # то делаем upsample train фолда\n",
    "            repeat = round(target_train.value_counts(normalize=1)[0] / target_train.value_counts(normalize=1)[1], 2)\n",
    "                           \n",
    "            features_zeros, features_ones = features_train[target_train == 0], features_train[target_train == 1]\n",
    "            target_zeros, target_ones = target_train[target_train == 0], target_train[target_train == 1]\n",
    "            \n",
    "            features_train = pd.concat([features_zeros] + [features_ones.sample(frac=repeat, replace=True, random_state=1)])\n",
    "            target_train = pd.concat([target_zeros] + [target_ones.sample(frac=repeat, replace=True, random_state=1)])\n",
    "            features_train, target_train = shuffle(features_train, target_train, random_state=1)\n",
    "            \n",
    "        # обучаем модель, получаем f1 метрику \n",
    "        model_obj = model(**params).fit(features_train, target_train)\n",
    "        score = f1_score(target_valid, model_obj.predict(features_valid))\n",
    "        scores.append(score)\n",
    "    # возращаем среднее метрик всех фолдов\n",
    "    return pd.Series(scores).mean()"
   ]
  },
  {
   "cell_type": "markdown",
   "metadata": {},
   "source": [
    "#### Логистическая регрессия"
   ]
  },
  {
   "cell_type": "markdown",
   "metadata": {},
   "source": [
    "Начнем с логистической регрессии - создадим словарь гиперпараметров со списками значений. Для каждого значения гиперпараметра проведем кросс-валидацию и получим F1-меру. Из списка гиперпараметров выберем лучшие."
   ]
  },
  {
   "cell_type": "code",
   "execution_count": 39,
   "metadata": {},
   "outputs": [
    {
     "name": "stderr",
     "output_type": "stream",
     "text": [
      "100%|██████████| 5/5 [04:17<00:00, 51.52s/it]"
     ]
    },
    {
     "name": "stdout",
     "output_type": "stream",
     "text": [
      "{'solver': 'liblinear', 'C': 0.1, 'penalty': 'l2', 'class_weight': None, 'random_state': 1, 'f1': 0.6819304148159198}\n"
     ]
    },
    {
     "name": "stderr",
     "output_type": "stream",
     "text": [
      "\n"
     ]
    }
   ],
   "source": [
    "params_logreg = {'solver': ['liblinear'],\n",
    "                 'C': [0.01,0.1,1,10,100],\n",
    "                 'penalty': ['l1', 'l2'],\n",
    "                 'random_state': [1],\n",
    "                 'class_weight': [None, 'balanced']}\n",
    "\n",
    "score_tracker = []\n",
    "for C in tqdm(params_logreg['C']):\n",
    "    for penalty in params_logreg['penalty']:\n",
    "        for class_weight in params_logreg['class_weight']:\n",
    "                params_ = {'solver': 'liblinear',\n",
    "                             'C': C,\n",
    "                             'penalty': penalty,\n",
    "                             'class_weight': class_weight,\n",
    "                             'random_state': 1}\n",
    "                params_['f1'] = cross_val_score_model(LogisticRegression, params_, class_weight,\n",
    "                                                      features_log, target, cv=kf)\n",
    "                score_tracker.append(params_)\n",
    "\n",
    "log_best = sorted(score_tracker, key=lambda x: x['f1'], reverse=True)[0]\n",
    "print(log_best)"
   ]
  },
  {
   "cell_type": "markdown",
   "metadata": {},
   "source": [
    "Для логистической регрессии лучший результат F1-меры - 0.68."
   ]
  },
  {
   "cell_type": "markdown",
   "metadata": {},
   "source": [
    "#### Дерево решений"
   ]
  },
  {
   "cell_type": "code",
   "execution_count": 41,
   "metadata": {},
   "outputs": [
    {
     "name": "stderr",
     "output_type": "stream",
     "text": [
      "100%|██████████| 10/10 [01:27<00:00,  8.70s/it]"
     ]
    },
    {
     "name": "stdout",
     "output_type": "stream",
     "text": [
      "{'max_depth': 10, 'min_samples_leaf': 1, 'min_samples_split': 4, 'class_weight': 'balanced', 'random_state': 1, 'f1': 0.7323837142873557}\n"
     ]
    },
    {
     "name": "stderr",
     "output_type": "stream",
     "text": [
      "\n"
     ]
    }
   ],
   "source": [
    "params_tree = {'max_depth': list(range(1, 11)),\n",
    "               'min_samples_leaf': [1, 2, 4],\n",
    "               'min_samples_split': [2, 4, 8],\n",
    "               'random_state': [1],\n",
    "               'class_weight': [None, 'balanced']}\n",
    "\n",
    "score_tracker = []\n",
    "for max_depth in tqdm(params_tree['max_depth']):\n",
    "    for min_samples_leaf in params_tree['min_samples_leaf']:\n",
    "        for min_samples_split in params_tree['min_samples_split']:\n",
    "            for class_weight in params_tree['class_weight']:\n",
    "                    params_ = {'max_depth': max_depth,\n",
    "                               'min_samples_leaf': min_samples_leaf,\n",
    "                               'min_samples_split': min_samples_split,\n",
    "                               'class_weight': class_weight,\n",
    "                               'random_state': 1}\n",
    "                    params_['f1'] = cross_val_score_model(DecisionTreeClassifier, params_, class_weight,\n",
    "                                                          features_tree, target, cv=kf)\n",
    "                    score_tracker.append(params_)\n",
    "\n",
    "tree_best = sorted(score_tracker, key=lambda x: x['f1'], reverse=True)[0]\n",
    "print(tree_best)"
   ]
  },
  {
   "cell_type": "markdown",
   "metadata": {},
   "source": [
    "Лучшие гиперпараметры дерева решений дают F1-меру равную 0.732."
   ]
  },
  {
   "cell_type": "markdown",
   "metadata": {},
   "source": [
    "#### Случайный лес"
   ]
  },
  {
   "cell_type": "code",
   "execution_count": 42,
   "metadata": {},
   "outputs": [
    {
     "name": "stderr",
     "output_type": "stream",
     "text": [
      "100%|██████████| 5/5 [16:33<00:00, 198.79s/it]"
     ]
    },
    {
     "name": "stdout",
     "output_type": "stream",
     "text": [
      "{'n_estimators': 21, 'max_depth': 10, 'min_samples_leaf': 1, 'min_samples_split': 8, 'random_state': 1, 'class_weight': 'balanced', 'f1': 0.735312219723349}\n"
     ]
    },
    {
     "name": "stderr",
     "output_type": "stream",
     "text": [
      "\n"
     ]
    }
   ],
   "source": [
    "params_forest = {'n_estimators': list(range(1, 22, 5)),\n",
    "                 'max_depth': list(range(1, 11)), \n",
    "                 'min_samples_leaf': [1, 2, 4],\n",
    "                 'min_samples_split': [2, 4, 8],\n",
    "                 'random_state': [1],\n",
    "                 'class_weight': [None, 'balanced']}\n",
    "score_tracker = []\n",
    "for trees in tqdm(params_forest['n_estimators']): # лесенка :D\n",
    "    for depth in params_forest['max_depth']:\n",
    "        for min_samples_leaf in params_forest['min_samples_leaf']:\n",
    "            for min_samples_split in params_forest['min_samples_split']:\n",
    "                for class_weight in params_forest['class_weight']:\n",
    "                        params_ = {'n_estimators': trees,\n",
    "                                   'max_depth': depth,\n",
    "                                   'min_samples_leaf': min_samples_leaf,\n",
    "                                   'min_samples_split': min_samples_split,\n",
    "                                   'random_state': 1,\n",
    "                                   'class_weight': class_weight}\n",
    "                        params_['f1'] = cross_val_score_model(RandomForestClassifier, params_, class_weight,\n",
    "                                                              features_tree, target, cv=kf)\n",
    "                        score_tracker.append(params_)\n",
    "\n",
    "forest_best = sorted(score_tracker, key=lambda x: x['f1'], reverse=True)[0]\n",
    "print(forest_best)"
   ]
  },
  {
   "cell_type": "markdown",
   "metadata": {},
   "source": [
    "Случайный лес с лучшими гипермараметрами показывает F1-меру равную 0.735, что чуть больше, чем у дерева.  \n",
    "У этой модели самый лучший результат. Проверим ее на тестовой выборке."
   ]
  },
  {
   "cell_type": "markdown",
   "metadata": {},
   "source": [
    "#### Тест модели"
   ]
  },
  {
   "cell_type": "code",
   "execution_count": 44,
   "metadata": {},
   "outputs": [
    {
     "name": "stdout",
     "output_type": "stream",
     "text": [
      "{'n_estimators': 21, 'max_depth': 10, 'min_samples_leaf': 1, 'min_samples_split': 8, 'random_state': 1, 'class_weight': 'balanced'}\n",
      "0.6358996171841769\n"
     ]
    },
    {
     "data": {
      "image/png": "[encoded data removed]",
      "text/plain": [
       "<Figure size 432x288 with 2 Axes>"
      ]
     },
     "metadata": {
      "needs_background": "light"
     },
     "output_type": "display_data"
    }
   ],
   "source": [
    "forest_best.pop('f1', forest_best)\n",
    "print(forest_best)\n",
    "fin_model = RandomForestClassifier(**forest_best)\n",
    "fin_model.fit(features_tree, target)\n",
    "pred = fin_model.predict(features_test_tree)\n",
    "finscore = f1_score(target_test, pred)\n",
    "print(finscore)\n",
    "cm = confusion_matrix(target_test, pred)\n",
    "ConfusionMatrixDisplay(confusion_matrix=cm, display_labels=fin_model.classes_).plot();"
   ]
  },
  {
   "cell_type": "markdown",
   "metadata": {},
   "source": [
    "Метрика качества на тестовой выборке упала до 0.635, видимо, модель все-таки переобучилась. Из всех предсказанных успешных заказов 24% оказались отменами, из предсказанных отмен 31.5% были успешными заказами. Правильно предсказанных отмен - 60%, успешных заказов - 83%. \n",
    "Посчитаем прибыль, которую принесет эта модель."
   ]
  },
  {
   "cell_type": "markdown",
   "metadata": {},
   "source": [
    "#### Оценка прибыльности модели"
   ]
  },
  {
   "cell_type": "code",
   "execution_count": 45,
   "metadata": {},
   "outputs": [
    {
     "name": "stdout",
     "output_type": "stream",
     "text": [
      "35300770.0 | 0.0 %\n",
      "45053390.0 | 60.4 %\n",
      "51448738.0 | 100.0 %\n",
      "9752620.0 / 16147968.0 | 60.4 %\n"
     ]
    }
   ],
   "source": [
    "data_test['is_deposit'] = pred\n",
    "profits_pred = data_test.apply(profit, axis=1)\n",
    "\n",
    "data_test['is_deposit'] = target_test\n",
    "profits100 = data_test.apply(profit, axis=1)\n",
    "    \n",
    "profits_ = pd.Series(profits_).sum()\n",
    "profits_pred = pd.Series(profits_pred).sum()\n",
    "profits100 = pd.Series(profits100).sum()\n",
    "\n",
    "print(profits_, '|', (profits_-profits_)/(profits100-profits_)*100, '%')\n",
    "print(profits_pred, '|', round((profits_pred-profits_)/(profits100-profits_)*100, 2), '%')\n",
    "print(profits100, '|', (profits100-profits_)/(profits100-profits_)*100, '%')\n",
    "\n",
    "print((profits_pred-profits_), '/', (profits100-profits_), '|', \n",
    "      round((profits_pred-profits_)/(profits100-profits_)*100, 2), '%')"
   ]
  },
  {
   "cell_type": "markdown",
   "metadata": {},
   "source": [
    "За тестовый период прибыль без внесения депозитов была равна 35.3 млн.. Если бы предсказания модели были 100% верны, то прибыль с депозитами составила бы 51.4 млн.. Выбранная модель принесла бы 45 млн., что составляет 60.4% от потенциально возможной прибыли. Прирост прибыли - 9.75 млн из возможных 16.1 млн.. Если учесть затраты на разработку системы в 400 тыс., то чистая прибыль за тестовый период будет 9.35 млн.."
   ]
  },
  {
   "cell_type": "markdown",
   "metadata": {},
   "source": [
    "### Портрет «ненадёжного» клиента"
   ]
  },
  {
   "cell_type": "markdown",
   "metadata": {},
   "source": [
    "На основе исследовательского анализа данных можно сказать, что у «ненадёжного» клиента нет четкого портрета.  \n",
    "Клиент склонен к отмене брони, если:\n",
    "- указывает в опциях заказа \"FB\",\n",
    "- уже отменял хотя бы одну бронь,\n",
    "- не оставляет специальных отметок к заказу,\n",
    "- клиент - гражданин ОАЭ, Португалии или Туниса.  \n",
    "\n",
    "И наоборот, клиент скорее не будет отменять заказ, если:\n",
    "- оставляет несколько специальных отметок к заказу,\n",
    "- у клиента уже были успешные заказы,\n",
    "- клиенту необходимо парковочное место,\n",
    "- заказ на групповой заезд,\n",
    "- заказан номер категории \"С\",\n",
    "- клиент - гражданин Сербии, Литвы или Новой Зеландии."
   ]
  },
  {
   "cell_type": "code",
   "execution_count": 46,
   "metadata": {},
   "outputs": [
    {
     "data": {
      "image/png": "[encoded data removed]",
      "text/plain": [
       "<Figure size 432x288 with 1 Axes>"
      ]
     },
     "metadata": {
      "needs_background": "light"
     },
     "output_type": "display_data"
    }
   ],
   "source": [
    "pd.Series(fin_model.feature_importances_, index=features_tree.columns).plot(kind='barh');"
   ]
  },
  {
   "cell_type": "markdown",
   "metadata": {},
   "source": [
    "Модель также считает, что на отмену брони влияют предыдущие отмены, тип клиента, количество отметок, изменений в заказе и парковочные места."
   ]
  },
  {
   "cell_type": "markdown",
   "metadata": {},
   "source": [
    "### Общий вывод"
   ]
  },
  {
   "cell_type": "markdown",
   "metadata": {},
   "source": [
    "Лучшая модель для решения этой и в целом любой задачи, очевидно та, что сделает более точные предсказания. В данном случае не думаю, что получится сильно увеличить точность - у клиентов, отменяющих бронь, нет ярко выраженных признаков, и модель не может эффективно их определять. Может, если добавить новой информации о клиентах или собрать данные за больший период, модель сможет найти взаимосвязи в них. *Сейчас лучший результат, которого удалось достичь - 60% правильно предсказанных отмен и 83% правильно предсказанных успешных заказов. Модель - случайный лес с 21 деревом и их глубиной 10, c min_samples_split равными 8 и взвешенными классами.* Модель показала чистую прибыль в 9.35 млн., что превышает затраты на разработку во много раз.\n",
    "\n",
    "Для решения задачи была проделана следующая работа:\n",
    "- предобработаны данные: удалены выбивающиеся значения, сменен тип данных у признаков;\n",
    "- проведено исследование данных;\n",
    "- написана функция расчета прибыли;\n",
    "- написана функция кросс-валидации;\n",
    "- обучены несколько моделей, оценено их качество кросс-валидацией;\n",
    "- протестирована лучшая модель;\n",
    "- посчитана прибыль лучшей модели."
   ]
  },
  {
   "cell_type": "code",
   "execution_count": null,
   "metadata": {},
   "outputs": [],
   "source": []
  }
 ],
 "metadata": {
  "ExecuteTimeLog": [
   {
    "duration": 425,
    "start_time": "2023-03-20T18:43:05.694Z"
   },
   {
    "duration": 505,
    "start_time": "2023-03-20T18:44:37.494Z"
   },
   {
    "duration": 633,
    "start_time": "2023-03-20T18:45:49.230Z"
   },
   {
    "duration": 459,
    "start_time": "2023-03-20T18:52:52.311Z"
   },
   {
    "duration": 391,
    "start_time": "2023-03-20T18:53:04.687Z"
   },
   {
    "duration": 391,
    "start_time": "2023-03-20T18:53:24.293Z"
   },
   {
    "duration": 398,
    "start_time": "2023-03-20T18:55:14.710Z"
   },
   {
    "duration": 391,
    "start_time": "2023-03-20T18:55:21.085Z"
   },
   {
    "duration": 362,
    "start_time": "2023-03-20T18:56:57.469Z"
   },
   {
    "duration": 290,
    "start_time": "2023-03-20T18:57:12.480Z"
   },
   {
    "duration": 363,
    "start_time": "2023-03-20T18:57:48.799Z"
   },
   {
    "duration": 368,
    "start_time": "2023-03-20T18:58:12.973Z"
   },
   {
    "duration": 7,
    "start_time": "2023-03-20T18:58:25.984Z"
   },
   {
    "duration": 1806,
    "start_time": "2023-03-20T18:58:55.658Z"
   },
   {
    "duration": 114,
    "start_time": "2023-03-20T19:19:06.876Z"
   },
   {
    "duration": 6,
    "start_time": "2023-03-20T19:26:18.948Z"
   },
   {
    "duration": 4,
    "start_time": "2023-03-20T19:27:44.073Z"
   },
   {
    "duration": 6,
    "start_time": "2023-03-20T19:27:50.027Z"
   },
   {
    "duration": 5,
    "start_time": "2023-03-20T19:27:58.467Z"
   },
   {
    "duration": 6,
    "start_time": "2023-03-20T19:28:03.626Z"
   },
   {
    "duration": 7,
    "start_time": "2023-03-20T19:28:19.252Z"
   },
   {
    "duration": 7,
    "start_time": "2023-03-20T19:29:05.145Z"
   },
   {
    "duration": 8,
    "start_time": "2023-03-20T19:29:47.501Z"
   },
   {
    "duration": 6,
    "start_time": "2023-03-20T19:34:11.584Z"
   },
   {
    "duration": 7,
    "start_time": "2023-03-20T19:34:17.040Z"
   },
   {
    "duration": 7,
    "start_time": "2023-03-20T19:34:30.031Z"
   },
   {
    "duration": 6,
    "start_time": "2023-03-20T19:35:31.686Z"
   },
   {
    "duration": 12,
    "start_time": "2023-03-20T19:37:37.754Z"
   },
   {
    "duration": 12,
    "start_time": "2023-03-20T19:40:00.423Z"
   },
   {
    "duration": 10,
    "start_time": "2023-03-20T19:40:19.934Z"
   },
   {
    "duration": 11,
    "start_time": "2023-03-20T19:40:59.119Z"
   },
   {
    "duration": 10,
    "start_time": "2023-03-20T19:43:30.426Z"
   },
   {
    "duration": 9,
    "start_time": "2023-03-20T19:44:56.044Z"
   },
   {
    "duration": 10,
    "start_time": "2023-03-20T19:45:06.896Z"
   },
   {
    "duration": 13,
    "start_time": "2023-03-20T19:45:44.315Z"
   },
   {
    "duration": 11,
    "start_time": "2023-03-20T19:46:28.232Z"
   },
   {
    "duration": 10,
    "start_time": "2023-03-20T19:46:48.002Z"
   },
   {
    "duration": 503,
    "start_time": "2023-03-20T19:52:19.257Z"
   },
   {
    "duration": 17,
    "start_time": "2023-03-20T19:58:46.163Z"
   },
   {
    "duration": 16,
    "start_time": "2023-03-20T19:59:50.509Z"
   },
   {
    "duration": 22,
    "start_time": "2023-03-20T20:00:15.530Z"
   },
   {
    "duration": 11,
    "start_time": "2023-03-20T20:00:31.387Z"
   },
   {
    "duration": 75,
    "start_time": "2023-03-20T20:00:45.442Z"
   },
   {
    "duration": 80,
    "start_time": "2023-03-20T20:00:48.660Z"
   },
   {
    "duration": 319,
    "start_time": "2023-03-20T20:00:55.250Z"
   },
   {
    "duration": 38,
    "start_time": "2023-03-20T20:01:19.154Z"
   },
   {
    "duration": 31,
    "start_time": "2023-03-20T20:01:31.997Z"
   },
   {
    "duration": 41,
    "start_time": "2023-03-20T20:02:00.774Z"
   },
   {
    "duration": 13,
    "start_time": "2023-03-20T20:12:24.886Z"
   },
   {
    "duration": 385,
    "start_time": "2023-03-21T19:44:42.338Z"
   },
   {
    "duration": 1766,
    "start_time": "2023-03-21T19:44:45.785Z"
   },
   {
    "duration": 37,
    "start_time": "2023-03-21T19:44:52.296Z"
   },
   {
    "duration": 10,
    "start_time": "2023-03-21T19:44:55.503Z"
   },
   {
    "duration": 2,
    "start_time": "2023-03-21T19:46:43.486Z"
   },
   {
    "duration": 1114,
    "start_time": "2023-03-21T19:48:28.598Z"
   },
   {
    "duration": 12,
    "start_time": "2023-03-21T20:51:30.085Z"
   },
   {
    "duration": 89,
    "start_time": "2023-03-21T20:51:50.257Z"
   },
   {
    "duration": 2057,
    "start_time": "2023-03-21T20:51:57.304Z"
   },
   {
    "duration": 1657,
    "start_time": "2023-03-21T20:52:53.283Z"
   },
   {
    "duration": 3,
    "start_time": "2023-03-21T20:54:16.972Z"
   },
   {
    "duration": 27,
    "start_time": "2023-03-21T20:54:32.284Z"
   },
   {
    "duration": 1598,
    "start_time": "2023-03-21T20:54:40.297Z"
   },
   {
    "duration": 1540,
    "start_time": "2023-03-21T20:55:40.002Z"
   },
   {
    "duration": 44,
    "start_time": "2023-03-21T20:57:51.289Z"
   },
   {
    "duration": 154,
    "start_time": "2023-03-21T20:58:00.056Z"
   },
   {
    "duration": 162,
    "start_time": "2023-03-21T20:58:13.218Z"
   },
   {
    "duration": 119,
    "start_time": "2023-03-21T20:59:33.269Z"
   },
   {
    "duration": 116,
    "start_time": "2023-03-21T20:59:41.399Z"
   },
   {
    "duration": 22,
    "start_time": "2023-03-21T20:59:53.169Z"
   },
   {
    "duration": 134,
    "start_time": "2023-03-21T21:00:03.931Z"
   },
   {
    "duration": 135,
    "start_time": "2023-03-21T21:00:09.028Z"
   },
   {
    "duration": 164,
    "start_time": "2023-03-21T21:00:29.176Z"
   },
   {
    "duration": 239,
    "start_time": "2023-03-21T21:00:47.943Z"
   },
   {
    "duration": 6,
    "start_time": "2023-03-21T21:08:06.243Z"
   },
   {
    "duration": 7,
    "start_time": "2023-03-21T21:08:21.813Z"
   },
   {
    "duration": 2,
    "start_time": "2023-03-21T21:13:26.217Z"
   },
   {
    "duration": 12,
    "start_time": "2023-03-21T21:17:14.005Z"
   },
   {
    "duration": 3,
    "start_time": "2023-03-21T21:18:31.738Z"
   },
   {
    "duration": 868,
    "start_time": "2023-03-22T19:39:43.030Z"
   },
   {
    "duration": 2,
    "start_time": "2023-03-22T19:39:43.900Z"
   },
   {
    "duration": 1055,
    "start_time": "2023-03-22T19:39:43.904Z"
   },
   {
    "duration": 2764,
    "start_time": "2023-03-22T19:39:47.989Z"
   },
   {
    "duration": 3,
    "start_time": "2023-03-22T20:21:12.458Z"
   },
   {
    "duration": 37,
    "start_time": "2023-03-22T20:21:49.987Z"
   },
   {
    "duration": 37,
    "start_time": "2023-03-22T20:22:22.977Z"
   },
   {
    "duration": 4,
    "start_time": "2023-03-22T20:29:17.397Z"
   },
   {
    "duration": 3,
    "start_time": "2023-03-22T20:30:40.131Z"
   },
   {
    "duration": 3,
    "start_time": "2023-03-22T20:30:43.823Z"
   },
   {
    "duration": 3,
    "start_time": "2023-03-22T20:30:46.655Z"
   },
   {
    "duration": 4,
    "start_time": "2023-03-22T20:30:53.585Z"
   },
   {
    "duration": 96,
    "start_time": "2023-03-22T20:42:24.117Z"
   },
   {
    "duration": 24,
    "start_time": "2023-03-22T20:42:34.587Z"
   },
   {
    "duration": 691,
    "start_time": "2023-03-22T20:43:45.282Z"
   },
   {
    "duration": 19,
    "start_time": "2023-03-22T20:44:14.698Z"
   },
   {
    "duration": 26,
    "start_time": "2023-03-22T20:45:41.082Z"
   },
   {
    "duration": 35,
    "start_time": "2023-03-22T20:46:28.480Z"
   },
   {
    "duration": 26,
    "start_time": "2023-03-22T20:47:20.618Z"
   },
   {
    "duration": 39,
    "start_time": "2023-03-22T20:47:30.444Z"
   },
   {
    "duration": 44,
    "start_time": "2023-03-22T20:48:15.626Z"
   },
   {
    "duration": 37,
    "start_time": "2023-03-22T20:48:52.421Z"
   },
   {
    "duration": 248,
    "start_time": "2023-03-22T20:50:01.342Z"
   },
   {
    "duration": 40,
    "start_time": "2023-03-22T20:50:45.959Z"
   },
   {
    "duration": 39,
    "start_time": "2023-03-22T20:51:25.978Z"
   },
   {
    "duration": 20,
    "start_time": "2023-03-22T20:51:38.563Z"
   },
   {
    "duration": 19,
    "start_time": "2023-03-22T20:54:59.079Z"
   },
   {
    "duration": 19,
    "start_time": "2023-03-22T20:55:16.324Z"
   },
   {
    "duration": 50,
    "start_time": "2023-03-22T20:55:36.849Z"
   },
   {
    "duration": 49,
    "start_time": "2023-03-22T20:55:50.287Z"
   },
   {
    "duration": 44,
    "start_time": "2023-03-22T20:55:58.624Z"
   },
   {
    "duration": 46,
    "start_time": "2023-03-22T20:56:05.967Z"
   },
   {
    "duration": 19,
    "start_time": "2023-03-22T20:56:16.035Z"
   },
   {
    "duration": 18,
    "start_time": "2023-03-22T20:57:08.261Z"
   },
   {
    "duration": 18,
    "start_time": "2023-03-22T20:57:25.749Z"
   },
   {
    "duration": 49,
    "start_time": "2023-03-22T20:57:44.746Z"
   },
   {
    "duration": 20,
    "start_time": "2023-03-22T20:57:57.591Z"
   },
   {
    "duration": 18,
    "start_time": "2023-03-22T20:58:02.024Z"
   },
   {
    "duration": 18,
    "start_time": "2023-03-22T20:58:30.124Z"
   },
   {
    "duration": 19,
    "start_time": "2023-03-22T20:58:38.620Z"
   },
   {
    "duration": 21,
    "start_time": "2023-03-22T20:59:05.163Z"
   },
   {
    "duration": 18,
    "start_time": "2023-03-22T21:00:21.788Z"
   },
   {
    "duration": 19,
    "start_time": "2023-03-22T21:01:00.117Z"
   },
   {
    "duration": 18,
    "start_time": "2023-03-22T21:01:10.381Z"
   },
   {
    "duration": 17,
    "start_time": "2023-03-22T21:01:14.908Z"
   },
   {
    "duration": 19,
    "start_time": "2023-03-22T21:01:38.281Z"
   },
   {
    "duration": 18,
    "start_time": "2023-03-22T21:01:52.213Z"
   },
   {
    "duration": 17,
    "start_time": "2023-03-22T21:02:09.166Z"
   },
   {
    "duration": 18,
    "start_time": "2023-03-22T21:02:55.979Z"
   },
   {
    "duration": 18,
    "start_time": "2023-03-22T21:03:11.184Z"
   },
   {
    "duration": 20,
    "start_time": "2023-03-22T21:03:35.627Z"
   },
   {
    "duration": 13,
    "start_time": "2023-03-22T21:03:44.539Z"
   },
   {
    "duration": 19,
    "start_time": "2023-03-22T21:04:02.776Z"
   },
   {
    "duration": 22,
    "start_time": "2023-03-22T21:04:31.224Z"
   },
   {
    "duration": 26,
    "start_time": "2023-03-22T21:04:37.717Z"
   },
   {
    "duration": 19,
    "start_time": "2023-03-22T21:04:40.798Z"
   },
   {
    "duration": 16,
    "start_time": "2023-03-22T21:05:09.009Z"
   },
   {
    "duration": 12,
    "start_time": "2023-03-22T21:05:17.212Z"
   },
   {
    "duration": 11,
    "start_time": "2023-03-22T21:05:39.110Z"
   },
   {
    "duration": 13,
    "start_time": "2023-03-22T21:06:13.650Z"
   },
   {
    "duration": 13,
    "start_time": "2023-03-22T21:06:32.215Z"
   },
   {
    "duration": 14,
    "start_time": "2023-03-22T21:06:39.775Z"
   },
   {
    "duration": 18,
    "start_time": "2023-03-22T21:06:56.178Z"
   },
   {
    "duration": 19,
    "start_time": "2023-03-22T21:07:07.427Z"
   },
   {
    "duration": 17,
    "start_time": "2023-03-22T21:07:16.561Z"
   },
   {
    "duration": 11,
    "start_time": "2023-03-22T21:07:31.728Z"
   },
   {
    "duration": 11,
    "start_time": "2023-03-22T21:07:40.651Z"
   },
   {
    "duration": 19,
    "start_time": "2023-03-22T21:07:56.778Z"
   },
   {
    "duration": 21,
    "start_time": "2023-03-22T21:09:08.976Z"
   },
   {
    "duration": 19,
    "start_time": "2023-03-22T21:09:46.183Z"
   },
   {
    "duration": 19,
    "start_time": "2023-03-22T21:10:01.657Z"
   },
   {
    "duration": 18,
    "start_time": "2023-03-22T21:10:20.969Z"
   },
   {
    "duration": 17,
    "start_time": "2023-03-22T21:11:35.299Z"
   },
   {
    "duration": 15,
    "start_time": "2023-03-22T21:11:40.669Z"
   },
   {
    "duration": 17,
    "start_time": "2023-03-22T21:11:50.980Z"
   },
   {
    "duration": 20,
    "start_time": "2023-03-22T21:12:56.223Z"
   },
   {
    "duration": 11,
    "start_time": "2023-03-22T21:13:46.664Z"
   },
   {
    "duration": 11,
    "start_time": "2023-03-22T21:13:57.437Z"
   },
   {
    "duration": 11,
    "start_time": "2023-03-22T21:14:04.116Z"
   },
   {
    "duration": 11,
    "start_time": "2023-03-22T21:14:17.923Z"
   },
   {
    "duration": 10,
    "start_time": "2023-03-22T21:14:23.325Z"
   },
   {
    "duration": 10,
    "start_time": "2023-03-22T21:14:28.470Z"
   },
   {
    "duration": 17,
    "start_time": "2023-03-22T21:14:36.221Z"
   },
   {
    "duration": 10,
    "start_time": "2023-03-22T21:14:49.054Z"
   },
   {
    "duration": 8,
    "start_time": "2023-03-22T21:15:14.128Z"
   },
   {
    "duration": 9,
    "start_time": "2023-03-22T21:15:19.677Z"
   },
   {
    "duration": 10,
    "start_time": "2023-03-22T21:15:28.029Z"
   },
   {
    "duration": 9,
    "start_time": "2023-03-22T21:15:34.170Z"
   },
   {
    "duration": 10,
    "start_time": "2023-03-22T21:15:36.546Z"
   },
   {
    "duration": 10,
    "start_time": "2023-03-22T21:15:50.540Z"
   },
   {
    "duration": 10,
    "start_time": "2023-03-22T21:16:04.193Z"
   },
   {
    "duration": 9,
    "start_time": "2023-03-22T21:16:10.902Z"
   },
   {
    "duration": 10,
    "start_time": "2023-03-22T21:16:28.148Z"
   },
   {
    "duration": 9,
    "start_time": "2023-03-22T21:16:33.589Z"
   },
   {
    "duration": 10,
    "start_time": "2023-03-22T21:16:37.940Z"
   },
   {
    "duration": 8,
    "start_time": "2023-03-22T21:16:40.759Z"
   },
   {
    "duration": 9,
    "start_time": "2023-03-22T21:16:43.015Z"
   },
   {
    "duration": 9,
    "start_time": "2023-03-22T21:16:46.635Z"
   },
   {
    "duration": 9,
    "start_time": "2023-03-22T21:16:49.978Z"
   },
   {
    "duration": 11,
    "start_time": "2023-03-22T21:16:54.653Z"
   },
   {
    "duration": 10,
    "start_time": "2023-03-22T21:16:58.559Z"
   },
   {
    "duration": 9,
    "start_time": "2023-03-22T21:17:02.890Z"
   },
   {
    "duration": 9,
    "start_time": "2023-03-22T21:17:06.987Z"
   },
   {
    "duration": 9,
    "start_time": "2023-03-22T21:17:14.156Z"
   },
   {
    "duration": 11,
    "start_time": "2023-03-22T21:17:48.638Z"
   },
   {
    "duration": 11,
    "start_time": "2023-03-22T21:18:13.650Z"
   },
   {
    "duration": 12,
    "start_time": "2023-03-22T21:18:18.137Z"
   },
   {
    "duration": 11,
    "start_time": "2023-03-22T21:18:30.882Z"
   },
   {
    "duration": 10,
    "start_time": "2023-03-22T21:18:43.617Z"
   },
   {
    "duration": 13,
    "start_time": "2023-03-22T21:18:47.725Z"
   },
   {
    "duration": 10,
    "start_time": "2023-03-22T21:19:23.366Z"
   },
   {
    "duration": 9,
    "start_time": "2023-03-22T21:19:29.756Z"
   },
   {
    "duration": 10,
    "start_time": "2023-03-22T21:24:34.845Z"
   },
   {
    "duration": 10,
    "start_time": "2023-03-22T21:24:41.423Z"
   },
   {
    "duration": 10,
    "start_time": "2023-03-22T21:24:43.872Z"
   },
   {
    "duration": 9,
    "start_time": "2023-03-22T21:24:49.910Z"
   },
   {
    "duration": 10,
    "start_time": "2023-03-22T21:25:04.627Z"
   },
   {
    "duration": 9,
    "start_time": "2023-03-22T21:25:07.477Z"
   },
   {
    "duration": 10,
    "start_time": "2023-03-22T21:25:14.697Z"
   },
   {
    "duration": 10,
    "start_time": "2023-03-22T21:25:16.921Z"
   },
   {
    "duration": 9,
    "start_time": "2023-03-22T21:25:22.901Z"
   },
   {
    "duration": 10,
    "start_time": "2023-03-22T21:25:56.741Z"
   },
   {
    "duration": 10,
    "start_time": "2023-03-22T21:26:51.228Z"
   },
   {
    "duration": 9,
    "start_time": "2023-03-22T21:26:54.930Z"
   },
   {
    "duration": 9,
    "start_time": "2023-03-22T21:27:02.836Z"
   },
   {
    "duration": 10,
    "start_time": "2023-03-22T21:27:08.322Z"
   },
   {
    "duration": 10,
    "start_time": "2023-03-22T21:27:11.692Z"
   },
   {
    "duration": 11,
    "start_time": "2023-03-22T21:27:26.826Z"
   },
   {
    "duration": 12,
    "start_time": "2023-03-22T21:27:28.949Z"
   },
   {
    "duration": 11,
    "start_time": "2023-03-22T21:27:30.539Z"
   },
   {
    "duration": 9,
    "start_time": "2023-03-22T21:27:32.254Z"
   },
   {
    "duration": 10,
    "start_time": "2023-03-22T21:27:33.489Z"
   },
   {
    "duration": 11,
    "start_time": "2023-03-22T21:27:35.087Z"
   },
   {
    "duration": 10,
    "start_time": "2023-03-22T21:27:37.582Z"
   },
   {
    "duration": 10,
    "start_time": "2023-03-22T21:27:39.570Z"
   },
   {
    "duration": 11,
    "start_time": "2023-03-22T21:28:34.792Z"
   },
   {
    "duration": 9,
    "start_time": "2023-03-22T21:28:38.342Z"
   },
   {
    "duration": 10,
    "start_time": "2023-03-22T21:28:58.748Z"
   },
   {
    "duration": 11,
    "start_time": "2023-03-22T21:30:19.720Z"
   },
   {
    "duration": 12,
    "start_time": "2023-03-22T21:30:50.840Z"
   },
   {
    "duration": 10,
    "start_time": "2023-03-22T21:30:55.880Z"
   },
   {
    "duration": 4,
    "start_time": "2023-03-22T21:32:57.881Z"
   },
   {
    "duration": 12,
    "start_time": "2023-03-22T21:33:03.970Z"
   },
   {
    "duration": 50,
    "start_time": "2023-03-22T21:34:34.736Z"
   },
   {
    "duration": 3,
    "start_time": "2023-03-22T21:34:38.254Z"
   },
   {
    "duration": 11,
    "start_time": "2023-03-22T21:34:50.126Z"
   },
   {
    "duration": 12,
    "start_time": "2023-03-22T21:35:13.460Z"
   },
   {
    "duration": 10,
    "start_time": "2023-03-22T21:35:30.547Z"
   },
   {
    "duration": 10,
    "start_time": "2023-03-22T21:36:46.555Z"
   },
   {
    "duration": 5,
    "start_time": "2023-03-22T21:43:45.181Z"
   },
   {
    "duration": 12,
    "start_time": "2023-03-22T21:46:10.873Z"
   },
   {
    "duration": 13,
    "start_time": "2023-03-22T21:46:21.081Z"
   },
   {
    "duration": 15,
    "start_time": "2023-03-22T21:46:29.240Z"
   },
   {
    "duration": 17,
    "start_time": "2023-03-22T21:46:55.218Z"
   },
   {
    "duration": 19,
    "start_time": "2023-03-22T21:47:17.948Z"
   },
   {
    "duration": 16,
    "start_time": "2023-03-22T21:47:29.578Z"
   },
   {
    "duration": 18,
    "start_time": "2023-03-22T21:47:33.514Z"
   },
   {
    "duration": 19,
    "start_time": "2023-03-22T21:47:37.978Z"
   },
   {
    "duration": 34,
    "start_time": "2023-03-22T21:48:38.825Z"
   },
   {
    "duration": 17,
    "start_time": "2023-03-22T21:50:19.843Z"
   },
   {
    "duration": 16,
    "start_time": "2023-03-22T21:50:34.091Z"
   },
   {
    "duration": 17,
    "start_time": "2023-03-22T21:50:37.321Z"
   },
   {
    "duration": 18,
    "start_time": "2023-03-22T21:50:46.179Z"
   },
   {
    "duration": 19,
    "start_time": "2023-03-22T21:51:19.167Z"
   },
   {
    "duration": 41,
    "start_time": "2023-03-22T21:52:04.115Z"
   },
   {
    "duration": 37,
    "start_time": "2023-03-22T21:52:29.855Z"
   },
   {
    "duration": 188,
    "start_time": "2023-03-22T21:52:34.013Z"
   },
   {
    "duration": 16,
    "start_time": "2023-03-22T21:53:15.754Z"
   },
   {
    "duration": 175,
    "start_time": "2023-03-22T21:53:24.198Z"
   },
   {
    "duration": 293,
    "start_time": "2023-03-22T21:54:28.995Z"
   },
   {
    "duration": 39,
    "start_time": "2023-03-22T21:54:33.193Z"
   },
   {
    "duration": 59,
    "start_time": "2023-03-22T21:55:01.367Z"
   },
   {
    "duration": 49,
    "start_time": "2023-03-22T21:55:21.236Z"
   },
   {
    "duration": 23,
    "start_time": "2023-03-22T21:56:16.815Z"
   },
   {
    "duration": 24,
    "start_time": "2023-03-22T21:56:22.140Z"
   },
   {
    "duration": 22,
    "start_time": "2023-03-22T21:56:33.364Z"
   },
   {
    "duration": 3,
    "start_time": "2023-03-22T21:57:00.399Z"
   },
   {
    "duration": 52,
    "start_time": "2023-03-22T21:57:10.741Z"
   },
   {
    "duration": 32,
    "start_time": "2023-03-22T21:57:36.809Z"
   },
   {
    "duration": 24,
    "start_time": "2023-03-22T21:58:13.455Z"
   },
   {
    "duration": 30,
    "start_time": "2023-03-22T21:58:24.466Z"
   },
   {
    "duration": 164,
    "start_time": "2023-03-22T21:58:32.330Z"
   },
   {
    "duration": 153,
    "start_time": "2023-03-22T21:59:00.268Z"
   },
   {
    "duration": 145,
    "start_time": "2023-03-22T21:59:07.178Z"
   },
   {
    "duration": 151,
    "start_time": "2023-03-22T21:59:19.661Z"
   },
   {
    "duration": 156,
    "start_time": "2023-03-22T21:59:44.526Z"
   },
   {
    "duration": 176,
    "start_time": "2023-03-22T21:59:48.570Z"
   },
   {
    "duration": 146,
    "start_time": "2023-03-22T21:59:51.064Z"
   },
   {
    "duration": 162,
    "start_time": "2023-03-22T22:00:25.251Z"
   },
   {
    "duration": 170,
    "start_time": "2023-03-22T22:00:49.528Z"
   },
   {
    "duration": 38,
    "start_time": "2023-03-22T22:00:54.465Z"
   },
   {
    "duration": 165,
    "start_time": "2023-03-22T22:01:34.390Z"
   },
   {
    "duration": 228,
    "start_time": "2023-03-22T22:01:44.165Z"
   },
   {
    "duration": 166,
    "start_time": "2023-03-22T22:01:49.636Z"
   },
   {
    "duration": 178,
    "start_time": "2023-03-22T22:01:53.713Z"
   },
   {
    "duration": 190,
    "start_time": "2023-03-22T22:02:03.427Z"
   },
   {
    "duration": 1026,
    "start_time": "2023-03-22T22:02:15.584Z"
   },
   {
    "duration": 172,
    "start_time": "2023-03-22T22:02:28.175Z"
   },
   {
    "duration": 211,
    "start_time": "2023-03-22T22:03:39.167Z"
   },
   {
    "duration": 742,
    "start_time": "2023-03-22T22:04:10.575Z"
   },
   {
    "duration": 46,
    "start_time": "2023-03-22T22:04:20.683Z"
   },
   {
    "duration": 245,
    "start_time": "2023-03-22T22:04:28.614Z"
   },
   {
    "duration": 301,
    "start_time": "2023-03-22T22:05:17.786Z"
   },
   {
    "duration": 38,
    "start_time": "2023-03-22T22:05:34.479Z"
   },
   {
    "duration": 132,
    "start_time": "2023-03-22T22:05:36.742Z"
   },
   {
    "duration": 136,
    "start_time": "2023-03-22T22:05:42.385Z"
   },
   {
    "duration": 224,
    "start_time": "2023-03-22T22:05:56.147Z"
   },
   {
    "duration": 126,
    "start_time": "2023-03-22T22:06:02.235Z"
   },
   {
    "duration": 226,
    "start_time": "2023-03-22T22:07:57.689Z"
   },
   {
    "duration": 224,
    "start_time": "2023-03-22T22:08:19.430Z"
   },
   {
    "duration": 230,
    "start_time": "2023-03-22T22:08:49.293Z"
   },
   {
    "duration": 226,
    "start_time": "2023-03-22T22:09:08.153Z"
   },
   {
    "duration": 228,
    "start_time": "2023-03-22T22:09:15.092Z"
   },
   {
    "duration": 231,
    "start_time": "2023-03-22T22:09:39.790Z"
   },
   {
    "duration": 239,
    "start_time": "2023-03-22T22:09:49.550Z"
   },
   {
    "duration": 225,
    "start_time": "2023-03-22T22:10:15.043Z"
   },
   {
    "duration": 217,
    "start_time": "2023-03-22T22:10:22.109Z"
   },
   {
    "duration": 317,
    "start_time": "2023-03-22T22:10:35.814Z"
   },
   {
    "duration": 233,
    "start_time": "2023-03-22T22:11:12.411Z"
   },
   {
    "duration": 238,
    "start_time": "2023-03-22T22:11:20.310Z"
   },
   {
    "duration": 317,
    "start_time": "2023-03-22T22:11:39.818Z"
   },
   {
    "duration": 140,
    "start_time": "2023-03-22T22:12:27.796Z"
   },
   {
    "duration": 139,
    "start_time": "2023-03-22T22:12:54.572Z"
   },
   {
    "duration": 137,
    "start_time": "2023-03-22T22:13:03.373Z"
   },
   {
    "duration": 147,
    "start_time": "2023-03-22T22:13:13.929Z"
   },
   {
    "duration": 151,
    "start_time": "2023-03-22T22:14:07.489Z"
   },
   {
    "duration": 149,
    "start_time": "2023-03-22T22:14:14.324Z"
   },
   {
    "duration": 181,
    "start_time": "2023-03-22T22:14:22.838Z"
   },
   {
    "duration": 133,
    "start_time": "2023-03-22T22:14:38.382Z"
   },
   {
    "duration": 136,
    "start_time": "2023-03-22T22:14:48.463Z"
   },
   {
    "duration": 252,
    "start_time": "2023-03-22T22:14:57.764Z"
   },
   {
    "duration": 238,
    "start_time": "2023-03-22T22:15:16.878Z"
   },
   {
    "duration": 235,
    "start_time": "2023-03-22T22:15:27.661Z"
   },
   {
    "duration": 882,
    "start_time": "2023-03-23T15:13:28.654Z"
   },
   {
    "duration": 3,
    "start_time": "2023-03-23T15:13:29.541Z"
   },
   {
    "duration": 919,
    "start_time": "2023-03-23T15:13:32.112Z"
   },
   {
    "duration": 85,
    "start_time": "2023-03-23T15:14:01.684Z"
   },
   {
    "duration": 8,
    "start_time": "2023-03-23T15:14:20.434Z"
   },
   {
    "duration": 57,
    "start_time": "2023-03-23T15:14:27.516Z"
   },
   {
    "duration": 59,
    "start_time": "2023-03-23T15:14:47.914Z"
   },
   {
    "duration": 48,
    "start_time": "2023-03-23T15:19:54.523Z"
   },
   {
    "duration": 18,
    "start_time": "2023-03-23T15:20:23.398Z"
   },
   {
    "duration": 8,
    "start_time": "2023-03-23T15:20:46.230Z"
   },
   {
    "duration": 8,
    "start_time": "2023-03-23T15:21:08.754Z"
   },
   {
    "duration": 7,
    "start_time": "2023-03-23T15:21:15.547Z"
   },
   {
    "duration": 10,
    "start_time": "2023-03-23T15:21:20.369Z"
   },
   {
    "duration": 10,
    "start_time": "2023-03-23T15:21:49.658Z"
   },
   {
    "duration": 43,
    "start_time": "2023-03-23T15:22:41.408Z"
   },
   {
    "duration": 36,
    "start_time": "2023-03-23T15:22:51.094Z"
   },
   {
    "duration": 25,
    "start_time": "2023-03-23T15:23:04.380Z"
   },
   {
    "duration": 21,
    "start_time": "2023-03-23T15:23:08.757Z"
   },
   {
    "duration": 61,
    "start_time": "2023-03-23T15:24:14.966Z"
   },
   {
    "duration": 3,
    "start_time": "2023-03-23T15:24:49.780Z"
   },
   {
    "duration": 5,
    "start_time": "2023-03-23T15:24:49.786Z"
   },
   {
    "duration": 1993,
    "start_time": "2023-03-23T15:24:49.794Z"
   },
   {
    "duration": 49,
    "start_time": "2023-03-23T15:25:00.262Z"
   },
   {
    "duration": 77,
    "start_time": "2023-03-23T15:25:41.978Z"
   },
   {
    "duration": 13,
    "start_time": "2023-03-23T15:26:50.970Z"
   },
   {
    "duration": 14,
    "start_time": "2023-03-23T15:26:55.474Z"
   },
   {
    "duration": 776,
    "start_time": "2023-03-23T15:27:22.666Z"
   },
   {
    "duration": 8,
    "start_time": "2023-03-23T15:27:34.009Z"
   },
   {
    "duration": 13,
    "start_time": "2023-03-23T15:33:43.804Z"
   },
   {
    "duration": 41,
    "start_time": "2023-03-23T15:35:12.779Z"
   },
   {
    "duration": 37,
    "start_time": "2023-03-23T15:35:36.970Z"
   },
   {
    "duration": 56,
    "start_time": "2023-03-23T15:35:43.265Z"
   },
   {
    "duration": 20,
    "start_time": "2023-03-23T15:36:36.866Z"
   },
   {
    "duration": 294,
    "start_time": "2023-03-23T15:36:47.317Z"
   },
   {
    "duration": 258,
    "start_time": "2023-03-23T15:37:14.575Z"
   },
   {
    "duration": 299,
    "start_time": "2023-03-23T15:37:43.891Z"
   },
   {
    "duration": 434,
    "start_time": "2023-03-23T15:37:49.185Z"
   },
   {
    "duration": 250,
    "start_time": "2023-03-23T15:38:02.003Z"
   },
   {
    "duration": 335,
    "start_time": "2023-03-23T15:38:22.071Z"
   },
   {
    "duration": 260,
    "start_time": "2023-03-23T15:38:29.762Z"
   },
   {
    "duration": 320,
    "start_time": "2023-03-23T15:38:34.672Z"
   },
   {
    "duration": 18,
    "start_time": "2023-03-23T15:45:20.901Z"
   },
   {
    "duration": 13,
    "start_time": "2023-03-23T15:45:43.969Z"
   },
   {
    "duration": 1714,
    "start_time": "2023-03-23T15:45:50.516Z"
   },
   {
    "duration": 24,
    "start_time": "2023-03-23T15:46:22.827Z"
   },
   {
    "duration": 181,
    "start_time": "2023-03-23T15:46:52.978Z"
   },
   {
    "duration": 174,
    "start_time": "2023-03-23T15:47:41.212Z"
   },
   {
    "duration": 172,
    "start_time": "2023-03-23T15:47:48.006Z"
   },
   {
    "duration": 211,
    "start_time": "2023-03-23T15:48:19.245Z"
   },
   {
    "duration": 173,
    "start_time": "2023-03-23T15:48:24.861Z"
   },
   {
    "duration": 174,
    "start_time": "2023-03-23T15:48:32.241Z"
   },
   {
    "duration": 207,
    "start_time": "2023-03-23T15:48:38.097Z"
   },
   {
    "duration": 162,
    "start_time": "2023-03-23T15:48:43.962Z"
   },
   {
    "duration": 184,
    "start_time": "2023-03-23T15:48:58.663Z"
   },
   {
    "duration": 192,
    "start_time": "2023-03-23T17:09:45.900Z"
   },
   {
    "duration": 1548,
    "start_time": "2023-03-24T13:18:07.343Z"
   },
   {
    "duration": 47,
    "start_time": "2023-03-24T13:19:04.880Z"
   },
   {
    "duration": 3,
    "start_time": "2023-03-24T13:20:41.276Z"
   },
   {
    "duration": 5,
    "start_time": "2023-03-24T13:20:41.281Z"
   },
   {
    "duration": 843,
    "start_time": "2023-03-24T13:20:41.288Z"
   },
   {
    "duration": 67,
    "start_time": "2023-03-24T13:20:42.141Z"
   },
   {
    "duration": 3,
    "start_time": "2023-03-24T13:20:42.210Z"
   },
   {
    "duration": 198,
    "start_time": "2023-03-24T13:20:42.241Z"
   },
   {
    "duration": 53,
    "start_time": "2023-03-24T13:20:42.441Z"
   },
   {
    "duration": 3,
    "start_time": "2023-03-24T13:20:42.495Z"
   },
   {
    "duration": 7,
    "start_time": "2023-03-24T13:20:42.500Z"
   },
   {
    "duration": 3,
    "start_time": "2023-03-24T13:20:42.509Z"
   },
   {
    "duration": 28,
    "start_time": "2023-03-24T13:20:42.514Z"
   },
   {
    "duration": 277,
    "start_time": "2023-03-24T13:20:42.544Z"
   },
   {
    "duration": 2,
    "start_time": "2023-03-24T13:20:42.823Z"
   },
   {
    "duration": 62,
    "start_time": "2023-03-24T13:20:42.827Z"
   },
   {
    "duration": 10,
    "start_time": "2023-03-24T13:20:42.891Z"
   },
   {
    "duration": 12,
    "start_time": "2023-03-24T13:20:42.902Z"
   },
   {
    "duration": 152,
    "start_time": "2023-03-24T13:20:51.453Z"
   },
   {
    "duration": 12,
    "start_time": "2023-03-24T13:20:59.452Z"
   },
   {
    "duration": 59,
    "start_time": "2023-03-24T13:21:09.690Z"
   },
   {
    "duration": 1226,
    "start_time": "2023-03-24T13:22:19.628Z"
   },
   {
    "duration": 14,
    "start_time": "2023-03-24T13:22:45.515Z"
   },
   {
    "duration": 3,
    "start_time": "2023-03-24T13:25:25.706Z"
   },
   {
    "duration": 207,
    "start_time": "2023-03-24T13:27:50.874Z"
   },
   {
    "duration": 111,
    "start_time": "2023-03-24T13:27:53.550Z"
   },
   {
    "duration": 1633,
    "start_time": "2023-03-24T13:28:49.999Z"
   },
   {
    "duration": 59,
    "start_time": "2023-03-24T13:33:50.825Z"
   },
   {
    "duration": 1469995,
    "start_time": "2023-03-24T13:34:23.911Z"
   },
   {
    "duration": 0,
    "start_time": "2023-03-24T13:58:53.908Z"
   },
   {
    "duration": 24784,
    "start_time": "2023-03-24T13:59:19.766Z"
   },
   {
    "duration": 550181,
    "start_time": "2023-03-24T14:00:36.234Z"
   },
   {
    "duration": 3,
    "start_time": "2023-03-24T14:10:32.037Z"
   },
   {
    "duration": 7,
    "start_time": "2023-03-24T14:10:32.042Z"
   },
   {
    "duration": 802,
    "start_time": "2023-03-24T14:10:32.060Z"
   },
   {
    "duration": 49,
    "start_time": "2023-03-24T14:10:32.863Z"
   },
   {
    "duration": 3,
    "start_time": "2023-03-24T14:10:32.913Z"
   },
   {
    "duration": 166,
    "start_time": "2023-03-24T14:10:32.940Z"
   },
   {
    "duration": 55,
    "start_time": "2023-03-24T14:10:33.108Z"
   },
   {
    "duration": 3,
    "start_time": "2023-03-24T14:10:33.164Z"
   },
   {
    "duration": 19,
    "start_time": "2023-03-24T14:10:33.168Z"
   },
   {
    "duration": 6,
    "start_time": "2023-03-24T14:10:33.189Z"
   },
   {
    "duration": 8,
    "start_time": "2023-03-24T14:10:33.197Z"
   },
   {
    "duration": 259,
    "start_time": "2023-03-24T14:10:33.206Z"
   },
   {
    "duration": 2,
    "start_time": "2023-03-24T14:10:33.467Z"
   },
   {
    "duration": 43,
    "start_time": "2023-03-24T14:10:33.471Z"
   },
   {
    "duration": 26,
    "start_time": "2023-03-24T14:10:33.515Z"
   },
   {
    "duration": 12,
    "start_time": "2023-03-24T14:10:33.543Z"
   },
   {
    "duration": 18,
    "start_time": "2023-03-24T14:10:33.557Z"
   },
   {
    "duration": 194,
    "start_time": "2023-03-24T14:10:33.577Z"
   },
   {
    "duration": 32418,
    "start_time": "2023-03-24T14:10:42.685Z"
   },
   {
    "duration": 803522,
    "start_time": "2023-03-24T14:11:42.525Z"
   },
   {
    "duration": 13,
    "start_time": "2023-03-24T14:25:44.096Z"
   },
   {
    "duration": 22,
    "start_time": "2023-03-24T14:25:47.510Z"
   },
   {
    "duration": 4,
    "start_time": "2023-03-24T14:25:52.072Z"
   },
   {
    "duration": 33,
    "start_time": "2023-03-24T14:25:57.493Z"
   },
   {
    "duration": 27,
    "start_time": "2023-03-24T14:26:02.359Z"
   },
   {
    "duration": 31,
    "start_time": "2023-03-24T14:26:06.675Z"
   },
   {
    "duration": 15,
    "start_time": "2023-03-24T14:26:15.089Z"
   },
   {
    "duration": 11,
    "start_time": "2023-03-24T14:26:59.130Z"
   },
   {
    "duration": 10,
    "start_time": "2023-03-24T14:27:03.073Z"
   },
   {
    "duration": 26,
    "start_time": "2023-03-24T14:27:06.967Z"
   },
   {
    "duration": 120,
    "start_time": "2023-03-24T14:29:42.687Z"
   },
   {
    "duration": 108,
    "start_time": "2023-03-24T14:30:09.252Z"
   },
   {
    "duration": 129,
    "start_time": "2023-03-24T14:30:25.578Z"
   },
   {
    "duration": 171,
    "start_time": "2023-03-24T14:31:16.966Z"
   },
   {
    "duration": 119,
    "start_time": "2023-03-24T14:31:46.030Z"
   },
   {
    "duration": 25,
    "start_time": "2023-03-24T14:31:54.556Z"
   },
   {
    "duration": 35,
    "start_time": "2023-03-24T14:32:27.776Z"
   },
   {
    "duration": 26,
    "start_time": "2023-03-24T14:32:32.658Z"
   },
   {
    "duration": 63,
    "start_time": "2023-03-24T14:33:09.646Z"
   },
   {
    "duration": 60,
    "start_time": "2023-03-24T14:33:52.755Z"
   },
   {
    "duration": 57,
    "start_time": "2023-03-24T14:34:14.958Z"
   },
   {
    "duration": 58,
    "start_time": "2023-03-24T14:34:31.205Z"
   },
   {
    "duration": 56,
    "start_time": "2023-03-24T14:35:14.428Z"
   },
   {
    "duration": 57,
    "start_time": "2023-03-24T14:35:25.557Z"
   },
   {
    "duration": 61,
    "start_time": "2023-03-24T14:36:38.164Z"
   },
   {
    "duration": 56,
    "start_time": "2023-03-24T14:36:59.947Z"
   },
   {
    "duration": 59,
    "start_time": "2023-03-24T14:37:10.551Z"
   },
   {
    "duration": 58,
    "start_time": "2023-03-24T14:37:25.749Z"
   },
   {
    "duration": 60,
    "start_time": "2023-03-24T14:37:29.937Z"
   },
   {
    "duration": 61,
    "start_time": "2023-03-24T14:37:43.848Z"
   },
   {
    "duration": 72,
    "start_time": "2023-03-24T14:42:33.249Z"
   },
   {
    "duration": 70,
    "start_time": "2023-03-24T14:42:53.406Z"
   },
   {
    "duration": 57,
    "start_time": "2023-03-24T14:42:59.140Z"
   },
   {
    "duration": 13,
    "start_time": "2023-03-24T14:50:31.292Z"
   },
   {
    "duration": 12,
    "start_time": "2023-03-24T14:51:27.335Z"
   },
   {
    "duration": 11,
    "start_time": "2023-03-24T14:51:37.854Z"
   },
   {
    "duration": 11,
    "start_time": "2023-03-24T14:52:05.853Z"
   },
   {
    "duration": 1111,
    "start_time": "2023-03-24T14:53:27.444Z"
   },
   {
    "duration": 929,
    "start_time": "2023-03-24T14:54:03.884Z"
   },
   {
    "duration": 216,
    "start_time": "2023-03-24T14:55:46.514Z"
   },
   {
    "duration": 16714,
    "start_time": "2023-03-24T14:55:59.697Z"
   },
   {
    "duration": 7,
    "start_time": "2023-03-24T14:56:33.387Z"
   },
   {
    "duration": 16549,
    "start_time": "2023-03-24T14:57:14.240Z"
   },
   {
    "duration": 16706,
    "start_time": "2023-03-24T14:57:36.280Z"
   },
   {
    "duration": 17741,
    "start_time": "2023-03-24T14:59:04.968Z"
   },
   {
    "duration": 209,
    "start_time": "2023-03-24T15:03:28.621Z"
   },
   {
    "duration": 40399,
    "start_time": "2023-03-24T15:05:51.494Z"
   },
   {
    "duration": 53607,
    "start_time": "2023-03-24T15:09:28.491Z"
   },
   {
    "duration": 190,
    "start_time": "2023-03-24T15:10:59.703Z"
   },
   {
    "duration": 70,
    "start_time": "2023-03-24T15:18:22.774Z"
   },
   {
    "duration": 193,
    "start_time": "2023-03-24T15:20:12.337Z"
   },
   {
    "duration": 191,
    "start_time": "2023-03-24T15:20:45.298Z"
   },
   {
    "duration": 185,
    "start_time": "2023-03-24T15:21:07.077Z"
   },
   {
    "duration": 202,
    "start_time": "2023-03-24T15:22:01.818Z"
   },
   {
    "duration": 191,
    "start_time": "2023-03-24T15:22:53.605Z"
   },
   {
    "duration": 187,
    "start_time": "2023-03-24T15:23:02.612Z"
   },
   {
    "duration": 183,
    "start_time": "2023-03-24T15:23:24.710Z"
   },
   {
    "duration": 197,
    "start_time": "2023-03-24T15:24:19.789Z"
   },
   {
    "duration": 67,
    "start_time": "2023-03-24T15:24:29.331Z"
   },
   {
    "duration": 53277,
    "start_time": "2023-03-24T15:24:37.165Z"
   },
   {
    "duration": 180,
    "start_time": "2023-03-24T15:25:34.782Z"
   },
   {
    "duration": 56810,
    "start_time": "2023-03-24T15:25:41.283Z"
   },
   {
    "duration": 189,
    "start_time": "2023-03-24T15:26:42.290Z"
   },
   {
    "duration": 7,
    "start_time": "2023-03-24T17:32:59.092Z"
   },
   {
    "duration": 50,
    "start_time": "2023-03-24T17:34:16.638Z"
   },
   {
    "duration": 41,
    "start_time": "2023-03-24T17:34:25.910Z"
   },
   {
    "duration": 110,
    "start_time": "2023-03-24T17:35:18.538Z"
   },
   {
    "duration": 31,
    "start_time": "2023-03-24T17:35:43.836Z"
   },
   {
    "duration": 383781,
    "start_time": "2023-03-24T17:36:16.193Z"
   },
   {
    "duration": 24457,
    "start_time": "2023-03-24T17:42:49.553Z"
   },
   {
    "duration": 15405,
    "start_time": "2023-03-24T17:43:19.738Z"
   },
   {
    "duration": 24135,
    "start_time": "2023-03-24T17:43:54.660Z"
   },
   {
    "duration": 106192,
    "start_time": "2023-03-24T17:44:55.754Z"
   },
   {
    "duration": 187,
    "start_time": "2023-03-24T17:46:47.209Z"
   },
   {
    "duration": 852925,
    "start_time": "2023-03-24T17:53:33.766Z"
   },
   {
    "duration": 199,
    "start_time": "2023-03-24T18:07:55.978Z"
   },
   {
    "duration": 192,
    "start_time": "2023-03-24T18:08:24.902Z"
   },
   {
    "duration": 75,
    "start_time": "2023-03-24T18:09:47.809Z"
   },
   {
    "duration": 281,
    "start_time": "2023-03-24T18:09:55.718Z"
   },
   {
    "duration": 72,
    "start_time": "2023-03-24T18:09:59.407Z"
   },
   {
    "duration": 61,
    "start_time": "2023-03-24T18:10:07.359Z"
   },
   {
    "duration": 27593,
    "start_time": "2023-03-24T18:10:17.088Z"
   },
   {
    "duration": 104414,
    "start_time": "2023-03-24T18:11:15.106Z"
   },
   {
    "duration": 206,
    "start_time": "2023-03-24T18:13:04.102Z"
   },
   {
    "duration": 2043813,
    "start_time": "2023-03-24T18:15:33.484Z"
   },
   {
    "duration": 211,
    "start_time": "2023-03-24T18:50:49.882Z"
   },
   {
    "duration": 1459698,
    "start_time": "2023-03-24T19:52:11.842Z"
   },
   {
    "duration": 11,
    "start_time": "2023-03-24T20:16:31.542Z"
   },
   {
    "duration": 186,
    "start_time": "2023-03-24T20:23:57.931Z"
   },
   {
    "duration": 77,
    "start_time": "2023-03-24T20:26:06.494Z"
   },
   {
    "duration": 634,
    "start_time": "2023-03-24T20:27:43.013Z"
   },
   {
    "duration": 82,
    "start_time": "2023-03-24T20:27:55.291Z"
   },
   {
    "duration": 2,
    "start_time": "2023-03-24T20:29:35.711Z"
   },
   {
    "duration": 8,
    "start_time": "2023-03-24T20:30:30.026Z"
   },
   {
    "duration": 92,
    "start_time": "2023-03-24T20:30:31.701Z"
   },
   {
    "duration": 70,
    "start_time": "2023-03-24T20:32:34.259Z"
   },
   {
    "duration": 67,
    "start_time": "2023-03-24T20:32:44.537Z"
   },
   {
    "duration": 5,
    "start_time": "2023-03-24T20:34:12.107Z"
   },
   {
    "duration": 57,
    "start_time": "2023-03-24T20:34:13.252Z"
   },
   {
    "duration": 6,
    "start_time": "2023-03-24T20:34:42.884Z"
   },
   {
    "duration": 213,
    "start_time": "2023-03-24T20:36:52.579Z"
   },
   {
    "duration": 184,
    "start_time": "2023-03-24T20:37:27.057Z"
   },
   {
    "duration": 145,
    "start_time": "2023-03-24T20:37:35.891Z"
   },
   {
    "duration": 251,
    "start_time": "2023-03-24T20:37:42.679Z"
   },
   {
    "duration": 333,
    "start_time": "2023-03-24T20:37:58.280Z"
   },
   {
    "duration": 0,
    "start_time": "2023-03-24T20:39:06.075Z"
   },
   {
    "duration": 1584,
    "start_time": "2023-03-24T20:39:24.285Z"
   },
   {
    "duration": 134,
    "start_time": "2023-03-24T20:40:07.742Z"
   },
   {
    "duration": 121,
    "start_time": "2023-03-24T20:40:16.212Z"
   },
   {
    "duration": 142,
    "start_time": "2023-03-24T20:41:03.587Z"
   },
   {
    "duration": 107,
    "start_time": "2023-03-24T20:41:25.224Z"
   },
   {
    "duration": 134,
    "start_time": "2023-03-24T20:41:31.117Z"
   },
   {
    "duration": 167,
    "start_time": "2023-03-24T20:41:51.322Z"
   },
   {
    "duration": 134,
    "start_time": "2023-03-24T20:41:56.384Z"
   },
   {
    "duration": 206,
    "start_time": "2023-03-24T20:43:32.684Z"
   },
   {
    "duration": 181,
    "start_time": "2023-03-24T20:44:07.088Z"
   },
   {
    "duration": 239,
    "start_time": "2023-03-24T20:45:09.892Z"
   },
   {
    "duration": 1174,
    "start_time": "2023-03-24T20:45:59.637Z"
   },
   {
    "duration": 10,
    "start_time": "2023-03-24T20:46:19.379Z"
   },
   {
    "duration": 732,
    "start_time": "2023-03-24T20:46:27.059Z"
   },
   {
    "duration": 686,
    "start_time": "2023-03-24T20:48:10.225Z"
   },
   {
    "duration": 29,
    "start_time": "2023-03-24T20:48:44.812Z"
   },
   {
    "duration": 171,
    "start_time": "2023-03-24T20:49:09.893Z"
   },
   {
    "duration": 0,
    "start_time": "2023-03-24T20:51:41.943Z"
   },
   {
    "duration": 182,
    "start_time": "2023-03-24T20:51:47.582Z"
   },
   {
    "duration": 176,
    "start_time": "2023-03-24T20:51:50.366Z"
   },
   {
    "duration": 531,
    "start_time": "2023-03-24T20:51:58.387Z"
   },
   {
    "duration": 234,
    "start_time": "2023-03-24T20:53:36.752Z"
   },
   {
    "duration": 127,
    "start_time": "2023-03-24T20:53:43.736Z"
   },
   {
    "duration": 111,
    "start_time": "2023-03-24T20:54:20.057Z"
   },
   {
    "duration": 309,
    "start_time": "2023-03-24T20:54:48.801Z"
   },
   {
    "duration": 249,
    "start_time": "2023-03-24T20:54:52.615Z"
   },
   {
    "duration": 244,
    "start_time": "2023-03-24T20:55:12.596Z"
   },
   {
    "duration": 9,
    "start_time": "2023-03-24T20:55:27.061Z"
   },
   {
    "duration": 10,
    "start_time": "2023-03-24T20:55:34.453Z"
   },
   {
    "duration": 12,
    "start_time": "2023-03-24T20:55:57.096Z"
   },
   {
    "duration": 8,
    "start_time": "2023-03-24T20:56:26.186Z"
   },
   {
    "duration": 5,
    "start_time": "2023-03-24T20:57:26.529Z"
   },
   {
    "duration": 7,
    "start_time": "2023-03-24T20:57:41.594Z"
   },
   {
    "duration": 13,
    "start_time": "2023-03-24T20:58:51.704Z"
   },
   {
    "duration": 7,
    "start_time": "2023-03-24T20:58:59.223Z"
   },
   {
    "duration": 10,
    "start_time": "2023-03-24T20:59:19.920Z"
   },
   {
    "duration": 6,
    "start_time": "2023-03-24T20:59:32.909Z"
   },
   {
    "duration": 7,
    "start_time": "2023-03-24T20:59:37.603Z"
   },
   {
    "duration": 9,
    "start_time": "2023-03-24T21:00:01.017Z"
   },
   {
    "duration": 9,
    "start_time": "2023-03-24T21:00:07.640Z"
   },
   {
    "duration": 9,
    "start_time": "2023-03-24T21:00:14.493Z"
   },
   {
    "duration": 11,
    "start_time": "2023-03-24T21:00:33.112Z"
   },
   {
    "duration": 10,
    "start_time": "2023-03-24T21:00:36.700Z"
   },
   {
    "duration": 10,
    "start_time": "2023-03-24T21:00:56.340Z"
   },
   {
    "duration": 17,
    "start_time": "2023-03-24T21:01:08.326Z"
   },
   {
    "duration": 14,
    "start_time": "2023-03-24T21:01:12.125Z"
   },
   {
    "duration": 12,
    "start_time": "2023-03-24T21:01:35.837Z"
   },
   {
    "duration": 13,
    "start_time": "2023-03-24T21:01:48.812Z"
   },
   {
    "duration": 13,
    "start_time": "2023-03-24T21:02:04.622Z"
   },
   {
    "duration": 126,
    "start_time": "2023-03-24T21:02:19.225Z"
   },
   {
    "duration": 1112,
    "start_time": "2023-03-24T21:02:34.294Z"
   },
   {
    "duration": 132,
    "start_time": "2023-03-24T21:02:44.897Z"
   },
   {
    "duration": 178,
    "start_time": "2023-03-24T21:02:55.294Z"
   },
   {
    "duration": 10,
    "start_time": "2023-03-24T21:03:05.294Z"
   },
   {
    "duration": 183,
    "start_time": "2023-03-24T21:03:21.261Z"
   },
   {
    "duration": 198,
    "start_time": "2023-03-24T21:06:41.253Z"
   },
   {
    "duration": 176,
    "start_time": "2023-03-24T21:06:47.933Z"
   },
   {
    "duration": 189,
    "start_time": "2023-03-24T21:07:55.094Z"
   },
   {
    "duration": 19,
    "start_time": "2023-03-24T21:08:01.998Z"
   },
   {
    "duration": 17,
    "start_time": "2023-03-24T21:08:09.398Z"
   },
   {
    "duration": 17,
    "start_time": "2023-03-24T21:08:49.794Z"
   },
   {
    "duration": 17,
    "start_time": "2023-03-24T21:09:27.594Z"
   },
   {
    "duration": 19,
    "start_time": "2023-03-24T21:09:33.006Z"
   },
   {
    "duration": 16,
    "start_time": "2023-03-24T21:10:06.345Z"
   },
   {
    "duration": 19,
    "start_time": "2023-03-24T21:10:31.894Z"
   },
   {
    "duration": 18,
    "start_time": "2023-03-24T21:10:36.028Z"
   },
   {
    "duration": 17,
    "start_time": "2023-03-24T21:10:40.917Z"
   },
   {
    "duration": 34,
    "start_time": "2023-03-24T21:11:59.496Z"
   },
   {
    "duration": 28,
    "start_time": "2023-03-24T21:12:25.775Z"
   },
   {
    "duration": 27,
    "start_time": "2023-03-24T21:12:49.433Z"
   },
   {
    "duration": 18,
    "start_time": "2023-03-24T21:12:54.444Z"
   },
   {
    "duration": 331,
    "start_time": "2023-03-24T21:13:28.690Z"
   },
   {
    "duration": 17,
    "start_time": "2023-03-24T21:13:45.549Z"
   },
   {
    "duration": 1576,
    "start_time": "2023-03-25T20:41:19.009Z"
   },
   {
    "duration": 3,
    "start_time": "2023-03-25T20:41:20.631Z"
   },
   {
    "duration": 748,
    "start_time": "2023-03-25T20:41:27.042Z"
   },
   {
    "duration": 7,
    "start_time": "2023-03-25T20:41:43.350Z"
   },
   {
    "duration": 57,
    "start_time": "2023-03-25T20:41:50.067Z"
   },
   {
    "duration": 5,
    "start_time": "2023-03-25T20:42:03.447Z"
   },
   {
    "duration": 78,
    "start_time": "2023-03-25T20:42:05.478Z"
   },
   {
    "duration": 267,
    "start_time": "2023-03-25T20:42:17.220Z"
   },
   {
    "duration": 241,
    "start_time": "2023-03-25T20:42:59.839Z"
   },
   {
    "duration": 307,
    "start_time": "2023-03-25T20:43:49.684Z"
   },
   {
    "duration": 7,
    "start_time": "2023-03-25T20:45:17.218Z"
   },
   {
    "duration": 25,
    "start_time": "2023-03-25T20:45:21.497Z"
   },
   {
    "duration": 2,
    "start_time": "2023-03-25T20:50:31.132Z"
   },
   {
    "duration": 244,
    "start_time": "2023-03-25T20:51:00.242Z"
   },
   {
    "duration": 240,
    "start_time": "2023-03-25T20:51:39.615Z"
   },
   {
    "duration": 264,
    "start_time": "2023-03-25T20:51:49.865Z"
   },
   {
    "duration": 240,
    "start_time": "2023-03-25T20:52:28.531Z"
   },
   {
    "duration": 66,
    "start_time": "2023-03-25T20:52:57.559Z"
   },
   {
    "duration": 9,
    "start_time": "2023-03-25T20:53:22.741Z"
   },
   {
    "duration": 17,
    "start_time": "2023-03-25T20:57:54.234Z"
   },
   {
    "duration": 9,
    "start_time": "2023-03-25T21:16:45.504Z"
   },
   {
    "duration": 8,
    "start_time": "2023-03-25T21:17:00.109Z"
   },
   {
    "duration": 10,
    "start_time": "2023-03-25T21:17:04.044Z"
   },
   {
    "duration": 11,
    "start_time": "2023-03-25T21:17:14.983Z"
   },
   {
    "duration": 8,
    "start_time": "2023-03-25T21:18:07.935Z"
   },
   {
    "duration": 19,
    "start_time": "2023-03-25T21:19:19.201Z"
   },
   {
    "duration": 23,
    "start_time": "2023-03-25T21:20:20.703Z"
   },
   {
    "duration": 25,
    "start_time": "2023-03-25T21:28:56.026Z"
   },
   {
    "duration": 27,
    "start_time": "2023-03-25T21:29:20.205Z"
   },
   {
    "duration": 28,
    "start_time": "2023-03-25T21:29:32.395Z"
   },
   {
    "duration": 30,
    "start_time": "2023-03-25T21:30:00.666Z"
   },
   {
    "duration": 25,
    "start_time": "2023-03-25T21:30:24.735Z"
   },
   {
    "duration": 7,
    "start_time": "2023-03-25T21:32:14.830Z"
   },
   {
    "duration": 4,
    "start_time": "2023-03-25T21:32:43.484Z"
   },
   {
    "duration": 23,
    "start_time": "2023-03-25T21:33:03.318Z"
   },
   {
    "duration": 16,
    "start_time": "2023-03-25T21:34:27.579Z"
   },
   {
    "duration": 25,
    "start_time": "2023-03-25T21:39:02.803Z"
   },
   {
    "duration": 158,
    "start_time": "2023-03-25T21:43:05.084Z"
   },
   {
    "duration": 19,
    "start_time": "2023-03-25T21:43:30.912Z"
   },
   {
    "duration": 6,
    "start_time": "2023-03-25T21:43:35.058Z"
   },
   {
    "duration": 4,
    "start_time": "2023-03-25T21:43:41.969Z"
   },
   {
    "duration": 7,
    "start_time": "2023-03-25T21:43:41.976Z"
   },
   {
    "duration": 754,
    "start_time": "2023-03-25T21:43:41.985Z"
   },
   {
    "duration": 15,
    "start_time": "2023-03-25T21:43:42.741Z"
   },
   {
    "duration": 52,
    "start_time": "2023-03-25T21:43:42.757Z"
   },
   {
    "duration": 5,
    "start_time": "2023-03-25T21:43:42.811Z"
   },
   {
    "duration": 76,
    "start_time": "2023-03-25T21:43:42.818Z"
   },
   {
    "duration": 5,
    "start_time": "2023-03-25T21:43:42.895Z"
   },
   {
    "duration": 86,
    "start_time": "2023-03-25T21:43:42.901Z"
   },
   {
    "duration": 317,
    "start_time": "2023-03-25T21:43:42.988Z"
   },
   {
    "duration": 696,
    "start_time": "2023-03-25T21:43:43.307Z"
   },
   {
    "duration": 0,
    "start_time": "2023-03-25T21:43:44.005Z"
   },
   {
    "duration": 19,
    "start_time": "2023-03-25T21:44:14.895Z"
   },
   {
    "duration": 17,
    "start_time": "2023-03-25T21:44:23.885Z"
   },
   {
    "duration": 4,
    "start_time": "2023-03-25T21:45:32.443Z"
   },
   {
    "duration": 4,
    "start_time": "2023-03-25T21:45:32.451Z"
   },
   {
    "duration": 638,
    "start_time": "2023-03-25T21:45:32.457Z"
   },
   {
    "duration": 15,
    "start_time": "2023-03-25T21:45:33.096Z"
   },
   {
    "duration": 56,
    "start_time": "2023-03-25T21:45:33.113Z"
   },
   {
    "duration": 6,
    "start_time": "2023-03-25T21:45:33.170Z"
   },
   {
    "duration": 52,
    "start_time": "2023-03-25T21:45:33.177Z"
   },
   {
    "duration": 5,
    "start_time": "2023-03-25T21:45:33.230Z"
   },
   {
    "duration": 88,
    "start_time": "2023-03-25T21:45:33.236Z"
   },
   {
    "duration": 217,
    "start_time": "2023-03-25T21:45:33.326Z"
   },
   {
    "duration": 8,
    "start_time": "2023-03-25T21:45:33.544Z"
   },
   {
    "duration": 35,
    "start_time": "2023-03-25T21:45:33.553Z"
   },
   {
    "duration": 15,
    "start_time": "2023-03-25T21:45:37.733Z"
   },
   {
    "duration": 18,
    "start_time": "2023-03-25T21:45:46.308Z"
   },
   {
    "duration": 31,
    "start_time": "2023-03-25T21:46:30.046Z"
   },
   {
    "duration": 54,
    "start_time": "2023-03-25T21:47:28.379Z"
   },
   {
    "duration": 67,
    "start_time": "2023-03-25T21:48:31.182Z"
   },
   {
    "duration": 66,
    "start_time": "2023-03-25T21:49:22.608Z"
   },
   {
    "duration": 72,
    "start_time": "2023-03-25T21:50:17.027Z"
   },
   {
    "duration": 4,
    "start_time": "2023-03-25T21:50:21.794Z"
   },
   {
    "duration": 8,
    "start_time": "2023-03-25T21:50:21.800Z"
   },
   {
    "duration": 636,
    "start_time": "2023-03-25T21:50:21.809Z"
   },
   {
    "duration": 31,
    "start_time": "2023-03-25T21:50:22.446Z"
   },
   {
    "duration": 55,
    "start_time": "2023-03-25T21:50:22.479Z"
   },
   {
    "duration": 35,
    "start_time": "2023-03-25T21:50:22.536Z"
   },
   {
    "duration": 72,
    "start_time": "2023-03-25T21:50:22.573Z"
   },
   {
    "duration": 5,
    "start_time": "2023-03-25T21:50:22.647Z"
   },
   {
    "duration": 90,
    "start_time": "2023-03-25T21:50:22.653Z"
   },
   {
    "duration": 246,
    "start_time": "2023-03-25T21:50:22.745Z"
   },
   {
    "duration": 8,
    "start_time": "2023-03-25T21:50:22.992Z"
   },
   {
    "duration": 24,
    "start_time": "2023-03-25T21:50:23.002Z"
   },
   {
    "duration": 75,
    "start_time": "2023-03-25T21:50:29.038Z"
   },
   {
    "duration": 73,
    "start_time": "2023-03-25T21:50:49.795Z"
   },
   {
    "duration": 5,
    "start_time": "2023-03-25T21:52:23.389Z"
   },
   {
    "duration": 5,
    "start_time": "2023-03-25T21:53:35.203Z"
   },
   {
    "duration": 92,
    "start_time": "2023-03-25T21:53:54.629Z"
   },
   {
    "duration": 25,
    "start_time": "2023-03-25T21:54:26.847Z"
   },
   {
    "duration": 8,
    "start_time": "2023-03-25T21:56:16.010Z"
   },
   {
    "duration": 12,
    "start_time": "2023-03-25T21:56:18.828Z"
   },
   {
    "duration": 140,
    "start_time": "2023-03-25T21:56:27.162Z"
   },
   {
    "duration": 50,
    "start_time": "2023-03-25T21:56:58.087Z"
   },
   {
    "duration": 56,
    "start_time": "2023-03-25T21:57:08.319Z"
   },
   {
    "duration": 7867,
    "start_time": "2023-03-25T21:57:15.313Z"
   },
   {
    "duration": 54984,
    "start_time": "2023-03-25T21:57:43.054Z"
   },
   {
    "duration": 138,
    "start_time": "2023-03-25T21:58:45.804Z"
   },
   {
    "duration": 13,
    "start_time": "2023-03-25T22:00:05.267Z"
   },
   {
    "duration": 236693,
    "start_time": "2023-03-25T22:01:02.427Z"
   },
   {
    "duration": 227,
    "start_time": "2023-03-25T22:05:30.261Z"
   },
   {
    "duration": 676671,
    "start_time": "2023-03-25T22:05:48.886Z"
   },
   {
    "duration": 138,
    "start_time": "2023-03-25T22:17:42.676Z"
   },
   {
    "duration": 1693,
    "start_time": "2023-03-26T11:15:44.414Z"
   },
   {
    "duration": 5,
    "start_time": "2023-03-26T11:15:52.402Z"
   },
   {
    "duration": 671,
    "start_time": "2023-03-26T11:15:54.782Z"
   },
   {
    "duration": 604,
    "start_time": "2023-03-26T11:16:20.733Z"
   },
   {
    "duration": 23,
    "start_time": "2023-03-26T11:17:06.115Z"
   },
   {
    "duration": 11,
    "start_time": "2023-03-26T11:19:20.082Z"
   },
   {
    "duration": 63,
    "start_time": "2023-03-26T11:19:24.922Z"
   },
   {
    "duration": 7,
    "start_time": "2023-03-26T11:19:41.599Z"
   },
   {
    "duration": 93,
    "start_time": "2023-03-26T11:19:49.229Z"
   },
   {
    "duration": 341,
    "start_time": "2023-03-26T11:20:22.255Z"
   },
   {
    "duration": 11,
    "start_time": "2023-03-26T11:20:28.451Z"
   },
   {
    "duration": 34,
    "start_time": "2023-03-26T11:20:33.555Z"
   },
   {
    "duration": 144,
    "start_time": "2023-03-26T11:20:41.933Z"
   },
   {
    "duration": 192,
    "start_time": "2023-03-26T11:23:35.816Z"
   },
   {
    "duration": 148,
    "start_time": "2023-03-26T11:24:11.072Z"
   },
   {
    "duration": 178,
    "start_time": "2023-03-26T11:24:42.355Z"
   },
   {
    "duration": 63,
    "start_time": "2023-03-26T11:24:54.501Z"
   },
   {
    "duration": 1292,
    "start_time": "2023-03-26T11:25:55.108Z"
   },
   {
    "duration": 1376,
    "start_time": "2023-03-26T11:27:00.577Z"
   },
   {
    "duration": 162,
    "start_time": "2023-03-26T11:28:11.344Z"
   },
   {
    "duration": 5,
    "start_time": "2023-03-26T11:30:28.727Z"
   },
   {
    "duration": 184,
    "start_time": "2023-03-26T11:30:31.498Z"
   },
   {
    "duration": 247,
    "start_time": "2023-03-26T11:30:49.451Z"
   },
   {
    "duration": 347,
    "start_time": "2023-03-26T11:31:12.273Z"
   },
   {
    "duration": 42,
    "start_time": "2023-03-26T11:31:43.293Z"
   },
   {
    "duration": 329,
    "start_time": "2023-03-26T11:31:54.271Z"
   },
   {
    "duration": 13,
    "start_time": "2023-03-26T11:33:26.768Z"
   },
   {
    "duration": 15,
    "start_time": "2023-03-26T11:34:03.735Z"
   },
   {
    "duration": 16,
    "start_time": "2023-03-26T11:34:32.320Z"
   },
   {
    "duration": 164,
    "start_time": "2023-03-26T11:35:38.034Z"
   },
   {
    "duration": 194,
    "start_time": "2023-03-26T11:36:06.000Z"
   },
   {
    "duration": 5,
    "start_time": "2023-03-26T11:36:49.640Z"
   },
   {
    "duration": 4,
    "start_time": "2023-03-26T11:36:49.647Z"
   },
   {
    "duration": 697,
    "start_time": "2023-03-26T11:36:49.653Z"
   },
   {
    "duration": 44,
    "start_time": "2023-03-26T11:36:50.353Z"
   },
   {
    "duration": 91,
    "start_time": "2023-03-26T11:36:50.401Z"
   },
   {
    "duration": 13,
    "start_time": "2023-03-26T11:36:50.495Z"
   },
   {
    "duration": 87,
    "start_time": "2023-03-26T11:36:50.510Z"
   },
   {
    "duration": 6,
    "start_time": "2023-03-26T11:36:50.598Z"
   },
   {
    "duration": 107,
    "start_time": "2023-03-26T11:36:50.606Z"
   },
   {
    "duration": 326,
    "start_time": "2023-03-26T11:36:50.715Z"
   },
   {
    "duration": 10,
    "start_time": "2023-03-26T11:36:51.043Z"
   },
   {
    "duration": 54,
    "start_time": "2023-03-26T11:36:51.055Z"
   },
   {
    "duration": 155,
    "start_time": "2023-03-26T11:36:51.111Z"
   },
   {
    "duration": 187,
    "start_time": "2023-03-26T11:37:02.205Z"
   },
   {
    "duration": 180,
    "start_time": "2023-03-26T11:37:21.061Z"
   },
   {
    "duration": 175,
    "start_time": "2023-03-26T11:37:34.890Z"
   },
   {
    "duration": 208,
    "start_time": "2023-03-26T11:37:50.416Z"
   },
   {
    "duration": 143,
    "start_time": "2023-03-26T11:39:56.992Z"
   },
   {
    "duration": 180,
    "start_time": "2023-03-26T11:41:08.481Z"
   },
   {
    "duration": 106,
    "start_time": "2023-03-26T11:43:57.799Z"
   },
   {
    "duration": 115,
    "start_time": "2023-03-26T11:44:18.148Z"
   },
   {
    "duration": 166,
    "start_time": "2023-03-26T11:45:08.685Z"
   },
   {
    "duration": 106,
    "start_time": "2023-03-26T11:45:15.671Z"
   },
   {
    "duration": 11030,
    "start_time": "2023-03-26T11:45:27.087Z"
   },
   {
    "duration": 66418,
    "start_time": "2023-03-26T11:45:44.393Z"
   },
   {
    "duration": 194,
    "start_time": "2023-03-26T11:46:54.624Z"
   },
   {
    "duration": 37788,
    "start_time": "2023-03-26T11:47:00.133Z"
   },
   {
    "duration": 176,
    "start_time": "2023-03-26T11:47:39.813Z"
   },
   {
    "duration": 81,
    "start_time": "2023-03-26T11:51:21.685Z"
   },
   {
    "duration": 67,
    "start_time": "2023-03-26T11:52:09.507Z"
   },
   {
    "duration": 5,
    "start_time": "2023-03-26T11:52:31.515Z"
   },
   {
    "duration": 7,
    "start_time": "2023-03-26T11:52:31.524Z"
   },
   {
    "duration": 548,
    "start_time": "2023-03-26T11:52:31.532Z"
   },
   {
    "duration": 26,
    "start_time": "2023-03-26T11:52:32.082Z"
   },
   {
    "duration": 70,
    "start_time": "2023-03-26T11:52:32.110Z"
   },
   {
    "duration": 11,
    "start_time": "2023-03-26T11:52:32.182Z"
   },
   {
    "duration": 99,
    "start_time": "2023-03-26T11:52:32.195Z"
   },
   {
    "duration": 5,
    "start_time": "2023-03-26T11:52:32.295Z"
   },
   {
    "duration": 117,
    "start_time": "2023-03-26T11:52:32.302Z"
   },
   {
    "duration": 293,
    "start_time": "2023-03-26T11:52:32.421Z"
   },
   {
    "duration": 10,
    "start_time": "2023-03-26T11:52:32.716Z"
   },
   {
    "duration": 51,
    "start_time": "2023-03-26T11:52:32.727Z"
   },
   {
    "duration": 116,
    "start_time": "2023-03-26T11:52:32.780Z"
   },
   {
    "duration": 250,
    "start_time": "2023-03-26T11:52:35.174Z"
   },
   {
    "duration": 100,
    "start_time": "2023-03-26T11:52:46.657Z"
   },
   {
    "duration": 161,
    "start_time": "2023-03-26T11:52:49.439Z"
   },
   {
    "duration": 86,
    "start_time": "2023-03-26T11:52:52.909Z"
   },
   {
    "duration": 10574,
    "start_time": "2023-03-26T11:53:07.068Z"
   },
   {
    "duration": 414,
    "start_time": "2023-03-26T11:55:05.301Z"
   },
   {
    "duration": 420,
    "start_time": "2023-03-26T11:55:14.314Z"
   },
   {
    "duration": 2786,
    "start_time": "2023-03-26T11:56:33.284Z"
   },
   {
    "duration": 4,
    "start_time": "2023-03-26T11:57:55.293Z"
   },
   {
    "duration": 2862,
    "start_time": "2023-03-26T11:58:24.569Z"
   },
   {
    "duration": 198,
    "start_time": "2023-03-26T12:02:28.392Z"
   },
   {
    "duration": 2815,
    "start_time": "2023-03-26T12:02:41.761Z"
   },
   {
    "duration": 13,
    "start_time": "2023-03-26T12:02:54.255Z"
   },
   {
    "duration": 875058,
    "start_time": "2023-03-26T12:02:57.544Z"
   },
   {
    "duration": 201,
    "start_time": "2023-03-26T12:18:23.576Z"
   },
   {
    "duration": 2760,
    "start_time": "2023-03-26T12:18:56.705Z"
   },
   {
    "duration": 4,
    "start_time": "2023-03-26T12:21:15.910Z"
   },
   {
    "duration": 3121,
    "start_time": "2023-03-26T12:21:53.996Z"
   },
   {
    "duration": 2769,
    "start_time": "2023-03-26T12:24:50.958Z"
   },
   {
    "duration": 3007,
    "start_time": "2023-03-26T12:25:20.344Z"
   },
   {
    "duration": 2790,
    "start_time": "2023-03-26T12:26:24.624Z"
   },
   {
    "duration": 2929,
    "start_time": "2023-03-26T12:27:38.576Z"
   },
   {
    "duration": 3,
    "start_time": "2023-03-26T12:27:57.139Z"
   },
   {
    "duration": 3047,
    "start_time": "2023-03-26T12:28:04.272Z"
   },
   {
    "duration": 3170,
    "start_time": "2023-03-26T12:28:21.563Z"
   },
   {
    "duration": 3747,
    "start_time": "2023-03-26T12:28:34.000Z"
   },
   {
    "duration": 3730,
    "start_time": "2023-03-26T12:28:57.326Z"
   },
   {
    "duration": 3511,
    "start_time": "2023-03-26T12:29:56.593Z"
   },
   {
    "duration": 4,
    "start_time": "2023-03-26T12:33:58.039Z"
   },
   {
    "duration": 2941,
    "start_time": "2023-03-26T12:35:22.631Z"
   },
   {
    "duration": 656,
    "start_time": "2023-03-26T12:37:45.072Z"
   },
   {
    "duration": 2979,
    "start_time": "2023-03-26T12:37:59.836Z"
   },
   {
    "duration": 4,
    "start_time": "2023-03-26T12:39:31.908Z"
   },
   {
    "duration": 4,
    "start_time": "2023-03-26T12:39:31.914Z"
   },
   {
    "duration": 1037,
    "start_time": "2023-03-26T12:39:31.920Z"
   },
   {
    "duration": 37,
    "start_time": "2023-03-26T12:39:32.959Z"
   },
   {
    "duration": 85,
    "start_time": "2023-03-26T12:39:32.998Z"
   },
   {
    "duration": 14,
    "start_time": "2023-03-26T12:39:33.085Z"
   },
   {
    "duration": 132,
    "start_time": "2023-03-26T12:39:33.101Z"
   },
   {
    "duration": 6,
    "start_time": "2023-03-26T12:39:33.235Z"
   },
   {
    "duration": 105,
    "start_time": "2023-03-26T12:39:33.244Z"
   },
   {
    "duration": 302,
    "start_time": "2023-03-26T12:39:33.351Z"
   },
   {
    "duration": 22,
    "start_time": "2023-03-26T12:39:33.656Z"
   },
   {
    "duration": 241,
    "start_time": "2023-03-26T12:39:39.036Z"
   },
   {
    "duration": 194,
    "start_time": "2023-03-26T12:39:47.900Z"
   },
   {
    "duration": 200,
    "start_time": "2023-03-26T12:39:51.890Z"
   },
   {
    "duration": 105,
    "start_time": "2023-03-26T12:39:59.012Z"
   },
   {
    "duration": 12906,
    "start_time": "2023-03-26T12:40:04.332Z"
   },
   {
    "duration": 43705,
    "start_time": "2023-03-26T12:40:24.973Z"
   },
   {
    "duration": 179,
    "start_time": "2023-03-26T12:41:20.000Z"
   },
   {
    "duration": 3584,
    "start_time": "2023-03-26T12:41:39.502Z"
   },
   {
    "duration": 4,
    "start_time": "2023-03-26T12:43:21.268Z"
   },
   {
    "duration": 5,
    "start_time": "2023-03-26T12:44:07.638Z"
   },
   {
    "duration": 3644,
    "start_time": "2023-03-26T12:44:14.278Z"
   },
   {
    "duration": 3628,
    "start_time": "2023-03-26T12:45:00.954Z"
   },
   {
    "duration": 3100,
    "start_time": "2023-03-26T12:47:03.621Z"
   },
   {
    "duration": 2453,
    "start_time": "2023-03-26T12:48:18.402Z"
   },
   {
    "duration": 3331,
    "start_time": "2023-03-26T12:48:51.500Z"
   },
   {
    "duration": 41799,
    "start_time": "2023-03-26T12:52:59.985Z"
   },
   {
    "duration": 211,
    "start_time": "2023-03-26T12:53:44.694Z"
   },
   {
    "duration": 948009,
    "start_time": "2023-03-26T12:54:10.545Z"
   },
   {
    "duration": 180,
    "start_time": "2023-03-26T13:11:03.249Z"
   },
   {
    "duration": 4252,
    "start_time": "2023-03-26T13:11:25.942Z"
   },
   {
    "duration": 13,
    "start_time": "2023-03-26T13:14:59.700Z"
   },
   {
    "duration": 824,
    "start_time": "2023-03-26T13:15:17.071Z"
   },
   {
    "duration": 19,
    "start_time": "2023-03-26T13:15:30.105Z"
   },
   {
    "duration": 35,
    "start_time": "2023-03-26T13:17:15.864Z"
   },
   {
    "duration": 748,
    "start_time": "2023-03-26T13:17:55.159Z"
   },
   {
    "duration": 966,
    "start_time": "2023-03-26T13:18:48.050Z"
   },
   {
    "duration": 14,
    "start_time": "2023-03-26T13:19:07.011Z"
   },
   {
    "duration": 23,
    "start_time": "2023-03-26T13:20:35.935Z"
   },
   {
    "duration": 24,
    "start_time": "2023-03-26T13:20:58.990Z"
   },
   {
    "duration": 20,
    "start_time": "2023-03-26T13:21:22.508Z"
   },
   {
    "duration": 27,
    "start_time": "2023-03-26T13:21:32.002Z"
   },
   {
    "duration": 29,
    "start_time": "2023-03-26T13:21:43.565Z"
   },
   {
    "duration": 18,
    "start_time": "2023-03-26T13:23:59.207Z"
   },
   {
    "duration": 38,
    "start_time": "2023-03-26T13:24:21.567Z"
   },
   {
    "duration": 37,
    "start_time": "2023-03-26T13:24:52.063Z"
   },
   {
    "duration": 35,
    "start_time": "2023-03-26T13:25:19.222Z"
   },
   {
    "duration": 36,
    "start_time": "2023-03-26T13:25:56.733Z"
   },
   {
    "duration": 29,
    "start_time": "2023-03-26T13:26:16.469Z"
   },
   {
    "duration": 23,
    "start_time": "2023-03-26T13:26:28.139Z"
   },
   {
    "duration": 43,
    "start_time": "2023-03-26T13:26:47.108Z"
   },
   {
    "duration": 40,
    "start_time": "2023-03-26T13:27:09.468Z"
   },
   {
    "duration": 40,
    "start_time": "2023-03-26T13:27:40.105Z"
   },
   {
    "duration": 29,
    "start_time": "2023-03-26T13:27:45.019Z"
   },
   {
    "duration": 17,
    "start_time": "2023-03-26T13:28:01.333Z"
   },
   {
    "duration": 30,
    "start_time": "2023-03-26T13:28:12.637Z"
   },
   {
    "duration": 38,
    "start_time": "2023-03-26T13:28:53.144Z"
   },
   {
    "duration": 17,
    "start_time": "2023-03-26T13:29:34.933Z"
   },
   {
    "duration": 45,
    "start_time": "2023-03-26T13:29:53.958Z"
   },
   {
    "duration": 38,
    "start_time": "2023-03-26T13:29:56.870Z"
   },
   {
    "duration": 23,
    "start_time": "2023-03-26T13:30:53.464Z"
   },
   {
    "duration": 17,
    "start_time": "2023-03-26T13:31:31.135Z"
   },
   {
    "duration": 15,
    "start_time": "2023-03-26T13:31:33.911Z"
   },
   {
    "duration": 13,
    "start_time": "2023-03-26T13:31:56.539Z"
   },
   {
    "duration": 14,
    "start_time": "2023-03-26T13:32:01.702Z"
   },
   {
    "duration": 18,
    "start_time": "2023-03-26T13:32:34.102Z"
   },
   {
    "duration": 17,
    "start_time": "2023-03-26T13:32:39.766Z"
   },
   {
    "duration": 14,
    "start_time": "2023-03-26T13:32:44.136Z"
   },
   {
    "duration": 15,
    "start_time": "2023-03-26T13:36:16.968Z"
   },
   {
    "duration": 13,
    "start_time": "2023-03-26T13:36:22.554Z"
   },
   {
    "duration": 12,
    "start_time": "2023-03-26T13:37:06.361Z"
   },
   {
    "duration": 14,
    "start_time": "2023-03-26T13:37:11.816Z"
   },
   {
    "duration": 15,
    "start_time": "2023-03-26T13:37:27.946Z"
   },
   {
    "duration": 14,
    "start_time": "2023-03-26T13:37:52.453Z"
   },
   {
    "duration": 15,
    "start_time": "2023-03-26T13:39:53.530Z"
   },
   {
    "duration": 16,
    "start_time": "2023-03-26T13:40:08.052Z"
   },
   {
    "duration": 13,
    "start_time": "2023-03-26T13:40:23.236Z"
   },
   {
    "duration": 12,
    "start_time": "2023-03-26T13:51:59.798Z"
   },
   {
    "duration": 12,
    "start_time": "2023-03-26T13:52:37.188Z"
   },
   {
    "duration": 11,
    "start_time": "2023-03-26T13:52:41.515Z"
   },
   {
    "duration": 15,
    "start_time": "2023-03-26T13:54:14.605Z"
   },
   {
    "duration": 16,
    "start_time": "2023-03-26T13:54:39.837Z"
   },
   {
    "duration": 15,
    "start_time": "2023-03-26T13:54:59.517Z"
   },
   {
    "duration": 20,
    "start_time": "2023-03-26T13:55:17.363Z"
   },
   {
    "duration": 19,
    "start_time": "2023-03-26T13:55:22.465Z"
   },
   {
    "duration": 17,
    "start_time": "2023-03-26T13:55:39.557Z"
   },
   {
    "duration": 18,
    "start_time": "2023-03-26T13:55:49.057Z"
   },
   {
    "duration": 25,
    "start_time": "2023-03-26T13:57:06.955Z"
   },
   {
    "duration": 22,
    "start_time": "2023-03-26T13:57:23.507Z"
   },
   {
    "duration": 31,
    "start_time": "2023-03-26T13:58:02.243Z"
   },
   {
    "duration": 25,
    "start_time": "2023-03-26T13:59:11.300Z"
   },
   {
    "duration": 28,
    "start_time": "2023-03-26T13:59:47.319Z"
   },
   {
    "duration": 33,
    "start_time": "2023-03-26T13:59:53.005Z"
   },
   {
    "duration": 6112,
    "start_time": "2023-03-26T14:00:10.576Z"
   },
   {
    "duration": 23,
    "start_time": "2023-03-26T14:00:32.718Z"
   },
   {
    "duration": 876,
    "start_time": "2023-03-26T14:00:53.984Z"
   },
   {
    "duration": 751,
    "start_time": "2023-03-26T14:01:22.021Z"
   },
   {
    "duration": 731,
    "start_time": "2023-03-26T14:01:37.033Z"
   },
   {
    "duration": 946,
    "start_time": "2023-03-26T14:01:49.754Z"
   },
   {
    "duration": 765,
    "start_time": "2023-03-26T14:02:14.155Z"
   },
   {
    "duration": 804,
    "start_time": "2023-03-26T14:02:17.908Z"
   },
   {
    "duration": 968,
    "start_time": "2023-03-26T14:03:51.588Z"
   },
   {
    "duration": 874,
    "start_time": "2023-03-26T14:04:01.144Z"
   },
   {
    "duration": 786,
    "start_time": "2023-03-26T14:04:12.005Z"
   },
   {
    "duration": 856,
    "start_time": "2023-03-26T14:04:32.915Z"
   },
   {
    "duration": 743,
    "start_time": "2023-03-26T14:04:41.402Z"
   },
   {
    "duration": 773,
    "start_time": "2023-03-26T14:05:38.260Z"
   },
   {
    "duration": 725,
    "start_time": "2023-03-26T14:06:36.454Z"
   },
   {
    "duration": 718,
    "start_time": "2023-03-26T14:06:57.400Z"
   },
   {
    "duration": 717,
    "start_time": "2023-03-26T14:07:05.543Z"
   },
   {
    "duration": 1183,
    "start_time": "2023-03-26T14:07:45.325Z"
   },
   {
    "duration": 1621,
    "start_time": "2023-03-26T14:09:37.436Z"
   },
   {
    "duration": 1658,
    "start_time": "2023-03-26T14:10:21.493Z"
   },
   {
    "duration": 183,
    "start_time": "2023-03-26T14:15:38.323Z"
   },
   {
    "duration": 4887,
    "start_time": "2023-03-26T14:16:32.151Z"
   },
   {
    "duration": 1622,
    "start_time": "2023-03-26T18:34:21.704Z"
   },
   {
    "duration": 3,
    "start_time": "2023-03-26T18:34:23.328Z"
   },
   {
    "duration": 887,
    "start_time": "2023-03-26T18:34:23.334Z"
   },
   {
    "duration": 30,
    "start_time": "2023-03-26T18:34:24.223Z"
   },
   {
    "duration": 65,
    "start_time": "2023-03-26T18:34:24.255Z"
   },
   {
    "duration": 11,
    "start_time": "2023-03-26T18:34:24.322Z"
   },
   {
    "duration": 6,
    "start_time": "2023-03-26T18:34:38.490Z"
   },
   {
    "duration": 6,
    "start_time": "2023-03-26T18:34:38.498Z"
   },
   {
    "duration": 775,
    "start_time": "2023-03-26T18:34:38.507Z"
   },
   {
    "duration": 36,
    "start_time": "2023-03-26T18:34:39.284Z"
   },
   {
    "duration": 73,
    "start_time": "2023-03-26T18:34:39.322Z"
   },
   {
    "duration": 12,
    "start_time": "2023-03-26T18:34:39.404Z"
   },
   {
    "duration": 105,
    "start_time": "2023-03-26T18:34:39.418Z"
   },
   {
    "duration": 5,
    "start_time": "2023-03-26T18:34:39.525Z"
   },
   {
    "duration": 110,
    "start_time": "2023-03-26T18:34:39.532Z"
   },
   {
    "duration": 319,
    "start_time": "2023-03-26T18:34:39.644Z"
   },
   {
    "duration": 9,
    "start_time": "2023-03-26T18:34:39.966Z"
   },
   {
    "duration": 40,
    "start_time": "2023-03-26T18:34:39.991Z"
   },
   {
    "duration": 4,
    "start_time": "2023-03-26T18:34:46.403Z"
   },
   {
    "duration": 8,
    "start_time": "2023-03-26T18:34:46.409Z"
   },
   {
    "duration": 743,
    "start_time": "2023-03-26T18:34:46.418Z"
   },
   {
    "duration": 40,
    "start_time": "2023-03-26T18:34:47.162Z"
   },
   {
    "duration": 44,
    "start_time": "2023-03-26T18:34:47.205Z"
   },
   {
    "duration": 10,
    "start_time": "2023-03-26T18:34:47.250Z"
   },
   {
    "duration": 145,
    "start_time": "2023-03-26T18:34:47.262Z"
   },
   {
    "duration": 8,
    "start_time": "2023-03-26T18:34:47.410Z"
   },
   {
    "duration": 119,
    "start_time": "2023-03-26T18:34:47.420Z"
   },
   {
    "duration": 321,
    "start_time": "2023-03-26T18:34:47.541Z"
   },
   {
    "duration": 9,
    "start_time": "2023-03-26T18:34:47.864Z"
   },
   {
    "duration": 130,
    "start_time": "2023-03-26T18:34:47.889Z"
   },
   {
    "duration": 136,
    "start_time": "2023-03-26T18:34:48.021Z"
   },
   {
    "duration": 276,
    "start_time": "2023-03-26T18:34:52.034Z"
   },
   {
    "duration": 207,
    "start_time": "2023-03-26T18:35:01.969Z"
   },
   {
    "duration": 201,
    "start_time": "2023-03-26T18:35:23.338Z"
   },
   {
    "duration": 183,
    "start_time": "2023-03-26T18:35:59.024Z"
   },
   {
    "duration": 189,
    "start_time": "2023-03-26T18:36:05.671Z"
   },
   {
    "duration": 181,
    "start_time": "2023-03-26T18:37:00.850Z"
   },
   {
    "duration": 156,
    "start_time": "2023-03-26T18:37:41.666Z"
   },
   {
    "duration": 23,
    "start_time": "2023-03-26T18:38:29.471Z"
   },
   {
    "duration": 38,
    "start_time": "2023-03-26T18:38:44.914Z"
   },
   {
    "duration": 27,
    "start_time": "2023-03-26T18:39:45.824Z"
   },
   {
    "duration": 42,
    "start_time": "2023-03-26T18:40:14.922Z"
   },
   {
    "duration": 8,
    "start_time": "2023-03-26T18:42:27.778Z"
   },
   {
    "duration": 7,
    "start_time": "2023-03-26T18:42:42.805Z"
   },
   {
    "duration": 161,
    "start_time": "2023-03-26T18:42:57.682Z"
   },
   {
    "duration": 175,
    "start_time": "2023-03-26T18:43:01.409Z"
   },
   {
    "duration": 108,
    "start_time": "2023-03-26T18:43:04.610Z"
   },
   {
    "duration": 42098,
    "start_time": "2023-03-26T18:43:13.706Z"
   },
   {
    "duration": 189,
    "start_time": "2023-03-26T18:44:19.668Z"
   },
   {
    "duration": 4975,
    "start_time": "2023-03-26T18:44:51.559Z"
   },
   {
    "duration": 1415,
    "start_time": "2023-03-26T18:45:20.847Z"
   },
   {
    "duration": 1479,
    "start_time": "2023-03-26T18:46:07.902Z"
   },
   {
    "duration": 1496,
    "start_time": "2023-03-26T18:46:28.425Z"
   },
   {
    "duration": 1660,
    "start_time": "2023-03-26T18:48:07.418Z"
   },
   {
    "duration": 2268,
    "start_time": "2023-03-26T18:49:59.242Z"
   },
   {
    "duration": 2367,
    "start_time": "2023-03-26T18:50:46.647Z"
   },
   {
    "duration": 2259,
    "start_time": "2023-03-26T18:53:06.103Z"
   },
   {
    "duration": 3328,
    "start_time": "2023-03-26T18:53:56.882Z"
   },
   {
    "duration": 2991,
    "start_time": "2023-03-26T18:54:39.827Z"
   },
   {
    "duration": 3532,
    "start_time": "2023-03-26T18:56:44.035Z"
   },
   {
    "duration": 3430,
    "start_time": "2023-03-26T18:57:55.099Z"
   },
   {
    "duration": 3002,
    "start_time": "2023-03-26T18:58:55.957Z"
   },
   {
    "duration": 3227,
    "start_time": "2023-03-26T19:00:06.913Z"
   },
   {
    "duration": 3700,
    "start_time": "2023-03-26T19:00:50.984Z"
   },
   {
    "duration": 3836,
    "start_time": "2023-03-26T19:01:02.103Z"
   },
   {
    "duration": 3922,
    "start_time": "2023-03-26T19:01:16.617Z"
   },
   {
    "duration": 3825,
    "start_time": "2023-03-26T19:01:58.252Z"
   },
   {
    "duration": 3686,
    "start_time": "2023-03-26T19:02:11.068Z"
   },
   {
    "duration": 3643,
    "start_time": "2023-03-26T19:04:23.219Z"
   },
   {
    "duration": 2315,
    "start_time": "2023-03-26T19:07:18.122Z"
   },
   {
    "duration": 2190,
    "start_time": "2023-03-26T19:07:30.612Z"
   },
   {
    "duration": 2698,
    "start_time": "2023-03-26T19:08:09.471Z"
   },
   {
    "duration": 10,
    "start_time": "2023-03-26T19:10:14.613Z"
   },
   {
    "duration": 79,
    "start_time": "2023-03-26T19:11:41.060Z"
   },
   {
    "duration": 4,
    "start_time": "2023-03-26T19:11:51.886Z"
   },
   {
    "duration": 12,
    "start_time": "2023-03-26T19:11:51.892Z"
   },
   {
    "duration": 846,
    "start_time": "2023-03-26T19:11:51.906Z"
   },
   {
    "duration": 45,
    "start_time": "2023-03-26T19:11:52.755Z"
   },
   {
    "duration": 43,
    "start_time": "2023-03-26T19:11:52.805Z"
   },
   {
    "duration": 12,
    "start_time": "2023-03-26T19:11:52.850Z"
   },
   {
    "duration": 147,
    "start_time": "2023-03-26T19:11:52.864Z"
   },
   {
    "duration": 5,
    "start_time": "2023-03-26T19:11:53.013Z"
   },
   {
    "duration": 98,
    "start_time": "2023-03-26T19:11:53.020Z"
   },
   {
    "duration": 390,
    "start_time": "2023-03-26T19:11:53.119Z"
   },
   {
    "duration": 8,
    "start_time": "2023-03-26T19:11:53.511Z"
   },
   {
    "duration": 32,
    "start_time": "2023-03-26T19:11:53.520Z"
   },
   {
    "duration": 142,
    "start_time": "2023-03-26T19:11:53.553Z"
   },
   {
    "duration": 254,
    "start_time": "2023-03-26T19:11:58.130Z"
   },
   {
    "duration": 111,
    "start_time": "2023-03-26T19:14:10.667Z"
   },
   {
    "duration": 107,
    "start_time": "2023-03-26T19:14:14.965Z"
   },
   {
    "duration": 5,
    "start_time": "2023-03-26T19:14:37.152Z"
   },
   {
    "duration": 4,
    "start_time": "2023-03-26T19:14:37.159Z"
   },
   {
    "duration": 1211,
    "start_time": "2023-03-26T19:14:37.165Z"
   },
   {
    "duration": 42,
    "start_time": "2023-03-26T19:14:38.378Z"
   },
   {
    "duration": 44,
    "start_time": "2023-03-26T19:14:38.421Z"
   },
   {
    "duration": 38,
    "start_time": "2023-03-26T19:14:38.467Z"
   },
   {
    "duration": 101,
    "start_time": "2023-03-26T19:14:38.507Z"
   },
   {
    "duration": 6,
    "start_time": "2023-03-26T19:14:38.611Z"
   },
   {
    "duration": 109,
    "start_time": "2023-03-26T19:14:38.619Z"
   },
   {
    "duration": 296,
    "start_time": "2023-03-26T19:14:38.730Z"
   },
   {
    "duration": 10,
    "start_time": "2023-03-26T19:14:39.028Z"
   },
   {
    "duration": 65,
    "start_time": "2023-03-26T19:14:39.039Z"
   },
   {
    "duration": 110,
    "start_time": "2023-03-26T19:14:44.017Z"
   },
   {
    "duration": 297,
    "start_time": "2023-03-26T19:14:56.469Z"
   },
   {
    "duration": 7,
    "start_time": "2023-03-26T19:42:13.512Z"
   },
   {
    "duration": 5,
    "start_time": "2023-03-26T19:42:28.023Z"
   },
   {
    "duration": 1142,
    "start_time": "2023-03-26T19:46:25.661Z"
   },
   {
    "duration": 13,
    "start_time": "2023-03-26T19:47:03.257Z"
   },
   {
    "duration": 4,
    "start_time": "2023-03-26T19:48:44.767Z"
   },
   {
    "duration": 4,
    "start_time": "2023-03-26T19:48:44.773Z"
   },
   {
    "duration": 729,
    "start_time": "2023-03-26T19:48:44.779Z"
   },
   {
    "duration": 25,
    "start_time": "2023-03-26T19:48:45.510Z"
   },
   {
    "duration": 58,
    "start_time": "2023-03-26T19:48:45.536Z"
   },
   {
    "duration": 14,
    "start_time": "2023-03-26T19:48:45.596Z"
   },
   {
    "duration": 106,
    "start_time": "2023-03-26T19:48:45.617Z"
   },
   {
    "duration": 6,
    "start_time": "2023-03-26T19:48:45.725Z"
   },
   {
    "duration": 100,
    "start_time": "2023-03-26T19:48:45.733Z"
   },
   {
    "duration": 290,
    "start_time": "2023-03-26T19:48:45.835Z"
   },
   {
    "duration": 9,
    "start_time": "2023-03-26T19:48:46.126Z"
   },
   {
    "duration": 47,
    "start_time": "2023-03-26T19:48:46.136Z"
   },
   {
    "duration": 120,
    "start_time": "2023-03-26T19:48:46.188Z"
   },
   {
    "duration": 255,
    "start_time": "2023-03-26T19:48:46.311Z"
   },
   {
    "duration": 2,
    "start_time": "2023-03-26T19:48:46.568Z"
   },
   {
    "duration": 9,
    "start_time": "2023-03-26T19:48:46.571Z"
   },
   {
    "duration": 227,
    "start_time": "2023-03-26T19:48:46.581Z"
   },
   {
    "duration": 4,
    "start_time": "2023-03-26T19:48:46.810Z"
   },
   {
    "duration": 15,
    "start_time": "2023-03-26T19:48:46.815Z"
   },
   {
    "duration": 6,
    "start_time": "2023-03-26T19:48:46.832Z"
   },
   {
    "duration": 133,
    "start_time": "2023-03-26T19:48:46.839Z"
   },
   {
    "duration": 177,
    "start_time": "2023-03-26T19:48:46.974Z"
   },
   {
    "duration": 79,
    "start_time": "2023-03-26T19:48:54.170Z"
   },
   {
    "duration": 1114,
    "start_time": "2023-03-26T19:49:10.270Z"
   },
   {
    "duration": 2353,
    "start_time": "2023-03-26T19:49:15.776Z"
   },
   {
    "duration": 6,
    "start_time": "2023-03-26T19:49:21.470Z"
   },
   {
    "duration": 5116,
    "start_time": "2023-03-26T19:50:12.079Z"
   },
   {
    "duration": 2376,
    "start_time": "2023-03-26T19:50:30.128Z"
   },
   {
    "duration": 7,
    "start_time": "2023-03-26T19:50:37.915Z"
   },
   {
    "duration": 5,
    "start_time": "2023-03-26T19:54:51.733Z"
   },
   {
    "duration": 8,
    "start_time": "2023-03-26T19:55:04.638Z"
   },
   {
    "duration": 1732,
    "start_time": "2023-03-26T19:55:46.640Z"
   },
   {
    "duration": 2933,
    "start_time": "2023-03-26T19:56:02.616Z"
   },
   {
    "duration": 6,
    "start_time": "2023-03-26T19:56:07.871Z"
   },
   {
    "duration": 873,
    "start_time": "2023-03-26T19:56:28.251Z"
   },
   {
    "duration": 2643,
    "start_time": "2023-03-26T19:56:40.861Z"
   },
   {
    "duration": 6,
    "start_time": "2023-03-26T19:56:50.073Z"
   },
   {
    "duration": 758,
    "start_time": "2023-03-26T20:16:44.107Z"
   },
   {
    "duration": 2284,
    "start_time": "2023-03-26T20:16:52.233Z"
   },
   {
    "duration": 6,
    "start_time": "2023-03-26T20:16:56.858Z"
   },
   {
    "duration": 16,
    "start_time": "2023-03-26T20:17:50.622Z"
   },
   {
    "duration": 6,
    "start_time": "2023-03-26T20:18:17.167Z"
   },
   {
    "duration": 4126,
    "start_time": "2023-03-26T20:18:33.887Z"
   },
   {
    "duration": 2408,
    "start_time": "2023-03-26T20:18:41.792Z"
   },
   {
    "duration": 7,
    "start_time": "2023-03-26T20:18:50.023Z"
   },
   {
    "duration": 8633,
    "start_time": "2023-03-26T20:19:07.985Z"
   },
   {
    "duration": 2281,
    "start_time": "2023-03-26T20:19:25.282Z"
   },
   {
    "duration": 8,
    "start_time": "2023-03-26T20:19:30.630Z"
   },
   {
    "duration": 4998,
    "start_time": "2023-03-26T20:19:49.332Z"
   },
   {
    "duration": 2303,
    "start_time": "2023-03-26T20:19:59.061Z"
   },
   {
    "duration": 7,
    "start_time": "2023-03-26T20:20:04.534Z"
   },
   {
    "duration": 157,
    "start_time": "2023-03-26T21:06:09.456Z"
   },
   {
    "duration": 148,
    "start_time": "2023-03-26T21:06:32.736Z"
   },
   {
    "duration": 707,
    "start_time": "2023-03-26T21:07:52.842Z"
   },
   {
    "duration": 325,
    "start_time": "2023-03-26T21:08:20.260Z"
   },
   {
    "duration": 365,
    "start_time": "2023-03-26T21:08:36.526Z"
   },
   {
    "duration": 725,
    "start_time": "2023-03-26T21:08:56.299Z"
   },
   {
    "duration": 379,
    "start_time": "2023-03-26T21:09:13.508Z"
   },
   {
    "duration": 403,
    "start_time": "2023-03-26T21:09:28.280Z"
   },
   {
    "duration": 45,
    "start_time": "2023-03-26T21:09:45.507Z"
   },
   {
    "duration": 152,
    "start_time": "2023-03-26T21:09:49.061Z"
   },
   {
    "duration": 721,
    "start_time": "2023-03-26T21:09:59.112Z"
   },
   {
    "duration": 148,
    "start_time": "2023-03-26T21:10:04.644Z"
   },
   {
    "duration": 451,
    "start_time": "2023-03-26T21:10:27.057Z"
   },
   {
    "duration": 43,
    "start_time": "2023-03-26T21:11:06.005Z"
   },
   {
    "duration": 162,
    "start_time": "2023-03-26T21:11:12.365Z"
   },
   {
    "duration": 56,
    "start_time": "2023-03-26T21:11:20.447Z"
   },
   {
    "duration": 157,
    "start_time": "2023-03-26T21:11:25.502Z"
   },
   {
    "duration": 6943,
    "start_time": "2023-03-26T21:11:51.208Z"
   },
   {
    "duration": 170,
    "start_time": "2023-03-26T21:12:06.670Z"
   },
   {
    "duration": 294,
    "start_time": "2023-03-26T21:12:29.396Z"
   },
   {
    "duration": 307,
    "start_time": "2023-03-26T21:13:14.656Z"
   },
   {
    "duration": 258,
    "start_time": "2023-03-26T21:13:21.607Z"
   },
   {
    "duration": 238,
    "start_time": "2023-03-26T21:13:30.584Z"
   },
   {
    "duration": 210,
    "start_time": "2023-03-26T21:14:29.373Z"
   },
   {
    "duration": 188,
    "start_time": "2023-03-26T21:14:42.215Z"
   },
   {
    "duration": 201,
    "start_time": "2023-03-26T21:14:57.244Z"
   },
   {
    "duration": 11,
    "start_time": "2023-03-26T21:15:08.999Z"
   },
   {
    "duration": 207,
    "start_time": "2023-03-26T21:15:18.205Z"
   },
   {
    "duration": 358,
    "start_time": "2023-03-26T21:15:59.887Z"
   },
   {
    "duration": 765,
    "start_time": "2023-03-26T21:16:27.939Z"
   },
   {
    "duration": 16,
    "start_time": "2023-03-26T21:16:42.739Z"
   },
   {
    "duration": 173,
    "start_time": "2023-03-26T21:16:52.698Z"
   },
   {
    "duration": 181,
    "start_time": "2023-03-26T21:16:59.763Z"
   },
   {
    "duration": 149,
    "start_time": "2023-03-26T21:17:05.647Z"
   },
   {
    "duration": 706,
    "start_time": "2023-03-26T21:17:32.578Z"
   },
   {
    "duration": 22,
    "start_time": "2023-03-26T21:17:49.999Z"
   },
   {
    "duration": 240,
    "start_time": "2023-03-26T21:18:00.737Z"
   },
   {
    "duration": 153,
    "start_time": "2023-03-26T21:19:08.038Z"
   },
   {
    "duration": 159,
    "start_time": "2023-03-26T21:19:49.240Z"
   },
   {
    "duration": 153,
    "start_time": "2023-03-26T21:20:43.738Z"
   },
   {
    "duration": 159,
    "start_time": "2023-03-26T21:20:52.041Z"
   },
   {
    "duration": 165,
    "start_time": "2023-03-26T21:21:31.498Z"
   },
   {
    "duration": 157,
    "start_time": "2023-03-26T21:21:34.148Z"
   },
   {
    "duration": 145,
    "start_time": "2023-03-26T21:21:47.436Z"
   },
   {
    "duration": 161,
    "start_time": "2023-03-26T21:21:58.831Z"
   },
   {
    "duration": 281,
    "start_time": "2023-03-26T21:22:40.768Z"
   },
   {
    "duration": 155,
    "start_time": "2023-03-26T21:22:51.736Z"
   },
   {
    "duration": 238,
    "start_time": "2023-03-26T21:23:03.853Z"
   },
   {
    "duration": 248,
    "start_time": "2023-03-26T21:23:10.033Z"
   },
   {
    "duration": 116,
    "start_time": "2023-03-26T21:24:47.050Z"
   },
   {
    "duration": 138,
    "start_time": "2023-03-26T21:25:13.083Z"
   },
   {
    "duration": 0,
    "start_time": "2023-03-26T21:29:58.613Z"
   },
   {
    "duration": 193,
    "start_time": "2023-03-26T21:30:00.286Z"
   },
   {
    "duration": 250,
    "start_time": "2023-03-26T21:30:11.383Z"
   },
   {
    "duration": 194,
    "start_time": "2023-03-26T21:30:18.366Z"
   },
   {
    "duration": 253,
    "start_time": "2023-03-26T21:30:37.413Z"
   },
   {
    "duration": 188,
    "start_time": "2023-03-26T21:30:59.903Z"
   },
   {
    "duration": 146,
    "start_time": "2023-03-26T21:31:08.048Z"
   },
   {
    "duration": 175,
    "start_time": "2023-03-26T21:34:30.437Z"
   },
   {
    "duration": 160,
    "start_time": "2023-03-26T21:35:17.875Z"
   },
   {
    "duration": 425,
    "start_time": "2023-03-26T21:35:31.854Z"
   },
   {
    "duration": 405,
    "start_time": "2023-03-26T21:36:01.231Z"
   },
   {
    "duration": 414,
    "start_time": "2023-03-26T21:36:25.329Z"
   },
   {
    "duration": 419,
    "start_time": "2023-03-26T21:36:55.230Z"
   },
   {
    "duration": 3372,
    "start_time": "2023-03-26T21:37:02.243Z"
   },
   {
    "duration": 117,
    "start_time": "2023-03-26T21:37:55.512Z"
   },
   {
    "duration": 131,
    "start_time": "2023-03-26T21:38:02.886Z"
   },
   {
    "duration": 144,
    "start_time": "2023-03-26T21:38:17.169Z"
   },
   {
    "duration": 127,
    "start_time": "2023-03-26T21:38:32.228Z"
   },
   {
    "duration": 119,
    "start_time": "2023-03-26T21:38:45.924Z"
   },
   {
    "duration": 112,
    "start_time": "2023-03-26T21:39:19.107Z"
   },
   {
    "duration": 233,
    "start_time": "2023-03-26T21:39:51.124Z"
   },
   {
    "duration": 373,
    "start_time": "2023-03-26T21:40:31.635Z"
   },
   {
    "duration": 145,
    "start_time": "2023-03-26T21:51:39.960Z"
   },
   {
    "duration": 175,
    "start_time": "2023-03-26T21:53:28.427Z"
   },
   {
    "duration": 177,
    "start_time": "2023-03-26T21:53:58.941Z"
   },
   {
    "duration": 169,
    "start_time": "2023-03-26T21:54:05.891Z"
   },
   {
    "duration": 367,
    "start_time": "2023-03-26T21:54:22.378Z"
   },
   {
    "duration": 399,
    "start_time": "2023-03-26T21:56:43.955Z"
   },
   {
    "duration": 132,
    "start_time": "2023-03-26T21:58:29.646Z"
   },
   {
    "duration": 2121,
    "start_time": "2023-03-26T21:59:05.973Z"
   },
   {
    "duration": 1837,
    "start_time": "2023-03-26T21:59:53.270Z"
   },
   {
    "duration": 315,
    "start_time": "2023-03-26T22:01:21.183Z"
   },
   {
    "duration": 799,
    "start_time": "2023-03-26T22:02:04.583Z"
   },
   {
    "duration": 518,
    "start_time": "2023-03-26T22:06:57.581Z"
   },
   {
    "duration": 346,
    "start_time": "2023-03-26T22:10:48.460Z"
   },
   {
    "duration": 1293,
    "start_time": "2023-03-26T22:11:14.355Z"
   },
   {
    "duration": 714,
    "start_time": "2023-03-26T22:11:32.808Z"
   },
   {
    "duration": 503,
    "start_time": "2023-03-26T22:11:44.286Z"
   },
   {
    "duration": 49,
    "start_time": "2023-03-26T22:12:19.899Z"
   },
   {
    "duration": 350,
    "start_time": "2023-03-26T22:12:26.402Z"
   },
   {
    "duration": 3,
    "start_time": "2023-03-26T22:17:27.967Z"
   },
   {
    "duration": 111,
    "start_time": "2023-03-26T22:17:57.828Z"
   },
   {
    "duration": 211,
    "start_time": "2023-03-26T22:18:09.129Z"
   },
   {
    "duration": 194,
    "start_time": "2023-03-26T22:19:14.098Z"
   },
   {
    "duration": 5,
    "start_time": "2023-03-26T22:19:30.928Z"
   },
   {
    "duration": 3,
    "start_time": "2023-03-26T22:20:38.262Z"
   },
   {
    "duration": 779,
    "start_time": "2023-03-26T22:21:15.552Z"
   },
   {
    "duration": 386,
    "start_time": "2023-03-26T22:21:24.063Z"
   },
   {
    "duration": 775,
    "start_time": "2023-03-26T22:21:39.309Z"
   },
   {
    "duration": 365,
    "start_time": "2023-03-26T22:22:32.422Z"
   },
   {
    "duration": 717,
    "start_time": "2023-03-26T22:23:01.766Z"
   },
   {
    "duration": 340,
    "start_time": "2023-03-26T22:23:33.408Z"
   },
   {
    "duration": 564,
    "start_time": "2023-03-26T22:24:22.581Z"
   },
   {
    "duration": 4,
    "start_time": "2023-03-26T22:31:35.393Z"
   },
   {
    "duration": 469,
    "start_time": "2023-03-26T22:31:37.014Z"
   },
   {
    "duration": 5,
    "start_time": "2023-03-26T22:32:01.279Z"
   },
   {
    "duration": 391,
    "start_time": "2023-03-26T22:32:03.267Z"
   },
   {
    "duration": 777,
    "start_time": "2023-03-26T22:33:14.327Z"
   },
   {
    "duration": 340,
    "start_time": "2023-03-26T22:33:25.465Z"
   },
   {
    "duration": 497,
    "start_time": "2023-03-26T22:33:40.378Z"
   },
   {
    "duration": 353,
    "start_time": "2023-03-26T22:34:11.528Z"
   },
   {
    "duration": 557,
    "start_time": "2023-03-26T22:34:52.528Z"
   },
   {
    "duration": 819,
    "start_time": "2023-03-26T22:35:27.233Z"
   },
   {
    "duration": 523,
    "start_time": "2023-03-26T22:35:53.340Z"
   },
   {
    "duration": 568,
    "start_time": "2023-03-26T22:36:30.389Z"
   },
   {
    "duration": 608,
    "start_time": "2023-03-26T22:36:37.258Z"
   },
   {
    "duration": 512,
    "start_time": "2023-03-26T22:36:41.032Z"
   },
   {
    "duration": 349,
    "start_time": "2023-03-26T22:36:51.796Z"
   },
   {
    "duration": 352,
    "start_time": "2023-03-26T22:37:06.437Z"
   },
   {
    "duration": 369,
    "start_time": "2023-03-26T22:37:21.433Z"
   },
   {
    "duration": 372,
    "start_time": "2023-03-26T22:37:32.936Z"
   },
   {
    "duration": 511,
    "start_time": "2023-03-26T22:37:58.306Z"
   },
   {
    "duration": 771,
    "start_time": "2023-03-26T22:38:08.952Z"
   },
   {
    "duration": 512,
    "start_time": "2023-03-26T22:38:19.537Z"
   },
   {
    "duration": 505,
    "start_time": "2023-03-26T22:38:29.845Z"
   },
   {
    "duration": 1583,
    "start_time": "2023-03-27T21:09:13.390Z"
   },
   {
    "duration": 4,
    "start_time": "2023-03-27T21:09:14.975Z"
   },
   {
    "duration": 685,
    "start_time": "2023-03-27T21:09:14.980Z"
   },
   {
    "duration": 21,
    "start_time": "2023-03-27T21:09:15.666Z"
   },
   {
    "duration": 73,
    "start_time": "2023-03-27T21:09:15.689Z"
   },
   {
    "duration": 10,
    "start_time": "2023-03-27T21:09:15.764Z"
   },
   {
    "duration": 103,
    "start_time": "2023-03-27T21:09:15.776Z"
   },
   {
    "duration": 5,
    "start_time": "2023-03-27T21:09:15.881Z"
   },
   {
    "duration": 102,
    "start_time": "2023-03-27T21:09:15.887Z"
   },
   {
    "duration": 291,
    "start_time": "2023-03-27T21:09:15.991Z"
   },
   {
    "duration": 9,
    "start_time": "2023-03-27T21:09:16.284Z"
   },
   {
    "duration": 31,
    "start_time": "2023-03-27T21:09:16.294Z"
   },
   {
    "duration": 149,
    "start_time": "2023-03-27T21:09:16.326Z"
   },
   {
    "duration": 236,
    "start_time": "2023-03-27T21:09:16.478Z"
   },
   {
    "duration": 2,
    "start_time": "2023-03-27T21:09:16.716Z"
   },
   {
    "duration": 5,
    "start_time": "2023-03-27T21:09:16.719Z"
   },
   {
    "duration": 461,
    "start_time": "2023-03-27T21:09:16.726Z"
   },
   {
    "duration": 903,
    "start_time": "2023-03-27T21:09:17.188Z"
   },
   {
    "duration": 359,
    "start_time": "2023-03-27T21:09:18.093Z"
   },
   {
    "duration": 531,
    "start_time": "2023-03-27T21:09:18.454Z"
   },
   {
    "duration": 397,
    "start_time": "2023-03-27T21:09:18.987Z"
   },
   {
    "duration": 617,
    "start_time": "2023-03-27T21:09:19.386Z"
   },
   {
    "duration": 3,
    "start_time": "2023-03-27T21:09:20.004Z"
   },
   {
    "duration": 57,
    "start_time": "2023-03-27T21:09:20.009Z"
   },
   {
    "duration": 10,
    "start_time": "2023-03-27T21:09:20.068Z"
   },
   {
    "duration": 6,
    "start_time": "2023-03-27T21:09:20.080Z"
   },
   {
    "duration": 116,
    "start_time": "2023-03-27T21:09:20.088Z"
   },
   {
    "duration": 175,
    "start_time": "2023-03-27T21:09:20.206Z"
   },
   {
    "duration": 107,
    "start_time": "2023-03-27T21:09:20.383Z"
   },
   {
    "duration": 9476,
    "start_time": "2023-03-27T21:09:20.492Z"
   },
   {
    "duration": 37906,
    "start_time": "2023-03-27T21:09:29.971Z"
   },
   {
    "duration": 172,
    "start_time": "2023-03-27T21:10:07.878Z"
   },
   {
    "duration": 783603,
    "start_time": "2023-03-27T21:10:08.052Z"
   },
   {
    "duration": 169,
    "start_time": "2023-03-27T21:23:11.661Z"
   },
   {
    "duration": 4423,
    "start_time": "2023-03-27T21:23:11.832Z"
   },
   {
    "duration": 2037,
    "start_time": "2023-03-27T21:23:16.257Z"
   },
   {
    "duration": 5,
    "start_time": "2023-03-27T21:23:18.296Z"
   },
   {
    "duration": 4,
    "start_time": "2023-03-27T21:23:18.302Z"
   },
   {
    "duration": 3471,
    "start_time": "2023-03-27T21:26:19.235Z"
   },
   {
    "duration": 1974,
    "start_time": "2023-03-27T21:26:29.612Z"
   },
   {
    "duration": 7,
    "start_time": "2023-03-27T21:26:35.172Z"
   },
   {
    "duration": 2744,
    "start_time": "2023-03-27T21:27:56.165Z"
   },
   {
    "duration": 1946,
    "start_time": "2023-03-27T21:28:17.164Z"
   },
   {
    "duration": 6,
    "start_time": "2023-03-27T21:28:20.992Z"
   },
   {
    "duration": 56,
    "start_time": "2023-03-27T21:32:31.320Z"
   },
   {
    "duration": 51,
    "start_time": "2023-03-27T21:32:45.723Z"
   },
   {
    "duration": 6,
    "start_time": "2023-03-27T21:39:39.254Z"
   },
   {
    "duration": 45,
    "start_time": "2023-03-27T21:43:31.624Z"
   },
   {
    "duration": 48,
    "start_time": "2023-03-27T21:43:36.134Z"
   },
   {
    "duration": 79,
    "start_time": "2023-03-27T21:43:40.718Z"
   },
   {
    "duration": 6,
    "start_time": "2023-03-27T21:43:47.428Z"
   },
   {
    "duration": 11,
    "start_time": "2023-03-27T21:43:47.436Z"
   },
   {
    "duration": 626,
    "start_time": "2023-03-27T21:43:47.449Z"
   },
   {
    "duration": 49,
    "start_time": "2023-03-27T21:43:48.077Z"
   },
   {
    "duration": 6,
    "start_time": "2023-03-27T21:43:48.127Z"
   },
   {
    "duration": 35,
    "start_time": "2023-03-27T21:43:48.135Z"
   },
   {
    "duration": 77,
    "start_time": "2023-03-27T21:43:50.808Z"
   },
   {
    "duration": 47,
    "start_time": "2023-03-27T21:44:01.547Z"
   },
   {
    "duration": 84,
    "start_time": "2023-03-27T21:44:04.960Z"
   },
   {
    "duration": 6,
    "start_time": "2023-03-27T21:44:50.137Z"
   },
   {
    "duration": 51,
    "start_time": "2023-03-27T21:45:43.021Z"
   },
   {
    "duration": 82,
    "start_time": "2023-03-27T21:47:52.671Z"
   },
   {
    "duration": 32,
    "start_time": "2023-03-27T21:52:52.257Z"
   },
   {
    "duration": 10,
    "start_time": "2023-03-27T22:08:32.538Z"
   },
   {
    "duration": 11,
    "start_time": "2023-03-27T22:10:58.844Z"
   },
   {
    "duration": 9,
    "start_time": "2023-03-27T22:11:09.910Z"
   },
   {
    "duration": 32,
    "start_time": "2023-03-27T22:13:45.469Z"
   },
   {
    "duration": 34,
    "start_time": "2023-03-27T22:37:23.226Z"
   },
   {
    "duration": 132,
    "start_time": "2023-03-27T22:40:29.034Z"
   },
   {
    "duration": 4,
    "start_time": "2023-03-27T22:40:56.043Z"
   },
   {
    "duration": 5,
    "start_time": "2023-03-27T22:40:56.049Z"
   },
   {
    "duration": 714,
    "start_time": "2023-03-27T22:40:56.056Z"
   },
   {
    "duration": 53,
    "start_time": "2023-03-27T22:40:56.773Z"
   },
   {
    "duration": 6,
    "start_time": "2023-03-27T22:40:56.828Z"
   },
   {
    "duration": 33,
    "start_time": "2023-03-27T22:40:56.835Z"
   },
   {
    "duration": 97,
    "start_time": "2023-03-27T22:40:56.870Z"
   },
   {
    "duration": 53,
    "start_time": "2023-03-27T22:40:56.969Z"
   },
   {
    "duration": 104,
    "start_time": "2023-03-27T22:40:57.025Z"
   },
   {
    "duration": 298,
    "start_time": "2023-03-27T22:40:57.130Z"
   },
   {
    "duration": 9,
    "start_time": "2023-03-27T22:40:57.430Z"
   },
   {
    "duration": 46,
    "start_time": "2023-03-27T22:40:57.441Z"
   },
   {
    "duration": 133,
    "start_time": "2023-03-27T22:40:57.488Z"
   },
   {
    "duration": 174,
    "start_time": "2023-03-27T22:40:57.622Z"
   },
   {
    "duration": 0,
    "start_time": "2023-03-27T22:40:57.797Z"
   },
   {
    "duration": 0,
    "start_time": "2023-03-27T22:40:57.798Z"
   },
   {
    "duration": 0,
    "start_time": "2023-03-27T22:40:57.799Z"
   },
   {
    "duration": 0,
    "start_time": "2023-03-27T22:40:57.800Z"
   },
   {
    "duration": 0,
    "start_time": "2023-03-27T22:40:57.801Z"
   },
   {
    "duration": 0,
    "start_time": "2023-03-27T22:40:57.801Z"
   },
   {
    "duration": 69,
    "start_time": "2023-03-27T22:41:33.550Z"
   },
   {
    "duration": 4,
    "start_time": "2023-03-27T22:42:00.376Z"
   },
   {
    "duration": 45,
    "start_time": "2023-03-27T22:42:00.382Z"
   },
   {
    "duration": 706,
    "start_time": "2023-03-27T22:42:00.429Z"
   },
   {
    "duration": 57,
    "start_time": "2023-03-27T22:42:01.136Z"
   },
   {
    "duration": 6,
    "start_time": "2023-03-27T22:42:01.195Z"
   },
   {
    "duration": 36,
    "start_time": "2023-03-27T22:42:01.202Z"
   },
   {
    "duration": 97,
    "start_time": "2023-03-27T22:42:01.239Z"
   },
   {
    "duration": 64,
    "start_time": "2023-03-27T22:42:01.338Z"
   },
   {
    "duration": 96,
    "start_time": "2023-03-27T22:42:01.404Z"
   },
   {
    "duration": 280,
    "start_time": "2023-03-27T22:42:01.502Z"
   },
   {
    "duration": 9,
    "start_time": "2023-03-27T22:42:01.784Z"
   },
   {
    "duration": 53,
    "start_time": "2023-03-27T22:42:01.794Z"
   },
   {
    "duration": 121,
    "start_time": "2023-03-27T22:42:06.218Z"
   },
   {
    "duration": 104,
    "start_time": "2023-03-27T22:42:24.094Z"
   },
   {
    "duration": 103,
    "start_time": "2023-03-27T22:42:35.126Z"
   },
   {
    "duration": 4,
    "start_time": "2023-03-27T22:42:50.300Z"
   },
   {
    "duration": 11,
    "start_time": "2023-03-27T22:42:50.306Z"
   },
   {
    "duration": 526,
    "start_time": "2023-03-27T22:42:50.319Z"
   },
   {
    "duration": 75,
    "start_time": "2023-03-27T22:42:50.847Z"
   },
   {
    "duration": 7,
    "start_time": "2023-03-27T22:42:50.924Z"
   },
   {
    "duration": 29,
    "start_time": "2023-03-27T22:42:50.933Z"
   },
   {
    "duration": 98,
    "start_time": "2023-03-27T22:42:50.964Z"
   },
   {
    "duration": 58,
    "start_time": "2023-03-27T22:42:51.064Z"
   },
   {
    "duration": 99,
    "start_time": "2023-03-27T22:42:51.124Z"
   },
   {
    "duration": 275,
    "start_time": "2023-03-27T22:42:51.224Z"
   },
   {
    "duration": 9,
    "start_time": "2023-03-27T22:42:51.502Z"
   },
   {
    "duration": 50,
    "start_time": "2023-03-27T22:42:51.513Z"
   },
   {
    "duration": 126,
    "start_time": "2023-03-27T22:42:51.564Z"
   },
   {
    "duration": 249,
    "start_time": "2023-03-27T22:42:51.691Z"
   },
   {
    "duration": 4,
    "start_time": "2023-03-27T22:42:51.942Z"
   },
   {
    "duration": 439,
    "start_time": "2023-03-27T22:42:51.948Z"
   },
   {
    "duration": 948,
    "start_time": "2023-03-27T22:42:52.389Z"
   },
   {
    "duration": 392,
    "start_time": "2023-03-27T22:42:53.338Z"
   },
   {
    "duration": 598,
    "start_time": "2023-03-27T22:42:53.732Z"
   },
   {
    "duration": 364,
    "start_time": "2023-03-27T22:42:54.332Z"
   },
   {
    "duration": 723,
    "start_time": "2023-03-27T22:42:54.698Z"
   },
   {
    "duration": 4,
    "start_time": "2023-03-27T22:44:39.103Z"
   },
   {
    "duration": 5,
    "start_time": "2023-03-27T22:44:39.109Z"
   },
   {
    "duration": 417,
    "start_time": "2023-03-27T22:44:39.116Z"
   },
   {
    "duration": 58,
    "start_time": "2023-03-27T22:44:39.535Z"
   },
   {
    "duration": 6,
    "start_time": "2023-03-27T22:44:39.595Z"
   },
   {
    "duration": 17,
    "start_time": "2023-03-27T22:44:39.602Z"
   },
   {
    "duration": 92,
    "start_time": "2023-03-27T22:44:39.621Z"
   },
   {
    "duration": 63,
    "start_time": "2023-03-27T22:44:39.715Z"
   },
   {
    "duration": 84,
    "start_time": "2023-03-27T22:44:39.780Z"
   },
   {
    "duration": 267,
    "start_time": "2023-03-27T22:44:39.866Z"
   },
   {
    "duration": 9,
    "start_time": "2023-03-27T22:44:40.134Z"
   },
   {
    "duration": 43,
    "start_time": "2023-03-27T22:44:40.144Z"
   },
   {
    "duration": 119,
    "start_time": "2023-03-27T22:44:40.188Z"
   },
   {
    "duration": 226,
    "start_time": "2023-03-27T22:44:40.309Z"
   },
   {
    "duration": 4,
    "start_time": "2023-03-27T22:44:40.537Z"
   },
   {
    "duration": 444,
    "start_time": "2023-03-27T22:44:40.543Z"
   },
   {
    "duration": 910,
    "start_time": "2023-03-27T22:44:40.989Z"
   },
   {
    "duration": 370,
    "start_time": "2023-03-27T22:44:41.901Z"
   },
   {
    "duration": 636,
    "start_time": "2023-03-27T22:44:42.272Z"
   },
   {
    "duration": 358,
    "start_time": "2023-03-27T22:44:42.910Z"
   },
   {
    "duration": 585,
    "start_time": "2023-03-27T22:44:43.270Z"
   },
   {
    "duration": 5,
    "start_time": "2023-03-27T22:44:43.857Z"
   },
   {
    "duration": 43,
    "start_time": "2023-03-27T22:44:43.864Z"
   },
   {
    "duration": 10,
    "start_time": "2023-03-27T22:44:43.911Z"
   },
   {
    "duration": 8,
    "start_time": "2023-03-27T22:44:43.922Z"
   },
   {
    "duration": 136,
    "start_time": "2023-03-27T22:44:43.964Z"
   },
   {
    "duration": 176,
    "start_time": "2023-03-27T22:44:44.102Z"
   },
   {
    "duration": 87,
    "start_time": "2023-03-27T22:44:44.279Z"
   },
   {
    "duration": 9895,
    "start_time": "2023-03-27T22:44:47.168Z"
   },
   {
    "duration": 38098,
    "start_time": "2023-03-27T22:45:06.612Z"
   },
   {
    "duration": 167,
    "start_time": "2023-03-27T22:45:47.506Z"
   },
   {
    "duration": 2750,
    "start_time": "2023-03-27T22:45:59.234Z"
   },
   {
    "duration": 1949,
    "start_time": "2023-03-27T22:46:14.198Z"
   },
   {
    "duration": 5,
    "start_time": "2023-03-27T22:46:22.422Z"
   },
   {
    "duration": 21,
    "start_time": "2023-03-27T22:47:25.612Z"
   },
   {
    "duration": 4,
    "start_time": "2023-03-27T22:47:32.365Z"
   },
   {
    "duration": 7,
    "start_time": "2023-03-27T22:47:32.371Z"
   },
   {
    "duration": 465,
    "start_time": "2023-03-27T22:47:32.379Z"
   },
   {
    "duration": 59,
    "start_time": "2023-03-27T22:47:32.845Z"
   },
   {
    "duration": 6,
    "start_time": "2023-03-27T22:47:32.905Z"
   },
   {
    "duration": 13,
    "start_time": "2023-03-27T22:47:32.913Z"
   },
   {
    "duration": 98,
    "start_time": "2023-03-27T22:47:32.928Z"
   },
   {
    "duration": 66,
    "start_time": "2023-03-27T22:47:33.028Z"
   },
   {
    "duration": 87,
    "start_time": "2023-03-27T22:47:33.096Z"
   },
   {
    "duration": 375,
    "start_time": "2023-03-27T22:47:33.185Z"
   },
   {
    "duration": 10,
    "start_time": "2023-03-27T22:47:33.562Z"
   },
   {
    "duration": 18,
    "start_time": "2023-03-27T22:47:36.996Z"
   },
   {
    "duration": 22,
    "start_time": "2023-03-27T22:47:52.135Z"
   },
   {
    "duration": 17,
    "start_time": "2023-03-27T22:48:17.590Z"
   },
   {
    "duration": 19,
    "start_time": "2023-03-27T22:48:27.985Z"
   },
   {
    "duration": 22,
    "start_time": "2023-03-27T22:48:39.414Z"
   },
   {
    "duration": 19,
    "start_time": "2023-03-27T22:48:52.006Z"
   },
   {
    "duration": 20,
    "start_time": "2023-03-27T22:48:59.636Z"
   },
   {
    "duration": 18,
    "start_time": "2023-03-27T22:49:22.514Z"
   },
   {
    "duration": 18,
    "start_time": "2023-03-27T22:49:44.490Z"
   },
   {
    "duration": 17,
    "start_time": "2023-03-27T22:50:33.069Z"
   },
   {
    "duration": 18,
    "start_time": "2023-03-27T22:51:00.198Z"
   },
   {
    "duration": 21,
    "start_time": "2023-03-27T22:51:23.470Z"
   },
   {
    "duration": 2123,
    "start_time": "2023-03-27T23:08:11.607Z"
   },
   {
    "duration": 4,
    "start_time": "2023-03-27T23:08:34.152Z"
   },
   {
    "duration": 6,
    "start_time": "2023-03-27T23:08:34.158Z"
   },
   {
    "duration": 519,
    "start_time": "2023-03-27T23:08:34.166Z"
   },
   {
    "duration": 51,
    "start_time": "2023-03-27T23:08:34.687Z"
   },
   {
    "duration": 24,
    "start_time": "2023-03-27T23:08:34.739Z"
   },
   {
    "duration": 11,
    "start_time": "2023-03-27T23:08:34.765Z"
   },
   {
    "duration": 100,
    "start_time": "2023-03-27T23:08:34.778Z"
   },
   {
    "duration": 55,
    "start_time": "2023-03-27T23:08:34.879Z"
   },
   {
    "duration": 106,
    "start_time": "2023-03-27T23:08:34.937Z"
   },
   {
    "duration": 357,
    "start_time": "2023-03-27T23:08:35.045Z"
   },
   {
    "duration": 12,
    "start_time": "2023-03-27T23:08:35.405Z"
   },
   {
    "duration": 43,
    "start_time": "2023-03-27T23:08:35.419Z"
   },
   {
    "duration": 20,
    "start_time": "2023-03-27T23:08:35.464Z"
   },
   {
    "duration": 135,
    "start_time": "2023-03-27T23:08:35.486Z"
   },
   {
    "duration": 207,
    "start_time": "2023-03-27T23:08:38.290Z"
   },
   {
    "duration": 7,
    "start_time": "2023-03-27T23:08:44.086Z"
   },
   {
    "duration": 114,
    "start_time": "2023-03-27T23:08:46.780Z"
   },
   {
    "duration": 164,
    "start_time": "2023-03-27T23:08:49.434Z"
   },
   {
    "duration": 80,
    "start_time": "2023-03-27T23:08:51.220Z"
   },
   {
    "duration": 5664,
    "start_time": "2023-03-27T23:09:00.123Z"
   },
   {
    "duration": 5638,
    "start_time": "2023-03-27T23:09:27.115Z"
   },
   {
    "duration": 5429,
    "start_time": "2023-03-27T23:10:07.817Z"
   },
   {
    "duration": 5486,
    "start_time": "2023-03-27T23:10:26.205Z"
   },
   {
    "duration": 36897,
    "start_time": "2023-03-27T23:11:04.179Z"
   },
   {
    "duration": 162,
    "start_time": "2023-03-27T23:11:43.240Z"
   },
   {
    "duration": 1336,
    "start_time": "2023-03-28T12:35:40.185Z"
   },
   {
    "duration": 4,
    "start_time": "2023-03-28T12:35:42.657Z"
   },
   {
    "duration": 1139,
    "start_time": "2023-03-28T12:35:49.189Z"
   },
   {
    "duration": 57,
    "start_time": "2023-03-28T12:36:00.328Z"
   },
   {
    "duration": 7,
    "start_time": "2023-03-28T12:36:52.967Z"
   },
   {
    "duration": 9,
    "start_time": "2023-03-28T12:36:54.739Z"
   },
   {
    "duration": 72,
    "start_time": "2023-03-28T12:36:56.706Z"
   },
   {
    "duration": 48,
    "start_time": "2023-03-28T12:37:02.896Z"
   },
   {
    "duration": 73,
    "start_time": "2023-03-28T12:37:05.879Z"
   },
   {
    "duration": 246,
    "start_time": "2023-03-28T12:37:10.619Z"
   },
   {
    "duration": 9,
    "start_time": "2023-03-28T12:37:26.236Z"
   },
   {
    "duration": 16,
    "start_time": "2023-03-28T12:37:51.857Z"
   },
   {
    "duration": 17,
    "start_time": "2023-03-28T12:41:09.186Z"
   },
   {
    "duration": 102,
    "start_time": "2023-03-28T12:41:14.534Z"
   },
   {
    "duration": 223,
    "start_time": "2023-03-28T12:41:18.260Z"
   },
   {
    "duration": 6,
    "start_time": "2023-03-28T12:41:27.025Z"
   },
   {
    "duration": 85,
    "start_time": "2023-03-28T12:42:01.494Z"
   },
   {
    "duration": 132,
    "start_time": "2023-03-28T12:42:14.955Z"
   },
   {
    "duration": 88,
    "start_time": "2023-03-28T12:42:22.596Z"
   },
   {
    "duration": 8616,
    "start_time": "2023-03-28T12:42:39.092Z"
   },
   {
    "duration": 30170,
    "start_time": "2023-03-28T12:42:53.106Z"
   },
   {
    "duration": 171,
    "start_time": "2023-03-28T12:43:25.911Z"
   },
   {
    "duration": 4666,
    "start_time": "2023-03-28T12:44:04.493Z"
   },
   {
    "duration": 1791,
    "start_time": "2023-03-28T12:44:32.460Z"
   },
   {
    "duration": 5,
    "start_time": "2023-03-28T12:44:40.652Z"
   },
   {
    "duration": 3,
    "start_time": "2023-03-28T12:48:52.645Z"
   },
   {
    "duration": 3,
    "start_time": "2023-03-28T12:48:52.650Z"
   },
   {
    "duration": 1197,
    "start_time": "2023-03-28T12:48:52.655Z"
   },
   {
    "duration": 15,
    "start_time": "2023-03-28T12:48:53.853Z"
   },
   {
    "duration": 9,
    "start_time": "2023-03-28T12:48:53.869Z"
   },
   {
    "duration": 65,
    "start_time": "2023-03-28T12:48:53.879Z"
   },
   {
    "duration": 63,
    "start_time": "2023-03-28T12:48:53.945Z"
   },
   {
    "duration": 76,
    "start_time": "2023-03-28T12:48:54.009Z"
   },
   {
    "duration": 225,
    "start_time": "2023-03-28T12:48:54.086Z"
   },
   {
    "duration": 9,
    "start_time": "2023-03-28T12:48:54.312Z"
   },
   {
    "duration": 15,
    "start_time": "2023-03-28T12:48:54.322Z"
   },
   {
    "duration": 34,
    "start_time": "2023-03-28T12:48:54.338Z"
   },
   {
    "duration": 70,
    "start_time": "2023-03-28T12:50:10.942Z"
   },
   {
    "duration": 76,
    "start_time": "2023-03-28T12:50:22.103Z"
   },
   {
    "duration": 4,
    "start_time": "2023-03-28T12:50:26.849Z"
   },
   {
    "duration": 6,
    "start_time": "2023-03-28T12:50:26.854Z"
   },
   {
    "duration": 1018,
    "start_time": "2023-03-28T12:50:26.861Z"
   },
   {
    "duration": 6,
    "start_time": "2023-03-28T12:50:27.881Z"
   },
   {
    "duration": 8,
    "start_time": "2023-03-28T12:50:27.888Z"
   },
   {
    "duration": 73,
    "start_time": "2023-03-28T12:50:27.897Z"
   },
   {
    "duration": 43,
    "start_time": "2023-03-28T12:50:27.972Z"
   },
   {
    "duration": 83,
    "start_time": "2023-03-28T12:50:28.017Z"
   },
   {
    "duration": 226,
    "start_time": "2023-03-28T12:50:28.102Z"
   },
   {
    "duration": 8,
    "start_time": "2023-03-28T12:50:28.329Z"
   },
   {
    "duration": 30,
    "start_time": "2023-03-28T12:50:28.339Z"
   },
   {
    "duration": 16,
    "start_time": "2023-03-28T12:50:28.370Z"
   },
   {
    "duration": 83,
    "start_time": "2023-03-28T12:50:28.387Z"
   },
   {
    "duration": 200,
    "start_time": "2023-03-28T12:50:28.472Z"
   },
   {
    "duration": 3,
    "start_time": "2023-03-28T12:50:28.674Z"
   },
   {
    "duration": 387,
    "start_time": "2023-03-28T12:50:28.679Z"
   },
   {
    "duration": 700,
    "start_time": "2023-03-28T12:50:29.068Z"
   },
   {
    "duration": 400,
    "start_time": "2023-03-28T12:50:29.770Z"
   },
   {
    "duration": 449,
    "start_time": "2023-03-28T12:50:30.171Z"
   },
   {
    "duration": 884,
    "start_time": "2023-03-28T12:50:30.622Z"
   },
   {
    "duration": 537,
    "start_time": "2023-03-28T12:50:31.508Z"
   },
   {
    "duration": 2,
    "start_time": "2023-03-28T12:50:32.046Z"
   },
   {
    "duration": 22,
    "start_time": "2023-03-28T12:50:32.050Z"
   },
   {
    "duration": 10,
    "start_time": "2023-03-28T12:50:32.074Z"
   },
   {
    "duration": 92,
    "start_time": "2023-03-28T12:50:32.085Z"
   },
   {
    "duration": 130,
    "start_time": "2023-03-28T12:50:32.178Z"
   },
   {
    "duration": 78,
    "start_time": "2023-03-28T12:50:32.309Z"
   },
   {
    "duration": 1741,
    "start_time": "2023-03-28T12:50:32.388Z"
   },
   {
    "duration": 0,
    "start_time": "2023-03-28T12:50:34.130Z"
   },
   {
    "duration": 0,
    "start_time": "2023-03-28T12:50:34.131Z"
   },
   {
    "duration": 0,
    "start_time": "2023-03-28T12:50:34.132Z"
   },
   {
    "duration": 0,
    "start_time": "2023-03-28T12:50:34.133Z"
   },
   {
    "duration": 0,
    "start_time": "2023-03-28T12:50:34.134Z"
   },
   {
    "duration": 0,
    "start_time": "2023-03-28T12:50:34.135Z"
   },
   {
    "duration": 0,
    "start_time": "2023-03-28T12:50:34.136Z"
   },
   {
    "duration": 0,
    "start_time": "2023-03-28T12:50:34.137Z"
   },
   {
    "duration": 7540,
    "start_time": "2023-03-28T12:50:41.739Z"
   },
   {
    "duration": 30663,
    "start_time": "2023-03-28T12:51:24.276Z"
   },
   {
    "duration": 152,
    "start_time": "2023-03-28T12:51:57.067Z"
   },
   {
    "duration": 4405,
    "start_time": "2023-03-28T12:52:06.630Z"
   },
   {
    "duration": 1836,
    "start_time": "2023-03-28T12:52:31.988Z"
   },
   {
    "duration": 7,
    "start_time": "2023-03-28T12:52:36.597Z"
   },
   {
    "duration": 214,
    "start_time": "2023-03-28T13:04:24.008Z"
   },
   {
    "duration": 188,
    "start_time": "2023-03-28T13:04:42.803Z"
   },
   {
    "duration": 16,
    "start_time": "2023-03-28T13:05:35.036Z"
   },
   {
    "duration": 17,
    "start_time": "2023-03-28T13:05:43.560Z"
   },
   {
    "duration": 5,
    "start_time": "2023-03-28T13:06:29.915Z"
   },
   {
    "duration": 6,
    "start_time": "2023-03-28T13:06:29.922Z"
   },
   {
    "duration": 640,
    "start_time": "2023-03-28T13:06:29.929Z"
   },
   {
    "duration": 6,
    "start_time": "2023-03-28T13:06:30.571Z"
   },
   {
    "duration": 70,
    "start_time": "2023-03-28T13:06:30.578Z"
   },
   {
    "duration": 103,
    "start_time": "2023-03-28T13:06:30.650Z"
   },
   {
    "duration": 59,
    "start_time": "2023-03-28T13:06:30.755Z"
   },
   {
    "duration": 90,
    "start_time": "2023-03-28T13:06:30.815Z"
   },
   {
    "duration": 361,
    "start_time": "2023-03-28T13:06:30.907Z"
   },
   {
    "duration": 7,
    "start_time": "2023-03-28T13:06:31.270Z"
   },
   {
    "duration": 38,
    "start_time": "2023-03-28T13:06:31.279Z"
   },
   {
    "duration": 190,
    "start_time": "2023-03-28T13:06:31.319Z"
   },
   {
    "duration": 205,
    "start_time": "2023-03-28T13:07:03.769Z"
   },
   {
    "duration": 6,
    "start_time": "2023-03-28T13:07:16.315Z"
   },
   {
    "duration": 220,
    "start_time": "2023-03-28T13:07:22.072Z"
   },
   {
    "duration": 210,
    "start_time": "2023-03-28T13:07:58.664Z"
   },
   {
    "duration": 211,
    "start_time": "2023-03-28T13:08:28.619Z"
   },
   {
    "duration": 305,
    "start_time": "2023-03-28T13:08:45.092Z"
   },
   {
    "duration": 212,
    "start_time": "2023-03-28T13:09:22.045Z"
   },
   {
    "duration": 200,
    "start_time": "2023-03-28T13:12:46.750Z"
   },
   {
    "duration": 5,
    "start_time": "2023-03-28T13:33:37.529Z"
   },
   {
    "duration": 8,
    "start_time": "2023-03-28T13:33:37.535Z"
   },
   {
    "duration": 932,
    "start_time": "2023-03-28T13:33:37.554Z"
   },
   {
    "duration": 5,
    "start_time": "2023-03-28T13:33:38.488Z"
   },
   {
    "duration": 11,
    "start_time": "2023-03-28T13:33:38.495Z"
   },
   {
    "duration": 90,
    "start_time": "2023-03-28T13:33:38.507Z"
   },
   {
    "duration": 47,
    "start_time": "2023-03-28T13:33:38.599Z"
   },
   {
    "duration": 91,
    "start_time": "2023-03-28T13:33:38.648Z"
   },
   {
    "duration": 249,
    "start_time": "2023-03-28T13:33:38.740Z"
   },
   {
    "duration": 8,
    "start_time": "2023-03-28T13:33:38.991Z"
   },
   {
    "duration": 16,
    "start_time": "2023-03-28T13:33:39.001Z"
   },
   {
    "duration": 268,
    "start_time": "2023-03-28T13:33:39.019Z"
   },
   {
    "duration": 8,
    "start_time": "2023-03-28T13:33:39.288Z"
   },
   {
    "duration": 104,
    "start_time": "2023-03-28T13:33:44.365Z"
   },
   {
    "duration": 4,
    "start_time": "2023-03-28T13:34:20.327Z"
   },
   {
    "duration": 8,
    "start_time": "2023-03-28T13:34:20.333Z"
   },
   {
    "duration": 613,
    "start_time": "2023-03-28T13:34:20.343Z"
   },
   {
    "duration": 12,
    "start_time": "2023-03-28T13:34:20.958Z"
   },
   {
    "duration": 17,
    "start_time": "2023-03-28T13:34:20.972Z"
   },
   {
    "duration": 104,
    "start_time": "2023-03-28T13:34:20.991Z"
   },
   {
    "duration": 47,
    "start_time": "2023-03-28T13:34:21.097Z"
   },
   {
    "duration": 93,
    "start_time": "2023-03-28T13:34:21.145Z"
   },
   {
    "duration": 360,
    "start_time": "2023-03-28T13:34:21.240Z"
   },
   {
    "duration": 8,
    "start_time": "2023-03-28T13:34:21.602Z"
   },
   {
    "duration": 17,
    "start_time": "2023-03-28T13:34:21.612Z"
   },
   {
    "duration": 263,
    "start_time": "2023-03-28T13:34:21.630Z"
   },
   {
    "duration": 8,
    "start_time": "2023-03-28T13:34:21.894Z"
   },
   {
    "duration": 134,
    "start_time": "2023-03-28T13:34:21.903Z"
   },
   {
    "duration": 5,
    "start_time": "2023-03-28T13:34:35.964Z"
   },
   {
    "duration": 6,
    "start_time": "2023-03-28T13:34:35.971Z"
   },
   {
    "duration": 668,
    "start_time": "2023-03-28T13:34:35.978Z"
   },
   {
    "duration": 7,
    "start_time": "2023-03-28T13:34:36.647Z"
   },
   {
    "duration": 11,
    "start_time": "2023-03-28T13:34:36.670Z"
   },
   {
    "duration": 86,
    "start_time": "2023-03-28T13:34:36.684Z"
   },
   {
    "duration": 58,
    "start_time": "2023-03-28T13:34:36.772Z"
   },
   {
    "duration": 105,
    "start_time": "2023-03-28T13:34:36.832Z"
   },
   {
    "duration": 404,
    "start_time": "2023-03-28T13:34:36.939Z"
   },
   {
    "duration": 23,
    "start_time": "2023-03-28T13:34:37.345Z"
   },
   {
    "duration": 18,
    "start_time": "2023-03-28T13:34:37.371Z"
   },
   {
    "duration": 263,
    "start_time": "2023-03-28T13:34:37.390Z"
   },
   {
    "duration": 15,
    "start_time": "2023-03-28T13:34:37.654Z"
   },
   {
    "duration": 104,
    "start_time": "2023-03-28T13:34:37.671Z"
   },
   {
    "duration": 4,
    "start_time": "2023-03-28T13:39:11.140Z"
   },
   {
    "duration": 4,
    "start_time": "2023-03-28T13:39:11.162Z"
   },
   {
    "duration": 432,
    "start_time": "2023-03-28T13:39:11.168Z"
   },
   {
    "duration": 5,
    "start_time": "2023-03-28T13:39:11.602Z"
   },
   {
    "duration": 10,
    "start_time": "2023-03-28T13:39:11.609Z"
   },
   {
    "duration": 94,
    "start_time": "2023-03-28T13:39:11.620Z"
   },
   {
    "duration": 55,
    "start_time": "2023-03-28T13:39:11.716Z"
   },
   {
    "duration": 75,
    "start_time": "2023-03-28T13:39:11.773Z"
   },
   {
    "duration": 250,
    "start_time": "2023-03-28T13:39:11.850Z"
   },
   {
    "duration": 8,
    "start_time": "2023-03-28T13:39:12.102Z"
   },
   {
    "duration": 17,
    "start_time": "2023-03-28T13:39:12.111Z"
   },
   {
    "duration": 241,
    "start_time": "2023-03-28T13:39:12.130Z"
   },
   {
    "duration": 7,
    "start_time": "2023-03-28T13:39:12.372Z"
   },
   {
    "duration": 82,
    "start_time": "2023-03-28T13:39:27.795Z"
   },
   {
    "duration": 85,
    "start_time": "2023-03-28T13:39:37.152Z"
   },
   {
    "duration": 214,
    "start_time": "2023-03-28T13:39:51.415Z"
   },
   {
    "duration": 202,
    "start_time": "2023-03-28T13:40:02.395Z"
   },
   {
    "duration": 54,
    "start_time": "2023-03-28T13:41:20.841Z"
   },
   {
    "duration": 4,
    "start_time": "2023-03-28T13:41:40.752Z"
   },
   {
    "duration": 8,
    "start_time": "2023-03-28T13:41:40.758Z"
   },
   {
    "duration": 1179,
    "start_time": "2023-03-28T13:41:40.768Z"
   },
   {
    "duration": 5,
    "start_time": "2023-03-28T13:41:41.949Z"
   },
   {
    "duration": 20,
    "start_time": "2023-03-28T13:41:41.956Z"
   },
   {
    "duration": 68,
    "start_time": "2023-03-28T13:41:41.978Z"
   },
   {
    "duration": 62,
    "start_time": "2023-03-28T13:41:42.048Z"
   },
   {
    "duration": 83,
    "start_time": "2023-03-28T13:41:42.112Z"
   },
   {
    "duration": 239,
    "start_time": "2023-03-28T13:41:42.197Z"
   },
   {
    "duration": 7,
    "start_time": "2023-03-28T13:41:42.438Z"
   },
   {
    "duration": 27,
    "start_time": "2023-03-28T13:41:42.447Z"
   },
   {
    "duration": 232,
    "start_time": "2023-03-28T13:41:42.476Z"
   },
   {
    "duration": 9,
    "start_time": "2023-03-28T13:41:42.710Z"
   },
   {
    "duration": 117,
    "start_time": "2023-03-28T13:41:42.721Z"
   },
   {
    "duration": 199,
    "start_time": "2023-03-28T13:41:44.695Z"
   },
   {
    "duration": 766,
    "start_time": "2023-03-28T13:46:34.667Z"
   },
   {
    "duration": 50,
    "start_time": "2023-03-28T13:47:00.998Z"
   },
   {
    "duration": 686,
    "start_time": "2023-03-28T13:47:07.822Z"
   },
   {
    "duration": 706,
    "start_time": "2023-03-28T13:48:03.815Z"
   },
   {
    "duration": 867,
    "start_time": "2023-03-28T13:48:19.304Z"
   },
   {
    "duration": 717,
    "start_time": "2023-03-28T13:48:37.536Z"
   },
   {
    "duration": 700,
    "start_time": "2023-03-28T13:48:43.910Z"
   },
   {
    "duration": 832,
    "start_time": "2023-03-28T13:49:24.648Z"
   },
   {
    "duration": 710,
    "start_time": "2023-03-28T13:49:45.675Z"
   },
   {
    "duration": 742,
    "start_time": "2023-03-28T13:49:59.434Z"
   },
   {
    "duration": 479,
    "start_time": "2023-03-28T13:54:46.285Z"
   },
   {
    "duration": 10,
    "start_time": "2023-03-28T13:56:16.217Z"
   },
   {
    "duration": 4,
    "start_time": "2023-03-28T13:56:18.869Z"
   },
   {
    "duration": 375,
    "start_time": "2023-03-28T13:56:20.817Z"
   },
   {
    "duration": 331,
    "start_time": "2023-03-28T13:56:49.678Z"
   },
   {
    "duration": 4,
    "start_time": "2023-03-28T18:44:27.742Z"
   },
   {
    "duration": 6,
    "start_time": "2023-03-28T18:44:27.748Z"
   },
   {
    "duration": 784,
    "start_time": "2023-03-28T18:44:27.756Z"
   },
   {
    "duration": 5,
    "start_time": "2023-03-28T18:44:28.542Z"
   },
   {
    "duration": 25,
    "start_time": "2023-03-28T18:44:28.549Z"
   },
   {
    "duration": 71,
    "start_time": "2023-03-28T18:44:28.575Z"
   },
   {
    "duration": 59,
    "start_time": "2023-03-28T18:44:28.648Z"
   },
   {
    "duration": 76,
    "start_time": "2023-03-28T18:44:28.709Z"
   },
   {
    "duration": 224,
    "start_time": "2023-03-28T18:44:28.787Z"
   },
   {
    "duration": 9,
    "start_time": "2023-03-28T18:44:29.012Z"
   },
   {
    "duration": 18,
    "start_time": "2023-03-28T18:44:29.022Z"
   },
   {
    "duration": 335,
    "start_time": "2023-03-28T18:44:29.041Z"
   },
   {
    "duration": 8,
    "start_time": "2023-03-28T18:44:29.378Z"
   },
   {
    "duration": 101,
    "start_time": "2023-03-28T18:44:29.388Z"
   },
   {
    "duration": 199,
    "start_time": "2023-03-28T18:44:29.491Z"
   },
   {
    "duration": 4,
    "start_time": "2023-03-28T18:44:29.691Z"
   },
   {
    "duration": 6,
    "start_time": "2023-03-28T18:46:32.500Z"
   },
   {
    "duration": 6,
    "start_time": "2023-03-28T18:46:38.513Z"
   },
   {
    "duration": 6,
    "start_time": "2023-03-28T18:50:33.327Z"
   },
   {
    "duration": 73,
    "start_time": "2023-03-28T18:50:43.486Z"
   },
   {
    "duration": 95,
    "start_time": "2023-03-28T18:50:47.578Z"
   },
   {
    "duration": 131,
    "start_time": "2023-03-28T18:50:49.609Z"
   },
   {
    "duration": 75,
    "start_time": "2023-03-28T18:50:51.051Z"
   },
   {
    "duration": 4632,
    "start_time": "2023-03-28T18:51:01.807Z"
   },
   {
    "duration": 1832,
    "start_time": "2023-03-28T18:51:19.202Z"
   },
   {
    "duration": 6,
    "start_time": "2023-03-28T18:51:27.228Z"
   },
   {
    "duration": 6,
    "start_time": "2023-03-28T18:52:38.267Z"
   },
   {
    "duration": 1798,
    "start_time": "2023-03-28T18:53:02.960Z"
   },
   {
    "duration": 5,
    "start_time": "2023-03-28T18:53:08.023Z"
   },
   {
    "duration": 651472,
    "start_time": "2023-03-28T18:54:44.107Z"
   },
   {
    "duration": 6,
    "start_time": "2023-03-28T19:05:35.580Z"
   },
   {
    "duration": 1750,
    "start_time": "2023-03-28T19:07:35.816Z"
   },
   {
    "duration": 5,
    "start_time": "2023-03-28T19:07:40.004Z"
   },
   {
    "duration": 161,
    "start_time": "2023-03-28T19:08:16.482Z"
   },
   {
    "duration": 5674,
    "start_time": "2023-03-28T19:08:43.397Z"
   },
   {
    "duration": 6418,
    "start_time": "2023-03-28T19:09:23.287Z"
   },
   {
    "duration": 6,
    "start_time": "2023-03-28T19:10:35.121Z"
   },
   {
    "duration": 1737,
    "start_time": "2023-03-28T19:10:53.203Z"
   },
   {
    "duration": 6,
    "start_time": "2023-03-28T19:10:57.901Z"
   },
   {
    "duration": 7,
    "start_time": "2023-03-28T19:12:02.602Z"
   },
   {
    "duration": 5,
    "start_time": "2023-03-28T19:12:28.384Z"
   },
   {
    "duration": 9,
    "start_time": "2023-03-28T19:15:55.651Z"
   },
   {
    "duration": 11,
    "start_time": "2023-03-28T19:16:30.635Z"
   },
   {
    "duration": 39,
    "start_time": "2023-03-28T19:17:01.687Z"
   },
   {
    "duration": 22,
    "start_time": "2023-03-28T19:17:08.143Z"
   },
   {
    "duration": 46,
    "start_time": "2023-03-28T19:18:08.722Z"
   },
   {
    "duration": 9401,
    "start_time": "2023-03-28T19:18:13.517Z"
   },
   {
    "duration": 645073,
    "start_time": "2023-03-28T19:25:20.463Z"
   },
   {
    "duration": 137,
    "start_time": "2023-03-28T20:05:10.407Z"
   },
   {
    "duration": 3343,
    "start_time": "2023-03-28T20:05:24.436Z"
   },
   {
    "duration": 2975,
    "start_time": "2023-03-28T20:06:26.215Z"
   },
   {
    "duration": 1952,
    "start_time": "2023-03-28T20:06:30.569Z"
   },
   {
    "duration": 7,
    "start_time": "2023-03-28T20:06:38.292Z"
   },
   {
    "duration": 3014,
    "start_time": "2023-03-28T20:07:22.752Z"
   },
   {
    "duration": 2949,
    "start_time": "2023-03-28T20:08:19.959Z"
   },
   {
    "duration": 3,
    "start_time": "2023-03-28T20:08:48.260Z"
   },
   {
    "duration": 5,
    "start_time": "2023-03-28T20:08:48.265Z"
   },
   {
    "duration": 574,
    "start_time": "2023-03-28T20:08:48.271Z"
   },
   {
    "duration": 5,
    "start_time": "2023-03-28T20:08:48.846Z"
   },
   {
    "duration": 24,
    "start_time": "2023-03-28T20:08:48.853Z"
   },
   {
    "duration": 67,
    "start_time": "2023-03-28T20:08:48.878Z"
   },
   {
    "duration": 56,
    "start_time": "2023-03-28T20:08:48.946Z"
   },
   {
    "duration": 83,
    "start_time": "2023-03-28T20:08:49.004Z"
   },
   {
    "duration": 231,
    "start_time": "2023-03-28T20:08:49.090Z"
   },
   {
    "duration": 8,
    "start_time": "2023-03-28T20:08:49.323Z"
   },
   {
    "duration": 16,
    "start_time": "2023-03-28T20:08:49.333Z"
   },
   {
    "duration": 221,
    "start_time": "2023-03-28T20:08:49.368Z"
   },
   {
    "duration": 7,
    "start_time": "2023-03-28T20:08:49.590Z"
   },
   {
    "duration": 98,
    "start_time": "2023-03-28T20:08:49.598Z"
   },
   {
    "duration": 193,
    "start_time": "2023-03-28T20:08:49.697Z"
   },
   {
    "duration": 4,
    "start_time": "2023-03-28T20:08:49.891Z"
   },
   {
    "duration": 315,
    "start_time": "2023-03-28T20:08:49.896Z"
   },
   {
    "duration": 9,
    "start_time": "2023-03-28T20:08:50.213Z"
   },
   {
    "duration": 0,
    "start_time": "2023-03-28T20:08:50.224Z"
   },
   {
    "duration": 0,
    "start_time": "2023-03-28T20:08:50.225Z"
   },
   {
    "duration": 0,
    "start_time": "2023-03-28T20:08:50.226Z"
   },
   {
    "duration": 0,
    "start_time": "2023-03-28T20:08:50.227Z"
   },
   {
    "duration": 0,
    "start_time": "2023-03-28T20:08:50.228Z"
   },
   {
    "duration": 0,
    "start_time": "2023-03-28T20:08:50.228Z"
   },
   {
    "duration": 0,
    "start_time": "2023-03-28T20:08:50.230Z"
   },
   {
    "duration": 0,
    "start_time": "2023-03-28T20:08:50.231Z"
   },
   {
    "duration": 0,
    "start_time": "2023-03-28T20:08:50.231Z"
   },
   {
    "duration": 0,
    "start_time": "2023-03-28T20:08:50.232Z"
   },
   {
    "duration": 4,
    "start_time": "2023-03-28T20:10:13.392Z"
   },
   {
    "duration": 5,
    "start_time": "2023-03-28T20:10:13.398Z"
   },
   {
    "duration": 555,
    "start_time": "2023-03-28T20:10:13.404Z"
   },
   {
    "duration": 11,
    "start_time": "2023-03-28T20:10:13.961Z"
   },
   {
    "duration": 10,
    "start_time": "2023-03-28T20:10:13.973Z"
   },
   {
    "duration": 66,
    "start_time": "2023-03-28T20:10:13.984Z"
   },
   {
    "duration": 59,
    "start_time": "2023-03-28T20:10:14.052Z"
   },
   {
    "duration": 82,
    "start_time": "2023-03-28T20:10:14.113Z"
   },
   {
    "duration": 244,
    "start_time": "2023-03-28T20:10:14.197Z"
   },
   {
    "duration": 9,
    "start_time": "2023-03-28T20:10:14.442Z"
   },
   {
    "duration": 28,
    "start_time": "2023-03-28T20:10:14.452Z"
   },
   {
    "duration": 227,
    "start_time": "2023-03-28T20:10:14.482Z"
   },
   {
    "duration": 8,
    "start_time": "2023-03-28T20:10:14.711Z"
   },
   {
    "duration": 184,
    "start_time": "2023-03-28T20:10:14.721Z"
   },
   {
    "duration": 197,
    "start_time": "2023-03-28T20:10:14.907Z"
   },
   {
    "duration": 3,
    "start_time": "2023-03-28T20:10:15.106Z"
   },
   {
    "duration": 319,
    "start_time": "2023-03-28T20:10:15.111Z"
   },
   {
    "duration": 619,
    "start_time": "2023-03-28T20:10:15.431Z"
   },
   {
    "duration": 275,
    "start_time": "2023-03-28T20:10:16.052Z"
   },
   {
    "duration": 273,
    "start_time": "2023-03-28T20:10:16.328Z"
   },
   {
    "duration": 434,
    "start_time": "2023-03-28T20:10:16.602Z"
   },
   {
    "duration": 695,
    "start_time": "2023-03-28T20:10:17.037Z"
   },
   {
    "duration": 2,
    "start_time": "2023-03-28T20:10:17.734Z"
   },
   {
    "duration": 10,
    "start_time": "2023-03-28T20:10:17.737Z"
   },
   {
    "duration": 20,
    "start_time": "2023-03-28T20:10:17.749Z"
   },
   {
    "duration": 86,
    "start_time": "2023-03-28T20:10:17.771Z"
   },
   {
    "duration": 137,
    "start_time": "2023-03-28T20:10:17.859Z"
   },
   {
    "duration": 76,
    "start_time": "2023-03-28T20:10:17.998Z"
   },
   {
    "duration": 134,
    "start_time": "2023-03-28T20:10:35.431Z"
   },
   {
    "duration": 30147,
    "start_time": "2023-03-28T20:10:40.652Z"
   },
   {
    "duration": 140,
    "start_time": "2023-03-28T20:11:15.410Z"
   },
   {
    "duration": 152,
    "start_time": "2023-03-28T20:11:21.448Z"
   },
   {
    "duration": 5658,
    "start_time": "2023-03-28T20:12:44.113Z"
   },
   {
    "duration": 4558,
    "start_time": "2023-03-28T20:13:29.613Z"
   },
   {
    "duration": 6569,
    "start_time": "2023-03-28T20:13:40.654Z"
   },
   {
    "duration": 3697,
    "start_time": "2023-03-28T20:13:53.949Z"
   },
   {
    "duration": 2690,
    "start_time": "2023-03-28T20:14:29.012Z"
   },
   {
    "duration": 4866,
    "start_time": "2023-03-28T20:14:37.937Z"
   },
   {
    "duration": 4448,
    "start_time": "2023-03-28T20:14:56.926Z"
   },
   {
    "duration": 3770,
    "start_time": "2023-03-28T20:15:09.773Z"
   },
   {
    "duration": 1731,
    "start_time": "2023-03-28T20:15:20.293Z"
   },
   {
    "duration": 5,
    "start_time": "2023-03-28T20:15:23.618Z"
   },
   {
    "duration": 9060,
    "start_time": "2023-03-28T20:17:12.549Z"
   },
   {
    "duration": 10642,
    "start_time": "2023-03-28T20:17:53.608Z"
   },
   {
    "duration": 122,
    "start_time": "2023-03-28T20:18:06.363Z"
   },
   {
    "duration": 221135,
    "start_time": "2023-03-28T20:18:31.775Z"
   },
   {
    "duration": 130,
    "start_time": "2023-03-28T20:22:30.547Z"
   },
   {
    "duration": 493967,
    "start_time": "2023-03-28T20:23:04.022Z"
   },
   {
    "duration": 133,
    "start_time": "2023-03-28T20:35:16.964Z"
   },
   {
    "duration": 222917,
    "start_time": "2023-03-28T20:40:21.075Z"
   },
   {
    "duration": 142,
    "start_time": "2023-03-28T20:44:44.027Z"
   },
   {
    "duration": 30727,
    "start_time": "2023-03-28T20:45:47.647Z"
   },
   {
    "duration": 135,
    "start_time": "2023-03-28T20:47:02.195Z"
   },
   {
    "duration": 10574,
    "start_time": "2023-03-28T20:47:34.581Z"
   },
   {
    "duration": 129,
    "start_time": "2023-03-28T20:47:49.903Z"
   },
   {
    "duration": 31276,
    "start_time": "2023-03-28T20:49:11.562Z"
   },
   {
    "duration": 137,
    "start_time": "2023-03-28T20:49:54.014Z"
   },
   {
    "duration": 636951,
    "start_time": "2023-03-28T20:49:56.734Z"
   },
   {
    "duration": 161,
    "start_time": "2023-03-28T21:00:39.389Z"
   },
   {
    "duration": 14051,
    "start_time": "2023-03-28T21:00:52.562Z"
   },
   {
    "duration": 6792,
    "start_time": "2023-03-28T21:02:54.495Z"
   },
   {
    "duration": 10561,
    "start_time": "2023-03-28T21:03:36.979Z"
   },
   {
    "duration": 133,
    "start_time": "2023-03-28T21:03:49.278Z"
   },
   {
    "duration": 450889,
    "start_time": "2023-03-28T21:03:57.492Z"
   },
   {
    "duration": 138,
    "start_time": "2023-03-28T21:11:46.587Z"
   },
   {
    "duration": 12846,
    "start_time": "2023-03-28T21:13:57.005Z"
   },
   {
    "duration": 1726,
    "start_time": "2023-03-28T21:14:50.029Z"
   },
   {
    "duration": 5,
    "start_time": "2023-03-28T21:14:53.736Z"
   },
   {
    "duration": 7640,
    "start_time": "2023-03-28T21:15:43.259Z"
   },
   {
    "duration": 1472,
    "start_time": "2023-03-29T18:46:42.605Z"
   },
   {
    "duration": 3,
    "start_time": "2023-03-29T18:46:44.079Z"
   },
   {
    "duration": 1021,
    "start_time": "2023-03-29T18:46:44.084Z"
   },
   {
    "duration": 8,
    "start_time": "2023-03-29T18:46:45.107Z"
   },
   {
    "duration": 10,
    "start_time": "2023-03-29T18:46:45.118Z"
   },
   {
    "duration": 107,
    "start_time": "2023-03-29T18:46:45.130Z"
   },
   {
    "duration": 60,
    "start_time": "2023-03-29T18:46:45.239Z"
   },
   {
    "duration": 96,
    "start_time": "2023-03-29T18:46:45.302Z"
   },
   {
    "duration": 298,
    "start_time": "2023-03-29T18:46:45.399Z"
   },
   {
    "duration": 9,
    "start_time": "2023-03-29T18:46:45.699Z"
   },
   {
    "duration": 19,
    "start_time": "2023-03-29T18:46:45.709Z"
   },
   {
    "duration": 263,
    "start_time": "2023-03-29T18:46:45.730Z"
   },
   {
    "duration": 8,
    "start_time": "2023-03-29T18:46:45.995Z"
   },
   {
    "duration": 111,
    "start_time": "2023-03-29T18:46:46.005Z"
   },
   {
    "duration": 311,
    "start_time": "2023-03-29T18:46:46.118Z"
   },
   {
    "duration": 4,
    "start_time": "2023-03-29T18:46:50.118Z"
   },
   {
    "duration": 320,
    "start_time": "2023-03-29T18:46:52.741Z"
   },
   {
    "duration": 681,
    "start_time": "2023-03-29T18:49:49.003Z"
   },
   {
    "duration": 741,
    "start_time": "2023-03-29T19:10:57.594Z"
   },
   {
    "duration": 54,
    "start_time": "2023-03-29T19:14:23.872Z"
   },
   {
    "duration": 13,
    "start_time": "2023-03-29T19:25:51.053Z"
   },
   {
    "duration": 8,
    "start_time": "2023-03-29T19:26:04.935Z"
   },
   {
    "duration": 4,
    "start_time": "2023-03-29T19:26:24.254Z"
   },
   {
    "duration": 9,
    "start_time": "2023-03-29T19:26:50.724Z"
   },
   {
    "duration": 42,
    "start_time": "2023-03-29T19:28:20.930Z"
   },
   {
    "duration": 103,
    "start_time": "2023-03-29T19:28:31.982Z"
   },
   {
    "duration": 7,
    "start_time": "2023-03-29T19:28:46.610Z"
   },
   {
    "duration": 342,
    "start_time": "2023-03-29T20:20:42.073Z"
   },
   {
    "duration": 362,
    "start_time": "2023-03-29T20:22:32.499Z"
   },
   {
    "duration": 284,
    "start_time": "2023-03-29T22:02:24.705Z"
   },
   {
    "duration": 335,
    "start_time": "2023-03-29T22:03:22.365Z"
   },
   {
    "duration": 486,
    "start_time": "2023-03-29T22:10:52.811Z"
   },
   {
    "duration": 730,
    "start_time": "2023-03-29T22:11:14.023Z"
   },
   {
    "duration": 283,
    "start_time": "2023-03-29T22:25:32.740Z"
   },
   {
    "duration": 810,
    "start_time": "2023-03-29T22:25:42.102Z"
   },
   {
    "duration": 695,
    "start_time": "2023-03-29T22:25:48.425Z"
   },
   {
    "duration": 717,
    "start_time": "2023-03-29T22:25:55.199Z"
   },
   {
    "duration": 709,
    "start_time": "2023-03-29T22:25:59.362Z"
   },
   {
    "duration": 705,
    "start_time": "2023-03-29T22:34:36.323Z"
   },
   {
    "duration": 149,
    "start_time": "2023-03-29T22:43:18.852Z"
   },
   {
    "duration": 362,
    "start_time": "2023-03-29T22:44:24.408Z"
   },
   {
    "duration": 120,
    "start_time": "2023-03-29T23:04:13.625Z"
   },
   {
    "duration": 6,
    "start_time": "2023-03-29T23:04:17.230Z"
   },
   {
    "duration": 163,
    "start_time": "2023-03-29T23:04:19.815Z"
   },
   {
    "duration": 129,
    "start_time": "2023-03-29T23:04:22.454Z"
   },
   {
    "duration": 14777,
    "start_time": "2023-03-29T23:04:28.766Z"
   },
   {
    "duration": 1778,
    "start_time": "2023-03-29T23:04:56.007Z"
   },
   {
    "duration": 6,
    "start_time": "2023-03-29T23:05:04.416Z"
   },
   {
    "duration": 667,
    "start_time": "2023-03-29T23:19:46.292Z"
   },
   {
    "duration": 557,
    "start_time": "2023-03-29T23:19:53.140Z"
   },
   {
    "duration": 560,
    "start_time": "2023-03-29T23:20:13.497Z"
   },
   {
    "duration": 557,
    "start_time": "2023-03-29T23:20:24.365Z"
   },
   {
    "duration": 586,
    "start_time": "2023-03-29T23:20:58.932Z"
   },
   {
    "duration": 582,
    "start_time": "2023-03-29T23:21:06.661Z"
   },
   {
    "duration": 584,
    "start_time": "2023-03-29T23:21:22.463Z"
   },
   {
    "duration": 5,
    "start_time": "2023-03-29T23:26:03.122Z"
   },
   {
    "duration": 3,
    "start_time": "2023-03-29T23:26:28.890Z"
   },
   {
    "duration": 660472,
    "start_time": "2023-03-30T00:01:27.867Z"
   },
   {
    "duration": 568,
    "start_time": "2023-03-30T00:12:28.341Z"
   },
   {
    "duration": 148,
    "start_time": "2023-03-30T00:13:24.745Z"
   },
   {
    "duration": 5700,
    "start_time": "2023-03-30T00:13:42.483Z"
   },
   {
    "duration": 3928,
    "start_time": "2023-03-30T00:14:10.051Z"
   },
   {
    "duration": 5700,
    "start_time": "2023-03-30T00:14:25.334Z"
   },
   {
    "duration": 1172,
    "start_time": "2023-03-30T00:14:33.246Z"
   },
   {
    "duration": 9,
    "start_time": "2023-03-30T00:14:36.490Z"
   },
   {
    "duration": 1206,
    "start_time": "2023-03-30T00:15:58.867Z"
   },
   {
    "duration": 5,
    "start_time": "2023-03-30T00:16:00.875Z"
   },
   {
    "duration": 3772,
    "start_time": "2023-03-30T00:16:19.868Z"
   },
   {
    "duration": 1183,
    "start_time": "2023-03-30T00:16:34.293Z"
   },
   {
    "duration": 1351,
    "start_time": "2023-03-30T00:16:44.755Z"
   },
   {
    "duration": 4,
    "start_time": "2023-03-30T00:16:51.869Z"
   },
   {
    "duration": 5891,
    "start_time": "2023-03-30T00:17:01.406Z"
   },
   {
    "duration": 5417,
    "start_time": "2023-03-30T00:17:12.095Z"
   },
   {
    "duration": 1185,
    "start_time": "2023-03-30T00:17:28.311Z"
   },
   {
    "duration": 6,
    "start_time": "2023-03-30T00:17:32.174Z"
   },
   {
    "duration": 466238,
    "start_time": "2023-03-30T00:17:56.913Z"
   },
   {
    "duration": 144,
    "start_time": "2023-03-30T00:26:01.339Z"
   },
   {
    "duration": 1568,
    "start_time": "2023-03-30T13:07:38.943Z"
   },
   {
    "duration": 5,
    "start_time": "2023-03-30T13:07:40.514Z"
   },
   {
    "duration": 835,
    "start_time": "2023-03-30T13:07:40.521Z"
   },
   {
    "duration": 8,
    "start_time": "2023-03-30T13:07:41.358Z"
   },
   {
    "duration": 10,
    "start_time": "2023-03-30T13:07:41.368Z"
   },
   {
    "duration": 97,
    "start_time": "2023-03-30T13:07:41.380Z"
   },
   {
    "duration": 64,
    "start_time": "2023-03-30T13:07:41.479Z"
   },
   {
    "duration": 98,
    "start_time": "2023-03-30T13:07:41.545Z"
   },
   {
    "duration": 287,
    "start_time": "2023-03-30T13:07:41.645Z"
   },
   {
    "duration": 8,
    "start_time": "2023-03-30T13:07:41.935Z"
   },
   {
    "duration": 19,
    "start_time": "2023-03-30T13:07:41.944Z"
   },
   {
    "duration": 277,
    "start_time": "2023-03-30T13:07:41.964Z"
   },
   {
    "duration": 8,
    "start_time": "2023-03-30T13:07:42.242Z"
   },
   {
    "duration": 203,
    "start_time": "2023-03-30T13:07:42.252Z"
   },
   {
    "duration": 234,
    "start_time": "2023-03-30T13:07:42.457Z"
   },
   {
    "duration": 5,
    "start_time": "2023-03-30T13:07:42.692Z"
   },
   {
    "duration": 29,
    "start_time": "2023-03-30T13:07:42.698Z"
   },
   {
    "duration": 388,
    "start_time": "2023-03-30T13:07:42.729Z"
   },
   {
    "duration": 757,
    "start_time": "2023-03-30T13:07:43.123Z"
   },
   {
    "duration": 380,
    "start_time": "2023-03-30T13:07:43.882Z"
   },
   {
    "duration": 441,
    "start_time": "2023-03-30T13:07:44.264Z"
   },
   {
    "duration": 458,
    "start_time": "2023-03-30T13:07:44.707Z"
   },
   {
    "duration": 419,
    "start_time": "2023-03-30T13:07:45.167Z"
   },
   {
    "duration": 819,
    "start_time": "2023-03-30T13:07:45.588Z"
   },
   {
    "duration": 7,
    "start_time": "2023-03-30T14:09:13.630Z"
   },
   {
    "duration": 4,
    "start_time": "2023-03-30T14:09:20.579Z"
   },
   {
    "duration": 115,
    "start_time": "2023-03-30T14:09:23.124Z"
   },
   {
    "duration": 18,
    "start_time": "2023-03-30T14:09:49.061Z"
   },
   {
    "duration": 769,
    "start_time": "2023-03-30T14:10:00.624Z"
   },
   {
    "duration": 104,
    "start_time": "2023-03-30T17:21:00.988Z"
   },
   {
    "duration": 170,
    "start_time": "2023-03-30T17:21:32.921Z"
   },
   {
    "duration": 105,
    "start_time": "2023-03-30T18:10:18.614Z"
   },
   {
    "duration": 10680,
    "start_time": "2023-03-30T18:12:01.745Z"
   },
   {
    "duration": 4883,
    "start_time": "2023-03-30T18:34:28.850Z"
   },
   {
    "duration": 7200,
    "start_time": "2023-03-30T18:34:43.665Z"
   },
   {
    "duration": 4986,
    "start_time": "2023-03-30T18:34:58.464Z"
   },
   {
    "duration": 15742,
    "start_time": "2023-03-30T18:43:03.976Z"
   },
   {
    "duration": 23,
    "start_time": "2023-03-30T18:53:06.376Z"
   },
   {
    "duration": 85,
    "start_time": "2023-03-30T18:53:43.963Z"
   },
   {
    "duration": 4461,
    "start_time": "2023-03-30T18:53:49.675Z"
   },
   {
    "duration": 4324,
    "start_time": "2023-03-30T18:54:47.082Z"
   },
   {
    "duration": 92,
    "start_time": "2023-03-30T18:55:13.741Z"
   },
   {
    "duration": 92,
    "start_time": "2023-03-30T18:55:21.417Z"
   },
   {
    "duration": 168,
    "start_time": "2023-03-30T18:55:23.255Z"
   },
   {
    "duration": 86,
    "start_time": "2023-03-30T18:55:25.387Z"
   },
   {
    "duration": 10833,
    "start_time": "2023-03-30T18:55:28.491Z"
   },
   {
    "duration": 4913,
    "start_time": "2023-03-30T18:55:49.697Z"
   },
   {
    "duration": 7399,
    "start_time": "2023-03-30T18:56:25.340Z"
   },
   {
    "duration": 1554,
    "start_time": "2023-03-30T18:56:46.583Z"
   },
   {
    "duration": 14,
    "start_time": "2023-03-30T18:56:52.485Z"
   },
   {
    "duration": 1536,
    "start_time": "2023-03-30T18:56:58.741Z"
   },
   {
    "duration": 14,
    "start_time": "2023-03-30T18:57:02.958Z"
   },
   {
    "duration": 8,
    "start_time": "2023-03-30T18:57:20.852Z"
   },
   {
    "duration": 35595,
    "start_time": "2023-03-30T18:58:49.474Z"
   },
   {
    "duration": 185,
    "start_time": "2023-03-30T18:59:29.973Z"
   },
   {
    "duration": 812383,
    "start_time": "2023-03-30T19:00:03.124Z"
   },
   {
    "duration": 317,
    "start_time": "2023-03-30T19:14:34.451Z"
   },
   {
    "duration": 7303,
    "start_time": "2023-03-30T19:14:49.732Z"
   },
   {
    "duration": 4743,
    "start_time": "2023-03-30T19:15:11.734Z"
   },
   {
    "duration": 7148,
    "start_time": "2023-03-30T19:15:31.312Z"
   },
   {
    "duration": 6992,
    "start_time": "2023-03-30T19:15:53.651Z"
   },
   {
    "duration": 1513,
    "start_time": "2023-03-30T19:16:11.629Z"
   },
   {
    "duration": 1499,
    "start_time": "2023-03-30T19:16:18.401Z"
   },
   {
    "duration": 7,
    "start_time": "2023-03-30T19:16:21.842Z"
   },
   {
    "duration": 8,
    "start_time": "2023-03-30T19:16:23.840Z"
   },
   {
    "duration": 7278,
    "start_time": "2023-03-30T19:16:32.137Z"
   },
   {
    "duration": 1483,
    "start_time": "2023-03-30T19:16:41.964Z"
   },
   {
    "duration": 6,
    "start_time": "2023-03-30T19:16:46.667Z"
   },
   {
    "duration": 4920,
    "start_time": "2023-03-30T20:31:26.919Z"
   },
   {
    "duration": 6700,
    "start_time": "2023-03-30T20:31:55.777Z"
   },
   {
    "duration": 4707,
    "start_time": "2023-03-30T20:32:30.258Z"
   },
   {
    "duration": 34499,
    "start_time": "2023-03-30T20:35:23.856Z"
   },
   {
    "duration": 190,
    "start_time": "2023-03-30T20:36:01.246Z"
   },
   {
    "duration": 11818,
    "start_time": "2023-03-30T20:36:14.739Z"
   },
   {
    "duration": 170,
    "start_time": "2023-03-30T20:36:31.436Z"
   },
   {
    "duration": 277380,
    "start_time": "2023-03-30T20:36:46.407Z"
   },
   {
    "duration": 195,
    "start_time": "2023-03-30T20:42:28.762Z"
   },
   {
    "duration": 563,
    "start_time": "2023-03-30T20:42:46.995Z"
   },
   {
    "duration": 1503,
    "start_time": "2023-03-30T20:43:01.088Z"
   },
   {
    "duration": 8,
    "start_time": "2023-03-30T20:43:07.222Z"
   },
   {
    "duration": 12130,
    "start_time": "2023-03-30T20:43:44.072Z"
   },
   {
    "duration": 173,
    "start_time": "2023-03-30T20:44:04.301Z"
   },
   {
    "duration": 284419,
    "start_time": "2023-03-30T20:44:16.705Z"
   },
   {
    "duration": 179,
    "start_time": "2023-03-30T20:49:23.866Z"
   },
   {
    "duration": 4,
    "start_time": "2023-03-30T20:50:06.346Z"
   },
   {
    "duration": 17,
    "start_time": "2023-03-30T20:50:06.352Z"
   },
   {
    "duration": 627,
    "start_time": "2023-03-30T20:50:06.371Z"
   },
   {
    "duration": 6,
    "start_time": "2023-03-30T20:50:07.000Z"
   },
   {
    "duration": 12,
    "start_time": "2023-03-30T20:50:07.023Z"
   },
   {
    "duration": 91,
    "start_time": "2023-03-30T20:50:07.037Z"
   },
   {
    "duration": 56,
    "start_time": "2023-03-30T20:50:07.130Z"
   },
   {
    "duration": 106,
    "start_time": "2023-03-30T20:50:07.188Z"
   },
   {
    "duration": 288,
    "start_time": "2023-03-30T20:50:07.295Z"
   },
   {
    "duration": 10,
    "start_time": "2023-03-30T20:50:07.585Z"
   },
   {
    "duration": 36,
    "start_time": "2023-03-30T20:50:07.598Z"
   },
   {
    "duration": 267,
    "start_time": "2023-03-30T20:50:07.636Z"
   },
   {
    "duration": 22,
    "start_time": "2023-03-30T20:50:07.905Z"
   },
   {
    "duration": 100,
    "start_time": "2023-03-30T20:50:07.928Z"
   },
   {
    "duration": 258,
    "start_time": "2023-03-30T20:50:08.030Z"
   },
   {
    "duration": 5,
    "start_time": "2023-03-30T20:50:08.290Z"
   },
   {
    "duration": 30,
    "start_time": "2023-03-30T20:50:08.297Z"
   },
   {
    "duration": 401,
    "start_time": "2023-03-30T20:50:08.329Z"
   },
   {
    "duration": 913,
    "start_time": "2023-03-30T20:50:08.732Z"
   },
   {
    "duration": 406,
    "start_time": "2023-03-30T20:50:09.647Z"
   },
   {
    "duration": 453,
    "start_time": "2023-03-30T20:50:10.055Z"
   },
   {
    "duration": 496,
    "start_time": "2023-03-30T20:50:10.512Z"
   },
   {
    "duration": 559,
    "start_time": "2023-03-30T20:50:11.011Z"
   },
   {
    "duration": 900,
    "start_time": "2023-03-30T20:50:11.572Z"
   },
   {
    "duration": 6,
    "start_time": "2023-03-30T20:50:12.474Z"
   },
   {
    "duration": 9,
    "start_time": "2023-03-30T20:50:12.483Z"
   },
   {
    "duration": 824,
    "start_time": "2023-03-30T20:50:12.493Z"
   },
   {
    "duration": 87,
    "start_time": "2023-03-30T20:50:13.323Z"
   },
   {
    "duration": 170,
    "start_time": "2023-03-30T20:50:13.424Z"
   },
   {
    "duration": 85,
    "start_time": "2023-03-30T20:50:13.596Z"
   },
   {
    "duration": 9956,
    "start_time": "2023-03-30T20:50:13.684Z"
   },
   {
    "duration": 12149,
    "start_time": "2023-03-30T20:50:23.642Z"
   },
   {
    "duration": 187,
    "start_time": "2023-03-30T20:50:35.792Z"
   },
   {
    "duration": 275552,
    "start_time": "2023-03-30T20:50:35.980Z"
   },
   {
    "duration": 173,
    "start_time": "2023-03-30T20:55:28.867Z"
   },
   {
    "duration": 4750,
    "start_time": "2023-03-30T20:55:46.173Z"
   },
   {
    "duration": 1647,
    "start_time": "2023-03-30T20:57:18.932Z"
   },
   {
    "duration": 12,
    "start_time": "2023-03-30T20:57:25.355Z"
   },
   {
    "duration": 1459,
    "start_time": "2023-03-30T20:57:36.816Z"
   },
   {
    "duration": 7,
    "start_time": "2023-03-30T20:57:38.529Z"
   },
   {
    "duration": 990,
    "start_time": "2023-03-30T20:59:48.315Z"
   },
   {
    "duration": 7277,
    "start_time": "2023-03-30T21:00:12.166Z"
   },
   {
    "duration": 4925,
    "start_time": "2023-03-30T21:00:33.769Z"
   },
   {
    "duration": 7467,
    "start_time": "2023-03-30T21:01:13.381Z"
   },
   {
    "duration": 14062,
    "start_time": "2023-03-30T21:01:31.305Z"
   },
   {
    "duration": 9851,
    "start_time": "2023-03-30T21:02:05.755Z"
   },
   {
    "duration": 627918,
    "start_time": "2023-03-30T21:05:31.829Z"
   },
   {
    "duration": 199,
    "start_time": "2023-03-30T21:17:00.824Z"
   },
   {
    "duration": 6731,
    "start_time": "2023-03-30T21:18:27.389Z"
   },
   {
    "duration": 4713,
    "start_time": "2023-03-30T21:18:38.863Z"
   },
   {
    "duration": 161,
    "start_time": "2023-03-30T21:31:12.272Z"
   },
   {
    "duration": 90,
    "start_time": "2023-03-30T21:32:03.056Z"
   },
   {
    "duration": 175,
    "start_time": "2023-03-30T21:32:05.202Z"
   },
   {
    "duration": 113,
    "start_time": "2023-03-30T21:32:09.379Z"
   },
   {
    "duration": 946,
    "start_time": "2023-03-30T21:32:19.177Z"
   },
   {
    "duration": 113,
    "start_time": "2023-03-30T21:32:58.680Z"
   },
   {
    "duration": 160,
    "start_time": "2023-03-30T21:33:01.542Z"
   },
   {
    "duration": 80,
    "start_time": "2023-03-30T21:33:03.647Z"
   },
   {
    "duration": 9920,
    "start_time": "2023-03-30T21:33:07.411Z"
   },
   {
    "duration": 21,
    "start_time": "2023-03-30T21:33:38.527Z"
   },
   {
    "duration": 5029,
    "start_time": "2023-03-30T21:33:51.892Z"
   },
   {
    "duration": 7370,
    "start_time": "2023-03-30T21:34:21.009Z"
   },
   {
    "duration": 11260,
    "start_time": "2023-03-30T21:34:45.692Z"
   },
   {
    "duration": 7404,
    "start_time": "2023-03-30T21:35:05.076Z"
   },
   {
    "duration": 2975,
    "start_time": "2023-03-30T21:35:48.937Z"
   },
   {
    "duration": 2042,
    "start_time": "2023-03-30T21:35:57.700Z"
   },
   {
    "duration": 1782,
    "start_time": "2023-03-30T21:36:34.974Z"
   },
   {
    "duration": 298867,
    "start_time": "2023-03-30T21:36:54.100Z"
   },
   {
    "duration": 180,
    "start_time": "2023-03-30T21:41:57.060Z"
   },
   {
    "duration": 196,
    "start_time": "2023-03-30T21:43:34.988Z"
   },
   {
    "duration": 1757,
    "start_time": "2023-03-30T21:43:42.852Z"
   },
   {
    "duration": 1480,
    "start_time": "2023-03-30T21:43:54.756Z"
   },
   {
    "duration": 1480,
    "start_time": "2023-03-30T21:44:01.292Z"
   },
   {
    "duration": 7,
    "start_time": "2023-03-30T21:44:05.207Z"
   },
   {
    "duration": 4,
    "start_time": "2023-03-30T21:44:53.907Z"
   },
   {
    "duration": 5,
    "start_time": "2023-03-30T21:44:53.934Z"
   },
   {
    "duration": 787,
    "start_time": "2023-03-30T21:44:53.941Z"
   },
   {
    "duration": 8,
    "start_time": "2023-03-30T21:44:54.731Z"
   },
   {
    "duration": 12,
    "start_time": "2023-03-30T21:44:54.741Z"
   },
   {
    "duration": 113,
    "start_time": "2023-03-30T21:44:54.755Z"
   },
   {
    "duration": 67,
    "start_time": "2023-03-30T21:44:54.870Z"
   },
   {
    "duration": 109,
    "start_time": "2023-03-30T21:44:54.939Z"
   },
   {
    "duration": 293,
    "start_time": "2023-03-30T21:44:55.050Z"
   },
   {
    "duration": 10,
    "start_time": "2023-03-30T21:44:55.346Z"
   },
   {
    "duration": 20,
    "start_time": "2023-03-30T21:44:55.358Z"
   },
   {
    "duration": 337,
    "start_time": "2023-03-30T21:44:55.380Z"
   },
   {
    "duration": 10,
    "start_time": "2023-03-30T21:44:55.722Z"
   },
   {
    "duration": 121,
    "start_time": "2023-03-30T21:44:55.734Z"
   },
   {
    "duration": 243,
    "start_time": "2023-03-30T21:44:55.857Z"
   },
   {
    "duration": 6,
    "start_time": "2023-03-30T21:44:56.102Z"
   },
   {
    "duration": 27,
    "start_time": "2023-03-30T21:44:56.110Z"
   },
   {
    "duration": 421,
    "start_time": "2023-03-30T21:44:56.139Z"
   },
   {
    "duration": 914,
    "start_time": "2023-03-30T21:44:56.562Z"
   },
   {
    "duration": 424,
    "start_time": "2023-03-30T21:44:57.478Z"
   },
   {
    "duration": 398,
    "start_time": "2023-03-30T21:44:57.903Z"
   },
   {
    "duration": 492,
    "start_time": "2023-03-30T21:44:58.302Z"
   },
   {
    "duration": 487,
    "start_time": "2023-03-30T21:44:58.797Z"
   },
   {
    "duration": 1019,
    "start_time": "2023-03-30T21:44:59.286Z"
   },
   {
    "duration": 9,
    "start_time": "2023-03-30T21:45:00.310Z"
   },
   {
    "duration": 29,
    "start_time": "2023-03-30T21:45:00.324Z"
   },
   {
    "duration": 938,
    "start_time": "2023-03-30T21:45:00.355Z"
   },
   {
    "duration": 138,
    "start_time": "2023-03-30T21:45:01.295Z"
   },
   {
    "duration": 169,
    "start_time": "2023-03-30T21:45:01.436Z"
   },
   {
    "duration": 86,
    "start_time": "2023-03-30T21:45:01.607Z"
   },
   {
    "duration": 10878,
    "start_time": "2023-03-30T21:45:01.695Z"
   },
   {
    "duration": 13709,
    "start_time": "2023-03-30T21:45:12.630Z"
   },
   {
    "duration": 184,
    "start_time": "2023-03-30T21:45:26.342Z"
   },
   {
    "duration": 288404,
    "start_time": "2023-03-30T21:45:26.527Z"
   },
   {
    "duration": 183,
    "start_time": "2023-03-30T21:50:14.933Z"
   },
   {
    "duration": 1745,
    "start_time": "2023-03-30T21:50:15.118Z"
   },
   {
    "duration": 1465,
    "start_time": "2023-03-30T21:50:16.864Z"
   },
   {
    "duration": 12,
    "start_time": "2023-03-30T21:50:18.332Z"
   },
   {
    "duration": 1465,
    "start_time": "2023-03-30T21:51:06.433Z"
   },
   {
    "duration": 7,
    "start_time": "2023-03-30T21:51:11.126Z"
   },
   {
    "duration": 1596,
    "start_time": "2023-03-30T21:53:00.113Z"
   },
   {
    "duration": 4,
    "start_time": "2023-03-30T21:54:02.640Z"
   },
   {
    "duration": 3614,
    "start_time": "2023-03-30T22:06:45.731Z"
   },
   {
    "duration": 1484,
    "start_time": "2023-03-30T22:10:33.890Z"
   },
   {
    "duration": 1440,
    "start_time": "2023-03-30T22:10:41.659Z"
   },
   {
    "duration": 6,
    "start_time": "2023-03-30T22:10:46.175Z"
   },
   {
    "duration": 576587,
    "start_time": "2023-03-30T22:11:49.608Z"
   },
   {
    "duration": 189,
    "start_time": "2023-03-30T22:21:40.685Z"
   },
   {
    "duration": 6581,
    "start_time": "2023-03-30T22:21:51.519Z"
   },
   {
    "duration": 1477,
    "start_time": "2023-03-30T22:22:10.374Z"
   },
   {
    "duration": 7,
    "start_time": "2023-03-30T22:22:13.397Z"
   },
   {
    "duration": 4,
    "start_time": "2023-03-30T22:23:17.607Z"
   },
   {
    "duration": 16,
    "start_time": "2023-03-30T22:23:17.613Z"
   },
   {
    "duration": 799,
    "start_time": "2023-03-30T22:23:17.631Z"
   },
   {
    "duration": 6,
    "start_time": "2023-03-30T22:23:18.433Z"
   },
   {
    "duration": 17,
    "start_time": "2023-03-30T22:23:18.440Z"
   },
   {
    "duration": 97,
    "start_time": "2023-03-30T22:23:18.459Z"
   },
   {
    "duration": 55,
    "start_time": "2023-03-30T22:23:18.558Z"
   },
   {
    "duration": 85,
    "start_time": "2023-03-30T22:23:18.624Z"
   },
   {
    "duration": 298,
    "start_time": "2023-03-30T22:23:18.711Z"
   },
   {
    "duration": 18,
    "start_time": "2023-03-30T22:23:19.011Z"
   },
   {
    "duration": 20,
    "start_time": "2023-03-30T22:23:19.032Z"
   },
   {
    "duration": 287,
    "start_time": "2023-03-30T22:23:19.054Z"
   },
   {
    "duration": 9,
    "start_time": "2023-03-30T22:23:19.342Z"
   },
   {
    "duration": 116,
    "start_time": "2023-03-30T22:23:19.353Z"
   },
   {
    "duration": 227,
    "start_time": "2023-03-30T22:23:19.471Z"
   },
   {
    "duration": 5,
    "start_time": "2023-03-30T22:23:19.700Z"
   },
   {
    "duration": 27,
    "start_time": "2023-03-30T22:23:19.706Z"
   },
   {
    "duration": 533,
    "start_time": "2023-03-30T22:23:19.735Z"
   },
   {
    "duration": 849,
    "start_time": "2023-03-30T22:23:20.270Z"
   },
   {
    "duration": 388,
    "start_time": "2023-03-30T22:23:21.123Z"
   },
   {
    "duration": 372,
    "start_time": "2023-03-30T22:23:21.513Z"
   },
   {
    "duration": 464,
    "start_time": "2023-03-30T22:23:21.887Z"
   },
   {
    "duration": 599,
    "start_time": "2023-03-30T22:23:22.353Z"
   },
   {
    "duration": 837,
    "start_time": "2023-03-30T22:23:22.955Z"
   },
   {
    "duration": 5,
    "start_time": "2023-03-30T22:23:23.794Z"
   },
   {
    "duration": 4,
    "start_time": "2023-03-30T22:23:23.801Z"
   },
   {
    "duration": 763,
    "start_time": "2023-03-30T22:23:23.806Z"
   },
   {
    "duration": 146,
    "start_time": "2023-03-30T22:23:24.571Z"
   },
   {
    "duration": 176,
    "start_time": "2023-03-30T22:23:24.719Z"
   },
   {
    "duration": 96,
    "start_time": "2023-03-30T22:23:24.897Z"
   },
   {
    "duration": 10941,
    "start_time": "2023-03-30T22:23:24.994Z"
   },
   {
    "duration": 13393,
    "start_time": "2023-03-30T22:23:36.023Z"
   },
   {
    "duration": 180,
    "start_time": "2023-03-30T22:23:49.418Z"
   },
   {
    "duration": 285266,
    "start_time": "2023-03-30T22:23:49.600Z"
   },
   {
    "duration": 177,
    "start_time": "2023-03-30T22:28:34.868Z"
   },
   {
    "duration": 3573,
    "start_time": "2023-03-30T22:28:35.047Z"
   },
   {
    "duration": 1444,
    "start_time": "2023-03-30T22:28:38.623Z"
   },
   {
    "duration": 7,
    "start_time": "2023-03-30T22:28:40.069Z"
   },
   {
    "duration": 164,
    "start_time": "2023-03-30T22:32:44.063Z"
   },
   {
    "duration": 262,
    "start_time": "2023-03-30T22:33:39.392Z"
   },
   {
    "duration": 185,
    "start_time": "2023-03-30T22:33:57.085Z"
   },
   {
    "duration": 3548,
    "start_time": "2023-03-30T22:50:40.847Z"
   },
   {
    "duration": 1432,
    "start_time": "2023-03-30T23:45:06.643Z"
   },
   {
    "duration": 20,
    "start_time": "2023-03-30T23:45:12.980Z"
   },
   {
    "duration": 1484,
    "start_time": "2023-03-30T23:45:26.878Z"
   },
   {
    "duration": 6,
    "start_time": "2023-03-30T23:45:28.903Z"
   },
   {
    "duration": 1749,
    "start_time": "2023-03-31T08:58:08.822Z"
   },
   {
    "duration": 5,
    "start_time": "2023-03-31T08:58:10.573Z"
   },
   {
    "duration": 777,
    "start_time": "2023-03-31T08:58:10.580Z"
   },
   {
    "duration": 8,
    "start_time": "2023-03-31T08:58:11.360Z"
   },
   {
    "duration": 11,
    "start_time": "2023-03-31T08:58:11.370Z"
   },
   {
    "duration": 112,
    "start_time": "2023-03-31T08:58:11.382Z"
   },
   {
    "duration": 71,
    "start_time": "2023-03-31T08:58:11.496Z"
   },
   {
    "duration": 121,
    "start_time": "2023-03-31T08:58:11.569Z"
   },
   {
    "duration": 446,
    "start_time": "2023-03-31T08:58:11.692Z"
   },
   {
    "duration": 10,
    "start_time": "2023-03-31T08:58:12.141Z"
   },
   {
    "duration": 23,
    "start_time": "2023-03-31T08:58:12.153Z"
   },
   {
    "duration": 306,
    "start_time": "2023-03-31T08:58:12.178Z"
   },
   {
    "duration": 10,
    "start_time": "2023-03-31T08:58:12.486Z"
   },
   {
    "duration": 220,
    "start_time": "2023-03-31T08:58:12.498Z"
   },
   {
    "duration": 257,
    "start_time": "2023-03-31T08:58:12.720Z"
   },
   {
    "duration": 5,
    "start_time": "2023-03-31T08:58:12.979Z"
   },
   {
    "duration": 36,
    "start_time": "2023-03-31T08:58:12.985Z"
   },
   {
    "duration": 433,
    "start_time": "2023-03-31T08:58:13.024Z"
   },
   {
    "duration": 807,
    "start_time": "2023-03-31T08:58:13.460Z"
   },
   {
    "duration": 405,
    "start_time": "2023-03-31T08:58:14.269Z"
   },
   {
    "duration": 453,
    "start_time": "2023-03-31T08:58:14.676Z"
   },
   {
    "duration": 455,
    "start_time": "2023-03-31T08:58:15.131Z"
   },
   {
    "duration": 440,
    "start_time": "2023-03-31T08:58:15.587Z"
   },
   {
    "duration": 843,
    "start_time": "2023-03-31T08:58:16.029Z"
   },
   {
    "duration": 6,
    "start_time": "2023-03-31T08:58:16.873Z"
   },
   {
    "duration": 11,
    "start_time": "2023-03-31T08:58:16.881Z"
   },
   {
    "duration": 750,
    "start_time": "2023-03-31T08:58:16.894Z"
   },
   {
    "duration": 114,
    "start_time": "2023-03-31T08:58:17.648Z"
   },
   {
    "duration": 184,
    "start_time": "2023-03-31T08:58:17.764Z"
   },
   {
    "duration": 160,
    "start_time": "2023-03-31T08:58:17.949Z"
   },
   {
    "duration": 0,
    "start_time": "2023-03-31T08:58:18.117Z"
   },
   {
    "duration": 0,
    "start_time": "2023-03-31T08:58:18.118Z"
   },
   {
    "duration": 0,
    "start_time": "2023-03-31T08:58:18.120Z"
   },
   {
    "duration": 0,
    "start_time": "2023-03-31T08:58:18.121Z"
   },
   {
    "duration": 0,
    "start_time": "2023-03-31T08:58:18.122Z"
   },
   {
    "duration": 0,
    "start_time": "2023-03-31T08:58:18.123Z"
   },
   {
    "duration": 0,
    "start_time": "2023-03-31T08:58:18.125Z"
   },
   {
    "duration": 0,
    "start_time": "2023-03-31T08:58:18.126Z"
   },
   {
    "duration": 5,
    "start_time": "2023-03-31T09:06:05.036Z"
   },
   {
    "duration": 89,
    "start_time": "2023-03-31T09:06:13.786Z"
   },
   {
    "duration": 9586,
    "start_time": "2023-03-31T09:06:18.031Z"
   },
   {
    "duration": 12773,
    "start_time": "2023-03-31T09:06:27.622Z"
   },
   {
    "duration": 152,
    "start_time": "2023-03-31T09:06:40.397Z"
   },
   {
    "duration": 279226,
    "start_time": "2023-03-31T09:06:40.552Z"
   },
   {
    "duration": 193,
    "start_time": "2023-03-31T09:11:19.779Z"
   },
   {
    "duration": 3604,
    "start_time": "2023-03-31T09:11:19.975Z"
   },
   {
    "duration": 1447,
    "start_time": "2023-03-31T09:11:23.581Z"
   },
   {
    "duration": 8,
    "start_time": "2023-03-31T09:11:25.030Z"
   },
   {
    "duration": 51,
    "start_time": "2023-04-01T19:22:29.804Z"
   },
   {
    "duration": 1741,
    "start_time": "2023-04-01T19:22:34.590Z"
   },
   {
    "duration": 4,
    "start_time": "2023-04-01T19:22:36.334Z"
   },
   {
    "duration": 1043,
    "start_time": "2023-04-01T19:22:36.339Z"
   },
   {
    "duration": 9,
    "start_time": "2023-04-01T19:22:37.385Z"
   },
   {
    "duration": 16,
    "start_time": "2023-04-01T19:22:37.397Z"
   },
   {
    "duration": 109,
    "start_time": "2023-04-01T19:22:37.416Z"
   },
   {
    "duration": 68,
    "start_time": "2023-04-01T19:22:37.528Z"
   },
   {
    "duration": 102,
    "start_time": "2023-04-01T19:22:37.598Z"
   },
   {
    "duration": 291,
    "start_time": "2023-04-01T19:22:37.701Z"
   },
   {
    "duration": 10,
    "start_time": "2023-04-01T19:22:37.993Z"
   },
   {
    "duration": 25,
    "start_time": "2023-04-01T19:22:38.004Z"
   },
   {
    "duration": 400,
    "start_time": "2023-04-01T19:22:38.042Z"
   },
   {
    "duration": 10,
    "start_time": "2023-04-01T19:22:38.444Z"
   },
   {
    "duration": 151,
    "start_time": "2023-04-01T19:22:38.457Z"
   },
   {
    "duration": 302,
    "start_time": "2023-04-01T19:22:38.610Z"
   },
   {
    "duration": 5,
    "start_time": "2023-04-01T19:22:38.914Z"
   },
   {
    "duration": 46,
    "start_time": "2023-04-01T19:22:38.921Z"
   },
   {
    "duration": 432,
    "start_time": "2023-04-01T19:22:38.969Z"
   },
   {
    "duration": 840,
    "start_time": "2023-04-01T19:22:39.403Z"
   },
   {
    "duration": 106,
    "start_time": "2023-04-01T19:22:42.752Z"
   },
   {
    "duration": 175,
    "start_time": "2023-04-01T19:23:38.086Z"
   },
   {
    "duration": 245,
    "start_time": "2023-04-01T19:24:03.079Z"
   },
   {
    "duration": 1241,
    "start_time": "2023-04-01T19:25:32.899Z"
   },
   {
    "duration": 118,
    "start_time": "2023-04-01T19:25:45.261Z"
   },
   {
    "duration": 31,
    "start_time": "2023-04-01T19:27:32.499Z"
   },
   {
    "duration": 24,
    "start_time": "2023-04-01T19:28:15.716Z"
   },
   {
    "duration": 51,
    "start_time": "2023-04-01T19:29:16.331Z"
   },
   {
    "duration": 39,
    "start_time": "2023-04-01T19:29:34.991Z"
   },
   {
    "duration": 48,
    "start_time": "2023-04-01T19:30:09.192Z"
   },
   {
    "duration": 52,
    "start_time": "2023-04-01T19:30:23.979Z"
   },
   {
    "duration": 46,
    "start_time": "2023-04-01T19:31:04.541Z"
   },
   {
    "duration": 37,
    "start_time": "2023-04-01T19:33:23.126Z"
   },
   {
    "duration": 44,
    "start_time": "2023-04-01T19:33:31.427Z"
   },
   {
    "duration": 44,
    "start_time": "2023-04-01T19:33:42.690Z"
   },
   {
    "duration": 43,
    "start_time": "2023-04-01T19:34:36.904Z"
   },
   {
    "duration": 47,
    "start_time": "2023-04-01T19:36:01.206Z"
   },
   {
    "duration": 36,
    "start_time": "2023-04-01T19:36:57.899Z"
   },
   {
    "duration": 38,
    "start_time": "2023-04-01T19:37:06.828Z"
   },
   {
    "duration": 38,
    "start_time": "2023-04-01T19:37:16.057Z"
   },
   {
    "duration": 36,
    "start_time": "2023-04-01T19:37:20.828Z"
   },
   {
    "duration": 41,
    "start_time": "2023-04-01T19:37:45.278Z"
   },
   {
    "duration": 48,
    "start_time": "2023-04-01T19:38:08.186Z"
   },
   {
    "duration": 396,
    "start_time": "2023-04-01T19:40:15.427Z"
   },
   {
    "duration": 333,
    "start_time": "2023-04-01T19:40:50.530Z"
   },
   {
    "duration": 47,
    "start_time": "2023-04-01T19:41:28.002Z"
   },
   {
    "duration": 41,
    "start_time": "2023-04-01T19:43:38.227Z"
   },
   {
    "duration": 39,
    "start_time": "2023-04-01T19:44:17.000Z"
   },
   {
    "duration": 8,
    "start_time": "2023-04-01T19:53:26.344Z"
   },
   {
    "duration": 7,
    "start_time": "2023-04-01T19:53:41.506Z"
   },
   {
    "duration": 84,
    "start_time": "2023-04-01T20:07:36.317Z"
   },
   {
    "duration": 79,
    "start_time": "2023-04-01T20:07:51.463Z"
   },
   {
    "duration": 77,
    "start_time": "2023-04-01T20:08:05.914Z"
   },
   {
    "duration": 75,
    "start_time": "2023-04-01T20:08:29.328Z"
   },
   {
    "duration": 8,
    "start_time": "2023-04-01T20:09:02.517Z"
   },
   {
    "duration": 104,
    "start_time": "2023-04-01T20:09:29.540Z"
   },
   {
    "duration": 5,
    "start_time": "2023-04-01T20:09:34.089Z"
   },
   {
    "duration": 4,
    "start_time": "2023-04-01T20:09:39.952Z"
   },
   {
    "duration": 715,
    "start_time": "2023-04-01T20:09:51.900Z"
   },
   {
    "duration": 6,
    "start_time": "2023-04-01T20:14:21.720Z"
   },
   {
    "duration": 6,
    "start_time": "2023-04-01T20:14:50.929Z"
   },
   {
    "duration": 83,
    "start_time": "2023-04-01T20:14:52.846Z"
   },
   {
    "duration": 14,
    "start_time": "2023-04-01T20:14:59.412Z"
   },
   {
    "duration": 6,
    "start_time": "2023-04-01T20:15:12.238Z"
   },
   {
    "duration": 4,
    "start_time": "2023-04-01T20:15:13.905Z"
   },
   {
    "duration": 1315,
    "start_time": "2023-04-01T20:15:37.753Z"
   },
   {
    "duration": 5,
    "start_time": "2023-04-01T20:15:46.909Z"
   },
   {
    "duration": 6,
    "start_time": "2023-04-01T20:16:22.693Z"
   },
   {
    "duration": 6,
    "start_time": "2023-04-01T20:16:25.160Z"
   },
   {
    "duration": 7,
    "start_time": "2023-04-01T20:16:28.640Z"
   },
   {
    "duration": 8,
    "start_time": "2023-04-01T20:16:31.936Z"
   },
   {
    "duration": 6,
    "start_time": "2023-04-01T20:16:36.310Z"
   },
   {
    "duration": 6,
    "start_time": "2023-04-01T20:16:57.348Z"
   },
   {
    "duration": 6,
    "start_time": "2023-04-01T20:17:13.108Z"
   },
   {
    "duration": 1182,
    "start_time": "2023-04-01T20:17:55.344Z"
   },
   {
    "duration": 1136,
    "start_time": "2023-04-01T20:18:22.650Z"
   },
   {
    "duration": 9,
    "start_time": "2023-04-01T20:18:53.456Z"
   },
   {
    "duration": 5,
    "start_time": "2023-04-01T20:19:05.090Z"
   },
   {
    "duration": 1356,
    "start_time": "2023-04-01T20:20:13.715Z"
   },
   {
    "duration": 5,
    "start_time": "2023-04-01T20:20:22.196Z"
   },
   {
    "duration": 5,
    "start_time": "2023-04-01T20:20:50.996Z"
   },
   {
    "duration": 4,
    "start_time": "2023-04-01T20:20:54.021Z"
   },
   {
    "duration": 10,
    "start_time": "2023-04-01T20:20:55.908Z"
   },
   {
    "duration": 15,
    "start_time": "2023-04-01T20:21:22.804Z"
   },
   {
    "duration": 7,
    "start_time": "2023-04-01T20:21:31.620Z"
   },
   {
    "duration": 8,
    "start_time": "2023-04-01T20:21:35.125Z"
   },
   {
    "duration": 4391,
    "start_time": "2023-04-01T20:22:46.322Z"
   },
   {
    "duration": 15,
    "start_time": "2023-04-01T20:23:34.308Z"
   },
   {
    "duration": 3,
    "start_time": "2023-04-01T20:23:46.204Z"
   },
   {
    "duration": 4,
    "start_time": "2023-04-01T20:23:48.492Z"
   },
   {
    "duration": 16,
    "start_time": "2023-04-01T20:23:51.759Z"
   },
   {
    "duration": 14,
    "start_time": "2023-04-01T20:24:04.862Z"
   },
   {
    "duration": 113,
    "start_time": "2023-04-01T20:24:08.351Z"
   },
   {
    "duration": 17,
    "start_time": "2023-04-01T20:24:11.241Z"
   },
   {
    "duration": 26,
    "start_time": "2023-04-01T20:24:31.604Z"
   },
   {
    "duration": 27,
    "start_time": "2023-04-01T20:24:41.553Z"
   },
   {
    "duration": 10,
    "start_time": "2023-04-01T20:25:54.246Z"
   },
   {
    "duration": 28,
    "start_time": "2023-04-01T20:26:03.339Z"
   },
   {
    "duration": 5,
    "start_time": "2023-04-01T20:26:13.543Z"
   },
   {
    "duration": 28,
    "start_time": "2023-04-01T20:26:29.521Z"
   },
   {
    "duration": 16,
    "start_time": "2023-04-01T20:26:40.472Z"
   },
   {
    "duration": 36,
    "start_time": "2023-04-01T20:26:45.951Z"
   },
   {
    "duration": 569,
    "start_time": "2023-04-01T20:28:05.519Z"
   },
   {
    "duration": 508,
    "start_time": "2023-04-01T20:28:39.877Z"
   },
   {
    "duration": 13,
    "start_time": "2023-04-01T20:31:16.838Z"
   },
   {
    "duration": 4,
    "start_time": "2023-04-01T20:31:24.159Z"
   },
   {
    "duration": 18,
    "start_time": "2023-04-01T20:31:24.164Z"
   },
   {
    "duration": 857,
    "start_time": "2023-04-01T20:31:24.184Z"
   },
   {
    "duration": 6,
    "start_time": "2023-04-01T20:31:25.043Z"
   },
   {
    "duration": 30,
    "start_time": "2023-04-01T20:31:25.050Z"
   },
   {
    "duration": 116,
    "start_time": "2023-04-01T20:31:25.082Z"
   },
   {
    "duration": 64,
    "start_time": "2023-04-01T20:31:25.200Z"
   },
   {
    "duration": 97,
    "start_time": "2023-04-01T20:31:25.266Z"
   },
   {
    "duration": 280,
    "start_time": "2023-04-01T20:31:25.365Z"
   },
   {
    "duration": 8,
    "start_time": "2023-04-01T20:31:25.647Z"
   },
   {
    "duration": 20,
    "start_time": "2023-04-01T20:31:25.657Z"
   },
   {
    "duration": 353,
    "start_time": "2023-04-01T20:31:25.678Z"
   },
   {
    "duration": 12,
    "start_time": "2023-04-01T20:31:26.034Z"
   },
   {
    "duration": 120,
    "start_time": "2023-04-01T20:31:26.048Z"
   },
   {
    "duration": 239,
    "start_time": "2023-04-01T20:31:26.170Z"
   },
   {
    "duration": 5,
    "start_time": "2023-04-01T20:31:26.410Z"
   },
   {
    "duration": 33,
    "start_time": "2023-04-01T20:31:26.416Z"
   },
   {
    "duration": 426,
    "start_time": "2023-04-01T20:31:26.452Z"
   },
   {
    "duration": 919,
    "start_time": "2023-04-01T20:31:26.880Z"
   },
   {
    "duration": 51,
    "start_time": "2023-04-01T20:31:27.802Z"
   },
   {
    "duration": 430,
    "start_time": "2023-04-01T20:31:27.855Z"
   },
   {
    "duration": 370,
    "start_time": "2023-04-01T20:31:28.286Z"
   },
   {
    "duration": 453,
    "start_time": "2023-04-01T20:31:28.658Z"
   },
   {
    "duration": 473,
    "start_time": "2023-04-01T20:31:29.113Z"
   },
   {
    "duration": 951,
    "start_time": "2023-04-01T20:31:29.588Z"
   },
   {
    "duration": 5,
    "start_time": "2023-04-01T20:31:30.541Z"
   },
   {
    "duration": 23,
    "start_time": "2023-04-01T20:31:30.548Z"
   },
   {
    "duration": 47,
    "start_time": "2023-04-01T20:31:30.572Z"
   },
   {
    "duration": 530,
    "start_time": "2023-04-01T20:31:30.621Z"
   },
   {
    "duration": 110,
    "start_time": "2023-04-01T20:31:31.154Z"
   },
   {
    "duration": 172,
    "start_time": "2023-04-01T20:31:31.265Z"
   },
   {
    "duration": 117,
    "start_time": "2023-04-01T20:31:34.115Z"
   },
   {
    "duration": 151,
    "start_time": "2023-04-01T20:31:47.502Z"
   },
   {
    "duration": 3590,
    "start_time": "2023-04-01T20:32:05.850Z"
   },
   {
    "duration": 15,
    "start_time": "2023-04-01T20:32:19.706Z"
   },
   {
    "duration": 30,
    "start_time": "2023-04-01T20:35:02.122Z"
   },
   {
    "duration": 6,
    "start_time": "2023-04-01T20:39:06.523Z"
   },
   {
    "duration": 15,
    "start_time": "2023-04-01T20:39:24.017Z"
   },
   {
    "duration": 6,
    "start_time": "2023-04-01T20:39:54.910Z"
   },
   {
    "duration": 17,
    "start_time": "2023-04-01T20:39:57.205Z"
   },
   {
    "duration": 15,
    "start_time": "2023-04-01T20:44:17.858Z"
   },
   {
    "duration": 19,
    "start_time": "2023-04-01T20:44:51.002Z"
   },
   {
    "duration": 15,
    "start_time": "2023-04-01T20:45:39.415Z"
   },
   {
    "duration": 15,
    "start_time": "2023-04-01T20:45:55.817Z"
   },
   {
    "duration": 16,
    "start_time": "2023-04-01T20:46:24.091Z"
   },
   {
    "duration": 15,
    "start_time": "2023-04-01T20:50:29.109Z"
   },
   {
    "duration": 6,
    "start_time": "2023-04-01T20:50:48.012Z"
   },
   {
    "duration": 7,
    "start_time": "2023-04-01T20:50:50.392Z"
   },
   {
    "duration": 6,
    "start_time": "2023-04-01T20:51:00.755Z"
   },
   {
    "duration": 1205,
    "start_time": "2023-04-01T20:51:03.960Z"
   },
   {
    "duration": 6,
    "start_time": "2023-04-01T20:51:16.218Z"
   },
   {
    "duration": 8,
    "start_time": "2023-04-01T20:51:17.993Z"
   },
   {
    "duration": 9,
    "start_time": "2023-04-01T20:51:48.339Z"
   },
   {
    "duration": 6,
    "start_time": "2023-04-01T20:51:50.022Z"
   },
   {
    "duration": 6,
    "start_time": "2023-04-01T20:51:57.105Z"
   },
   {
    "duration": 5,
    "start_time": "2023-04-01T20:52:10.943Z"
   },
   {
    "duration": 8,
    "start_time": "2023-04-01T20:52:12.805Z"
   },
   {
    "duration": 7,
    "start_time": "2023-04-01T20:52:22.426Z"
   },
   {
    "duration": 8,
    "start_time": "2023-04-01T20:52:31.705Z"
   },
   {
    "duration": 12,
    "start_time": "2023-04-01T20:53:48.098Z"
   },
   {
    "duration": 13,
    "start_time": "2023-04-01T20:54:05.073Z"
   },
   {
    "duration": 11,
    "start_time": "2023-04-01T20:54:20.651Z"
   },
   {
    "duration": 49,
    "start_time": "2023-04-01T20:55:14.017Z"
   },
   {
    "duration": 1443,
    "start_time": "2023-04-01T20:55:30.896Z"
   },
   {
    "duration": 4,
    "start_time": "2023-04-01T20:55:32.341Z"
   },
   {
    "duration": 794,
    "start_time": "2023-04-01T20:55:32.347Z"
   },
   {
    "duration": 9,
    "start_time": "2023-04-01T20:55:33.143Z"
   },
   {
    "duration": 23,
    "start_time": "2023-04-01T20:55:33.155Z"
   },
   {
    "duration": 98,
    "start_time": "2023-04-01T20:55:33.180Z"
   },
   {
    "duration": 66,
    "start_time": "2023-04-01T20:55:33.280Z"
   },
   {
    "duration": 99,
    "start_time": "2023-04-01T20:55:33.348Z"
   },
   {
    "duration": 299,
    "start_time": "2023-04-01T20:55:33.449Z"
   },
   {
    "duration": 11,
    "start_time": "2023-04-01T20:55:33.750Z"
   },
   {
    "duration": 26,
    "start_time": "2023-04-01T20:55:33.763Z"
   },
   {
    "duration": 298,
    "start_time": "2023-04-01T20:55:33.791Z"
   },
   {
    "duration": 10,
    "start_time": "2023-04-01T20:55:34.091Z"
   },
   {
    "duration": 220,
    "start_time": "2023-04-01T20:55:34.104Z"
   },
   {
    "duration": 238,
    "start_time": "2023-04-01T20:55:34.325Z"
   },
   {
    "duration": 4,
    "start_time": "2023-04-01T20:55:34.565Z"
   },
   {
    "duration": 18,
    "start_time": "2023-04-01T20:55:34.571Z"
   },
   {
    "duration": 445,
    "start_time": "2023-04-01T20:55:34.591Z"
   },
   {
    "duration": 983,
    "start_time": "2023-04-01T20:55:35.041Z"
   },
   {
    "duration": 119,
    "start_time": "2023-04-01T20:55:36.026Z"
   },
   {
    "duration": 0,
    "start_time": "2023-04-01T20:55:36.148Z"
   },
   {
    "duration": 0,
    "start_time": "2023-04-01T20:55:36.150Z"
   },
   {
    "duration": 0,
    "start_time": "2023-04-01T20:55:36.151Z"
   },
   {
    "duration": 0,
    "start_time": "2023-04-01T20:55:36.152Z"
   },
   {
    "duration": 0,
    "start_time": "2023-04-01T20:55:36.154Z"
   },
   {
    "duration": 0,
    "start_time": "2023-04-01T20:55:36.155Z"
   },
   {
    "duration": 0,
    "start_time": "2023-04-01T20:55:36.156Z"
   },
   {
    "duration": 0,
    "start_time": "2023-04-01T20:55:36.158Z"
   },
   {
    "duration": 0,
    "start_time": "2023-04-01T20:55:36.160Z"
   },
   {
    "duration": 0,
    "start_time": "2023-04-01T20:55:36.160Z"
   },
   {
    "duration": 0,
    "start_time": "2023-04-01T20:55:36.161Z"
   },
   {
    "duration": 0,
    "start_time": "2023-04-01T20:55:36.163Z"
   },
   {
    "duration": 4,
    "start_time": "2023-04-01T20:56:15.616Z"
   },
   {
    "duration": 28,
    "start_time": "2023-04-01T20:56:15.623Z"
   },
   {
    "duration": 608,
    "start_time": "2023-04-01T20:56:15.653Z"
   },
   {
    "duration": 7,
    "start_time": "2023-04-01T20:56:16.263Z"
   },
   {
    "duration": 23,
    "start_time": "2023-04-01T20:56:16.273Z"
   },
   {
    "duration": 116,
    "start_time": "2023-04-01T20:56:16.299Z"
   },
   {
    "duration": 62,
    "start_time": "2023-04-01T20:56:16.417Z"
   },
   {
    "duration": 95,
    "start_time": "2023-04-01T20:56:16.480Z"
   },
   {
    "duration": 270,
    "start_time": "2023-04-01T20:56:16.576Z"
   },
   {
    "duration": 8,
    "start_time": "2023-04-01T20:56:16.848Z"
   },
   {
    "duration": 29,
    "start_time": "2023-04-01T20:56:16.858Z"
   },
   {
    "duration": 379,
    "start_time": "2023-04-01T20:56:16.889Z"
   },
   {
    "duration": 8,
    "start_time": "2023-04-01T20:56:17.270Z"
   },
   {
    "duration": 108,
    "start_time": "2023-04-01T20:56:17.279Z"
   },
   {
    "duration": 240,
    "start_time": "2023-04-01T20:56:17.389Z"
   },
   {
    "duration": 4,
    "start_time": "2023-04-01T20:56:17.631Z"
   },
   {
    "duration": 27,
    "start_time": "2023-04-01T20:56:17.640Z"
   },
   {
    "duration": 391,
    "start_time": "2023-04-01T20:56:17.668Z"
   },
   {
    "duration": 740,
    "start_time": "2023-04-01T20:56:18.061Z"
   },
   {
    "duration": 47,
    "start_time": "2023-04-01T20:56:18.803Z"
   },
   {
    "duration": 369,
    "start_time": "2023-04-01T20:56:18.851Z"
   },
   {
    "duration": 442,
    "start_time": "2023-04-01T20:56:19.222Z"
   },
   {
    "duration": 428,
    "start_time": "2023-04-01T20:56:19.666Z"
   },
   {
    "duration": 421,
    "start_time": "2023-04-01T20:56:20.096Z"
   },
   {
    "duration": 759,
    "start_time": "2023-04-01T20:56:20.519Z"
   },
   {
    "duration": 5,
    "start_time": "2023-04-01T20:56:21.280Z"
   },
   {
    "duration": 7,
    "start_time": "2023-04-01T20:56:21.287Z"
   },
   {
    "duration": 14,
    "start_time": "2023-04-01T20:56:21.296Z"
   },
   {
    "duration": 49,
    "start_time": "2023-04-01T20:56:21.313Z"
   },
   {
    "duration": 0,
    "start_time": "2023-04-01T20:56:21.363Z"
   },
   {
    "duration": 0,
    "start_time": "2023-04-01T20:56:21.364Z"
   },
   {
    "duration": 0,
    "start_time": "2023-04-01T20:56:21.365Z"
   },
   {
    "duration": 10,
    "start_time": "2023-04-01T20:57:13.140Z"
   },
   {
    "duration": 618,
    "start_time": "2023-04-01T20:57:22.405Z"
   },
   {
    "duration": 58,
    "start_time": "2023-04-01T20:58:13.802Z"
   },
   {
    "duration": 76,
    "start_time": "2023-04-01T20:58:57.319Z"
   },
   {
    "duration": 710,
    "start_time": "2023-04-01T20:59:09.057Z"
   },
   {
    "duration": 20,
    "start_time": "2023-04-01T20:59:22.002Z"
   },
   {
    "duration": 8,
    "start_time": "2023-04-01T20:59:35.044Z"
   },
   {
    "duration": 8,
    "start_time": "2023-04-01T20:59:36.806Z"
   },
   {
    "duration": 79,
    "start_time": "2023-04-01T20:59:39.019Z"
   },
   {
    "duration": 9,
    "start_time": "2023-04-01T21:01:17.306Z"
   },
   {
    "duration": 1441,
    "start_time": "2023-04-01T21:01:29.198Z"
   },
   {
    "duration": 72,
    "start_time": "2023-04-01T21:02:38.750Z"
   },
   {
    "duration": 9,
    "start_time": "2023-04-01T21:03:42.998Z"
   },
   {
    "duration": 1408,
    "start_time": "2023-04-01T21:03:46.602Z"
   },
   {
    "duration": 33,
    "start_time": "2023-04-01T21:04:01.110Z"
   },
   {
    "duration": 13,
    "start_time": "2023-04-01T21:04:02.953Z"
   },
   {
    "duration": 7,
    "start_time": "2023-04-01T21:04:10.397Z"
   },
   {
    "duration": 9,
    "start_time": "2023-04-01T21:04:18.446Z"
   },
   {
    "duration": 36,
    "start_time": "2023-04-01T21:04:47.714Z"
   },
   {
    "duration": 45,
    "start_time": "2023-04-01T21:05:05.615Z"
   },
   {
    "duration": 11,
    "start_time": "2023-04-01T21:05:39.241Z"
   },
   {
    "duration": 63,
    "start_time": "2023-04-01T21:05:47.758Z"
   },
   {
    "duration": 10011,
    "start_time": "2023-04-01T21:06:23.486Z"
   },
   {
    "duration": 10,
    "start_time": "2023-04-01T21:06:37.634Z"
   },
   {
    "duration": 640,
    "start_time": "2023-04-01T21:06:43.249Z"
   },
   {
    "duration": 5,
    "start_time": "2023-04-01T21:07:39.701Z"
   },
   {
    "duration": 11,
    "start_time": "2023-04-01T21:07:39.708Z"
   },
   {
    "duration": 755,
    "start_time": "2023-04-01T21:07:39.721Z"
   },
   {
    "duration": 8,
    "start_time": "2023-04-01T21:07:40.478Z"
   },
   {
    "duration": 14,
    "start_time": "2023-04-01T21:07:40.489Z"
   },
   {
    "duration": 101,
    "start_time": "2023-04-01T21:07:40.505Z"
   },
   {
    "duration": 59,
    "start_time": "2023-04-01T21:07:40.608Z"
   },
   {
    "duration": 91,
    "start_time": "2023-04-01T21:07:40.668Z"
   },
   {
    "duration": 269,
    "start_time": "2023-04-01T21:07:40.760Z"
   },
   {
    "duration": 18,
    "start_time": "2023-04-01T21:07:41.031Z"
   },
   {
    "duration": 21,
    "start_time": "2023-04-01T21:07:41.051Z"
   },
   {
    "duration": 288,
    "start_time": "2023-04-01T21:07:41.073Z"
   },
   {
    "duration": 11,
    "start_time": "2023-04-01T21:07:41.364Z"
   },
   {
    "duration": 134,
    "start_time": "2023-04-01T21:07:41.378Z"
   },
   {
    "duration": 246,
    "start_time": "2023-04-01T21:07:41.514Z"
   },
   {
    "duration": 5,
    "start_time": "2023-04-01T21:07:41.762Z"
   },
   {
    "duration": 21,
    "start_time": "2023-04-01T21:07:41.768Z"
   },
   {
    "duration": 398,
    "start_time": "2023-04-01T21:07:41.791Z"
   },
   {
    "duration": 877,
    "start_time": "2023-04-01T21:07:42.191Z"
   },
   {
    "duration": 31,
    "start_time": "2023-04-01T21:07:43.070Z"
   },
   {
    "duration": 389,
    "start_time": "2023-04-01T21:07:43.103Z"
   },
   {
    "duration": 371,
    "start_time": "2023-04-01T21:07:43.494Z"
   },
   {
    "duration": 432,
    "start_time": "2023-04-01T21:07:43.867Z"
   },
   {
    "duration": 556,
    "start_time": "2023-04-01T21:07:44.300Z"
   },
   {
    "duration": 842,
    "start_time": "2023-04-01T21:07:44.859Z"
   },
   {
    "duration": 8,
    "start_time": "2023-04-01T21:07:45.702Z"
   },
   {
    "duration": 64,
    "start_time": "2023-04-01T21:07:45.712Z"
   },
   {
    "duration": 69,
    "start_time": "2023-04-01T21:07:45.778Z"
   },
   {
    "duration": 605,
    "start_time": "2023-04-01T21:07:52.119Z"
   },
   {
    "duration": 7,
    "start_time": "2023-04-01T21:08:07.614Z"
   },
   {
    "duration": 627,
    "start_time": "2023-04-01T21:08:11.914Z"
   },
   {
    "duration": 7,
    "start_time": "2023-04-01T21:08:21.617Z"
   },
   {
    "duration": 61,
    "start_time": "2023-04-01T21:08:41.889Z"
   },
   {
    "duration": 7,
    "start_time": "2023-04-01T21:08:56.440Z"
   },
   {
    "duration": 88,
    "start_time": "2023-04-01T21:09:09.593Z"
   },
   {
    "duration": 7,
    "start_time": "2023-04-01T21:09:23.246Z"
   },
   {
    "duration": 45,
    "start_time": "2023-04-01T21:10:01.402Z"
   },
   {
    "duration": 666,
    "start_time": "2023-04-01T21:10:30.310Z"
   },
   {
    "duration": 633,
    "start_time": "2023-04-01T21:10:51.690Z"
   },
   {
    "duration": 649,
    "start_time": "2023-04-01T21:11:43.905Z"
   },
   {
    "duration": 46,
    "start_time": "2023-04-01T21:11:57.634Z"
   },
   {
    "duration": 661,
    "start_time": "2023-04-01T21:12:03.943Z"
   },
   {
    "duration": 672,
    "start_time": "2023-04-01T21:12:50.452Z"
   },
   {
    "duration": 5,
    "start_time": "2023-04-01T21:12:56.702Z"
   },
   {
    "duration": 8,
    "start_time": "2023-04-01T21:13:11.215Z"
   },
   {
    "duration": 8,
    "start_time": "2023-04-01T21:13:16.684Z"
   },
   {
    "duration": 8,
    "start_time": "2023-04-01T21:13:19.144Z"
   },
   {
    "duration": 751,
    "start_time": "2023-04-01T21:15:37.005Z"
   },
   {
    "duration": 35,
    "start_time": "2023-04-01T21:16:12.111Z"
   },
   {
    "duration": 1383,
    "start_time": "2023-04-01T21:16:16.567Z"
   },
   {
    "duration": 10,
    "start_time": "2023-04-01T21:17:24.385Z"
   },
   {
    "duration": 1403,
    "start_time": "2023-04-01T21:17:28.821Z"
   },
   {
    "duration": 78,
    "start_time": "2023-04-01T21:17:54.389Z"
   },
   {
    "duration": 12,
    "start_time": "2023-04-01T21:18:07.411Z"
   },
   {
    "duration": 4,
    "start_time": "2023-04-01T21:19:18.529Z"
   },
   {
    "duration": 29,
    "start_time": "2023-04-01T21:19:24.375Z"
   },
   {
    "duration": 16,
    "start_time": "2023-04-01T21:20:41.997Z"
   },
   {
    "duration": 3,
    "start_time": "2023-04-01T21:21:33.908Z"
   },
   {
    "duration": 566,
    "start_time": "2023-04-01T21:21:56.472Z"
   },
   {
    "duration": 1278,
    "start_time": "2023-04-01T21:22:16.538Z"
   },
   {
    "duration": 18,
    "start_time": "2023-04-01T21:23:01.910Z"
   },
   {
    "duration": 15,
    "start_time": "2023-04-01T21:23:17.919Z"
   },
   {
    "duration": 55,
    "start_time": "2023-04-01T21:23:33.989Z"
   },
   {
    "duration": 94,
    "start_time": "2023-04-01T21:23:55.084Z"
   },
   {
    "duration": 91,
    "start_time": "2023-04-01T21:23:59.685Z"
   },
   {
    "duration": 552,
    "start_time": "2023-04-01T21:24:01.901Z"
   },
   {
    "duration": 552,
    "start_time": "2023-04-01T21:24:08.489Z"
   },
   {
    "duration": 626,
    "start_time": "2023-04-01T21:24:15.793Z"
   },
   {
    "duration": 553,
    "start_time": "2023-04-01T21:24:21.917Z"
   },
   {
    "duration": 6,
    "start_time": "2023-04-01T21:24:41.355Z"
   },
   {
    "duration": 97,
    "start_time": "2023-04-01T21:24:45.058Z"
   },
   {
    "duration": 592,
    "start_time": "2023-04-01T21:24:47.001Z"
   },
   {
    "duration": 11,
    "start_time": "2023-04-01T21:26:16.402Z"
   },
   {
    "duration": 102,
    "start_time": "2023-04-01T21:26:29.635Z"
   },
   {
    "duration": 180,
    "start_time": "2023-04-01T21:26:31.488Z"
   },
   {
    "duration": 112,
    "start_time": "2023-04-01T21:26:36.105Z"
   },
   {
    "duration": 11235,
    "start_time": "2023-04-01T21:26:41.809Z"
   },
   {
    "duration": 3199,
    "start_time": "2023-04-01T21:27:02.209Z"
   },
   {
    "duration": 3653,
    "start_time": "2023-04-01T21:27:27.690Z"
   },
   {
    "duration": 1198,
    "start_time": "2023-04-01T21:27:40.701Z"
   },
   {
    "duration": 7,
    "start_time": "2023-04-01T21:27:49.828Z"
   },
   {
    "duration": 1653,
    "start_time": "2023-04-01T22:32:15.718Z"
   },
   {
    "duration": 104,
    "start_time": "2023-04-01T22:35:59.130Z"
   },
   {
    "duration": 91,
    "start_time": "2023-04-01T22:36:26.889Z"
   },
   {
    "duration": 88,
    "start_time": "2023-04-01T22:36:41.697Z"
   },
   {
    "duration": 49,
    "start_time": "2023-04-01T22:37:17.126Z"
   },
   {
    "duration": 31,
    "start_time": "2023-04-01T22:40:40.664Z"
   },
   {
    "duration": 35,
    "start_time": "2023-04-01T22:42:29.051Z"
   },
   {
    "duration": 89,
    "start_time": "2023-04-01T22:46:21.743Z"
   },
   {
    "duration": 549,
    "start_time": "2023-04-01T22:46:25.171Z"
   },
   {
    "duration": 41,
    "start_time": "2023-04-01T23:14:21.650Z"
   },
   {
    "duration": 55,
    "start_time": "2023-04-01T23:14:33.714Z"
   },
   {
    "duration": 43,
    "start_time": "2023-04-01T23:15:06.269Z"
   },
   {
    "duration": 53,
    "start_time": "2023-04-01T23:16:02.114Z"
   },
   {
    "duration": 55,
    "start_time": "2023-04-01T23:17:48.414Z"
   },
   {
    "duration": 46,
    "start_time": "2023-04-01T23:17:52.763Z"
   },
   {
    "duration": 48,
    "start_time": "2023-04-01T23:19:38.302Z"
   },
   {
    "duration": 62,
    "start_time": "2023-04-01T23:19:43.243Z"
   },
   {
    "duration": 56,
    "start_time": "2023-04-01T23:19:53.657Z"
   },
   {
    "duration": 52,
    "start_time": "2023-04-01T23:20:18.352Z"
   },
   {
    "duration": 49,
    "start_time": "2023-04-01T23:20:28.914Z"
   },
   {
    "duration": 43,
    "start_time": "2023-04-01T23:21:10.714Z"
   },
   {
    "duration": 51,
    "start_time": "2023-04-01T23:21:17.124Z"
   },
   {
    "duration": 44,
    "start_time": "2023-04-01T23:21:25.660Z"
   },
   {
    "duration": 44,
    "start_time": "2023-04-01T23:21:35.414Z"
   },
   {
    "duration": 48,
    "start_time": "2023-04-01T23:22:05.328Z"
   },
   {
    "duration": 43,
    "start_time": "2023-04-01T23:22:30.402Z"
   },
   {
    "duration": 48,
    "start_time": "2023-04-01T23:22:40.802Z"
   },
   {
    "duration": 39,
    "start_time": "2023-04-01T23:23:42.673Z"
   },
   {
    "duration": 31,
    "start_time": "2023-04-01T23:26:40.637Z"
   },
   {
    "duration": 32,
    "start_time": "2023-04-01T23:26:53.347Z"
   },
   {
    "duration": 35,
    "start_time": "2023-04-01T23:27:08.114Z"
   },
   {
    "duration": 39,
    "start_time": "2023-04-01T23:27:38.523Z"
   },
   {
    "duration": 52,
    "start_time": "2023-04-01T23:28:28.722Z"
   },
   {
    "duration": 38,
    "start_time": "2023-04-01T23:34:13.099Z"
   },
   {
    "duration": 1764,
    "start_time": "2023-04-02T11:39:57.698Z"
   },
   {
    "duration": 5,
    "start_time": "2023-04-02T11:39:59.464Z"
   },
   {
    "duration": 925,
    "start_time": "2023-04-02T11:39:59.471Z"
   },
   {
    "duration": 10,
    "start_time": "2023-04-02T11:40:00.399Z"
   },
   {
    "duration": 41,
    "start_time": "2023-04-02T11:40:00.411Z"
   },
   {
    "duration": 113,
    "start_time": "2023-04-02T11:40:00.455Z"
   },
   {
    "duration": 74,
    "start_time": "2023-04-02T11:40:00.576Z"
   },
   {
    "duration": 90,
    "start_time": "2023-04-02T11:40:00.653Z"
   },
   {
    "duration": 114,
    "start_time": "2023-04-02T11:40:00.745Z"
   },
   {
    "duration": 375,
    "start_time": "2023-04-02T11:40:00.862Z"
   },
   {
    "duration": 10,
    "start_time": "2023-04-02T11:40:01.239Z"
   },
   {
    "duration": 54,
    "start_time": "2023-04-02T11:40:01.251Z"
   },
   {
    "duration": 325,
    "start_time": "2023-04-02T11:40:01.307Z"
   },
   {
    "duration": 9,
    "start_time": "2023-04-02T11:40:01.635Z"
   },
   {
    "duration": 230,
    "start_time": "2023-04-02T11:40:01.646Z"
   },
   {
    "duration": 284,
    "start_time": "2023-04-02T11:40:01.882Z"
   },
   {
    "duration": 11,
    "start_time": "2023-04-02T11:40:02.168Z"
   },
   {
    "duration": 57,
    "start_time": "2023-04-02T11:40:02.182Z"
   },
   {
    "duration": 486,
    "start_time": "2023-04-02T11:40:02.241Z"
   },
   {
    "duration": 865,
    "start_time": "2023-04-02T11:40:02.729Z"
   },
   {
    "duration": 41,
    "start_time": "2023-04-02T11:40:03.596Z"
   },
   {
    "duration": 434,
    "start_time": "2023-04-02T11:40:39.112Z"
   },
   {
    "duration": 500,
    "start_time": "2023-04-02T11:40:41.457Z"
   },
   {
    "duration": 590,
    "start_time": "2023-04-02T11:40:44.007Z"
   },
   {
    "duration": 535,
    "start_time": "2023-04-02T11:40:46.135Z"
   },
   {
    "duration": 946,
    "start_time": "2023-04-02T11:40:48.125Z"
   },
   {
    "duration": 7,
    "start_time": "2023-04-02T11:40:55.869Z"
   },
   {
    "duration": 6,
    "start_time": "2023-04-02T11:57:41.710Z"
   },
   {
    "duration": 91,
    "start_time": "2023-04-02T11:57:43.987Z"
   },
   {
    "duration": 680,
    "start_time": "2023-04-02T11:57:48.244Z"
   },
   {
    "duration": 1520,
    "start_time": "2023-04-02T20:10:42.366Z"
   },
   {
    "duration": 4,
    "start_time": "2023-04-02T20:10:43.888Z"
   },
   {
    "duration": 615,
    "start_time": "2023-04-02T20:10:43.894Z"
   },
   {
    "duration": 6,
    "start_time": "2023-04-02T20:10:44.511Z"
   },
   {
    "duration": 21,
    "start_time": "2023-04-02T20:10:44.519Z"
   },
   {
    "duration": 75,
    "start_time": "2023-04-02T20:10:44.542Z"
   },
   {
    "duration": 52,
    "start_time": "2023-04-02T20:10:44.632Z"
   },
   {
    "duration": 71,
    "start_time": "2023-04-02T20:10:44.686Z"
   },
   {
    "duration": 89,
    "start_time": "2023-04-02T20:10:44.758Z"
   },
   {
    "duration": 293,
    "start_time": "2023-04-02T20:10:44.850Z"
   },
   {
    "duration": 8,
    "start_time": "2023-04-02T20:10:45.144Z"
   },
   {
    "duration": 25,
    "start_time": "2023-04-02T20:10:45.153Z"
   },
   {
    "duration": 256,
    "start_time": "2023-04-02T20:10:45.179Z"
   },
   {
    "duration": 7,
    "start_time": "2023-04-02T20:10:45.437Z"
   },
   {
    "duration": 199,
    "start_time": "2023-04-02T20:10:45.446Z"
   },
   {
    "duration": 224,
    "start_time": "2023-04-02T20:10:45.646Z"
   },
   {
    "duration": 5,
    "start_time": "2023-04-02T20:10:45.872Z"
   },
   {
    "duration": 22,
    "start_time": "2023-04-02T20:10:45.879Z"
   },
   {
    "duration": 367,
    "start_time": "2023-04-02T20:10:45.902Z"
   },
   {
    "duration": 713,
    "start_time": "2023-04-02T20:10:46.271Z"
   },
   {
    "duration": 47,
    "start_time": "2023-04-02T20:10:46.986Z"
   },
   {
    "duration": 345,
    "start_time": "2023-04-02T20:10:47.035Z"
   },
   {
    "duration": 470,
    "start_time": "2023-04-02T20:10:47.382Z"
   },
   {
    "duration": 408,
    "start_time": "2023-04-02T20:10:47.854Z"
   },
   {
    "duration": 424,
    "start_time": "2023-04-02T20:10:48.263Z"
   },
   {
    "duration": 766,
    "start_time": "2023-04-02T20:10:48.689Z"
   },
   {
    "duration": 5,
    "start_time": "2023-04-02T20:10:49.457Z"
   },
   {
    "duration": 6,
    "start_time": "2023-04-02T20:10:49.465Z"
   },
   {
    "duration": 103,
    "start_time": "2023-04-02T20:10:49.472Z"
   },
   {
    "duration": 542,
    "start_time": "2023-04-02T20:10:49.577Z"
   },
   {
    "duration": 112,
    "start_time": "2023-04-02T20:10:50.121Z"
   },
   {
    "duration": 175,
    "start_time": "2023-04-02T20:10:50.235Z"
   },
   {
    "duration": 111,
    "start_time": "2023-04-02T20:10:50.412Z"
   },
   {
    "duration": 148,
    "start_time": "2023-04-02T21:47:27.606Z"
   },
   {
    "duration": 11,
    "start_time": "2023-04-02T21:48:38.806Z"
   },
   {
    "duration": 13,
    "start_time": "2023-04-02T21:49:07.382Z"
   },
   {
    "duration": 3,
    "start_time": "2023-04-02T21:49:15.179Z"
   },
   {
    "duration": 10,
    "start_time": "2023-04-02T21:49:19.650Z"
   },
   {
    "duration": 4,
    "start_time": "2023-04-02T21:49:30.865Z"
   },
   {
    "duration": 5,
    "start_time": "2023-04-02T21:51:46.123Z"
   },
   {
    "duration": 14,
    "start_time": "2023-04-02T21:53:10.015Z"
   },
   {
    "duration": 11,
    "start_time": "2023-04-02T21:55:21.260Z"
   },
   {
    "duration": 4,
    "start_time": "2023-04-02T21:55:24.420Z"
   },
   {
    "duration": 6,
    "start_time": "2023-04-02T22:05:09.243Z"
   },
   {
    "duration": 9,
    "start_time": "2023-04-02T22:05:09.251Z"
   },
   {
    "duration": 749,
    "start_time": "2023-04-02T22:05:09.262Z"
   },
   {
    "duration": 21,
    "start_time": "2023-04-02T22:05:10.014Z"
   },
   {
    "duration": 36,
    "start_time": "2023-04-02T22:05:10.047Z"
   },
   {
    "duration": 106,
    "start_time": "2023-04-02T22:05:10.085Z"
   },
   {
    "duration": 59,
    "start_time": "2023-04-02T22:05:10.193Z"
   },
   {
    "duration": 57,
    "start_time": "2023-04-02T22:05:10.254Z"
   },
   {
    "duration": 91,
    "start_time": "2023-04-02T22:05:10.313Z"
   },
   {
    "duration": 272,
    "start_time": "2023-04-02T22:05:10.406Z"
   },
   {
    "duration": 9,
    "start_time": "2023-04-02T22:05:10.680Z"
   },
   {
    "duration": 23,
    "start_time": "2023-04-02T22:05:10.691Z"
   },
   {
    "duration": 362,
    "start_time": "2023-04-02T22:05:10.716Z"
   },
   {
    "duration": 8,
    "start_time": "2023-04-02T22:05:11.080Z"
   },
   {
    "duration": 110,
    "start_time": "2023-04-02T22:05:11.090Z"
   },
   {
    "duration": 305,
    "start_time": "2023-04-02T22:05:11.202Z"
   },
   {
    "duration": 6,
    "start_time": "2023-04-02T22:05:11.509Z"
   },
   {
    "duration": 56,
    "start_time": "2023-04-02T22:05:11.517Z"
   },
   {
    "duration": 454,
    "start_time": "2023-04-02T22:05:11.575Z"
   },
   {
    "duration": 862,
    "start_time": "2023-04-02T22:05:12.037Z"
   },
   {
    "duration": 54,
    "start_time": "2023-04-02T22:05:12.901Z"
   },
   {
    "duration": 548,
    "start_time": "2023-04-02T22:05:12.957Z"
   },
   {
    "duration": 405,
    "start_time": "2023-04-02T22:05:13.507Z"
   },
   {
    "duration": 494,
    "start_time": "2023-04-02T22:05:13.914Z"
   },
   {
    "duration": 507,
    "start_time": "2023-04-02T22:05:14.411Z"
   },
   {
    "duration": 1021,
    "start_time": "2023-04-02T22:05:14.920Z"
   },
   {
    "duration": 9,
    "start_time": "2023-04-02T22:05:15.946Z"
   },
   {
    "duration": 16,
    "start_time": "2023-04-02T22:05:15.958Z"
   },
   {
    "duration": 139,
    "start_time": "2023-04-02T22:05:15.975Z"
   },
   {
    "duration": 648,
    "start_time": "2023-04-02T22:05:16.116Z"
   },
   {
    "duration": 16,
    "start_time": "2023-04-02T22:15:38.817Z"
   },
   {
    "duration": 50,
    "start_time": "2023-04-02T22:16:17.171Z"
   },
   {
    "duration": 63,
    "start_time": "2023-04-02T22:16:49.676Z"
   },
   {
    "duration": 60,
    "start_time": "2023-04-02T22:17:15.042Z"
   },
   {
    "duration": 66,
    "start_time": "2023-04-02T22:17:25.832Z"
   },
   {
    "duration": 12,
    "start_time": "2023-04-02T22:17:55.550Z"
   },
   {
    "duration": 57,
    "start_time": "2023-04-02T22:18:08.688Z"
   },
   {
    "duration": 62,
    "start_time": "2023-04-02T22:18:35.624Z"
   },
   {
    "duration": 628,
    "start_time": "2023-04-02T22:18:59.321Z"
   },
   {
    "duration": 4519,
    "start_time": "2023-04-02T22:19:09.549Z"
   },
   {
    "duration": 4706,
    "start_time": "2023-04-02T22:19:28.333Z"
   },
   {
    "duration": 6454,
    "start_time": "2023-04-02T22:19:41.981Z"
   },
   {
    "duration": 5416,
    "start_time": "2023-04-02T22:21:21.322Z"
   },
   {
    "duration": 99,
    "start_time": "2023-04-02T22:24:19.329Z"
   },
   {
    "duration": 165,
    "start_time": "2023-04-02T22:24:25.084Z"
   },
   {
    "duration": 5288,
    "start_time": "2023-04-02T22:24:28.748Z"
   },
   {
    "duration": 4562,
    "start_time": "2023-04-02T22:25:41.724Z"
   },
   {
    "duration": 6573,
    "start_time": "2023-04-02T22:26:09.774Z"
   },
   {
    "duration": 5279,
    "start_time": "2023-04-02T22:26:28.677Z"
   },
   {
    "duration": 5043,
    "start_time": "2023-04-02T22:26:52.895Z"
   },
   {
    "duration": 4244,
    "start_time": "2023-04-02T22:27:08.991Z"
   },
   {
    "duration": 7239,
    "start_time": "2023-04-02T22:27:20.199Z"
   },
   {
    "duration": 6968,
    "start_time": "2023-04-02T22:27:34.170Z"
   },
   {
    "duration": 10081,
    "start_time": "2023-04-02T22:27:54.687Z"
   },
   {
    "duration": 9751,
    "start_time": "2023-04-02T22:28:19.794Z"
   },
   {
    "duration": 20,
    "start_time": "2023-04-02T22:41:16.848Z"
   },
   {
    "duration": 13,
    "start_time": "2023-04-02T22:42:09.808Z"
   },
   {
    "duration": 17,
    "start_time": "2023-04-02T22:42:32.079Z"
   },
   {
    "duration": 30,
    "start_time": "2023-04-02T22:51:22.520Z"
   },
   {
    "duration": 17,
    "start_time": "2023-04-02T22:51:35.265Z"
   },
   {
    "duration": 16,
    "start_time": "2023-04-02T22:51:45.450Z"
   },
   {
    "duration": 18,
    "start_time": "2023-04-02T22:51:55.403Z"
   },
   {
    "duration": 617,
    "start_time": "2023-04-02T22:53:09.520Z"
   },
   {
    "duration": 621,
    "start_time": "2023-04-02T22:53:34.120Z"
   },
   {
    "duration": 772,
    "start_time": "2023-04-02T22:54:58.163Z"
   },
   {
    "duration": 733,
    "start_time": "2023-04-02T22:55:13.520Z"
   },
   {
    "duration": 1112,
    "start_time": "2023-04-02T22:55:21.853Z"
   },
   {
    "duration": 15,
    "start_time": "2023-04-02T22:57:07.781Z"
   },
   {
    "duration": 783,
    "start_time": "2023-04-02T22:57:37.984Z"
   },
   {
    "duration": 864,
    "start_time": "2023-04-02T22:58:02.321Z"
   },
   {
    "duration": 843,
    "start_time": "2023-04-02T22:58:08.451Z"
   },
   {
    "duration": 828,
    "start_time": "2023-04-02T22:58:14.160Z"
   },
   {
    "duration": 776,
    "start_time": "2023-04-02T22:58:39.202Z"
   },
   {
    "duration": 834,
    "start_time": "2023-04-02T22:58:49.356Z"
   },
   {
    "duration": 921,
    "start_time": "2023-04-02T22:59:04.079Z"
   },
   {
    "duration": 8239,
    "start_time": "2023-04-02T22:59:48.504Z"
   },
   {
    "duration": 21,
    "start_time": "2023-04-02T23:00:04.821Z"
   },
   {
    "duration": 8299,
    "start_time": "2023-04-02T23:00:15.143Z"
   },
   {
    "duration": 8186,
    "start_time": "2023-04-02T23:00:50.360Z"
   },
   {
    "duration": 8981,
    "start_time": "2023-04-02T23:01:41.069Z"
   },
   {
    "duration": 9441,
    "start_time": "2023-04-02T23:03:15.815Z"
   },
   {
    "duration": 10700,
    "start_time": "2023-04-02T23:04:00.752Z"
   },
   {
    "duration": 90,
    "start_time": "2023-04-02T23:08:44.304Z"
   },
   {
    "duration": 9893,
    "start_time": "2023-04-02T23:08:47.552Z"
   },
   {
    "duration": 8613,
    "start_time": "2023-04-02T23:09:35.651Z"
   },
   {
    "duration": 8890,
    "start_time": "2023-04-02T23:10:14.849Z"
   },
   {
    "duration": 10171,
    "start_time": "2023-04-02T23:10:43.881Z"
   },
   {
    "duration": 19993,
    "start_time": "2023-04-02T23:12:59.351Z"
   },
   {
    "duration": 19106,
    "start_time": "2023-04-02T23:14:30.333Z"
   },
   {
    "duration": 19392,
    "start_time": "2023-04-02T23:15:06.949Z"
   },
   {
    "duration": 19748,
    "start_time": "2023-04-02T23:23:45.426Z"
   },
   {
    "duration": 19775,
    "start_time": "2023-04-02T23:24:50.464Z"
   },
   {
    "duration": 19738,
    "start_time": "2023-04-02T23:25:25.805Z"
   },
   {
    "duration": 106,
    "start_time": "2023-04-02T23:26:47.791Z"
   },
   {
    "duration": 178,
    "start_time": "2023-04-02T23:26:59.953Z"
   },
   {
    "duration": 19312,
    "start_time": "2023-04-02T23:27:14.728Z"
   },
   {
    "duration": 128,
    "start_time": "2023-04-02T23:27:53.989Z"
   },
   {
    "duration": 139,
    "start_time": "2023-04-02T23:29:11.821Z"
   },
   {
    "duration": 133,
    "start_time": "2023-04-02T23:29:46.718Z"
   },
   {
    "duration": 117,
    "start_time": "2023-04-02T23:30:43.309Z"
   },
   {
    "duration": 123,
    "start_time": "2023-04-02T23:30:54.850Z"
   },
   {
    "duration": 139,
    "start_time": "2023-04-02T23:32:03.312Z"
   },
   {
    "duration": 19470,
    "start_time": "2023-04-02T23:32:11.567Z"
   },
   {
    "duration": 117,
    "start_time": "2023-04-02T23:32:35.905Z"
   },
   {
    "duration": 119,
    "start_time": "2023-04-02T23:34:27.589Z"
   },
   {
    "duration": 121,
    "start_time": "2023-04-02T23:34:33.451Z"
   },
   {
    "duration": 18952,
    "start_time": "2023-04-02T23:36:56.097Z"
   },
   {
    "duration": 19095,
    "start_time": "2023-04-02T23:37:56.256Z"
   },
   {
    "duration": 157,
    "start_time": "2023-04-02T23:39:40.328Z"
   },
   {
    "duration": 1103,
    "start_time": "2023-04-02T23:39:53.530Z"
   },
   {
    "duration": 18807,
    "start_time": "2023-04-02T23:45:20.344Z"
   },
   {
    "duration": 167,
    "start_time": "2023-04-02T23:46:03.465Z"
   },
   {
    "duration": 1090,
    "start_time": "2023-04-02T23:46:08.463Z"
   },
   {
    "duration": 18169,
    "start_time": "2023-04-02T23:46:20.173Z"
   },
   {
    "duration": 151,
    "start_time": "2023-04-02T23:46:54.793Z"
   },
   {
    "duration": 1137,
    "start_time": "2023-04-02T23:47:12.304Z"
   },
   {
    "duration": 6,
    "start_time": "2023-04-02T23:51:28.168Z"
   },
   {
    "duration": 17811,
    "start_time": "2023-04-02T23:51:30.828Z"
   },
   {
    "duration": 6351,
    "start_time": "2023-04-02T23:52:54.726Z"
   },
   {
    "duration": 9,
    "start_time": "2023-04-02T23:53:41.905Z"
   },
   {
    "duration": 293,
    "start_time": "2023-04-02T23:53:48.385Z"
   },
   {
    "duration": 14,
    "start_time": "2023-04-02T23:54:25.535Z"
   },
   {
    "duration": 5755,
    "start_time": "2023-04-02T23:54:28.809Z"
   },
   {
    "duration": 9,
    "start_time": "2023-04-02T23:54:40.522Z"
   },
   {
    "duration": 295,
    "start_time": "2023-04-02T23:54:47.122Z"
   },
   {
    "duration": 1718,
    "start_time": "2023-04-03T14:26:31.992Z"
   },
   {
    "duration": 5,
    "start_time": "2023-04-03T14:26:46.384Z"
   },
   {
    "duration": 16,
    "start_time": "2023-04-03T14:26:46.390Z"
   },
   {
    "duration": 952,
    "start_time": "2023-04-03T14:26:46.408Z"
   },
   {
    "duration": 9,
    "start_time": "2023-04-03T14:26:47.363Z"
   },
   {
    "duration": 12,
    "start_time": "2023-04-03T14:26:47.375Z"
   },
   {
    "duration": 110,
    "start_time": "2023-04-03T14:26:47.389Z"
   },
   {
    "duration": 79,
    "start_time": "2023-04-03T14:26:47.501Z"
   },
   {
    "duration": 76,
    "start_time": "2023-04-03T14:26:47.581Z"
   },
   {
    "duration": 105,
    "start_time": "2023-04-03T14:26:47.659Z"
   },
   {
    "duration": 342,
    "start_time": "2023-04-03T14:26:47.766Z"
   },
   {
    "duration": 20,
    "start_time": "2023-04-03T14:26:48.111Z"
   },
   {
    "duration": 24,
    "start_time": "2023-04-03T14:26:48.140Z"
   },
   {
    "duration": 303,
    "start_time": "2023-04-03T14:26:48.166Z"
   },
   {
    "duration": 10,
    "start_time": "2023-04-03T14:26:48.471Z"
   },
   {
    "duration": 226,
    "start_time": "2023-04-03T14:26:48.483Z"
   },
   {
    "duration": 298,
    "start_time": "2023-04-03T14:26:48.711Z"
   },
   {
    "duration": 13,
    "start_time": "2023-04-03T14:26:49.011Z"
   },
   {
    "duration": 40,
    "start_time": "2023-04-03T14:26:49.026Z"
   },
   {
    "duration": 477,
    "start_time": "2023-04-03T14:26:49.068Z"
   },
   {
    "duration": 1002,
    "start_time": "2023-04-03T14:26:49.546Z"
   },
   {
    "duration": 57,
    "start_time": "2023-04-03T14:26:50.551Z"
   },
   {
    "duration": 635,
    "start_time": "2023-04-03T14:26:50.610Z"
   },
   {
    "duration": 621,
    "start_time": "2023-04-03T14:26:51.249Z"
   },
   {
    "duration": 508,
    "start_time": "2023-04-03T14:26:51.871Z"
   },
   {
    "duration": 577,
    "start_time": "2023-04-03T14:26:52.381Z"
   },
   {
    "duration": 973,
    "start_time": "2023-04-03T14:26:52.961Z"
   },
   {
    "duration": 6,
    "start_time": "2023-04-03T14:26:53.935Z"
   },
   {
    "duration": 19,
    "start_time": "2023-04-03T14:26:53.946Z"
   },
   {
    "duration": 131,
    "start_time": "2023-04-03T14:26:53.968Z"
   },
   {
    "duration": 702,
    "start_time": "2023-04-03T14:26:54.101Z"
   },
   {
    "duration": 3213,
    "start_time": "2023-04-03T14:30:46.647Z"
   },
   {
    "duration": 3171,
    "start_time": "2023-04-03T14:31:29.408Z"
   },
   {
    "duration": 165,
    "start_time": "2023-04-03T14:33:04.482Z"
   },
   {
    "duration": 141,
    "start_time": "2023-04-03T14:33:14.760Z"
   },
   {
    "duration": 3139,
    "start_time": "2023-04-03T14:33:35.152Z"
   },
   {
    "duration": 155,
    "start_time": "2023-04-03T14:36:03.785Z"
   },
   {
    "duration": 195,
    "start_time": "2023-04-03T14:40:32.184Z"
   },
   {
    "duration": 193,
    "start_time": "2023-04-03T14:41:36.289Z"
   },
   {
    "duration": 16,
    "start_time": "2023-04-03T14:42:17.552Z"
   },
   {
    "duration": 179,
    "start_time": "2023-04-03T14:42:48.768Z"
   },
   {
    "duration": 70,
    "start_time": "2023-04-03T14:45:03.970Z"
   },
   {
    "duration": 170,
    "start_time": "2023-04-03T14:45:10.025Z"
   },
   {
    "duration": 191,
    "start_time": "2023-04-03T14:45:16.583Z"
   },
   {
    "duration": 8,
    "start_time": "2023-04-03T14:46:07.364Z"
   },
   {
    "duration": 7,
    "start_time": "2023-04-03T14:46:44.868Z"
   },
   {
    "duration": 21068,
    "start_time": "2023-04-03T14:47:11.072Z"
   },
   {
    "duration": 167,
    "start_time": "2023-04-03T14:49:09.595Z"
   },
   {
    "duration": 1242,
    "start_time": "2023-04-03T14:49:16.043Z"
   },
   {
    "duration": 902,
    "start_time": "2023-04-03T14:49:59.272Z"
   },
   {
    "duration": 152,
    "start_time": "2023-04-03T14:55:15.867Z"
   },
   {
    "duration": 165,
    "start_time": "2023-04-03T14:55:27.567Z"
   },
   {
    "duration": 3340,
    "start_time": "2023-04-03T14:55:44.868Z"
   },
   {
    "duration": 160,
    "start_time": "2023-04-03T14:56:22.895Z"
   },
   {
    "duration": 3063,
    "start_time": "2023-04-03T14:56:35.656Z"
   },
   {
    "duration": 3049,
    "start_time": "2023-04-03T14:56:46.268Z"
   },
   {
    "duration": 163,
    "start_time": "2023-04-03T14:57:52.599Z"
   },
   {
    "duration": 158,
    "start_time": "2023-04-03T14:57:56.005Z"
   },
   {
    "duration": 114,
    "start_time": "2023-04-03T14:58:36.207Z"
   },
   {
    "duration": 280,
    "start_time": "2023-04-03T14:58:44.492Z"
   },
   {
    "duration": 277,
    "start_time": "2023-04-03T14:58:57.960Z"
   },
   {
    "duration": 112,
    "start_time": "2023-04-03T15:01:33.490Z"
   },
   {
    "duration": 2922,
    "start_time": "2023-04-03T15:01:50.936Z"
   },
   {
    "duration": 2817,
    "start_time": "2023-04-03T15:02:13.977Z"
   },
   {
    "duration": 2891,
    "start_time": "2023-04-03T15:03:40.088Z"
   },
   {
    "duration": 103,
    "start_time": "2023-04-03T15:04:08.908Z"
   },
   {
    "duration": 250,
    "start_time": "2023-04-03T15:04:29.945Z"
   },
   {
    "duration": 260,
    "start_time": "2023-04-03T15:04:39.936Z"
   },
   {
    "duration": 243,
    "start_time": "2023-04-03T15:05:37.269Z"
   },
   {
    "duration": 115,
    "start_time": "2023-04-03T15:05:45.265Z"
   },
   {
    "duration": 247,
    "start_time": "2023-04-03T15:08:08.845Z"
   },
   {
    "duration": 439,
    "start_time": "2023-04-03T15:08:24.316Z"
   },
   {
    "duration": 10,
    "start_time": "2023-04-03T15:08:56.190Z"
   },
   {
    "duration": 440,
    "start_time": "2023-04-03T15:09:09.194Z"
   },
   {
    "duration": 205,
    "start_time": "2023-04-03T15:09:12.406Z"
   },
   {
    "duration": 6,
    "start_time": "2023-04-03T15:09:20.073Z"
   },
   {
    "duration": 117571,
    "start_time": "2023-04-03T15:09:22.555Z"
   },
   {
    "duration": 686,
    "start_time": "2023-04-03T15:13:01.275Z"
   },
   {
    "duration": 3920,
    "start_time": "2023-04-03T15:13:04.708Z"
   },
   {
    "duration": 4206,
    "start_time": "2023-04-03T15:13:46.777Z"
   },
   {
    "duration": 186,
    "start_time": "2023-04-03T15:14:09.941Z"
   },
   {
    "duration": 183,
    "start_time": "2023-04-03T15:14:14.855Z"
   },
   {
    "duration": 8,
    "start_time": "2023-04-03T15:14:19.239Z"
   },
   {
    "duration": 88137,
    "start_time": "2023-04-03T15:14:25.593Z"
   },
   {
    "duration": 228,
    "start_time": "2023-04-03T15:16:00.835Z"
   },
   {
    "duration": 1096,
    "start_time": "2023-04-03T15:16:04.148Z"
   },
   {
    "duration": 1504,
    "start_time": "2023-04-03T15:16:21.884Z"
   },
   {
    "duration": 5939,
    "start_time": "2023-04-03T15:17:19.515Z"
   },
   {
    "duration": 21,
    "start_time": "2023-04-03T15:17:40.213Z"
   },
   {
    "duration": 585,
    "start_time": "2023-04-03T15:17:42.633Z"
   },
   {
    "duration": 254,
    "start_time": "2023-04-03T15:19:38.021Z"
   },
   {
    "duration": 654,
    "start_time": "2023-04-03T15:20:09.829Z"
   },
   {
    "duration": 37,
    "start_time": "2023-04-03T15:21:21.311Z"
   },
   {
    "duration": 8452,
    "start_time": "2023-04-03T15:21:27.981Z"
   },
   {
    "duration": 25,
    "start_time": "2023-04-03T15:21:39.921Z"
   },
   {
    "duration": 607,
    "start_time": "2023-04-03T15:21:44.284Z"
   },
   {
    "duration": 258,
    "start_time": "2023-04-03T15:23:03.920Z"
   },
   {
    "duration": 323,
    "start_time": "2023-04-03T15:23:59.855Z"
   },
   {
    "duration": 239,
    "start_time": "2023-04-03T15:24:55.948Z"
   },
   {
    "duration": 1322,
    "start_time": "2023-04-03T15:26:14.961Z"
   },
   {
    "duration": 138,
    "start_time": "2023-04-03T15:26:37.857Z"
   },
   {
    "duration": 332,
    "start_time": "2023-04-03T15:26:40.663Z"
   },
   {
    "duration": 91885,
    "start_time": "2023-04-03T15:26:46.745Z"
   },
   {
    "duration": 194,
    "start_time": "2023-04-03T15:28:45.651Z"
   },
   {
    "duration": 1257,
    "start_time": "2023-04-03T15:28:48.337Z"
   },
   {
    "duration": 6180,
    "start_time": "2023-04-03T15:28:56.698Z"
   },
   {
    "duration": 11,
    "start_time": "2023-04-03T15:29:08.257Z"
   },
   {
    "duration": 217,
    "start_time": "2023-04-03T15:29:13.300Z"
   },
   {
    "duration": 399,
    "start_time": "2023-04-03T15:30:18.804Z"
   },
   {
    "duration": 155,
    "start_time": "2023-04-03T15:34:51.952Z"
   },
   {
    "duration": 379,
    "start_time": "2023-04-03T15:35:00.441Z"
   },
   {
    "duration": 20,
    "start_time": "2023-04-03T15:35:46.241Z"
   },
   {
    "duration": 1683,
    "start_time": "2023-04-03T15:35:52.097Z"
   },
   {
    "duration": 6364,
    "start_time": "2023-04-03T15:36:02.785Z"
   },
   {
    "duration": 13,
    "start_time": "2023-04-03T15:36:12.220Z"
   },
   {
    "duration": 407,
    "start_time": "2023-04-03T15:36:17.016Z"
   },
   {
    "duration": 127,
    "start_time": "2023-04-03T15:50:54.396Z"
   },
   {
    "duration": 158,
    "start_time": "2023-04-03T15:51:08.669Z"
   },
   {
    "duration": 319,
    "start_time": "2023-04-03T15:51:36.186Z"
   },
   {
    "duration": 90931,
    "start_time": "2023-04-03T15:51:59.095Z"
   },
   {
    "duration": 171,
    "start_time": "2023-04-03T16:02:32.968Z"
   },
   {
    "duration": 159,
    "start_time": "2023-04-03T16:03:13.816Z"
   },
   {
    "duration": 135,
    "start_time": "2023-04-03T16:03:43.450Z"
   },
   {
    "duration": 271,
    "start_time": "2023-04-03T16:03:57.027Z"
   },
   {
    "duration": 185,
    "start_time": "2023-04-03T16:04:10.798Z"
   },
   {
    "duration": 7,
    "start_time": "2023-04-03T16:04:17.422Z"
   },
   {
    "duration": 83507,
    "start_time": "2023-04-03T16:04:21.820Z"
   },
   {
    "duration": 97,
    "start_time": "2023-04-03T16:05:45.330Z"
   },
   {
    "duration": 8,
    "start_time": "2023-04-03T16:14:21.836Z"
   },
   {
    "duration": 313902,
    "start_time": "2023-04-03T16:15:14.925Z"
   },
   {
    "duration": 69,
    "start_time": "2023-04-03T16:20:42.669Z"
   },
   {
    "duration": 12,
    "start_time": "2023-04-03T16:20:46.162Z"
   },
   {
    "duration": 1532,
    "start_time": "2023-04-03T16:20:51.580Z"
   },
   {
    "duration": 2039,
    "start_time": "2023-04-03T16:22:08.150Z"
   },
   {
    "duration": 84,
    "start_time": "2023-04-03T16:24:36.793Z"
   },
   {
    "duration": 1990,
    "start_time": "2023-04-03T16:24:38.719Z"
   },
   {
    "duration": 17,
    "start_time": "2023-04-03T16:25:11.051Z"
   },
   {
    "duration": 27990,
    "start_time": "2023-04-03T16:25:22.248Z"
   },
   {
    "duration": 13,
    "start_time": "2023-04-03T16:26:10.818Z"
   },
   {
    "duration": 398,
    "start_time": "2023-04-03T16:26:13.566Z"
   },
   {
    "duration": 287,
    "start_time": "2023-04-03T16:26:44.238Z"
   },
   {
    "duration": 269,
    "start_time": "2023-04-03T16:27:01.209Z"
   },
   {
    "duration": 253,
    "start_time": "2023-04-03T16:27:06.616Z"
   },
   {
    "duration": 219,
    "start_time": "2023-04-03T16:27:13.385Z"
   },
   {
    "duration": 272,
    "start_time": "2023-04-03T16:27:18.987Z"
   },
   {
    "duration": 243,
    "start_time": "2023-04-03T16:27:25.604Z"
   },
   {
    "duration": 277,
    "start_time": "2023-04-03T16:27:35.474Z"
   },
   {
    "duration": 282,
    "start_time": "2023-04-03T16:27:46.475Z"
   },
   {
    "duration": 339,
    "start_time": "2023-04-03T16:27:50.660Z"
   },
   {
    "duration": 394,
    "start_time": "2023-04-03T16:27:57.600Z"
   },
   {
    "duration": 373,
    "start_time": "2023-04-03T16:28:02.510Z"
   },
   {
    "duration": 9313,
    "start_time": "2023-04-03T16:28:13.369Z"
   },
   {
    "duration": 10963,
    "start_time": "2023-04-03T16:28:26.143Z"
   },
   {
    "duration": 12,
    "start_time": "2023-04-03T16:28:39.858Z"
   },
   {
    "duration": 373,
    "start_time": "2023-04-03T16:28:41.486Z"
   },
   {
    "duration": 11250,
    "start_time": "2023-04-03T16:30:05.222Z"
   },
   {
    "duration": 12,
    "start_time": "2023-04-03T16:30:29.700Z"
   },
   {
    "duration": 375,
    "start_time": "2023-04-03T16:30:31.773Z"
   },
   {
    "duration": 13,
    "start_time": "2023-04-03T16:33:38.791Z"
   },
   {
    "duration": 62,
    "start_time": "2023-04-03T16:33:46.858Z"
   },
   {
    "duration": 230083,
    "start_time": "2023-04-03T16:34:33.861Z"
   },
   {
    "duration": 14,
    "start_time": "2023-04-03T16:39:29.440Z"
   },
   {
    "duration": 1613,
    "start_time": "2023-04-03T16:39:32.258Z"
   },
   {
    "duration": 1598,
    "start_time": "2023-04-03T16:39:46.762Z"
   },
   {
    "duration": 1681,
    "start_time": "2023-04-03T16:39:59.658Z"
   },
   {
    "duration": 1312,
    "start_time": "2023-04-03T16:40:05.004Z"
   },
   {
    "duration": 1338,
    "start_time": "2023-04-03T16:40:08.078Z"
   },
   {
    "duration": 1466,
    "start_time": "2023-04-03T16:40:26.696Z"
   },
   {
    "duration": 1804,
    "start_time": "2023-04-03T19:23:24.956Z"
   },
   {
    "duration": 3,
    "start_time": "2023-04-03T19:23:26.762Z"
   },
   {
    "duration": 1823,
    "start_time": "2023-04-03T19:23:26.766Z"
   },
   {
    "duration": 8,
    "start_time": "2023-04-03T19:23:28.591Z"
   },
   {
    "duration": 11,
    "start_time": "2023-04-03T19:23:28.600Z"
   },
   {
    "duration": 101,
    "start_time": "2023-04-03T19:23:28.613Z"
   },
   {
    "duration": 65,
    "start_time": "2023-04-03T19:23:28.716Z"
   },
   {
    "duration": 68,
    "start_time": "2023-04-03T19:23:28.782Z"
   },
   {
    "duration": 80,
    "start_time": "2023-04-03T19:23:28.862Z"
   },
   {
    "duration": 314,
    "start_time": "2023-04-03T19:23:28.945Z"
   },
   {
    "duration": 10,
    "start_time": "2023-04-03T19:23:29.261Z"
   },
   {
    "duration": 19,
    "start_time": "2023-04-03T19:23:29.272Z"
   },
   {
    "duration": 371,
    "start_time": "2023-04-03T19:23:29.293Z"
   },
   {
    "duration": 8,
    "start_time": "2023-04-03T19:23:29.666Z"
   },
   {
    "duration": 122,
    "start_time": "2023-04-03T19:23:29.676Z"
   },
   {
    "duration": 237,
    "start_time": "2023-04-03T19:23:29.800Z"
   },
   {
    "duration": 5,
    "start_time": "2023-04-03T19:23:30.038Z"
   },
   {
    "duration": 48,
    "start_time": "2023-04-03T19:23:30.044Z"
   },
   {
    "duration": 401,
    "start_time": "2023-04-03T19:23:30.095Z"
   },
   {
    "duration": 778,
    "start_time": "2023-04-03T19:23:30.497Z"
   },
   {
    "duration": 40,
    "start_time": "2023-04-03T19:23:31.276Z"
   },
   {
    "duration": 403,
    "start_time": "2023-04-03T19:23:31.318Z"
   },
   {
    "duration": 449,
    "start_time": "2023-04-03T19:23:31.723Z"
   },
   {
    "duration": 424,
    "start_time": "2023-04-03T19:23:32.174Z"
   },
   {
    "duration": 450,
    "start_time": "2023-04-03T19:23:32.600Z"
   },
   {
    "duration": 820,
    "start_time": "2023-04-03T19:23:33.051Z"
   },
   {
    "duration": 6,
    "start_time": "2023-04-03T19:23:33.872Z"
   },
   {
    "duration": 6,
    "start_time": "2023-04-03T19:23:33.880Z"
   },
   {
    "duration": 121,
    "start_time": "2023-04-03T19:23:33.887Z"
   },
   {
    "duration": 624,
    "start_time": "2023-04-03T19:23:34.010Z"
   },
   {
    "duration": 143,
    "start_time": "2023-04-03T19:26:01.204Z"
   },
   {
    "duration": 17,
    "start_time": "2023-04-03T19:26:19.401Z"
   },
   {
    "duration": 271,
    "start_time": "2023-04-03T19:30:29.522Z"
   },
   {
    "duration": 280,
    "start_time": "2023-04-03T19:30:47.426Z"
   },
   {
    "duration": 133,
    "start_time": "2023-04-03T19:32:00.577Z"
   },
   {
    "duration": 334,
    "start_time": "2023-04-03T19:32:29.549Z"
   },
   {
    "duration": 123,
    "start_time": "2023-04-03T19:32:48.806Z"
   },
   {
    "duration": 181,
    "start_time": "2023-04-03T19:33:11.444Z"
   },
   {
    "duration": 8,
    "start_time": "2023-04-03T19:33:33.434Z"
   },
   {
    "duration": 430,
    "start_time": "2023-04-03T19:43:31.177Z"
   },
   {
    "duration": 337,
    "start_time": "2023-04-03T19:43:35.610Z"
   },
   {
    "duration": 23,
    "start_time": "2023-04-03T19:43:40.445Z"
   },
   {
    "duration": 335,
    "start_time": "2023-04-03T19:43:47.358Z"
   },
   {
    "duration": 347,
    "start_time": "2023-04-03T19:44:07.331Z"
   },
   {
    "duration": 8,
    "start_time": "2023-04-03T19:44:13.725Z"
   },
   {
    "duration": 514460,
    "start_time": "2023-04-03T19:44:17.610Z"
   },
   {
    "duration": 20,
    "start_time": "2023-04-03T19:53:31.269Z"
   },
   {
    "duration": 12666,
    "start_time": "2023-04-03T19:53:33.550Z"
   },
   {
    "duration": 12390,
    "start_time": "2023-04-03T19:55:38.755Z"
   },
   {
    "duration": 11,
    "start_time": "2023-04-03T19:56:30.531Z"
   },
   {
    "duration": 398,
    "start_time": "2023-04-03T19:56:34.128Z"
   },
   {
    "duration": 423,
    "start_time": "2023-04-03T19:56:55.495Z"
   },
   {
    "duration": 814,
    "start_time": "2023-04-03T19:57:20.695Z"
   },
   {
    "duration": 50,
    "start_time": "2023-04-03T19:58:00.429Z"
   },
   {
    "duration": 503,
    "start_time": "2023-04-03T19:58:04.057Z"
   },
   {
    "duration": 236766,
    "start_time": "2023-04-03T19:58:16.677Z"
   },
   {
    "duration": 236068,
    "start_time": "2023-04-03T20:11:16.941Z"
   },
   {
    "duration": 14,
    "start_time": "2023-04-03T20:19:34.862Z"
   },
   {
    "duration": 2136,
    "start_time": "2023-04-03T20:19:39.144Z"
   },
   {
    "duration": 10,
    "start_time": "2023-04-03T20:21:22.358Z"
   },
   {
    "duration": 14437,
    "start_time": "2023-04-03T20:21:54.625Z"
   },
   {
    "duration": 14555,
    "start_time": "2023-04-03T20:22:13.118Z"
   },
   {
    "duration": 18,
    "start_time": "2023-04-03T20:22:33.879Z"
   },
   {
    "duration": 14,
    "start_time": "2023-04-03T20:22:53.971Z"
   },
   {
    "duration": 478,
    "start_time": "2023-04-03T20:22:56.858Z"
   },
   {
    "duration": 218,
    "start_time": "2023-04-03T20:23:39.647Z"
   },
   {
    "duration": 499,
    "start_time": "2023-04-03T20:23:41.695Z"
   },
   {
    "duration": 294,
    "start_time": "2023-04-03T20:23:43.549Z"
   },
   {
    "duration": 10,
    "start_time": "2023-04-03T20:23:48.017Z"
   },
   {
    "duration": 335163,
    "start_time": "2023-04-03T20:24:09.636Z"
   },
   {
    "duration": 22,
    "start_time": "2023-04-03T20:31:13.553Z"
   },
   {
    "duration": 14,
    "start_time": "2023-04-03T20:31:19.703Z"
   },
   {
    "duration": 2638,
    "start_time": "2023-04-03T20:31:21.876Z"
   },
   {
    "duration": 13487,
    "start_time": "2023-04-03T20:32:15.344Z"
   },
   {
    "duration": 14,
    "start_time": "2023-04-03T20:35:30.068Z"
   },
   {
    "duration": 307,
    "start_time": "2023-04-03T20:35:33.906Z"
   },
   {
    "duration": 121969,
    "start_time": "2023-04-03T20:36:16.777Z"
   },
   {
    "duration": 240593,
    "start_time": "2023-04-03T20:38:22.892Z"
   },
   {
    "duration": 13,
    "start_time": "2023-04-03T20:42:37.689Z"
   },
   {
    "duration": 81,
    "start_time": "2023-04-03T20:42:39.342Z"
   },
   {
    "duration": 52,
    "start_time": "2023-04-03T20:43:04.748Z"
   },
   {
    "duration": 258,
    "start_time": "2023-04-03T20:43:14.649Z"
   },
   {
    "duration": 10,
    "start_time": "2023-04-03T20:46:05.637Z"
   },
   {
    "duration": 313944,
    "start_time": "2023-04-03T20:46:17.235Z"
   },
   {
    "duration": 57,
    "start_time": "2023-04-03T20:51:45.309Z"
   },
   {
    "duration": 15,
    "start_time": "2023-04-03T20:52:15.910Z"
   },
   {
    "duration": 15,
    "start_time": "2023-04-03T20:52:26.969Z"
   },
   {
    "duration": 1164,
    "start_time": "2023-04-03T20:52:34.114Z"
   },
   {
    "duration": 1117,
    "start_time": "2023-04-03T20:53:03.134Z"
   },
   {
    "duration": 68,
    "start_time": "2023-04-03T20:53:49.978Z"
   },
   {
    "duration": 1818,
    "start_time": "2023-04-03T20:53:53.607Z"
   },
   {
    "duration": 11727,
    "start_time": "2023-04-03T20:54:33.970Z"
   },
   {
    "duration": 11237,
    "start_time": "2023-04-03T20:54:52.608Z"
   },
   {
    "duration": 18,
    "start_time": "2023-04-03T20:55:11.261Z"
   },
   {
    "duration": 6731,
    "start_time": "2023-04-03T20:55:12.641Z"
   },
   {
    "duration": 313,
    "start_time": "2023-04-03T20:55:21.742Z"
   },
   {
    "duration": 12,
    "start_time": "2023-04-03T20:55:32.722Z"
   },
   {
    "duration": 345,
    "start_time": "2023-04-03T20:55:37.760Z"
   },
   {
    "duration": 223226,
    "start_time": "2023-04-03T20:56:08.577Z"
   },
   {
    "duration": 11,
    "start_time": "2023-04-03T21:00:00.431Z"
   },
   {
    "duration": 1288,
    "start_time": "2023-04-03T21:00:02.341Z"
   },
   {
    "duration": 95,
    "start_time": "2023-04-03T21:17:12.708Z"
   },
   {
    "duration": 45100,
    "start_time": "2023-04-03T21:17:30.129Z"
   },
   {
    "duration": 13,
    "start_time": "2023-04-03T21:18:24.927Z"
   },
   {
    "duration": 342,
    "start_time": "2023-04-03T21:18:27.612Z"
   },
   {
    "duration": 59,
    "start_time": "2023-04-03T21:18:46.868Z"
   },
   {
    "duration": 714123,
    "start_time": "2023-04-03T21:18:53.714Z"
   },
   {
    "duration": 12,
    "start_time": "2023-04-03T21:32:11.403Z"
   },
   {
    "duration": 1092,
    "start_time": "2023-04-03T21:32:13.188Z"
   },
   {
    "duration": 497674,
    "start_time": "2023-04-03T21:33:40.841Z"
   },
   {
    "duration": 11,
    "start_time": "2023-04-03T21:42:20.820Z"
   },
   {
    "duration": 901,
    "start_time": "2023-04-03T21:42:23.511Z"
   },
   {
    "duration": 64,
    "start_time": "2023-04-03T21:42:42.985Z"
   },
   {
    "duration": 934,
    "start_time": "2023-04-03T21:42:51.281Z"
   },
   {
    "duration": 148,
    "start_time": "2023-04-03T21:43:55.705Z"
   },
   {
    "duration": 338,
    "start_time": "2023-04-03T21:43:58.002Z"
   },
   {
    "duration": 201,
    "start_time": "2023-04-03T21:44:03.288Z"
   },
   {
    "duration": 76,
    "start_time": "2023-04-03T21:44:10.008Z"
   },
   {
    "duration": 46,
    "start_time": "2023-04-03T21:44:20.286Z"
   },
   {
    "duration": 1166,
    "start_time": "2023-04-03T21:44:24.687Z"
   },
   {
    "duration": 69,
    "start_time": "2023-04-03T21:45:29.180Z"
   },
   {
    "duration": 32701,
    "start_time": "2023-04-03T21:45:40.486Z"
   },
   {
    "duration": 11,
    "start_time": "2023-04-03T21:46:23.601Z"
   },
   {
    "duration": 355,
    "start_time": "2023-04-03T21:46:25.836Z"
   },
   {
    "duration": 43834,
    "start_time": "2023-04-03T21:47:22.585Z"
   },
   {
    "duration": 11,
    "start_time": "2023-04-03T21:48:14.485Z"
   },
   {
    "duration": 345,
    "start_time": "2023-04-03T21:48:16.546Z"
   },
   {
    "duration": 85,
    "start_time": "2023-04-03T21:48:56.500Z"
   },
   {
    "duration": 375647,
    "start_time": "2023-04-03T21:49:02.389Z"
   },
   {
    "duration": 11,
    "start_time": "2023-04-03T21:55:30.198Z"
   },
   {
    "duration": 925,
    "start_time": "2023-04-03T21:55:41.794Z"
   },
   {
    "duration": 7,
    "start_time": "2023-04-03T21:56:40.204Z"
   },
   {
    "duration": 289515,
    "start_time": "2023-04-03T21:56:47.461Z"
   },
   {
    "duration": 15,
    "start_time": "2023-04-03T22:02:03.353Z"
   },
   {
    "duration": 2588,
    "start_time": "2023-04-03T22:02:06.644Z"
   },
   {
    "duration": 32522,
    "start_time": "2023-04-03T22:02:44.021Z"
   },
   {
    "duration": 12,
    "start_time": "2023-04-03T22:03:30.686Z"
   },
   {
    "duration": 269,
    "start_time": "2023-04-03T22:03:33.233Z"
   },
   {
    "duration": 373261,
    "start_time": "2023-04-03T22:03:49.252Z"
   },
   {
    "duration": 10,
    "start_time": "2023-04-03T22:10:58.334Z"
   },
   {
    "duration": 222,
    "start_time": "2023-04-03T22:10:59.987Z"
   },
   {
    "duration": 7,
    "start_time": "2023-04-03T22:11:12.752Z"
   },
   {
    "duration": 6,
    "start_time": "2023-04-03T22:11:17.508Z"
   },
   {
    "duration": 301877,
    "start_time": "2023-04-03T22:11:34.892Z"
   },
   {
    "duration": 4,
    "start_time": "2023-04-03T22:17:48.335Z"
   },
   {
    "duration": 5,
    "start_time": "2023-04-03T22:17:51.102Z"
   },
   {
    "duration": 4,
    "start_time": "2023-04-03T22:17:56.912Z"
   },
   {
    "duration": 4,
    "start_time": "2023-04-03T22:17:59.985Z"
   },
   {
    "duration": 9,
    "start_time": "2023-04-03T22:18:15.545Z"
   },
   {
    "duration": 13,
    "start_time": "2023-04-03T22:18:39.840Z"
   },
   {
    "duration": 12,
    "start_time": "2023-04-03T22:18:46.746Z"
   },
   {
    "duration": 59,
    "start_time": "2023-04-03T22:18:57.688Z"
   },
   {
    "duration": 15,
    "start_time": "2023-04-03T22:19:01.822Z"
   },
   {
    "duration": 6,
    "start_time": "2023-04-03T22:19:17.536Z"
   },
   {
    "duration": 13,
    "start_time": "2023-04-03T22:19:29.791Z"
   },
   {
    "duration": 12,
    "start_time": "2023-04-03T22:19:43.794Z"
   },
   {
    "duration": 31386,
    "start_time": "2023-04-03T22:20:00.377Z"
   },
   {
    "duration": 4,
    "start_time": "2023-04-03T22:20:40.182Z"
   },
   {
    "duration": 12,
    "start_time": "2023-04-03T22:20:50.720Z"
   },
   {
    "duration": 4,
    "start_time": "2023-04-03T22:20:57.898Z"
   },
   {
    "duration": 5,
    "start_time": "2023-04-03T22:23:49.274Z"
   },
   {
    "duration": 313,
    "start_time": "2023-04-03T22:24:22.376Z"
   },
   {
    "duration": 52,
    "start_time": "2023-04-03T22:24:40.359Z"
   },
   {
    "duration": 815,
    "start_time": "2023-04-03T22:24:48.591Z"
   },
   {
    "duration": 1465,
    "start_time": "2023-04-03T22:25:15.950Z"
   },
   {
    "duration": 32136,
    "start_time": "2023-04-03T22:25:30.406Z"
   },
   {
    "duration": 322,
    "start_time": "2023-04-03T22:26:27.406Z"
   },
   {
    "duration": 364262,
    "start_time": "2023-04-03T22:26:38.310Z"
   },
   {
    "duration": 925,
    "start_time": "2023-04-03T22:33:24.997Z"
   },
   {
    "duration": 1685,
    "start_time": "2023-04-03T22:34:29.937Z"
   },
   {
    "duration": 283396,
    "start_time": "2023-04-03T22:34:42.374Z"
   },
   {
    "duration": 1481,
    "start_time": "2023-04-03T22:39:56.024Z"
   },
   {
    "duration": 63250,
    "start_time": "2023-04-03T22:42:15.528Z"
   },
   {
    "duration": 79,
    "start_time": "2023-04-03T22:43:52.730Z"
   },
   {
    "duration": 2881,
    "start_time": "2023-04-03T22:44:14.557Z"
   },
   {
    "duration": 1893,
    "start_time": "2023-04-03T22:44:24.914Z"
   },
   {
    "duration": 7,
    "start_time": "2023-04-03T22:48:03.331Z"
   },
   {
    "duration": 4,
    "start_time": "2023-04-03T22:56:11.654Z"
   },
   {
    "duration": 146,
    "start_time": "2023-04-03T23:08:38.961Z"
   },
   {
    "duration": 123,
    "start_time": "2023-04-03T23:10:18.703Z"
   },
   {
    "duration": 148,
    "start_time": "2023-04-03T23:10:52.833Z"
   },
   {
    "duration": 162,
    "start_time": "2023-04-03T23:11:25.454Z"
   },
   {
    "duration": 163,
    "start_time": "2023-04-03T23:13:09.512Z"
   },
   {
    "duration": 1811,
    "start_time": "2023-04-03T23:14:34.413Z"
   },
   {
    "duration": 1429,
    "start_time": "2023-04-03T23:15:02.601Z"
   },
   {
    "duration": 850,
    "start_time": "2023-04-03T23:45:01.196Z"
   },
   {
    "duration": 1201,
    "start_time": "2023-04-03T23:45:54.293Z"
   },
   {
    "duration": 1141,
    "start_time": "2023-04-03T23:46:39.774Z"
   },
   {
    "duration": 1173,
    "start_time": "2023-04-03T23:46:53.374Z"
   },
   {
    "duration": 7,
    "start_time": "2023-04-03T23:46:59.728Z"
   },
   {
    "duration": 1138,
    "start_time": "2023-04-03T23:47:57.788Z"
   },
   {
    "duration": 10,
    "start_time": "2023-04-04T00:25:03.425Z"
   },
   {
    "duration": 13,
    "start_time": "2023-04-04T00:26:01.428Z"
   },
   {
    "duration": 13,
    "start_time": "2023-04-04T00:26:46.687Z"
   },
   {
    "duration": 15,
    "start_time": "2023-04-04T00:27:25.442Z"
   },
   {
    "duration": 8,
    "start_time": "2023-04-04T00:27:28.482Z"
   },
   {
    "duration": 12,
    "start_time": "2023-04-04T00:28:28.127Z"
   },
   {
    "duration": 13,
    "start_time": "2023-04-04T00:28:31.583Z"
   },
   {
    "duration": 816,
    "start_time": "2023-04-04T00:31:54.080Z"
   },
   {
    "duration": 311,
    "start_time": "2023-04-04T00:32:11.271Z"
   },
   {
    "duration": 300,
    "start_time": "2023-04-04T00:32:26.190Z"
   },
   {
    "duration": 800,
    "start_time": "2023-04-04T00:32:48.029Z"
   },
   {
    "duration": 833,
    "start_time": "2023-04-04T00:32:54.508Z"
   },
   {
    "duration": 13,
    "start_time": "2023-04-04T00:33:04.450Z"
   },
   {
    "duration": 948,
    "start_time": "2023-04-04T00:33:56.228Z"
   },
   {
    "duration": 858,
    "start_time": "2023-04-04T00:34:01.226Z"
   },
   {
    "duration": 8,
    "start_time": "2023-04-04T00:34:22.823Z"
   },
   {
    "duration": 140,
    "start_time": "2023-04-04T00:36:28.176Z"
   },
   {
    "duration": 85,
    "start_time": "2023-04-04T00:36:39.283Z"
   },
   {
    "duration": 116,
    "start_time": "2023-04-04T00:36:46.214Z"
   },
   {
    "duration": 13,
    "start_time": "2023-04-04T00:36:58.100Z"
   },
   {
    "duration": 9,
    "start_time": "2023-04-04T00:37:03.503Z"
   },
   {
    "duration": 14,
    "start_time": "2023-04-04T00:37:35.794Z"
   },
   {
    "duration": 12,
    "start_time": "2023-04-04T00:37:50.565Z"
   },
   {
    "duration": 129,
    "start_time": "2023-04-04T00:38:26.093Z"
   },
   {
    "duration": 111,
    "start_time": "2023-04-04T00:39:33.729Z"
   },
   {
    "duration": 116,
    "start_time": "2023-04-04T00:40:28.502Z"
   },
   {
    "duration": 173,
    "start_time": "2023-04-04T00:40:35.159Z"
   },
   {
    "duration": 144,
    "start_time": "2023-04-04T00:41:51.738Z"
   },
   {
    "duration": 233,
    "start_time": "2023-04-04T00:42:10.614Z"
   },
   {
    "duration": 14,
    "start_time": "2023-04-04T00:42:47.720Z"
   },
   {
    "duration": 276,
    "start_time": "2023-04-04T00:42:58.554Z"
   },
   {
    "duration": 360,
    "start_time": "2023-04-04T00:43:16.834Z"
   },
   {
    "duration": 265,
    "start_time": "2023-04-04T00:43:23.648Z"
   },
   {
    "duration": 326,
    "start_time": "2023-04-04T00:44:27.799Z"
   },
   {
    "duration": 202,
    "start_time": "2023-04-04T00:44:38.589Z"
   },
   {
    "duration": 191,
    "start_time": "2023-04-04T00:44:41.914Z"
   },
   {
    "duration": 210,
    "start_time": "2023-04-04T00:44:54.661Z"
   },
   {
    "duration": 215,
    "start_time": "2023-04-04T00:44:57.500Z"
   },
   {
    "duration": 206,
    "start_time": "2023-04-04T00:45:33.026Z"
   },
   {
    "duration": 198,
    "start_time": "2023-04-04T00:45:35.742Z"
   },
   {
    "duration": 29606,
    "start_time": "2023-04-04T01:44:27.529Z"
   },
   {
    "duration": 46,
    "start_time": "2023-04-04T12:32:25.211Z"
   },
   {
    "duration": 1588,
    "start_time": "2023-04-04T12:32:29.847Z"
   },
   {
    "duration": 3,
    "start_time": "2023-04-04T12:32:31.436Z"
   },
   {
    "duration": 672,
    "start_time": "2023-04-04T12:32:31.441Z"
   },
   {
    "duration": 6,
    "start_time": "2023-04-04T12:32:32.115Z"
   },
   {
    "duration": 31,
    "start_time": "2023-04-04T12:32:32.123Z"
   },
   {
    "duration": 121,
    "start_time": "2023-04-04T12:32:32.155Z"
   },
   {
    "duration": 54,
    "start_time": "2023-04-04T12:32:32.277Z"
   },
   {
    "duration": 72,
    "start_time": "2023-04-04T12:32:32.332Z"
   },
   {
    "duration": 78,
    "start_time": "2023-04-04T12:32:32.405Z"
   },
   {
    "duration": 253,
    "start_time": "2023-04-04T12:32:32.486Z"
   },
   {
    "duration": 9,
    "start_time": "2023-04-04T12:32:32.741Z"
   },
   {
    "duration": 27,
    "start_time": "2023-04-04T12:32:32.751Z"
   },
   {
    "duration": 214,
    "start_time": "2023-04-04T12:32:32.779Z"
   },
   {
    "duration": 7,
    "start_time": "2023-04-04T12:32:32.995Z"
   },
   {
    "duration": 175,
    "start_time": "2023-04-04T12:32:33.003Z"
   },
   {
    "duration": 229,
    "start_time": "2023-04-04T12:32:33.180Z"
   },
   {
    "duration": 5,
    "start_time": "2023-04-04T12:32:33.411Z"
   },
   {
    "duration": 41,
    "start_time": "2023-04-04T12:32:33.418Z"
   },
   {
    "duration": 346,
    "start_time": "2023-04-04T12:32:33.460Z"
   },
   {
    "duration": 631,
    "start_time": "2023-04-04T12:32:33.807Z"
   },
   {
    "duration": 36,
    "start_time": "2023-04-04T12:32:34.439Z"
   },
   {
    "duration": 376,
    "start_time": "2023-04-04T12:32:34.477Z"
   },
   {
    "duration": 367,
    "start_time": "2023-04-04T12:32:34.855Z"
   },
   {
    "duration": 353,
    "start_time": "2023-04-04T12:32:35.223Z"
   },
   {
    "duration": 370,
    "start_time": "2023-04-04T12:32:35.577Z"
   },
   {
    "duration": 652,
    "start_time": "2023-04-04T12:32:35.949Z"
   },
   {
    "duration": 5,
    "start_time": "2023-04-04T12:32:36.603Z"
   },
   {
    "duration": 10,
    "start_time": "2023-04-04T12:32:36.610Z"
   },
   {
    "duration": 106,
    "start_time": "2023-04-04T12:32:36.621Z"
   },
   {
    "duration": 543,
    "start_time": "2023-04-04T12:32:36.729Z"
   },
   {
    "duration": 140,
    "start_time": "2023-04-04T12:32:37.274Z"
   },
   {
    "duration": 265,
    "start_time": "2023-04-04T12:32:37.415Z"
   },
   {
    "duration": 163,
    "start_time": "2023-04-04T12:32:37.681Z"
   },
   {
    "duration": 73,
    "start_time": "2023-04-04T12:32:40.200Z"
   },
   {
    "duration": 7,
    "start_time": "2023-04-04T12:33:54.559Z"
   },
   {
    "duration": 7,
    "start_time": "2023-04-04T12:49:31.692Z"
   },
   {
    "duration": 246156,
    "start_time": "2023-04-04T12:51:01.949Z"
   },
   {
    "duration": 257605,
    "start_time": "2023-04-04T12:55:34.749Z"
   },
   {
    "duration": 28817,
    "start_time": "2023-04-04T13:03:18.007Z"
   },
   {
    "duration": 87014,
    "start_time": "2023-04-04T13:07:33.601Z"
   },
   {
    "duration": 993946,
    "start_time": "2023-04-04T13:15:04.054Z"
   },
   {
    "duration": 653,
    "start_time": "2023-04-04T13:35:04.089Z"
   },
   {
    "duration": 768,
    "start_time": "2023-04-04T13:35:17.651Z"
   },
   {
    "duration": 1133,
    "start_time": "2023-04-04T13:36:27.045Z"
   },
   {
    "duration": 182,
    "start_time": "2023-04-04T13:50:34.241Z"
   }
  ],
  "kernelspec": {
   "display_name": "Python 3 (ipykernel)",
   "language": "python",
   "name": "python3"
  },
  "language_info": {
   "codemirror_mode": {
    "name": "ipython",
    "version": 3
   },
   "file_extension": ".py",
   "mimetype": "text/x-python",
   "name": "python",
   "nbconvert_exporter": "python",
   "pygments_lexer": "ipython3",
   "version": "3.11.5"
  },
  "toc": {
   "base_numbering": 1,
   "nav_menu": {
    "height": "232px",
    "width": "263px"
   },
   "number_sections": true,
   "sideBar": true,
   "skip_h1_title": true,
   "title_cell": "Table of Contents",
   "title_sidebar": "Contents",
   "toc_cell": false,
   "toc_position": {},
   "toc_section_display": true,
   "toc_window_display": false
  }
 },
 "nbformat": 4,
 "nbformat_minor": 4
}
