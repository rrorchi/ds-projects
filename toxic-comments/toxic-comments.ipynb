{
 "cells": [
  {
   "cell_type": "markdown",
   "metadata": {},
   "source": [
    "# Проект для «Викишоп»"
   ]
  },
  {
   "cell_type": "code",
   "execution_count": 1,
   "metadata": {},
   "outputs": [
    {
     "name": "stderr",
     "output_type": "stream",
     "text": [
      "[nltk_data] Downloading package stopwords to\n",
      "[nltk_data]     C:\\Users\\user\\AppData\\Roaming\\nltk_data...\n",
      "[nltk_data]   Package stopwords is already up-to-date!\n"
     ]
    }
   ],
   "source": [
    "import pandas as pd\n",
    "import numpy as np\n",
    "from tqdm import tqdm\n",
    "\n",
    "import re\n",
    "import spacy\n",
    "import nltk\n",
    "nltk.download('stopwords')\n",
    "from nltk.corpus import stopwords as nltk_stopwords\n",
    "\n",
    "from imblearn.pipeline import Pipeline, make_pipeline\n",
    "from imblearn.over_sampling import SMOTE\n",
    "\n",
    "from sklearn.feature_extraction.text import TfidfVectorizer\n",
    "from sklearn.model_selection import train_test_split, cross_validate, GridSearchCV\n",
    "from sklearn.metrics import f1_score, ConfusionMatrixDisplay\n",
    "\n",
    "from sklearn.linear_model import LogisticRegression, SGDClassifier, Perceptron\n",
    "from sklearn.svm import LinearSVC\n",
    "\n",
    "import warnings\n",
    "from sklearn.exceptions import ConvergenceWarning\n",
    "warnings.filterwarnings(\"ignore\", category=ConvergenceWarning)\n",
    "\n",
    "SEED = 42"
   ]
  },
  {
   "cell_type": "markdown",
   "metadata": {},
   "source": [
    "## Подготовка"
   ]
  },
  {
   "cell_type": "markdown",
   "metadata": {},
   "source": [
    "### Загрузка данных"
   ]
  },
  {
   "cell_type": "code",
   "execution_count": 2,
   "metadata": {},
   "outputs": [
    {
     "name": "stdout",
     "output_type": "stream",
     "text": [
      "<class 'pandas.core.frame.DataFrame'>\n",
      "RangeIndex: 159292 entries, 0 to 159291\n",
      "Data columns (total 3 columns):\n",
      " #   Column      Non-Null Count   Dtype \n",
      "---  ------      --------------   ----- \n",
      " 0   Unnamed: 0  159292 non-null  int64 \n",
      " 1   text        159292 non-null  object\n",
      " 2   toxic       159292 non-null  int64 \n",
      "dtypes: int64(2), object(1)\n",
      "memory usage: 3.6+ MB\n",
      "None\n"
     ]
    },
    {
     "data": {
      "text/html": [
       "<div>\n",
       "<style scoped>\n",
       "    .dataframe tbody tr th:only-of-type {\n",
       "        vertical-align: middle;\n",
       "    }\n",
       "\n",
       "    .dataframe tbody tr th {\n",
       "        vertical-align: top;\n",
       "    }\n",
       "\n",
       "    .dataframe thead th {\n",
       "        text-align: right;\n",
       "    }\n",
       "</style>\n",
       "<table border=\"1\" class=\"dataframe\">\n",
       "  <thead>\n",
       "    <tr style=\"text-align: right;\">\n",
       "      <th></th>\n",
       "      <th>Unnamed: 0</th>\n",
       "      <th>text</th>\n",
       "      <th>toxic</th>\n",
       "    </tr>\n",
       "  </thead>\n",
       "  <tbody>\n",
       "    <tr>\n",
       "      <th>159287</th>\n",
       "      <td>159446</td>\n",
       "      <td>\":::::And for the second time of asking, when ...</td>\n",
       "      <td>0</td>\n",
       "    </tr>\n",
       "    <tr>\n",
       "      <th>159288</th>\n",
       "      <td>159447</td>\n",
       "      <td>You should be ashamed of yourself \\n\\nThat is ...</td>\n",
       "      <td>0</td>\n",
       "    </tr>\n",
       "    <tr>\n",
       "      <th>159289</th>\n",
       "      <td>159448</td>\n",
       "      <td>Spitzer \\n\\nUmm, theres no actual article for ...</td>\n",
       "      <td>0</td>\n",
       "    </tr>\n",
       "    <tr>\n",
       "      <th>159290</th>\n",
       "      <td>159449</td>\n",
       "      <td>And it looks like it was actually you who put ...</td>\n",
       "      <td>0</td>\n",
       "    </tr>\n",
       "    <tr>\n",
       "      <th>159291</th>\n",
       "      <td>159450</td>\n",
       "      <td>\"\\nAnd ... I really don't think you understand...</td>\n",
       "      <td>0</td>\n",
       "    </tr>\n",
       "  </tbody>\n",
       "</table>\n",
       "</div>"
      ],
      "text/plain": [
       "        Unnamed: 0                                               text  toxic\n",
       "159287      159446  \":::::And for the second time of asking, when ...      0\n",
       "159288      159447  You should be ashamed of yourself \\n\\nThat is ...      0\n",
       "159289      159448  Spitzer \\n\\nUmm, theres no actual article for ...      0\n",
       "159290      159449  And it looks like it was actually you who put ...      0\n",
       "159291      159450  \"\\nAnd ... I really don't think you understand...      0"
      ]
     },
     "execution_count": 2,
     "metadata": {},
     "output_type": "execute_result"
    }
   ],
   "source": [
    "df = pd.read_csv('https://code.s3.yandex.net/datasets/toxic_comments.csv')\n",
    "print(df.info())\n",
    "df.tail()"
   ]
  },
  {
   "cell_type": "markdown",
   "metadata": {},
   "source": [
    "В таблице `toxic_comments` 159292 записи и три столбца: с номером комментария, текстом и отметкой о токсичности. Столбец с номером не нужен - для упорядочивания в таблице есть индексы."
   ]
  },
  {
   "cell_type": "code",
   "execution_count": 3,
   "metadata": {},
   "outputs": [
    {
     "data": {
      "text/html": [
       "<div>\n",
       "<style scoped>\n",
       "    .dataframe tbody tr th:only-of-type {\n",
       "        vertical-align: middle;\n",
       "    }\n",
       "\n",
       "    .dataframe tbody tr th {\n",
       "        vertical-align: top;\n",
       "    }\n",
       "\n",
       "    .dataframe thead th {\n",
       "        text-align: right;\n",
       "    }\n",
       "</style>\n",
       "<table border=\"1\" class=\"dataframe\">\n",
       "  <thead>\n",
       "    <tr style=\"text-align: right;\">\n",
       "      <th></th>\n",
       "      <th>text</th>\n",
       "      <th>toxic</th>\n",
       "    </tr>\n",
       "  </thead>\n",
       "  <tbody>\n",
       "    <tr>\n",
       "      <th>159289</th>\n",
       "      <td>Spitzer \\n\\nUmm, theres no actual article for ...</td>\n",
       "      <td>0</td>\n",
       "    </tr>\n",
       "    <tr>\n",
       "      <th>159290</th>\n",
       "      <td>And it looks like it was actually you who put ...</td>\n",
       "      <td>0</td>\n",
       "    </tr>\n",
       "    <tr>\n",
       "      <th>159291</th>\n",
       "      <td>\"\\nAnd ... I really don't think you understand...</td>\n",
       "      <td>0</td>\n",
       "    </tr>\n",
       "  </tbody>\n",
       "</table>\n",
       "</div>"
      ],
      "text/plain": [
       "                                                     text  toxic\n",
       "159289  Spitzer \\n\\nUmm, theres no actual article for ...      0\n",
       "159290  And it looks like it was actually you who put ...      0\n",
       "159291  \"\\nAnd ... I really don't think you understand...      0"
      ]
     },
     "metadata": {},
     "output_type": "display_data"
    },
    {
     "name": "stdout",
     "output_type": "stream",
     "text": [
      "Дубликаты: 0\n"
     ]
    }
   ],
   "source": [
    "df = df.drop('Unnamed: 0', axis=1)\n",
    "display(df.tail(3))\n",
    "print('Дубликаты:', df.duplicated().sum())"
   ]
  },
  {
   "cell_type": "markdown",
   "metadata": {},
   "source": [
    "Удалили столбец с номером. Поискали дубликаты - в таблице их нет."
   ]
  },
  {
   "cell_type": "code",
   "execution_count": 4,
   "metadata": {},
   "outputs": [
    {
     "data": {
      "text/plain": [
       "toxic\n",
       "0    143106\n",
       "1     16186\n",
       "Name: count, dtype: int64"
      ]
     },
     "execution_count": 4,
     "metadata": {},
     "output_type": "execute_result"
    }
   ],
   "source": [
    "df['toxic'].value_counts()"
   ]
  },
  {
   "cell_type": "markdown",
   "metadata": {},
   "source": [
    "Токсичных комментариев почти в 10 раз меньше, чем обычных. Модель обучится лучше, когда классы будут сбалансированы. Это можно сделать несколькими способами: при обучении придать больший вес для малочисленного класса, или уравнять количество комментариев разных классов."
   ]
  },
  {
   "cell_type": "markdown",
   "metadata": {},
   "source": [
    "### Очистка текстов"
   ]
  },
  {
   "cell_type": "markdown",
   "metadata": {},
   "source": [
    "Выберем несколько комментариев для разбора:"
   ]
  },
  {
   "cell_type": "code",
   "execution_count": 5,
   "metadata": {},
   "outputs": [
    {
     "name": "stdout",
     "output_type": "stream",
     "text": [
      "\n",
      " D'aww! He matches this background colour I'm seemingly stuck with. Thanks.  (talk) 21:51, January 11, 2016 (UTC) \n",
      " _______________________\n",
      "\n",
      " \"\n",
      "\n",
      "Congratulations from me as well, use the tools well.  · talk \" \n",
      " _______________________\n",
      "\n",
      " Hey... what is it..\n",
      "@ | talk .\n",
      "What is it... an exclusive group of some WP TALIBANS...who are good at destroying, self-appointed purist who GANG UP any one who asks them questions abt their ANTI-SOCIAL and DESTRUCTIVE (non)-contribution at WP?\n",
      "\n",
      "Ask Sityush to clean up his behavior than issue me nonsensical warnings... \n",
      " _______________________\n",
      "\n",
      " You are gay or antisemmitian? \n",
      "\n",
      "Archangel WHite Tiger\n",
      "\n",
      "Meow! Greetingshhh!\n",
      "\n",
      "Uh, there are two ways, why you do erased my comment about WW2, that holocaust was brutally slaying of Jews and not gays/Gypsys/Slavs/anyone...\n",
      "\n",
      "1 - If you are anti-semitian, than shave your head bald and go to the skinhead meetings!\n",
      "\n",
      "2 - If you doubt words of the Bible, that homosexuality is a deadly sin, make a pentagram tatoo on your forehead go to the satanistic masses with your gay pals!\n",
      "\n",
      "3 - First and last warning, you fucking gay - I won't appreciate if any more nazi shwain would write in my page! I don't wish to talk to you anymore!\n",
      "\n",
      "Beware of the Dark Side! \n",
      " _______________________\n",
      "\n",
      " I just went to the user page and cannot find this icon, nor is the connotation {Reviewer topicon} anywhere in my writing. What are you seeing that I am not? \n",
      " _______________________\n"
     ]
    }
   ],
   "source": [
    "for n in [1, 5, 12, 42, 1354]:\n",
    "    print('\\n', df['text'][n], '\\n _______________________')"
   ]
  },
  {
   "cell_type": "markdown",
   "metadata": {},
   "source": [
    "В текстах встречаются ссылки, разные символы, уточнения в скобках, некоторые тексты имеют заголовки. Текст в скобках и в заголовках нужно оставить, а ссылки удалить, ведь в них нет полезной информации о комментарии. Также в текстах есть слова, которые не несут информации о комментарии, вроде местоимений, предлогов и связующих слов. Напишем функцию, которая уберет ссылки, одиночные буквы и стоп-слова, и применим ее:"
   ]
  },
  {
   "cell_type": "code",
   "execution_count": 6,
   "metadata": {},
   "outputs": [
    {
     "name": "stderr",
     "output_type": "stream",
     "text": [
      "100%|████████████████████████████████████████████████████████████████████████| 159292/159292 [00:21<00:00, 7401.11it/s]\n"
     ]
    },
    {
     "data": {
      "text/html": [
       "<div>\n",
       "<style scoped>\n",
       "    .dataframe tbody tr th:only-of-type {\n",
       "        vertical-align: middle;\n",
       "    }\n",
       "\n",
       "    .dataframe tbody tr th {\n",
       "        vertical-align: top;\n",
       "    }\n",
       "\n",
       "    .dataframe thead th {\n",
       "        text-align: right;\n",
       "    }\n",
       "</style>\n",
       "<table border=\"1\" class=\"dataframe\">\n",
       "  <thead>\n",
       "    <tr style=\"text-align: right;\">\n",
       "      <th></th>\n",
       "      <th>text</th>\n",
       "      <th>toxic</th>\n",
       "      <th>re_text</th>\n",
       "    </tr>\n",
       "  </thead>\n",
       "  <tbody>\n",
       "    <tr>\n",
       "      <th>0</th>\n",
       "      <td>Explanation\\nWhy the edits made under my usern...</td>\n",
       "      <td>0</td>\n",
       "      <td>explanation edits made username hardcore metal...</td>\n",
       "    </tr>\n",
       "    <tr>\n",
       "      <th>1</th>\n",
       "      <td>D'aww! He matches this background colour I'm s...</td>\n",
       "      <td>0</td>\n",
       "      <td>aww matches background colour seemingly stuck ...</td>\n",
       "    </tr>\n",
       "    <tr>\n",
       "      <th>2</th>\n",
       "      <td>Hey man, I'm really not trying to edit war. It...</td>\n",
       "      <td>0</td>\n",
       "      <td>hey man really trying edit war guy constantly ...</td>\n",
       "    </tr>\n",
       "    <tr>\n",
       "      <th>3</th>\n",
       "      <td>\"\\nMore\\nI can't make any real suggestions on ...</td>\n",
       "      <td>0</td>\n",
       "      <td>make real suggestions improvement wondered sec...</td>\n",
       "    </tr>\n",
       "    <tr>\n",
       "      <th>4</th>\n",
       "      <td>You, sir, are my hero. Any chance you remember...</td>\n",
       "      <td>0</td>\n",
       "      <td>sir hero chance remember page</td>\n",
       "    </tr>\n",
       "  </tbody>\n",
       "</table>\n",
       "</div>"
      ],
      "text/plain": [
       "                                                text  toxic  \\\n",
       "0  Explanation\\nWhy the edits made under my usern...      0   \n",
       "1  D'aww! He matches this background colour I'm s...      0   \n",
       "2  Hey man, I'm really not trying to edit war. It...      0   \n",
       "3  \"\\nMore\\nI can't make any real suggestions on ...      0   \n",
       "4  You, sir, are my hero. Any chance you remember...      0   \n",
       "\n",
       "                                             re_text  \n",
       "0  explanation edits made username hardcore metal...  \n",
       "1  aww matches background colour seemingly stuck ...  \n",
       "2  hey man really trying edit war guy constantly ...  \n",
       "3  make real suggestions improvement wondered sec...  \n",
       "4                      sir hero chance remember page  "
      ]
     },
     "execution_count": 6,
     "metadata": {},
     "output_type": "execute_result"
    }
   ],
   "source": [
    "stopwords = list(nltk_stopwords.words('english'))\n",
    "\n",
    "def clear_text(text):\n",
    "    return ' '.join(filter(lambda s: s not in stopwords, # убираем стоп-слова\n",
    "                        re.sub(r'\\b\\w\\b', ' ',  # убираем отдельные буквы\n",
    "                        re.sub(r'[^a-zA-Z ]', ' ',  # удаляем цифры и прочие символы\n",
    "                        re.sub(r'\\w+:\\w*/\\S+', ' ', text))) # удаляем ссылки\n",
    "                        .lower().split()\n",
    "                    ))\n",
    "\n",
    "tqdm.pandas(position=0)\n",
    "df['re_text'] = df['text'].progress_apply(clear_text);\n",
    "df.head()"
   ]
  },
  {
   "cell_type": "markdown",
   "metadata": {},
   "source": [
    "Дальше все слова нужно привести к начальной форме - в текстах, конечно же, используются слова в разных формах, но эффективнее будет обучать модель на одной форме, вместо нескольких разных. Проведем лемматизацию:"
   ]
  },
  {
   "cell_type": "code",
   "execution_count": 7,
   "metadata": {},
   "outputs": [
    {
     "name": "stderr",
     "output_type": "stream",
     "text": [
      "100%|█████████████████████████████████████████████████████████████████████████| 159292/159292 [24:35<00:00, 107.97it/s]\n"
     ]
    },
    {
     "data": {
      "text/html": [
       "<div>\n",
       "<style scoped>\n",
       "    .dataframe tbody tr th:only-of-type {\n",
       "        vertical-align: middle;\n",
       "    }\n",
       "\n",
       "    .dataframe tbody tr th {\n",
       "        vertical-align: top;\n",
       "    }\n",
       "\n",
       "    .dataframe thead th {\n",
       "        text-align: right;\n",
       "    }\n",
       "</style>\n",
       "<table border=\"1\" class=\"dataframe\">\n",
       "  <thead>\n",
       "    <tr style=\"text-align: right;\">\n",
       "      <th></th>\n",
       "      <th>text</th>\n",
       "      <th>toxic</th>\n",
       "      <th>re_text</th>\n",
       "      <th>lemm_text</th>\n",
       "    </tr>\n",
       "  </thead>\n",
       "  <tbody>\n",
       "    <tr>\n",
       "      <th>0</th>\n",
       "      <td>Explanation\\nWhy the edits made under my usern...</td>\n",
       "      <td>0</td>\n",
       "      <td>explanation edits made username hardcore metal...</td>\n",
       "      <td>explanation edit make username hardcore metall...</td>\n",
       "    </tr>\n",
       "    <tr>\n",
       "      <th>1</th>\n",
       "      <td>D'aww! He matches this background colour I'm s...</td>\n",
       "      <td>0</td>\n",
       "      <td>aww matches background colour seemingly stuck ...</td>\n",
       "      <td>aww match background colour seemingly stuck th...</td>\n",
       "    </tr>\n",
       "    <tr>\n",
       "      <th>2</th>\n",
       "      <td>Hey man, I'm really not trying to edit war. It...</td>\n",
       "      <td>0</td>\n",
       "      <td>hey man really trying edit war guy constantly ...</td>\n",
       "      <td>hey man really try edit war guy constantly rem...</td>\n",
       "    </tr>\n",
       "    <tr>\n",
       "      <th>3</th>\n",
       "      <td>\"\\nMore\\nI can't make any real suggestions on ...</td>\n",
       "      <td>0</td>\n",
       "      <td>make real suggestions improvement wondered sec...</td>\n",
       "      <td>make real suggestion improvement wonder sectio...</td>\n",
       "    </tr>\n",
       "    <tr>\n",
       "      <th>4</th>\n",
       "      <td>You, sir, are my hero. Any chance you remember...</td>\n",
       "      <td>0</td>\n",
       "      <td>sir hero chance remember page</td>\n",
       "      <td>sir hero chance remember page</td>\n",
       "    </tr>\n",
       "  </tbody>\n",
       "</table>\n",
       "</div>"
      ],
      "text/plain": [
       "                                                text  toxic  \\\n",
       "0  Explanation\\nWhy the edits made under my usern...      0   \n",
       "1  D'aww! He matches this background colour I'm s...      0   \n",
       "2  Hey man, I'm really not trying to edit war. It...      0   \n",
       "3  \"\\nMore\\nI can't make any real suggestions on ...      0   \n",
       "4  You, sir, are my hero. Any chance you remember...      0   \n",
       "\n",
       "                                             re_text  \\\n",
       "0  explanation edits made username hardcore metal...   \n",
       "1  aww matches background colour seemingly stuck ...   \n",
       "2  hey man really trying edit war guy constantly ...   \n",
       "3  make real suggestions improvement wondered sec...   \n",
       "4                      sir hero chance remember page   \n",
       "\n",
       "                                           lemm_text  \n",
       "0  explanation edit make username hardcore metall...  \n",
       "1  aww match background colour seemingly stuck th...  \n",
       "2  hey man really try edit war guy constantly rem...  \n",
       "3  make real suggestion improvement wonder sectio...  \n",
       "4                      sir hero chance remember page  "
      ]
     },
     "execution_count": 7,
     "metadata": {},
     "output_type": "execute_result"
    }
   ],
   "source": [
    "nlp = spacy.load(\"en_core_web_sm\")\n",
    "\n",
    "def lemmatize(text):\n",
    "    text = nlp(text)\n",
    "    return ' '.join([token.lemma_ for token in text])\n",
    "\n",
    "tqdm.pandas(position=0)\n",
    "df['lemm_text'] = df['re_text'].progress_apply(lemmatize);\n",
    "df.head()"
   ]
  },
  {
   "cell_type": "markdown",
   "metadata": {},
   "source": [
    "### Анализ токсичности"
   ]
  },
  {
   "cell_type": "markdown",
   "metadata": {},
   "source": [
    "Проведем небольшой анализ комментариев.\n",
    "\n",
    "Какие слова чаще всего используются в нейтральных и негативных комментариях?"
   ]
  },
  {
   "cell_type": "code",
   "execution_count": 8,
   "metadata": {},
   "outputs": [
    {
     "data": {
      "image/png": "[encoded data removed]",
      "text/plain": [
       "<Figure size 640x480 with 1 Axes>"
      ]
     },
     "metadata": {},
     "output_type": "display_data"
    }
   ],
   "source": [
    "oks = pd.Series(' '.join(df['lemm_text'][df['toxic'] == 0]).split()).value_counts()\n",
    "oks_stats =  oks / oks.shape[0] * 100\n",
    "oks_stats[:21].sort_values().plot(kind='barh', grid=True, color='skyblue',\n",
    "                                  title='Топ-20 слов в нейтральных комментариях',\n",
    "                                  xlabel='процент от общего кол-ва слов');"
   ]
  },
  {
   "cell_type": "markdown",
   "metadata": {},
   "source": [
    "В топ-20 самых употребляемых слов в нейтральных комментариях входят слова вроде \"страница\", \"статья\", \"говорить\", \"знать\", \"источник\". В таких комментариях, видимо, идет обсуждение материала и правок страниц. Чаще всего встречается слово \"article\" - оно составляет 21% от всех слов во всех комментариях в данном датасете."
   ]
  },
  {
   "cell_type": "code",
   "execution_count": 9,
   "metadata": {},
   "outputs": [
    {
     "data": {
      "image/png": "[encoded data removed]",
      "text/plain": [
       "<Figure size 640x480 with 1 Axes>"
      ]
     },
     "metadata": {},
     "output_type": "display_data"
    }
   ],
   "source": [
    "toxics = pd.Series(' '.join(df['lemm_text'][df['toxic'] == 1]).split()).value_counts()\n",
    "toxic_stats =  toxics / toxics.shape[0] * 100\n",
    "toxic_stats[:21].sort_values().plot(kind='barh', grid=True, color='salmon',\n",
    "                                    title='Топ-20 слов в токсичных комментариях',\n",
    "                                    xlabel='процент от общего кол-ва слов');"
   ]
  },
  {
   "cell_type": "markdown",
   "metadata": {},
   "source": [
    "Топ-20 самых употребляемых слов в токсичных комментариях почти на половину состоит из обсценной лексики. 37% всех слов занимает слово \"fuck\" - можно предположить, что это самая популярная нецензурная брань среди англоговорящих.\n",
    "\n",
    "Появляется еще один вопрос: есть ли в позитивных комментариях слова, встречающиеся в негативных?"
   ]
  },
  {
   "cell_type": "code",
   "execution_count": 10,
   "metadata": {},
   "outputs": [
    {
     "data": {
      "image/png": "[encoded data removed]",
      "text/plain": [
       "<Figure size 640x480 with 1 Axes>"
      ]
     },
     "metadata": {},
     "output_type": "display_data"
    }
   ],
   "source": [
    "okwords = ' '.join(df['lemm_text'][df['toxic'] == 0]).split()\n",
    "\n",
    "top = pd.Series(filter(lambda x: x in toxics.index.values[:21], okwords)).value_counts().sort_values()\n",
    "toxictop = pd.DataFrame(data=(top / oks.shape[0] * 100, toxics[:21] / toxics.shape[0] * 100),\n",
    "                        index=['neutral', 'toxic']).T.fillna(0).sort_values(by='neutral', ascending=True)\n",
    "toxictop.plot(kind='barh', grid=True, color=['skyblue', 'salmon'],\n",
    "              title='Частота появления токсичных слов в нейтральных комментариях',\n",
    "              xlabel='процент от общего кол-ва слов');"
   ]
  },
  {
   "cell_type": "markdown",
   "metadata": {},
   "source": [
    "В позитивных комментариях встречаются нецензурные слова, но все они вместе взятые составляют менее 1% от всех слов. На основе этого можно сделать вывод, что если в комментарии есть брань, то скорее всего он токсичный.\n",
    "\n",
    "И последний вопрос: отличается ли количество слов в обычных и негативных комментариях?"
   ]
  },
  {
   "cell_type": "code",
   "execution_count": 11,
   "metadata": {},
   "outputs": [
    {
     "data": {
      "image/png": "[encoded data removed]",
      "text/plain": [
       "<Figure size 640x480 with 1 Axes>"
      ]
     },
     "metadata": {},
     "output_type": "display_data"
    }
   ],
   "source": [
    "def word_count(text):\n",
    "    return len(text.split())\n",
    "    \n",
    "ax = pd.DataFrame([df['lemm_text'][(df['toxic'] == 0)].apply(word_count).quantile([0, 0.05, 0.25, 0.5, 0.75, 0.95, 1]),\n",
    "                  df['lemm_text'][(df['toxic'] == 1)].apply(word_count).quantile([0, 0.05, 0.25, 0.5, 0.75, 0.95, 1])],\n",
    "                  index=['neutral', 'toxic']).T.plot(kind='bar', grid=True, color=['skyblue', 'salmon'],\n",
    "                                                     title='Распределение количества слов', xlabel='квантили')\n",
    "for container in ax.containers:\n",
    "    ax.bar_label(container)"
   ]
  },
  {
   "cell_type": "markdown",
   "metadata": {},
   "source": [
    "Обычно в токсичных комментариях меньше слов - в нейтральных в среднем по 19 слов, а в токсичных - по 12. Сейчас мы считаем только слова \"по делу\" - может, если бы мы считали также стоп-слова, в негативных было бы больше слов. Почти все комментарии укладываются в 120 слов, только 5% превышают это количество. Максимальное количество слов - 935 для нейтральных и 1250 для токсичных.\n",
    "\n",
    "Также видно, что минимальное количество слов в комментариях равно 0. Видимо, после очистки в некоторых текстах не осталось ни слова."
   ]
  },
  {
   "cell_type": "code",
   "execution_count": 12,
   "metadata": {},
   "outputs": [
    {
     "data": {
      "text/html": [
       "<div>\n",
       "<style scoped>\n",
       "    .dataframe tbody tr th:only-of-type {\n",
       "        vertical-align: middle;\n",
       "    }\n",
       "\n",
       "    .dataframe tbody tr th {\n",
       "        vertical-align: top;\n",
       "    }\n",
       "\n",
       "    .dataframe thead th {\n",
       "        text-align: right;\n",
       "    }\n",
       "</style>\n",
       "<table border=\"1\" class=\"dataframe\">\n",
       "  <thead>\n",
       "    <tr style=\"text-align: right;\">\n",
       "      <th></th>\n",
       "      <th>text</th>\n",
       "      <th>toxic</th>\n",
       "      <th>re_text</th>\n",
       "      <th>lemm_text</th>\n",
       "    </tr>\n",
       "  </thead>\n",
       "  <tbody>\n",
       "    <tr>\n",
       "      <th>2091</th>\n",
       "      <td>No, it doesn´t.80.228.65.162</td>\n",
       "      <td>0</td>\n",
       "      <td></td>\n",
       "      <td></td>\n",
       "    </tr>\n",
       "    <tr>\n",
       "      <th>2400</th>\n",
       "      <td>Here, here and here.</td>\n",
       "      <td>0</td>\n",
       "      <td></td>\n",
       "      <td></td>\n",
       "    </tr>\n",
       "    <tr>\n",
       "      <th>3983</th>\n",
       "      <td>From here\\n\\nFrom here 160.80.2.8</td>\n",
       "      <td>0</td>\n",
       "      <td></td>\n",
       "      <td></td>\n",
       "    </tr>\n",
       "    <tr>\n",
       "      <th>4475</th>\n",
       "      <td>1993\\n\\n1994\\n\\n1995\\n\\n1996\\n\\n1997\\n\\n1998\\n...</td>\n",
       "      <td>0</td>\n",
       "      <td></td>\n",
       "      <td></td>\n",
       "    </tr>\n",
       "    <tr>\n",
       "      <th>6053</th>\n",
       "      <td>n i g g e r f a g g o t</td>\n",
       "      <td>1</td>\n",
       "      <td></td>\n",
       "      <td></td>\n",
       "    </tr>\n",
       "    <tr>\n",
       "      <th>...</th>\n",
       "      <td>...</td>\n",
       "      <td>...</td>\n",
       "      <td>...</td>\n",
       "      <td>...</td>\n",
       "    </tr>\n",
       "    <tr>\n",
       "      <th>152543</th>\n",
       "      <td>SAME FOR THIS 166.137.240.20</td>\n",
       "      <td>0</td>\n",
       "      <td></td>\n",
       "      <td></td>\n",
       "    </tr>\n",
       "    <tr>\n",
       "      <th>153041</th>\n",
       "      <td>which is OVER 9000 OVER 9000 OVER 9000 OVER 90...</td>\n",
       "      <td>0</td>\n",
       "      <td></td>\n",
       "      <td></td>\n",
       "    </tr>\n",
       "    <tr>\n",
       "      <th>153342</th>\n",
       "      <td>http://en.wikipedia.org/w/index.php?title=Cras...</td>\n",
       "      <td>0</td>\n",
       "      <td></td>\n",
       "      <td></td>\n",
       "    </tr>\n",
       "    <tr>\n",
       "      <th>154588</th>\n",
       "      <td>O.K. (t/c//WP:CHICAGO/WP:LOTM)</td>\n",
       "      <td>0</td>\n",
       "      <td></td>\n",
       "      <td></td>\n",
       "    </tr>\n",
       "    <tr>\n",
       "      <th>158740</th>\n",
       "      <td>Why don't you do it? 24.68.148.215</td>\n",
       "      <td>0</td>\n",
       "      <td></td>\n",
       "      <td></td>\n",
       "    </tr>\n",
       "  </tbody>\n",
       "</table>\n",
       "<p>91 rows × 4 columns</p>\n",
       "</div>"
      ],
      "text/plain": [
       "                                                     text  toxic re_text  \\\n",
       "2091                         No, it doesn´t.80.228.65.162      0           \n",
       "2400                                 Here, here and here.      0           \n",
       "3983                    From here\\n\\nFrom here 160.80.2.8      0           \n",
       "4475    1993\\n\\n1994\\n\\n1995\\n\\n1996\\n\\n1997\\n\\n1998\\n...      0           \n",
       "6053                              n i g g e r f a g g o t      1           \n",
       "...                                                   ...    ...     ...   \n",
       "152543                       SAME FOR THIS 166.137.240.20      0           \n",
       "153041  which is OVER 9000 OVER 9000 OVER 9000 OVER 90...      0           \n",
       "153342  http://en.wikipedia.org/w/index.php?title=Cras...      0           \n",
       "154588                     O.K. (t/c//WP:CHICAGO/WP:LOTM)      0           \n",
       "158740                 Why don't you do it? 24.68.148.215      0           \n",
       "\n",
       "       lemm_text  \n",
       "2091              \n",
       "2400              \n",
       "3983              \n",
       "4475              \n",
       "6053              \n",
       "...          ...  \n",
       "152543            \n",
       "153041            \n",
       "153342            \n",
       "154588            \n",
       "158740            \n",
       "\n",
       "[91 rows x 4 columns]"
      ]
     },
     "execution_count": 12,
     "metadata": {},
     "output_type": "execute_result"
    }
   ],
   "source": [
    "df[df['lemm_text'] == '']"
   ]
  },
  {
   "cell_type": "markdown",
   "metadata": {},
   "source": [
    "Это оказались комментарии, либо целиком состоящие из стоп-слов, цифр, символов и ссылок, либо те, в которых комментаторы проявили креативность и написали слова побуквенно через пробел или точку. Автоматически проверять такие комментарии будет проблематично, если не невозможно.       \n",
    "В этой выборке пустых текстов оказалось не так много, всего 16 штук. Большого влияния они на обучение не окажут, но лучше будет их удалить:"
   ]
  },
  {
   "cell_type": "code",
   "execution_count": 13,
   "metadata": {},
   "outputs": [
    {
     "name": "stdout",
     "output_type": "stream",
     "text": [
      "<class 'pandas.core.frame.DataFrame'>\n",
      "RangeIndex: 159201 entries, 0 to 159200\n",
      "Data columns (total 4 columns):\n",
      " #   Column     Non-Null Count   Dtype \n",
      "---  ------     --------------   ----- \n",
      " 0   text       159201 non-null  object\n",
      " 1   toxic      159201 non-null  int64 \n",
      " 2   re_text    159201 non-null  object\n",
      " 3   lemm_text  159201 non-null  object\n",
      "dtypes: int64(1), object(3)\n",
      "memory usage: 4.9+ MB\n"
     ]
    }
   ],
   "source": [
    "df = df.drop(df[df['lemm_text'] == ''].index).reset_index(drop=True)\n",
    "df.info()"
   ]
  },
  {
   "cell_type": "markdown",
   "metadata": {},
   "source": [
    "## Обучение"
   ]
  },
  {
   "cell_type": "markdown",
   "metadata": {},
   "source": [
    "Данные почти готовы, осталось разделить их на выборки и векторизировать - выбранные для обучения модели не будут работать с текстами напрямую."
   ]
  },
  {
   "cell_type": "code",
   "execution_count": 14,
   "metadata": {},
   "outputs": [],
   "source": [
    "X_train, X_test, y_train, y_test = train_test_split(df['lemm_text'], df['toxic'],\n",
    "                                                    shuffle=True, stratify=df['toxic'], random_state=SEED)"
   ]
  },
  {
   "cell_type": "markdown",
   "metadata": {},
   "source": [
    "Создадим векторизатор и список для результатов и приступим к обучению."
   ]
  },
  {
   "cell_type": "code",
   "execution_count": 15,
   "metadata": {},
   "outputs": [],
   "source": [
    "tf_idf = TfidfVectorizer()\n",
    "scores = []"
   ]
  },
  {
   "cell_type": "markdown",
   "metadata": {},
   "source": [
    "### Logistic Regression"
   ]
  },
  {
   "cell_type": "markdown",
   "metadata": {},
   "source": [
    "Первая модель - логистическая регрессия. Метрикой качества будет F1-мера - она покажет, как часто и точно модель находит положительный класс.      \n",
    "Соберем пайплайн из векторизатора и самой модели, чтобы провести кросс-валидацию:"
   ]
  },
  {
   "cell_type": "code",
   "execution_count": 31,
   "metadata": {},
   "outputs": [
    {
     "name": "stdout",
     "output_type": "stream",
     "text": [
      "CPU times: total: 1min 15s\n",
      "Wall time: 21.8 s\n"
     ]
    },
    {
     "data": {
      "text/plain": [
       "0.7694383377927144"
      ]
     },
     "execution_count": 31,
     "metadata": {},
     "output_type": "execute_result"
    }
   ],
   "source": [
    "%%time\n",
    "imb_pipe = make_pipeline(tf_idf, SMOTE(random_state=SEED), \n",
    "                         LogisticRegression(solver='liblinear', max_iter=500, random_state=SEED))\n",
    "cross_validate(imb_pipe, X=X_train, y=y_train, scoring='f1', cv=3)['test_score'].mean()"
   ]
  },
  {
   "cell_type": "markdown",
   "metadata": {},
   "source": [
    "Базовая модель показывает F1 равную 0.769. Подберем гиперпараметры:"
   ]
  },
  {
   "cell_type": "code",
   "execution_count": 17,
   "metadata": {},
   "outputs": [
    {
     "name": "stdout",
     "output_type": "stream",
     "text": [
      "Fitting 3 folds for each of 12 candidates, totalling 36 fits\n",
      "CPU times: total: 15min 41s\n",
      "Wall time: 5min 5s\n"
     ]
    }
   ],
   "source": [
    "%%time\n",
    "params = {'logisticregression__penalty': ['l1', 'l2'],\n",
    "          'logisticregression__C': [1, 2, 3, 5, 8, 13]}\n",
    "\n",
    "grid_log = GridSearchCV(imb_pipe, params, scoring='f1', cv=3, verbose=1)\n",
    "grid_log.fit(X_train, y_train);"
   ]
  },
  {
   "cell_type": "code",
   "execution_count": 18,
   "metadata": {},
   "outputs": [
    {
     "name": "stdout",
     "output_type": "stream",
     "text": [
      "0.7759212447011032\n",
      "{'logisticregression__C': 3, 'logisticregression__penalty': 'l2'}\n"
     ]
    }
   ],
   "source": [
    "def print_grid(grid, name):\n",
    "    print(grid.best_score_)\n",
    "    print(grid.best_params_)\n",
    "    scores.append([name, grid.best_score_,\\\n",
    "                   grid.cv_results_['mean_fit_time'][grid.best_index_]])\n",
    "\n",
    "print_grid(grid_log, 'LogisticRegression')"
   ]
  },
  {
   "cell_type": "markdown",
   "metadata": {},
   "source": [
    "С оптимальными гиперпараметрами модель показывает результат слегка лучше - F1 теперь равна 0.775."
   ]
  },
  {
   "cell_type": "markdown",
   "metadata": {},
   "source": [
    "### SGDClassifier"
   ]
  },
  {
   "cell_type": "markdown",
   "metadata": {},
   "source": [
    "Следующая модель - классификатор, обученный градиентным спуском."
   ]
  },
  {
   "cell_type": "code",
   "execution_count": 33,
   "metadata": {},
   "outputs": [
    {
     "name": "stdout",
     "output_type": "stream",
     "text": [
      "CPU times: total: 1min 12s\n",
      "Wall time: 20.4 s\n"
     ]
    },
    {
     "data": {
      "text/plain": [
       "0.7710107912768468"
      ]
     },
     "execution_count": 33,
     "metadata": {},
     "output_type": "execute_result"
    }
   ],
   "source": [
    "%%time\n",
    "imb_pipe = make_pipeline(tf_idf, SMOTE(random_state=SEED), \n",
    "                         SGDClassifier(loss='modified_huber', max_iter=500, random_state=SEED))\n",
    "cross_validate(imb_pipe, X=X_train, y=y_train, scoring='f1', cv=3)['test_score'].mean()"
   ]
  },
  {
   "cell_type": "code",
   "execution_count": 20,
   "metadata": {},
   "outputs": [
    {
     "name": "stdout",
     "output_type": "stream",
     "text": [
      "Fitting 3 folds for each of 10 candidates, totalling 30 fits\n",
      "CPU times: total: 12min 50s\n",
      "Wall time: 3min 21s\n"
     ]
    }
   ],
   "source": [
    "%%time\n",
    "params = {'sgdclassifier__penalty': ['l1', 'l2'],\n",
    "          'sgdclassifier__alpha': [0.01, 0.005, 0.001, 0.0005, 0.0001]}\n",
    "\n",
    "grid_sgd = GridSearchCV(imb_pipe, params, scoring='f1', cv=3, verbose=1)\n",
    "grid_sgd.fit(X_train, y_train);"
   ]
  },
  {
   "cell_type": "code",
   "execution_count": 21,
   "metadata": {},
   "outputs": [
    {
     "name": "stdout",
     "output_type": "stream",
     "text": [
      "0.7710107912768468\n",
      "{'sgdclassifier__alpha': 0.0001, 'sgdclassifier__penalty': 'l2'}\n"
     ]
    }
   ],
   "source": [
    "print_grid(grid_sgd, 'SGDClassifier')"
   ]
  },
  {
   "cell_type": "markdown",
   "metadata": {},
   "source": [
    "F1 после подбора гиперпараметров равна 0.771, что немного хуже предыдущей модели."
   ]
  },
  {
   "cell_type": "markdown",
   "metadata": {},
   "source": [
    "### Perceptron"
   ]
  },
  {
   "cell_type": "markdown",
   "metadata": {},
   "source": [
    "Третья модель - перцептрон. Это линейный классификатор хорошо подходит для обучения на датасете с большим количеством нулей в данных."
   ]
  },
  {
   "cell_type": "code",
   "execution_count": 34,
   "metadata": {},
   "outputs": [
    {
     "name": "stdout",
     "output_type": "stream",
     "text": [
      "CPU times: total: 1min 11s\n",
      "Wall time: 19.3 s\n"
     ]
    },
    {
     "data": {
      "text/plain": [
       "0.7276855701496107"
      ]
     },
     "execution_count": 34,
     "metadata": {},
     "output_type": "execute_result"
    }
   ],
   "source": [
    "%%time\n",
    "imb_pipe = make_pipeline(tf_idf, SMOTE(random_state=SEED), \n",
    "                         Perceptron(random_state=SEED))\n",
    "cross_validate(imb_pipe, X=X_train, y=y_train, scoring='f1', cv=3)['test_score'].mean()"
   ]
  },
  {
   "cell_type": "code",
   "execution_count": 23,
   "metadata": {},
   "outputs": [
    {
     "name": "stdout",
     "output_type": "stream",
     "text": [
      "Fitting 3 folds for each of 12 candidates, totalling 36 fits\n",
      "CPU times: total: 15min 15s\n",
      "Wall time: 3min 58s\n"
     ]
    }
   ],
   "source": [
    "%%time\n",
    "params = {'perceptron__penalty': ['l1', 'l2', None],\n",
    "          'perceptron__alpha': [0.01, 0.001, 0.0001, 0.00001]}\n",
    "\n",
    "grid_tron = GridSearchCV(imb_pipe, params, scoring='f1', cv=3, verbose=1)\n",
    "grid_tron.fit(X_train, y_train);"
   ]
  },
  {
   "cell_type": "code",
   "execution_count": 24,
   "metadata": {},
   "outputs": [
    {
     "name": "stdout",
     "output_type": "stream",
     "text": [
      "0.7276855701496107\n",
      "{'perceptron__alpha': 0.01, 'perceptron__penalty': None}\n"
     ]
    }
   ],
   "source": [
    "print_grid(grid_tron, 'Perceptron')"
   ]
  },
  {
   "cell_type": "markdown",
   "metadata": {},
   "source": [
    "Модель показывает лучший результат со стандартными параметрами - F1 равна 0.728."
   ]
  },
  {
   "cell_type": "markdown",
   "metadata": {},
   "source": [
    "### LinearSVC"
   ]
  },
  {
   "cell_type": "markdown",
   "metadata": {},
   "source": [
    "Последняя модель - SVM классификатор. Также хорошо подходит для обучения на датасете с большим количеством нулей, плюс хорошо справляется и с маленькими и с большими наборами данных."
   ]
  },
  {
   "cell_type": "code",
   "execution_count": 32,
   "metadata": {},
   "outputs": [
    {
     "name": "stdout",
     "output_type": "stream",
     "text": [
      "CPU times: total: 1min 15s\n",
      "Wall time: 22.7 s\n"
     ]
    },
    {
     "data": {
      "text/plain": [
       "0.7640017830621071"
      ]
     },
     "execution_count": 32,
     "metadata": {},
     "output_type": "execute_result"
    }
   ],
   "source": [
    "%%time\n",
    "imb_pipe = make_pipeline(tf_idf, SMOTE(random_state=SEED), \n",
    "                         LinearSVC(dual='auto', random_state=SEED))\n",
    "cross_validate(imb_pipe, X=X_train, y=y_train, scoring='f1', cv=3)['test_score'].mean()"
   ]
  },
  {
   "cell_type": "code",
   "execution_count": 26,
   "metadata": {},
   "outputs": [
    {
     "name": "stdout",
     "output_type": "stream",
     "text": [
      "Fitting 3 folds for each of 12 candidates, totalling 36 fits\n",
      "CPU times: total: 18min 53s\n",
      "Wall time: 8min 59s\n"
     ]
    }
   ],
   "source": [
    "%%time\n",
    "params = {'linearsvc__penalty': ['l1', 'l2'],\n",
    "          'linearsvc__C': [1, 2, 3, 5, 8, 13]}\n",
    "\n",
    "grid_svc = GridSearchCV(imb_pipe, params, scoring='f1', cv=3, verbose=1)\n",
    "grid_svc.fit(X_train, y_train);"
   ]
  },
  {
   "cell_type": "code",
   "execution_count": 27,
   "metadata": {},
   "outputs": [
    {
     "name": "stdout",
     "output_type": "stream",
     "text": [
      "0.7640017830621071\n",
      "{'linearsvc__C': 1, 'linearsvc__penalty': 'l2'}\n"
     ]
    }
   ],
   "source": [
    "print_grid(grid_svc, 'LinearSVC')"
   ]
  },
  {
   "cell_type": "markdown",
   "metadata": {},
   "source": [
    "Снова лучший результат со стандартными параметрами - F1 равна 0.764."
   ]
  },
  {
   "cell_type": "markdown",
   "metadata": {},
   "source": [
    "### Тест"
   ]
  },
  {
   "cell_type": "markdown",
   "metadata": {},
   "source": [
    "В таблице ниже собраны результаты обучения всех моделей."
   ]
  },
  {
   "cell_type": "code",
   "execution_count": 29,
   "metadata": {},
   "outputs": [
    {
     "data": {
      "text/html": [
       "<style type=\"text/css\">\n",
       "</style>\n",
       "<table id=\"T_2d031\">\n",
       "  <thead>\n",
       "    <tr>\n",
       "      <th class=\"blank level0\" >&nbsp;</th>\n",
       "      <th id=\"T_2d031_level0_col0\" class=\"col_heading level0 col0\" >model</th>\n",
       "      <th id=\"T_2d031_level0_col1\" class=\"col_heading level0 col1\" >F1</th>\n",
       "      <th id=\"T_2d031_level0_col2\" class=\"col_heading level0 col2\" >fit time</th>\n",
       "    </tr>\n",
       "  </thead>\n",
       "  <tbody>\n",
       "    <tr>\n",
       "      <th id=\"T_2d031_level0_row0\" class=\"row_heading level0 row0\" >2</th>\n",
       "      <td id=\"T_2d031_row0_col0\" class=\"data row0 col0\" >Perceptron</td>\n",
       "      <td id=\"T_2d031_row0_col1\" class=\"data row0 col1\" >0.728</td>\n",
       "      <td id=\"T_2d031_row0_col2\" class=\"data row0 col2\" >5.530</td>\n",
       "    </tr>\n",
       "    <tr>\n",
       "      <th id=\"T_2d031_level0_row1\" class=\"row_heading level0 row1\" >3</th>\n",
       "      <td id=\"T_2d031_row1_col0\" class=\"data row1 col0\" >LinearSVC</td>\n",
       "      <td id=\"T_2d031_row1_col1\" class=\"data row1 col1\" >0.764</td>\n",
       "      <td id=\"T_2d031_row1_col2\" class=\"data row1 col2\" >6.941</td>\n",
       "    </tr>\n",
       "    <tr>\n",
       "      <th id=\"T_2d031_level0_row2\" class=\"row_heading level0 row2\" >1</th>\n",
       "      <td id=\"T_2d031_row2_col0\" class=\"data row2 col0\" >SGDClassifier</td>\n",
       "      <td id=\"T_2d031_row2_col1\" class=\"data row2 col1\" >0.771</td>\n",
       "      <td id=\"T_2d031_row2_col2\" class=\"data row2 col2\" >5.518</td>\n",
       "    </tr>\n",
       "    <tr>\n",
       "      <th id=\"T_2d031_level0_row3\" class=\"row_heading level0 row3\" >0</th>\n",
       "      <td id=\"T_2d031_row3_col0\" class=\"data row3 col0\" >LogisticRegression</td>\n",
       "      <td id=\"T_2d031_row3_col1\" class=\"data row3 col1\" >0.776</td>\n",
       "      <td id=\"T_2d031_row3_col2\" class=\"data row3 col2\" >6.719</td>\n",
       "    </tr>\n",
       "  </tbody>\n",
       "</table>\n"
      ],
      "text/plain": [
       "<pandas.io.formats.style.Styler at 0x1190397dd90>"
      ]
     },
     "execution_count": 29,
     "metadata": {},
     "output_type": "execute_result"
    }
   ],
   "source": [
    "pd.DataFrame(scores, columns=['model', 'F1', 'fit time']).sort_values(by='F1').style.format(precision=3)"
   ]
  },
  {
   "cell_type": "markdown",
   "metadata": {},
   "source": [
    "Качество моделей отличается не сильно - перцептрон немного отстает, но у остальных F1 очень близка. LogisticRegression показала лучший результат - 0.776, SGD отстал от нее всего на 0.005.\n",
    "\n",
    "Протестируем лучшую модель."
   ]
  },
  {
   "cell_type": "code",
   "execution_count": 30,
   "metadata": {},
   "outputs": [
    {
     "name": "stdout",
     "output_type": "stream",
     "text": [
      "F1-мера: 0.772\n"
     ]
    },
    {
     "data": {
      "image/png": "[encoded data removed]",
      "text/plain": [
       "<Figure size 640x480 with 2 Axes>"
      ]
     },
     "metadata": {},
     "output_type": "display_data"
    }
   ],
   "source": [
    "print('F1-мера: %.3f' % f1_score(y_test, grid_log.best_estimator_.predict(X_test)))\n",
    "ConfusionMatrixDisplay.from_estimator(grid_log.best_estimator_, X_test, y_test);"
   ]
  },
  {
   "cell_type": "markdown",
   "metadata": {},
   "source": [
    "Качество на тестовой выборке сильно не упало - F1 равна 0.772."
   ]
  },
  {
   "cell_type": "markdown",
   "metadata": {},
   "source": [
    "## Выводы"
   ]
  },
  {
   "cell_type": "markdown",
   "metadata": {},
   "source": [
    "Модель, показавшая лучшие результаты - логгистическая регрессия. Метрика качества F1 у этой модели равна 0.772. Она правильно определила 96.9% положительных комментариев и 79.9% негативных. То, что модель научилась лучше определять нулевой класс не плохо - безобидные комментарии будут реже отправляться на модерацию. А негативные комментарии, пропущенные фильтром, можно \"выловить\" позднее, если добавить фунцию \"пожаловаться на комментарий\".\n",
    "\n",
    "Из анализа комментариев выяснилось, что в токсичных очень часто встречаются нецензурные слова: если в комментарии присутствует брань, то с большой вероятностью он является негативным. При этом в нейтральных комментариях также встречаются негативные слова, но редко - меньше 1% от общего количества слов. Так что наличие нецензурных слов не делает комментарий токсичным автоматически, также как и их отсутствие не делает его положительным. На положительность комментария могут указывать слова вроде \"страница\", \"источник\", \"знать\", \"менять\" и другие, относящиеся к обсуждению правок и информации. Если их нет в тексте, это может говорить о том, что комментатор пишет \"не по теме\" или даже перешел на личности, что не очень положительно.      \n",
    "Также комментарии немного различаются по длине - если считать леммы слов и исключать слова, не несущие смысла (вроде местоимений, предлогов, частиц и вспомогательных глаголов), то нейтральные в среднем состоят из 19 слов, а токсичные из 12."
   ]
  }
 ],
 "metadata": {
  "kernelspec": {
   "display_name": "Python 3 (ipykernel)",
   "language": "python",
   "name": "python3"
  },
  "language_info": {
   "codemirror_mode": {
    "name": "ipython",
    "version": 3
   },
   "file_extension": ".py",
   "mimetype": "text/x-python",
   "name": "python",
   "nbconvert_exporter": "python",
   "pygments_lexer": "ipython3",
   "version": "3.11.5"
  },
  "toc": {
   "base_numbering": 1,
   "nav_menu": {},
   "number_sections": true,
   "sideBar": true,
   "skip_h1_title": true,
   "title_cell": "Содержание",
   "title_sidebar": "Contents",
   "toc_cell": true,
   "toc_position": {
    "height": "calc(100% - 180px)",
    "left": "10px",
    "top": "150px",
    "width": "236.391px"
   },
   "toc_section_display": true,
   "toc_window_display": true
  }
 },
 "nbformat": 4,
 "nbformat_minor": 4
}
