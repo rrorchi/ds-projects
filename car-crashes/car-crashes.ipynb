{
 "cells": [
  {
   "cell_type": "markdown",
   "id": "5bdfc5d2-367d-4586-b759-db83ae212d41",
   "metadata": {},
   "source": [
    "# Оценка риска ДТП"
   ]
  },
  {
   "cell_type": "code",
   "execution_count": 1,
   "id": "c6aca02a",
   "metadata": {
    "slideshow": {
     "slide_type": ""
    },
    "tags": []
   },
   "outputs": [],
   "source": [
    "import numpy as np\n",
    "import pandas as pd\n",
    "import matplotlib.pyplot as plt\n",
    "from sqlalchemy import create_engine\n",
    "\n",
    "from sklearn.model_selection import RandomizedSearchCV, train_test_split\n",
    "from sklearn.compose import make_column_transformer\n",
    "from sklearn.pipeline import make_pipeline\n",
    "from sklearn.preprocessing import OneHotEncoder, OrdinalEncoder, StandardScaler\n",
    "\n",
    "from sklearn.linear_model import LogisticRegression, SGDClassifier\n",
    "from sklearn.ensemble import RandomForestClassifier\n",
    "from catboost import CatBoostClassifier\n",
    "from sklearn.metrics import ConfusionMatrixDisplay, PrecisionRecallDisplay, make_scorer, \\\n",
    "                            f1_score, fbeta_score, average_precision_score\n",
    "import warnings\n",
    "warnings.filterwarnings(\"ignore\", category=UserWarning)\n",
    "\n",
    "SEED = 42"
   ]
  },
  {
   "cell_type": "markdown",
   "id": "5610a36f-17a9-4c68-b194-bad1ca32e00c",
   "metadata": {},
   "source": [
    "## 1. Подключение к базе данных"
   ]
  },
  {
   "cell_type": "code",
   "execution_count": 2,
   "id": "590914ca",
   "metadata": {},
   "outputs": [],
   "source": [
    "db_config = {\n",
    "            'user': '***', # имя пользователя,\n",
    "            'pwd': '***', # пароль,\n",
    "            'host': '***',\n",
    "            'port': 1111, # порт подключения,\n",
    "            'db': '***' # название базы данных,\n",
    "} \n",
    "connection_string = 'postgresql://{}:{}@{}:{}/{}'.format(db_config['user'],\n",
    "                                                       db_config['pwd'],\n",
    "                                                       db_config['host'],\n",
    "                                                       db_config['port'],\n",
    "                                                       db_config['db'])"
   ]
  },
  {
   "cell_type": "code",
   "execution_count": 3,
   "id": "c0981e56",
   "metadata": {},
   "outputs": [],
   "source": [
    "engine = create_engine(connection_string)"
   ]
  },
  {
   "cell_type": "markdown",
   "id": "ba638ce1-6ccf-4dc1-ad2f-21885d704817",
   "metadata": {},
   "source": [
    "## 2. Первичное исследование таблиц"
   ]
  },
  {
   "cell_type": "code",
   "execution_count": 4,
   "id": "e9d591ff-d16f-4e9f-a11e-a03121fd1e41",
   "metadata": {},
   "outputs": [
    {
     "data": {
      "text/html": [
       "<div>\n",
       "<style scoped>\n",
       "    .dataframe tbody tr th:only-of-type {\n",
       "        vertical-align: middle;\n",
       "    }\n",
       "\n",
       "    .dataframe tbody tr th {\n",
       "        vertical-align: top;\n",
       "    }\n",
       "\n",
       "    .dataframe thead th {\n",
       "        text-align: right;\n",
       "    }\n",
       "</style>\n",
       "<table border=\"1\" class=\"dataframe\">\n",
       "  <thead>\n",
       "    <tr style=\"text-align: right;\">\n",
       "      <th></th>\n",
       "      <th>case_id</th>\n",
       "      <th>county_city_location</th>\n",
       "      <th>county_location</th>\n",
       "      <th>distance</th>\n",
       "      <th>direction</th>\n",
       "      <th>intersection</th>\n",
       "      <th>weather_1</th>\n",
       "      <th>location_type</th>\n",
       "      <th>collision_damage</th>\n",
       "      <th>party_count</th>\n",
       "      <th>primary_collision_factor</th>\n",
       "      <th>pcf_violation_category</th>\n",
       "      <th>type_of_collision</th>\n",
       "      <th>motor_vehicle_involved_with</th>\n",
       "      <th>road_surface</th>\n",
       "      <th>road_condition_1</th>\n",
       "      <th>lighting</th>\n",
       "      <th>control_device</th>\n",
       "      <th>collision_date</th>\n",
       "      <th>collision_time</th>\n",
       "    </tr>\n",
       "  </thead>\n",
       "  <tbody>\n",
       "    <tr>\n",
       "      <th>0</th>\n",
       "      <td>4083072</td>\n",
       "      <td>1942</td>\n",
       "      <td>los angeles</td>\n",
       "      <td>528.0</td>\n",
       "      <td>north</td>\n",
       "      <td>0</td>\n",
       "      <td>cloudy</td>\n",
       "      <td>highway</td>\n",
       "      <td>small damage</td>\n",
       "      <td>2</td>\n",
       "      <td>vehicle code violation</td>\n",
       "      <td>unsafe lane change</td>\n",
       "      <td>sideswipe</td>\n",
       "      <td>other motor vehicle</td>\n",
       "      <td>wet</td>\n",
       "      <td>normal</td>\n",
       "      <td>daylight</td>\n",
       "      <td>none</td>\n",
       "      <td>2009-01-22</td>\n",
       "      <td>07:25:00</td>\n",
       "    </tr>\n",
       "    <tr>\n",
       "      <th>1</th>\n",
       "      <td>4083075</td>\n",
       "      <td>4313</td>\n",
       "      <td>santa clara</td>\n",
       "      <td>0.0</td>\n",
       "      <td>None</td>\n",
       "      <td>1</td>\n",
       "      <td>clear</td>\n",
       "      <td>None</td>\n",
       "      <td>small damage</td>\n",
       "      <td>1</td>\n",
       "      <td>vehicle code violation</td>\n",
       "      <td>improper passing</td>\n",
       "      <td>hit object</td>\n",
       "      <td>fixed object</td>\n",
       "      <td>dry</td>\n",
       "      <td>normal</td>\n",
       "      <td>dark with street lights</td>\n",
       "      <td>functioning</td>\n",
       "      <td>2009-01-03</td>\n",
       "      <td>02:26:00</td>\n",
       "    </tr>\n",
       "    <tr>\n",
       "      <th>2</th>\n",
       "      <td>4083073</td>\n",
       "      <td>0109</td>\n",
       "      <td>alameda</td>\n",
       "      <td>0.0</td>\n",
       "      <td>None</td>\n",
       "      <td>1</td>\n",
       "      <td>clear</td>\n",
       "      <td>None</td>\n",
       "      <td>scratch</td>\n",
       "      <td>2</td>\n",
       "      <td>vehicle code violation</td>\n",
       "      <td>improper turning</td>\n",
       "      <td>broadside</td>\n",
       "      <td>other motor vehicle</td>\n",
       "      <td>dry</td>\n",
       "      <td>normal</td>\n",
       "      <td>dark with street lights</td>\n",
       "      <td>functioning</td>\n",
       "      <td>2009-01-11</td>\n",
       "      <td>03:32:00</td>\n",
       "    </tr>\n",
       "  </tbody>\n",
       "</table>\n",
       "</div>"
      ],
      "text/plain": [
       "   case_id county_city_location county_location  distance direction  \\\n",
       "0  4083072                 1942     los angeles     528.0     north   \n",
       "1  4083075                 4313     santa clara       0.0      None   \n",
       "2  4083073                 0109         alameda       0.0      None   \n",
       "\n",
       "   intersection weather_1 location_type collision_damage  party_count  \\\n",
       "0             0    cloudy       highway     small damage            2   \n",
       "1             1     clear          None     small damage            1   \n",
       "2             1     clear          None          scratch            2   \n",
       "\n",
       "  primary_collision_factor pcf_violation_category type_of_collision  \\\n",
       "0   vehicle code violation     unsafe lane change         sideswipe   \n",
       "1   vehicle code violation       improper passing        hit object   \n",
       "2   vehicle code violation       improper turning         broadside   \n",
       "\n",
       "  motor_vehicle_involved_with road_surface road_condition_1  \\\n",
       "0         other motor vehicle          wet           normal   \n",
       "1                fixed object          dry           normal   \n",
       "2         other motor vehicle          dry           normal   \n",
       "\n",
       "                  lighting control_device collision_date collision_time  \n",
       "0                 daylight           none     2009-01-22       07:25:00  \n",
       "1  dark with street lights    functioning     2009-01-03       02:26:00  \n",
       "2  dark with street lights    functioning     2009-01-11       03:32:00  "
      ]
     },
     "metadata": {},
     "output_type": "display_data"
    },
    {
     "data": {
      "text/html": [
       "<div>\n",
       "<style scoped>\n",
       "    .dataframe tbody tr th:only-of-type {\n",
       "        vertical-align: middle;\n",
       "    }\n",
       "\n",
       "    .dataframe tbody tr th {\n",
       "        vertical-align: top;\n",
       "    }\n",
       "\n",
       "    .dataframe thead th {\n",
       "        text-align: right;\n",
       "    }\n",
       "</style>\n",
       "<table border=\"1\" class=\"dataframe\">\n",
       "  <thead>\n",
       "    <tr style=\"text-align: right;\">\n",
       "      <th></th>\n",
       "      <th>count</th>\n",
       "      <th>unique</th>\n",
       "    </tr>\n",
       "  </thead>\n",
       "  <tbody>\n",
       "    <tr>\n",
       "      <th>0</th>\n",
       "      <td>1400000</td>\n",
       "      <td>1400000</td>\n",
       "    </tr>\n",
       "  </tbody>\n",
       "</table>\n",
       "</div>"
      ],
      "text/plain": [
       "     count   unique\n",
       "0  1400000  1400000"
      ]
     },
     "execution_count": 4,
     "metadata": {},
     "output_type": "execute_result"
    }
   ],
   "source": [
    "query = '''\n",
    "SELECT *\n",
    "FROM collisions\n",
    "LIMIT 3;\n",
    "'''\n",
    "query_2 = '''\n",
    "SELECT COUNT(*),\n",
    "       COUNT(DISTINCT case_id) AS unique\n",
    "FROM collisions;\n",
    "'''\n",
    "display(pd.read_sql_query(sql=query, con=engine))\n",
    "pd.read_sql_query(sql=query_2, con=engine)"
   ]
  },
  {
   "cell_type": "markdown",
   "id": "9760051e-b387-4a72-92fd-4a7073c3f86e",
   "metadata": {},
   "source": [
    "В таблице `collisions` 1.4 млн уникальных записей о ДТП. О каждой аварии известно место, время, погодные условия, состояние дороги, количество участников, причина аварии, как и с чем столкнулся автомобиль. В описании базы столбец `control_device` называется по другому. В столбцах `intersection` и `location_type` находятся похожие данные - тип места аварии."
   ]
  },
  {
   "cell_type": "code",
   "execution_count": 5,
   "id": "2c28e88c-d43f-4fb1-aca9-20e570c21c5d",
   "metadata": {},
   "outputs": [
    {
     "data": {
      "text/html": [
       "<div>\n",
       "<style scoped>\n",
       "    .dataframe tbody tr th:only-of-type {\n",
       "        vertical-align: middle;\n",
       "    }\n",
       "\n",
       "    .dataframe tbody tr th {\n",
       "        vertical-align: top;\n",
       "    }\n",
       "\n",
       "    .dataframe thead th {\n",
       "        text-align: right;\n",
       "    }\n",
       "</style>\n",
       "<table border=\"1\" class=\"dataframe\">\n",
       "  <thead>\n",
       "    <tr style=\"text-align: right;\">\n",
       "      <th></th>\n",
       "      <th>intersection</th>\n",
       "      <th>location_type</th>\n",
       "      <th>count</th>\n",
       "    </tr>\n",
       "  </thead>\n",
       "  <tbody>\n",
       "    <tr>\n",
       "      <th>0</th>\n",
       "      <td>0.0</td>\n",
       "      <td>highway</td>\n",
       "      <td>409483</td>\n",
       "    </tr>\n",
       "    <tr>\n",
       "      <th>1</th>\n",
       "      <td>0.0</td>\n",
       "      <td>intersection</td>\n",
       "      <td>7605</td>\n",
       "    </tr>\n",
       "    <tr>\n",
       "      <th>2</th>\n",
       "      <td>0.0</td>\n",
       "      <td>ramp</td>\n",
       "      <td>62306</td>\n",
       "    </tr>\n",
       "    <tr>\n",
       "      <th>3</th>\n",
       "      <td>0.0</td>\n",
       "      <td>None</td>\n",
       "      <td>596263</td>\n",
       "    </tr>\n",
       "    <tr>\n",
       "      <th>4</th>\n",
       "      <td>1.0</td>\n",
       "      <td>highway</td>\n",
       "      <td>6252</td>\n",
       "    </tr>\n",
       "    <tr>\n",
       "      <th>5</th>\n",
       "      <td>1.0</td>\n",
       "      <td>intersection</td>\n",
       "      <td>18916</td>\n",
       "    </tr>\n",
       "    <tr>\n",
       "      <th>6</th>\n",
       "      <td>1.0</td>\n",
       "      <td>ramp</td>\n",
       "      <td>12916</td>\n",
       "    </tr>\n",
       "    <tr>\n",
       "      <th>7</th>\n",
       "      <td>1.0</td>\n",
       "      <td>None</td>\n",
       "      <td>274040</td>\n",
       "    </tr>\n",
       "    <tr>\n",
       "      <th>8</th>\n",
       "      <td>NaN</td>\n",
       "      <td>highway</td>\n",
       "      <td>796</td>\n",
       "    </tr>\n",
       "    <tr>\n",
       "      <th>9</th>\n",
       "      <td>NaN</td>\n",
       "      <td>intersection</td>\n",
       "      <td>135</td>\n",
       "    </tr>\n",
       "    <tr>\n",
       "      <th>10</th>\n",
       "      <td>NaN</td>\n",
       "      <td>ramp</td>\n",
       "      <td>370</td>\n",
       "    </tr>\n",
       "    <tr>\n",
       "      <th>11</th>\n",
       "      <td>NaN</td>\n",
       "      <td>None</td>\n",
       "      <td>10918</td>\n",
       "    </tr>\n",
       "  </tbody>\n",
       "</table>\n",
       "</div>"
      ],
      "text/plain": [
       "    intersection location_type   count\n",
       "0            0.0       highway  409483\n",
       "1            0.0  intersection    7605\n",
       "2            0.0          ramp   62306\n",
       "3            0.0          None  596263\n",
       "4            1.0       highway    6252\n",
       "5            1.0  intersection   18916\n",
       "6            1.0          ramp   12916\n",
       "7            1.0          None  274040\n",
       "8            NaN       highway     796\n",
       "9            NaN  intersection     135\n",
       "10           NaN          ramp     370\n",
       "11           NaN          None   10918"
      ]
     },
     "metadata": {},
     "output_type": "display_data"
    }
   ],
   "source": [
    "query = '''\n",
    "SELECT  intersection,\n",
    "        location_type,\n",
    "        COUNT(*)\n",
    "FROM collisions\n",
    "GROUP BY intersection, location_type\n",
    ";\n",
    "'''\n",
    "display(pd.read_sql_query(sql=query, con=engine))"
   ]
  },
  {
   "cell_type": "markdown",
   "id": "09a161a3-9959-4ddb-bc1d-e30e60007efe",
   "metadata": {},
   "source": [
    "Перекресток не всегда совпадает с локацией - иногда шоссе в `location_type` помечены перекрестками в `intersection`."
   ]
  },
  {
   "cell_type": "code",
   "execution_count": 6,
   "id": "73152020-7f61-47c8-a95b-643143a945bd",
   "metadata": {},
   "outputs": [
    {
     "data": {
      "text/html": [
       "<div>\n",
       "<style scoped>\n",
       "    .dataframe tbody tr th:only-of-type {\n",
       "        vertical-align: middle;\n",
       "    }\n",
       "\n",
       "    .dataframe tbody tr th {\n",
       "        vertical-align: top;\n",
       "    }\n",
       "\n",
       "    .dataframe thead th {\n",
       "        text-align: right;\n",
       "    }\n",
       "</style>\n",
       "<table border=\"1\" class=\"dataframe\">\n",
       "  <thead>\n",
       "    <tr style=\"text-align: right;\">\n",
       "      <th></th>\n",
       "      <th>id</th>\n",
       "      <th>case_id</th>\n",
       "      <th>party_number</th>\n",
       "      <th>party_type</th>\n",
       "      <th>at_fault</th>\n",
       "      <th>insurance_premium</th>\n",
       "      <th>party_sobriety</th>\n",
       "      <th>party_drug_physical</th>\n",
       "      <th>cellphone_in_use</th>\n",
       "    </tr>\n",
       "  </thead>\n",
       "  <tbody>\n",
       "    <tr>\n",
       "      <th>0</th>\n",
       "      <td>22</td>\n",
       "      <td>3899454</td>\n",
       "      <td>1</td>\n",
       "      <td>road signs</td>\n",
       "      <td>1</td>\n",
       "      <td>29</td>\n",
       "      <td>had not been drinking</td>\n",
       "      <td>None</td>\n",
       "      <td>0</td>\n",
       "    </tr>\n",
       "    <tr>\n",
       "      <th>1</th>\n",
       "      <td>23</td>\n",
       "      <td>3899454</td>\n",
       "      <td>2</td>\n",
       "      <td>road signs</td>\n",
       "      <td>0</td>\n",
       "      <td>7</td>\n",
       "      <td>had not been drinking</td>\n",
       "      <td>None</td>\n",
       "      <td>0</td>\n",
       "    </tr>\n",
       "    <tr>\n",
       "      <th>2</th>\n",
       "      <td>29</td>\n",
       "      <td>3899462</td>\n",
       "      <td>2</td>\n",
       "      <td>car</td>\n",
       "      <td>0</td>\n",
       "      <td>21</td>\n",
       "      <td>had not been drinking</td>\n",
       "      <td>None</td>\n",
       "      <td>0</td>\n",
       "    </tr>\n",
       "  </tbody>\n",
       "</table>\n",
       "</div>"
      ],
      "text/plain": [
       "   id  case_id  party_number  party_type  at_fault  insurance_premium  \\\n",
       "0  22  3899454             1  road signs         1                 29   \n",
       "1  23  3899454             2  road signs         0                  7   \n",
       "2  29  3899462             2         car         0                 21   \n",
       "\n",
       "          party_sobriety party_drug_physical  cellphone_in_use  \n",
       "0  had not been drinking                None                 0  \n",
       "1  had not been drinking                None                 0  \n",
       "2  had not been drinking                None                 0  "
      ]
     },
     "metadata": {},
     "output_type": "display_data"
    },
    {
     "data": {
      "text/html": [
       "<div>\n",
       "<style scoped>\n",
       "    .dataframe tbody tr th:only-of-type {\n",
       "        vertical-align: middle;\n",
       "    }\n",
       "\n",
       "    .dataframe tbody tr th {\n",
       "        vertical-align: top;\n",
       "    }\n",
       "\n",
       "    .dataframe thead th {\n",
       "        text-align: right;\n",
       "    }\n",
       "</style>\n",
       "<table border=\"1\" class=\"dataframe\">\n",
       "  <thead>\n",
       "    <tr style=\"text-align: right;\">\n",
       "      <th></th>\n",
       "      <th>count</th>\n",
       "      <th>unique</th>\n",
       "    </tr>\n",
       "  </thead>\n",
       "  <tbody>\n",
       "    <tr>\n",
       "      <th>0</th>\n",
       "      <td>2752408</td>\n",
       "      <td>1400000</td>\n",
       "    </tr>\n",
       "  </tbody>\n",
       "</table>\n",
       "</div>"
      ],
      "text/plain": [
       "     count   unique\n",
       "0  2752408  1400000"
      ]
     },
     "execution_count": 6,
     "metadata": {},
     "output_type": "execute_result"
    }
   ],
   "source": [
    "query = '''\n",
    "SELECT *\n",
    "FROM parties\n",
    "LIMIT 3;\n",
    "'''\n",
    "query_2 = '''\n",
    "SELECT COUNT(case_id),\n",
    "       COUNT(DISTINCT case_id) AS unique\n",
    "FROM parties\n",
    ";\n",
    "'''\n",
    "display(pd.read_sql_query(sql=query, con=engine))\n",
    "pd.read_sql_query(sql=query_2, con=engine)"
   ]
  },
  {
   "cell_type": "markdown",
   "id": "f232ac62-f4ae-4403-b156-4a36527c7bd7",
   "metadata": {},
   "source": [
    "В таблице `parties` 1.4 млн уникальных записей, такое же количество как в `collisions`. Всего 2.75 млн записей об участниках ДТП. Есть информация о типе участника, его номере, страховке, трезвости, физическом состоянии и  пользовании телефоном во время поездки."
   ]
  },
  {
   "cell_type": "code",
   "execution_count": 7,
   "id": "0a6d1f27-7caa-4031-a7dc-9e8b185a6bf5",
   "metadata": {},
   "outputs": [
    {
     "data": {
      "text/html": [
       "<div>\n",
       "<style scoped>\n",
       "    .dataframe tbody tr th:only-of-type {\n",
       "        vertical-align: middle;\n",
       "    }\n",
       "\n",
       "    .dataframe tbody tr th {\n",
       "        vertical-align: top;\n",
       "    }\n",
       "\n",
       "    .dataframe thead th {\n",
       "        text-align: right;\n",
       "    }\n",
       "</style>\n",
       "<table border=\"1\" class=\"dataframe\">\n",
       "  <thead>\n",
       "    <tr style=\"text-align: right;\">\n",
       "      <th></th>\n",
       "      <th>id</th>\n",
       "      <th>case_id</th>\n",
       "      <th>party_number</th>\n",
       "      <th>vehicle_type</th>\n",
       "      <th>vehicle_transmission</th>\n",
       "      <th>vehicle_age</th>\n",
       "    </tr>\n",
       "  </thead>\n",
       "  <tbody>\n",
       "    <tr>\n",
       "      <th>0</th>\n",
       "      <td>1175713</td>\n",
       "      <td>5305032</td>\n",
       "      <td>2</td>\n",
       "      <td>sedan</td>\n",
       "      <td>manual</td>\n",
       "      <td>3</td>\n",
       "    </tr>\n",
       "    <tr>\n",
       "      <th>1</th>\n",
       "      <td>1</td>\n",
       "      <td>3858022</td>\n",
       "      <td>1</td>\n",
       "      <td>sedan</td>\n",
       "      <td>auto</td>\n",
       "      <td>3</td>\n",
       "    </tr>\n",
       "    <tr>\n",
       "      <th>2</th>\n",
       "      <td>1175712</td>\n",
       "      <td>5305030</td>\n",
       "      <td>1</td>\n",
       "      <td>sedan</td>\n",
       "      <td>auto</td>\n",
       "      <td>3</td>\n",
       "    </tr>\n",
       "  </tbody>\n",
       "</table>\n",
       "</div>"
      ],
      "text/plain": [
       "        id  case_id  party_number vehicle_type vehicle_transmission  \\\n",
       "0  1175713  5305032             2        sedan               manual   \n",
       "1        1  3858022             1        sedan                 auto   \n",
       "2  1175712  5305030             1        sedan                 auto   \n",
       "\n",
       "   vehicle_age  \n",
       "0            3  \n",
       "1            3  \n",
       "2            3  "
      ]
     },
     "metadata": {},
     "output_type": "display_data"
    },
    {
     "data": {
      "text/html": [
       "<div>\n",
       "<style scoped>\n",
       "    .dataframe tbody tr th:only-of-type {\n",
       "        vertical-align: middle;\n",
       "    }\n",
       "\n",
       "    .dataframe tbody tr th {\n",
       "        vertical-align: top;\n",
       "    }\n",
       "\n",
       "    .dataframe thead th {\n",
       "        text-align: right;\n",
       "    }\n",
       "</style>\n",
       "<table border=\"1\" class=\"dataframe\">\n",
       "  <thead>\n",
       "    <tr style=\"text-align: right;\">\n",
       "      <th></th>\n",
       "      <th>count</th>\n",
       "      <th>unique</th>\n",
       "    </tr>\n",
       "  </thead>\n",
       "  <tbody>\n",
       "    <tr>\n",
       "      <th>0</th>\n",
       "      <td>1021234</td>\n",
       "      <td>792642</td>\n",
       "    </tr>\n",
       "  </tbody>\n",
       "</table>\n",
       "</div>"
      ],
      "text/plain": [
       "     count  unique\n",
       "0  1021234  792642"
      ]
     },
     "execution_count": 7,
     "metadata": {},
     "output_type": "execute_result"
    }
   ],
   "source": [
    "query = '''\n",
    "SELECT *\n",
    "FROM vehicles\n",
    "LIMIT 3;\n",
    "'''\n",
    "query_2 = '''\n",
    "SELECT COUNT(case_id),\n",
    "       COUNT(DISTINCT case_id) AS unique\n",
    "FROM vehicles;\n",
    "'''\n",
    "display(pd.read_sql_query(sql=query, con=engine))\n",
    "pd.read_sql_query(sql=query_2, con=engine)"
   ]
  },
  {
   "cell_type": "markdown",
   "id": "f46d02d9-b682-4f91-90dc-e45e14b3fa20",
   "metadata": {},
   "source": [
    "В таблице `vehicles` данные об авто, участвовавших в аварии. Всего 1.02 млн записей о машинах и 792.6 тыс уникальных записей о ДТП. Известен тип машины, коробка передач и возраст."
   ]
  },
  {
   "cell_type": "code",
   "execution_count": 8,
   "id": "f3669dcb-9ba4-47a8-b8a5-a0a8224bbde2",
   "metadata": {},
   "outputs": [
    {
     "data": {
      "text/html": [
       "<div>\n",
       "<style scoped>\n",
       "    .dataframe tbody tr th:only-of-type {\n",
       "        vertical-align: middle;\n",
       "    }\n",
       "\n",
       "    .dataframe tbody tr th {\n",
       "        vertical-align: top;\n",
       "    }\n",
       "\n",
       "    .dataframe thead th {\n",
       "        text-align: right;\n",
       "    }\n",
       "</style>\n",
       "<table border=\"1\" class=\"dataframe\">\n",
       "  <thead>\n",
       "    <tr style=\"text-align: right;\">\n",
       "      <th></th>\n",
       "      <th>id</th>\n",
       "      <th>case_id</th>\n",
       "      <th>party_number</th>\n",
       "      <th>party_type</th>\n",
       "      <th>at_fault</th>\n",
       "      <th>insurance_premium</th>\n",
       "      <th>party_sobriety</th>\n",
       "      <th>party_drug_physical</th>\n",
       "      <th>cellphone_in_use</th>\n",
       "      <th>id</th>\n",
       "      <th>case_id</th>\n",
       "      <th>party_number</th>\n",
       "      <th>vehicle_type</th>\n",
       "      <th>vehicle_transmission</th>\n",
       "      <th>vehicle_age</th>\n",
       "    </tr>\n",
       "  </thead>\n",
       "  <tbody>\n",
       "    <tr>\n",
       "      <th>0</th>\n",
       "      <td>4</td>\n",
       "      <td>3858022</td>\n",
       "      <td>1</td>\n",
       "      <td>car</td>\n",
       "      <td>1</td>\n",
       "      <td>47</td>\n",
       "      <td>impairment unknown</td>\n",
       "      <td>G</td>\n",
       "      <td>NaN</td>\n",
       "      <td>1</td>\n",
       "      <td>3858022</td>\n",
       "      <td>1</td>\n",
       "      <td>sedan</td>\n",
       "      <td>auto</td>\n",
       "      <td>3</td>\n",
       "    </tr>\n",
       "    <tr>\n",
       "      <th>1</th>\n",
       "      <td>17</td>\n",
       "      <td>3899450</td>\n",
       "      <td>1</td>\n",
       "      <td>car</td>\n",
       "      <td>0</td>\n",
       "      <td>72</td>\n",
       "      <td>had not been drinking</td>\n",
       "      <td>None</td>\n",
       "      <td>0.0</td>\n",
       "      <td>3</td>\n",
       "      <td>3899450</td>\n",
       "      <td>1</td>\n",
       "      <td>coupe</td>\n",
       "      <td>auto</td>\n",
       "      <td>11</td>\n",
       "    </tr>\n",
       "    <tr>\n",
       "      <th>2</th>\n",
       "      <td>21</td>\n",
       "      <td>3899453</td>\n",
       "      <td>3</td>\n",
       "      <td>car</td>\n",
       "      <td>0</td>\n",
       "      <td>42</td>\n",
       "      <td>had not been drinking</td>\n",
       "      <td>None</td>\n",
       "      <td>0.0</td>\n",
       "      <td>5</td>\n",
       "      <td>3899453</td>\n",
       "      <td>3</td>\n",
       "      <td>sedan</td>\n",
       "      <td>manual</td>\n",
       "      <td>10</td>\n",
       "    </tr>\n",
       "  </tbody>\n",
       "</table>\n",
       "</div>"
      ],
      "text/plain": [
       "   id  case_id  party_number party_type  at_fault  insurance_premium  \\\n",
       "0   4  3858022             1        car         1                 47   \n",
       "1  17  3899450             1        car         0                 72   \n",
       "2  21  3899453             3        car         0                 42   \n",
       "\n",
       "          party_sobriety party_drug_physical  cellphone_in_use  id  case_id  \\\n",
       "0     impairment unknown                   G               NaN   1  3858022   \n",
       "1  had not been drinking                None               0.0   3  3899450   \n",
       "2  had not been drinking                None               0.0   5  3899453   \n",
       "\n",
       "   party_number vehicle_type vehicle_transmission  vehicle_age  \n",
       "0             1        sedan                 auto            3  \n",
       "1             1        coupe                 auto           11  \n",
       "2             3        sedan               manual           10  "
      ]
     },
     "execution_count": 8,
     "metadata": {},
     "output_type": "execute_result"
    }
   ],
   "source": [
    "query = '''\n",
    "SELECT *\n",
    "FROM parties\n",
    "JOIN vehicles ON parties.case_id = vehicles.case_id\n",
    "     AND parties.party_number = vehicles.party_number\n",
    "ORDER BY parties.case_id\n",
    "LIMIT 3\n",
    ";\n",
    "'''\n",
    "pd.read_sql_query(sql=query, con=engine)"
   ]
  },
  {
   "cell_type": "markdown",
   "id": "0823f30d-9a19-48a9-9d45-1abae17c6c58",
   "metadata": {},
   "source": [
    "Все таблицы можно связать по общему ключу `case_id`. `party_number` вместе с `case_id` служит ключем для связи таблиц `parties` и `vehicles`."
   ]
  },
  {
   "cell_type": "markdown",
   "id": "7b0af167-0bf2-40bb-ab6e-a066579cf381",
   "metadata": {},
   "source": [
    "## 3. Статистический анализ факторов ДТП"
   ]
  },
  {
   "cell_type": "markdown",
   "id": "b9cf2001-9975-4bb3-bb3e-684edbf8efd4",
   "metadata": {},
   "source": [
    "Для лучшего понимания данных нужно провести их анализ. Составлю несколько задач.\n",
    "\n",
    "- В какие месяцы происходит наибольшее количество аварий?\n",
    "- Как возраст автомобиля влияет на риск стать виновником ДТП?\n",
    "- Влияет ли сумма страховки на аккуратность вождения и риск попасть в ДТП?\n",
    "- Как часто водители под влиянием алкоголя или лекарств становятся виновниками ДТП?\n",
    "- Как связана серьезность повреждения авто и трезвость водителя?\n",
    "- Какой процент ДТП происходит на дорогах в плохом состоянии?\n",
    "- Какой процент аварий происходит при плохом освещении?\n",
    "- Как часто водитель не виноват в ДТП?"
   ]
  },
  {
   "cell_type": "markdown",
   "id": "1aac4e73-0017-402f-8632-4b0c4a68e749",
   "metadata": {},
   "source": [
    "#### В какие месяцы происходит наибольшее количество аварий?"
   ]
  },
  {
   "cell_type": "code",
   "execution_count": 9,
   "id": "a4b1dea6-cb95-4051-91e8-8e41d6ea8366",
   "metadata": {},
   "outputs": [
    {
     "data": {
      "image/png": "[encoded data removed]",
      "text/plain": [
       "<Figure size 600x400 with 1 Axes>"
      ]
     },
     "metadata": {},
     "output_type": "display_data"
    }
   ],
   "source": [
    "query = '''\n",
    "SELECT CAST(EXTRACT('MONTH' FROM collision_date) AS int) AS collision_month,\n",
    "       COUNT(case_id)\n",
    "FROM collisions\n",
    "GROUP BY CAST(EXTRACT('MONTH' FROM collision_date) AS int);\n",
    "'''\n",
    "pd.read_sql_query(sql=query, con=engine).plot(x='collision_month', y='count', kind='bar', figsize=(6, 4),\\\n",
    "                                              xlabel='месяц', ylabel='кол-во ДТП', legend='', grid=True);"
   ]
  },
  {
   "cell_type": "markdown",
   "id": "808f870e-1f6b-4916-8b53-5b39be9ca6eb",
   "metadata": {},
   "source": [
    "ДТП происходят чаще всего с января по май, в эти месяцы их от 130 до 140 тыс. Самое большое количество аварий - в марте.  В остальные месяцы - от 102 до 112 тыс. Наименьшее количество аварий происходит летом."
   ]
  },
  {
   "cell_type": "code",
   "execution_count": 10,
   "id": "be8ad5e4-c34f-4d7e-be16-4837e253dd26",
   "metadata": {},
   "outputs": [
    {
     "data": {
      "text/html": [
       "<div>\n",
       "<style scoped>\n",
       "    .dataframe tbody tr th:only-of-type {\n",
       "        vertical-align: middle;\n",
       "    }\n",
       "\n",
       "    .dataframe tbody tr th {\n",
       "        vertical-align: top;\n",
       "    }\n",
       "\n",
       "    .dataframe thead th {\n",
       "        text-align: right;\n",
       "    }\n",
       "</style>\n",
       "<table border=\"1\" class=\"dataframe\">\n",
       "  <thead>\n",
       "    <tr style=\"text-align: right;\">\n",
       "      <th></th>\n",
       "      <th>0</th>\n",
       "      <th>1</th>\n",
       "      <th>2</th>\n",
       "      <th>3</th>\n",
       "      <th>4</th>\n",
       "      <th>5</th>\n",
       "    </tr>\n",
       "  </thead>\n",
       "  <tbody>\n",
       "    <tr>\n",
       "      <th>collision_year</th>\n",
       "      <td>2009</td>\n",
       "      <td>2010</td>\n",
       "      <td>2011</td>\n",
       "      <td>2012</td>\n",
       "      <td>2013</td>\n",
       "      <td>2020</td>\n",
       "    </tr>\n",
       "    <tr>\n",
       "      <th>count</th>\n",
       "      <td>426228</td>\n",
       "      <td>416490</td>\n",
       "      <td>402428</td>\n",
       "      <td>154547</td>\n",
       "      <td>305</td>\n",
       "      <td>2</td>\n",
       "    </tr>\n",
       "  </tbody>\n",
       "</table>\n",
       "</div>"
      ],
      "text/plain": [
       "                     0       1       2       3     4     5\n",
       "collision_year    2009    2010    2011    2012  2013  2020\n",
       "count           426228  416490  402428  154547   305     2"
      ]
     },
     "execution_count": 10,
     "metadata": {},
     "output_type": "execute_result"
    }
   ],
   "source": [
    "# новый код\n",
    "query = '''\n",
    "SELECT CAST(EXTRACT('YEAR' FROM collision_date) AS int) AS collision_year,\n",
    "       COUNT(case_id)\n",
    "FROM collisions\n",
    "GROUP BY CAST(EXTRACT('YEAR' FROM collision_date) AS int);\n",
    "'''\n",
    "pd.read_sql_query(sql=query, con=engine).T"
   ]
  },
  {
   "cell_type": "code",
   "execution_count": 11,
   "id": "07a0fcb7-6bf5-4529-b079-618f63c0143c",
   "metadata": {},
   "outputs": [
    {
     "data": {
      "image/png": "[encoded data removed]",
      "text/plain": [
       "<Figure size 600x400 with 1 Axes>"
      ]
     },
     "metadata": {},
     "output_type": "display_data"
    }
   ],
   "source": [
    "# новый код\n",
    "query = '''\n",
    "SELECT CAST(EXTRACT('MONTH' FROM collision_date) AS int) AS collision_month,\n",
    "       COUNT(case_id)\n",
    "FROM collisions\n",
    "WHERE CAST(EXTRACT('YEAR' FROM collision_date) AS int) < 2012\n",
    "GROUP BY CAST(EXTRACT('MONTH' FROM collision_date) AS int);\n",
    "'''\n",
    "pd.read_sql_query(sql=query, con=engine).plot(x='collision_month', y='count', kind='bar', figsize=(6, 4),\\\n",
    "                                              xlabel='месяц', ylabel='кол-во ДТП', legend='', grid=True);"
   ]
  },
  {
   "cell_type": "markdown",
   "id": "c97f4532-fc16-43a9-90a2-18d286b90e8b",
   "metadata": {},
   "source": [
    "#### Как возраст автомобиля влияет на риск стать виновником ДТП?"
   ]
  },
  {
   "cell_type": "code",
   "execution_count": 12,
   "id": "08dd80c9-3a47-4298-9ce3-ee006aa8a750",
   "metadata": {},
   "outputs": [
    {
     "data": {
      "image/png": "[encoded data removed]",
      "text/plain": [
       "<Figure size 700x500 with 2 Axes>"
      ]
     },
     "metadata": {},
     "output_type": "display_data"
    }
   ],
   "source": [
    "query = '''\n",
    "WITH\n",
    "age_fault AS (\n",
    "    SELECT vehicle_age,\n",
    "           at_fault,\n",
    "           COUNT(*)\n",
    "    FROM vehicles as v\n",
    "    JOIN parties as p ON v.case_id = p.case_id AND v.party_number = p.party_number\n",
    "    WHERE party_type = 'car'\n",
    "    GROUP BY vehicle_age, at_fault)\n",
    "\n",
    "SELECT af.vehicle_age,\n",
    "       af.at_fault,\n",
    "       SUM(count) OVER (PARTITION BY vehicle_age),\n",
    "       count / SUM(count) OVER (PARTITION BY vehicle_age) * 100 AS fault_percent\n",
    "FROM age_fault AS af\n",
    ";\n",
    "'''\n",
    "df = pd.read_sql_query(sql=query, con=engine).dropna().pivot(index=['vehicle_age'], columns=['at_fault'],\\\n",
    "                                                             values=['fault_percent', 'sum'])\n",
    "ax = df.plot(y=('fault_percent', 1), kind='barh', figsize=(7, 5), legend='', grid=True,\\\n",
    "             xlabel='процент виновных в ДТП', ylabel='возраст авто')\n",
    "ax2 = ax.twinx(); ax2.set_ylim(ax.get_ylim()); ax2.set_ylabel('всего авто')\n",
    "ax2.set_yticks(np.arange(len(df['sum', 0])), labels=df['sum', 0]);"
   ]
  },
  {
   "cell_type": "markdown",
   "id": "1c00b272-6c53-4371-b785-14ddde1380d3",
   "metadata": {},
   "source": [
    "В данные попали 15 авто с возрастом 161 год - должно быть какая-то ошибка. Также машин старше 15 лет очень мало, анализировать их не будем.       \n",
    "\n",
    "Прямой зависимости, вроде \"чем старше машина, тем больше риск устроить ДТП\" нет. У машин возрастом 14 лет самый большой процент виновных в ДТП водителей - около 57%, чуть меньше процент у 15-летних машин. У авто 2- и 3-летней давности 55% водителей создают ДТП.      \n",
    "Водители новеньких и еще не совсем старых машин реже всего становятся виновниками ДТП - у машин возрастом 5-10 лет в среднем всего в 37% случаев, у машин возрастом год и меньше - в среднем в 43% случаев.         \n",
    "Может, такая статистика связана с техническим состоянием машин определенного возраста, или с общей надежностью машин определенного года выпуска. Или, может, водители больше заботятся о своих авто когда только приобрели или уже \"знакомы\" с ними. В любом случае, для каршеринга больше смысла смотреть на состояние авто или стаж водителя, чем просто на возраст авто."
   ]
  },
  {
   "cell_type": "markdown",
   "id": "da48b294-e980-481f-a5aa-9c6dc7141edb",
   "metadata": {},
   "source": [
    "#### Влияет ли сумма страховки на аккуратность вождения и риск попасть в ДТП?"
   ]
  },
  {
   "cell_type": "code",
   "execution_count": 13,
   "id": "0afbe3ed-9660-4380-acc3-1f44841401f5",
   "metadata": {},
   "outputs": [
    {
     "data": {
      "image/png": "[encoded data removed]",
      "text/plain": [
       "<Figure size 700x400 with 1 Axes>"
      ]
     },
     "metadata": {},
     "output_type": "display_data"
    }
   ],
   "source": [
    "query = '''\n",
    "SELECT insurance_premium,\n",
    "       at_fault, \n",
    "       COUNT(at_fault)\n",
    "FROM parties\n",
    "WHERE party_type = 'car'\n",
    "GROUP BY insurance_premium, at_fault\n",
    "ORDER BY at_fault, insurance_premium;\n",
    "'''\n",
    "df = pd.read_sql_query(sql=query, con=engine)\n",
    "ax = df[df['at_fault'] == 0].plot(x='insurance_premium', y='count', label='не виновен', style='.-');\n",
    "df[df['at_fault'] == 1].plot(x='insurance_premium', y='count', label='виновен', grid=True,\\\n",
    "                             ax=ax, xlabel='размер страховки', ylabel='кол-во водителей', figsize=(7, 4), style='.-');\n",
    "plt.show()"
   ]
  },
  {
   "cell_type": "markdown",
   "id": "898e95a9-4a1e-45f8-a06e-a5e8597ddf9a",
   "metadata": {},
   "source": [
    "Большинство водителей страхуют свои авто на сумму от 16 до 65 тысяч. Водители со страховкой меньше 30 тыс гораздо чаще оказываются виновны в ДТП. От 30 до 65 тыс наоборот - чаще невиновны. Редко кто страхует машину на сумму больше 80 тыс, но водители, кто все же это сделал, немного чаще устраивают аварии, чем просто попадают в них.\n",
    "Виновниками ДТП чаще всего становились водители, застраховавшие свои авто на сумму 18-20 тыс. В этом же диапазоне самое большое соотношение виновных к невиновным - в среднем 46000 к 25000. Самый \"безопасный\" диапазон  это 42-45 тыс - в среднем на 16000 виновных водителей приходится 25000 невиновных.\n",
    "\n",
    "В каршеринге размер страховки машины водитель, скорее всего, знать не будет. Насколько аккуратно водитель будет обращаться с машиной из парка нужно изучать на данных об этих машинах, а данные про страховку вряд ли сделают предсказания модели точнее."
   ]
  },
  {
   "cell_type": "markdown",
   "id": "166be0b1-9bfa-41d4-9990-1279341c1a12",
   "metadata": {},
   "source": [
    "#### Как часто водители под влиянием алкоголя или лекарств становятся виновниками ДТП?"
   ]
  },
  {
   "cell_type": "code",
   "execution_count": 14,
   "id": "e7a27a32-f13a-4e5f-b9c8-6ab9bc2f67ea",
   "metadata": {},
   "outputs": [
    {
     "data": {
      "image/png": "[encoded data removed]",
      "text/plain": [
       "<Figure size 600x400 with 1 Axes>"
      ]
     },
     "metadata": {},
     "output_type": "display_data"
    }
   ],
   "source": [
    "query = '''\n",
    "WITH \n",
    "drug_count AS (\n",
    "    SELECT CASE\n",
    "                WHEN party_drug_physical IS NULL THEN 'no impairment'\n",
    "                WHEN party_drug_physical = 'G' THEN 'unknown'\n",
    "                ELSE party_drug_physical\n",
    "           END,\n",
    "           at_fault, \n",
    "           COUNT(*) \n",
    "    FROM parties\n",
    "    WHERE party_type = 'car'\n",
    "    GROUP BY party_drug_physical, at_fault)\n",
    "\n",
    "SELECT *,\n",
    "       100 - LAG(count) OVER (PARTITION BY party_drug_physical) /\n",
    "               SUM(count) OVER (PARTITION BY party_drug_physical) * 100 AS drug_percent\n",
    "FROM drug_count\n",
    ";'''\n",
    "ax = pd.read_sql_query(sql=query, con=engine).dropna().plot(x='party_drug_physical', y='drug_percent', kind='barh',\n",
    "                                                       figsize=(6, 4), ylabel='', xlabel='Процент виновных в ДТП', legend='');\n",
    "ax.bar_label(ax.containers[0], fmt='%.1f', label_type='center');"
   ]
  },
  {
   "cell_type": "markdown",
   "id": "2c784e7f-dd8d-4242-8aef-0d9d48c986b0",
   "metadata": {},
   "source": [
    "Уставшие или сонные водители устраивают ДТП чаще всего - в почти 96% случаев. Водители под действием лекарств - в 93.5% случаев. Самый маленький процент виновных в ДТП, почему-то, у водителей с каким-либо физическим ограничением - всего 44.9%. Среди водителей в нормальном состоянии ДТП устроили только 46.8%."
   ]
  },
  {
   "cell_type": "code",
   "execution_count": 15,
   "id": "b7ef8a84-9675-4e25-99d9-8c1cb3bd3249",
   "metadata": {},
   "outputs": [
    {
     "data": {
      "image/png": "[encoded data removed]",
      "text/plain": [
       "<Figure size 600x400 with 1 Axes>"
      ]
     },
     "metadata": {},
     "output_type": "display_data"
    }
   ],
   "source": [
    "query = '''\n",
    "WITH \n",
    "sober_count AS (\n",
    "    SELECT party_sobriety,\n",
    "           at_fault, \n",
    "           COUNT(*) \n",
    "    FROM parties\n",
    "    WHERE party_type = 'car'\n",
    "    GROUP BY party_sobriety, at_fault)\n",
    "\n",
    "SELECT *,\n",
    "       100 - LAG(count) OVER (PARTITION BY party_sobriety) /\n",
    "               SUM(count) OVER (PARTITION BY party_sobriety) * 100 AS sober_percent\n",
    "FROM sober_count\n",
    ";'''\n",
    "ax = pd.read_sql_query(sql=query, con=engine).dropna().plot(x='party_sobriety', y='sober_percent', kind='barh',\n",
    "                                                       figsize=(6, 4), ylabel='', xlabel='Процент виновных в ДТП', legend='');\n",
    "ax.bar_label(ax.containers[0], fmt='%.1f', label_type='center');"
   ]
  },
  {
   "cell_type": "markdown",
   "id": "86373164-0d71-4118-a5b7-2cd91f73a621",
   "metadata": {},
   "source": [
    "Если нетрезвый водитель сел за руль и произошла авария, то в 95% случаев виновником будет он. Трезвые водители устраивают ДТП в 44% случаев. Те, у кого степень трезвости не удалось установить, в среднем становятся виновниками в 81% случаев. Те, кто пил, но не находится под действием алкоголя, стали причиной аварии в 69% случаев, что гораздо больше, чем у просто трезвых водителей."
   ]
  },
  {
   "cell_type": "markdown",
   "id": "00eeafe9-5fcb-4f32-8e5a-12965f97fc16",
   "metadata": {},
   "source": [
    "#### Как связана серьезность повреждения авто и трезвость водителя?"
   ]
  },
  {
   "cell_type": "code",
   "execution_count": 16,
   "id": "da9df241-7bab-4d9b-b556-723179a81875",
   "metadata": {},
   "outputs": [
    {
     "data": {
      "text/html": [
       "<style type=\"text/css\">\n",
       "#T_e8bd6_row0_col0 {\n",
       "  background-color: #4896c8;\n",
       "  color: #f1f1f1;\n",
       "}\n",
       "#T_e8bd6_row0_col1 {\n",
       "  background-color: #cee0f2;\n",
       "  color: #000000;\n",
       "}\n",
       "#T_e8bd6_row0_col2, #T_e8bd6_row1_col4, #T_e8bd6_row4_col1, #T_e8bd6_row5_col0, #T_e8bd6_row5_col3 {\n",
       "  background-color: #f7fbff;\n",
       "  color: #000000;\n",
       "}\n",
       "#T_e8bd6_row0_col3 {\n",
       "  background-color: #68acd5;\n",
       "  color: #f1f1f1;\n",
       "}\n",
       "#T_e8bd6_row0_col4 {\n",
       "  background-color: #1b69af;\n",
       "  color: #f1f1f1;\n",
       "}\n",
       "#T_e8bd6_row1_col0 {\n",
       "  background-color: #519ccc;\n",
       "  color: #f1f1f1;\n",
       "}\n",
       "#T_e8bd6_row1_col1 {\n",
       "  background-color: #1562a9;\n",
       "  color: #f1f1f1;\n",
       "}\n",
       "#T_e8bd6_row1_col2 {\n",
       "  background-color: #4b98ca;\n",
       "  color: #f1f1f1;\n",
       "}\n",
       "#T_e8bd6_row1_col3 {\n",
       "  background-color: #4d99ca;\n",
       "  color: #f1f1f1;\n",
       "}\n",
       "#T_e8bd6_row2_col0, #T_e8bd6_row2_col1, #T_e8bd6_row2_col3, #T_e8bd6_row3_col2, #T_e8bd6_row4_col4 {\n",
       "  background-color: #08306b;\n",
       "  color: #f1f1f1;\n",
       "}\n",
       "#T_e8bd6_row2_col2 {\n",
       "  background-color: #e0ecf8;\n",
       "  color: #000000;\n",
       "}\n",
       "#T_e8bd6_row2_col4 {\n",
       "  background-color: #e3eef8;\n",
       "  color: #000000;\n",
       "}\n",
       "#T_e8bd6_row3_col0 {\n",
       "  background-color: #d5e5f4;\n",
       "  color: #000000;\n",
       "}\n",
       "#T_e8bd6_row3_col1 {\n",
       "  background-color: #85bcdc;\n",
       "  color: #000000;\n",
       "}\n",
       "#T_e8bd6_row3_col3 {\n",
       "  background-color: #d9e7f5;\n",
       "  color: #000000;\n",
       "}\n",
       "#T_e8bd6_row3_col4 {\n",
       "  background-color: #ecf4fb;\n",
       "  color: #000000;\n",
       "}\n",
       "#T_e8bd6_row4_col0 {\n",
       "  background-color: #d7e6f5;\n",
       "  color: #000000;\n",
       "}\n",
       "#T_e8bd6_row4_col2 {\n",
       "  background-color: #f0f6fd;\n",
       "  color: #000000;\n",
       "}\n",
       "#T_e8bd6_row4_col3 {\n",
       "  background-color: #eef5fc;\n",
       "  color: #000000;\n",
       "}\n",
       "#T_e8bd6_row5_col1 {\n",
       "  background-color: #cde0f1;\n",
       "  color: #000000;\n",
       "}\n",
       "#T_e8bd6_row5_col2 {\n",
       "  background-color: #105ba4;\n",
       "  color: #f1f1f1;\n",
       "}\n",
       "#T_e8bd6_row5_col4 {\n",
       "  background-color: #a6cee4;\n",
       "  color: #000000;\n",
       "}\n",
       "</style>\n",
       "<table id=\"T_e8bd6\">\n",
       "  <thead>\n",
       "    <tr>\n",
       "      <th class=\"index_name level0\" >collision_damage</th>\n",
       "      <th id=\"T_e8bd6_level0_col0\" class=\"col_heading level0 col0\" >fatal</th>\n",
       "      <th id=\"T_e8bd6_level0_col1\" class=\"col_heading level0 col1\" >middle damage</th>\n",
       "      <th id=\"T_e8bd6_level0_col2\" class=\"col_heading level0 col2\" >scratch</th>\n",
       "      <th id=\"T_e8bd6_level0_col3\" class=\"col_heading level0 col3\" >severe damage</th>\n",
       "      <th id=\"T_e8bd6_level0_col4\" class=\"col_heading level0 col4\" >small damage</th>\n",
       "    </tr>\n",
       "    <tr>\n",
       "      <th class=\"index_name level0\" >party_sobriety</th>\n",
       "      <th class=\"blank col0\" >&nbsp;</th>\n",
       "      <th class=\"blank col1\" >&nbsp;</th>\n",
       "      <th class=\"blank col2\" >&nbsp;</th>\n",
       "      <th class=\"blank col3\" >&nbsp;</th>\n",
       "      <th class=\"blank col4\" >&nbsp;</th>\n",
       "    </tr>\n",
       "  </thead>\n",
       "  <tbody>\n",
       "    <tr>\n",
       "      <th id=\"T_e8bd6_level0_row0\" class=\"row_heading level0 row0\" >had been drinking, impairment unknown</th>\n",
       "      <td id=\"T_e8bd6_row0_col0\" class=\"data row0 col0\" >1.532070</td>\n",
       "      <td id=\"T_e8bd6_row0_col1\" class=\"data row0 col1\" >7.907037</td>\n",
       "      <td id=\"T_e8bd6_row0_col2\" class=\"data row0 col2\" >12.418852</td>\n",
       "      <td id=\"T_e8bd6_row0_col3\" class=\"data row0 col3\" >3.109582</td>\n",
       "      <td id=\"T_e8bd6_row0_col4\" class=\"data row0 col4\" >75.032459</td>\n",
       "    </tr>\n",
       "    <tr>\n",
       "      <th id=\"T_e8bd6_level0_row1\" class=\"row_heading level0 row1\" >had been drinking, not under influence</th>\n",
       "      <td id=\"T_e8bd6_row1_col0\" class=\"data row1 col0\" >1.461155</td>\n",
       "      <td id=\"T_e8bd6_row1_col1\" class=\"data row1 col1\" >16.500356</td>\n",
       "      <td id=\"T_e8bd6_row1_col2\" class=\"data row1 col2\" >22.211333</td>\n",
       "      <td id=\"T_e8bd6_row1_col3\" class=\"data row1 col3\" >3.430150</td>\n",
       "      <td id=\"T_e8bd6_row1_col4\" class=\"data row1 col4\" >56.397006</td>\n",
       "    </tr>\n",
       "    <tr>\n",
       "      <th id=\"T_e8bd6_level0_row2\" class=\"row_heading level0 row2\" >had been drinking, under influence</th>\n",
       "      <td id=\"T_e8bd6_row2_col0\" class=\"data row2 col0\" >2.478113</td>\n",
       "      <td id=\"T_e8bd6_row2_col1\" class=\"data row2 col1\" >19.290694</td>\n",
       "      <td id=\"T_e8bd6_row2_col2\" class=\"data row2 col2\" >14.316047</td>\n",
       "      <td id=\"T_e8bd6_row2_col3\" class=\"data row2 col3\" >5.063843</td>\n",
       "      <td id=\"T_e8bd6_row2_col4\" class=\"data row2 col4\" >58.851304</td>\n",
       "    </tr>\n",
       "    <tr>\n",
       "      <th id=\"T_e8bd6_level0_row3\" class=\"row_heading level0 row3\" >had not been drinking</th>\n",
       "      <td id=\"T_e8bd6_row3_col0\" class=\"data row3 col0\" >0.480351</td>\n",
       "      <td id=\"T_e8bd6_row3_col1\" class=\"data row3 col1\" >11.171074</td>\n",
       "      <td id=\"T_e8bd6_row3_col2\" class=\"data row3 col2\" >28.863822</td>\n",
       "      <td id=\"T_e8bd6_row3_col3\" class=\"data row3 col3\" >1.689399</td>\n",
       "      <td id=\"T_e8bd6_row3_col4\" class=\"data row3 col4\" >57.795354</td>\n",
       "    </tr>\n",
       "    <tr>\n",
       "      <th id=\"T_e8bd6_level0_row4\" class=\"row_heading level0 row4\" >impairment unknown</th>\n",
       "      <td id=\"T_e8bd6_row4_col0\" class=\"data row4 col0\" >0.454960</td>\n",
       "      <td id=\"T_e8bd6_row4_col1\" class=\"data row4 col1\" >4.899914</td>\n",
       "      <td id=\"T_e8bd6_row4_col2\" class=\"data row4 col2\" >13.022043</td>\n",
       "      <td id=\"T_e8bd6_row4_col3\" class=\"data row4 col3\" >1.261913</td>\n",
       "      <td id=\"T_e8bd6_row4_col4\" class=\"data row4 col4\" >80.361170</td>\n",
       "    </tr>\n",
       "    <tr>\n",
       "      <th id=\"T_e8bd6_level0_row5\" class=\"row_heading level0 row5\" >not applicable</th>\n",
       "      <td id=\"T_e8bd6_row5_col0\" class=\"data row5 col0\" >0.063904</td>\n",
       "      <td id=\"T_e8bd6_row5_col1\" class=\"data row5 col1\" >7.951433</td>\n",
       "      <td id=\"T_e8bd6_row5_col2\" class=\"data row5 col2\" >26.163958</td>\n",
       "      <td id=\"T_e8bd6_row5_col3\" class=\"data row5 col3\" >1.077232</td>\n",
       "      <td id=\"T_e8bd6_row5_col4\" class=\"data row5 col4\" >64.743473</td>\n",
       "    </tr>\n",
       "  </tbody>\n",
       "</table>\n"
      ],
      "text/plain": [
       "<pandas.io.formats.style.Styler at 0xc26e9fdf10>"
      ]
     },
     "execution_count": 16,
     "metadata": {},
     "output_type": "execute_result"
    }
   ],
   "source": [
    "query = '''\n",
    "WITH sobr_count AS\n",
    "(SELECT party_sobriety,\n",
    "       collision_damage,\n",
    "       COUNT(*)\n",
    "FROM collisions\n",
    "JOIN parties ON collisions.case_id = parties.case_id\n",
    "WHERE party_type = 'car'\n",
    "    AND at_fault = 1 -- нужно ли смотреть только виновных?\n",
    "GROUP BY party_sobriety, collision_damage)\n",
    "\n",
    "SELECT *,\n",
    "       count / SUM(count) OVER (PARTITION BY party_sobriety) * 100 AS percent\n",
    "FROM sobr_count\n",
    ";'''\n",
    "df = pd.read_sql_query(sql=query, con=engine).dropna()\n",
    "\n",
    "df.pivot(index='party_sobriety', columns=['collision_damage'], values='percent')\\\n",
    "        .style.background_gradient(cmap='Blues')#.format(precision=2)"
   ]
  },
  {
   "cell_type": "markdown",
   "id": "e04aa9c2-887c-4f9c-9585-4abf102efaaa",
   "metadata": {},
   "source": [
    "Похоже, серьезность повреждения авто сильно зависит от состояния водителя.     \n",
    "В большинсте ДТП со средними, серьезными и фатальными повреждениями виноваты нетрезвые водители. Царапины, в основном, сделаны либо водителями не под влиянием алкоголя, либо непроверявшимися. За маленькие повреждения ответственны чаще всего водители, состояние которых точно не проверялось."
   ]
  },
  {
   "cell_type": "markdown",
   "id": "dbd13182-c0b6-4918-b484-2a96e26751eb",
   "metadata": {},
   "source": [
    "#### Какой процент ДТП происходит на дорогах в плохом состоянии?"
   ]
  },
  {
   "cell_type": "code",
   "execution_count": 17,
   "id": "59e741f1-a724-41a0-a4f9-26b5c68e1563",
   "metadata": {},
   "outputs": [
    {
     "data": {
      "text/html": [
       "<style type=\"text/css\">\n",
       "#T_e0d03_row0_col0, #T_e0d03_row1_col3, #T_e0d03_row2_col0, #T_e0d03_row3_col0, #T_e0d03_row4_col0, #T_e0d03_row5_col0, #T_e0d03_row6_col0, #T_e0d03_row7_col0 {\n",
       "  background-color: #08306b;\n",
       "  color: #f1f1f1;\n",
       "}\n",
       "#T_e0d03_row0_col1, #T_e0d03_row0_col2, #T_e0d03_row1_col2, #T_e0d03_row2_col1, #T_e0d03_row3_col2, #T_e0d03_row4_col1, #T_e0d03_row5_col1, #T_e0d03_row5_col2, #T_e0d03_row6_col1, #T_e0d03_row7_col1 {\n",
       "  background-color: #f7fbff;\n",
       "  color: #000000;\n",
       "}\n",
       "#T_e0d03_row0_col3 {\n",
       "  background-color: #eaf2fb;\n",
       "  color: #000000;\n",
       "}\n",
       "#T_e0d03_row1_col0 {\n",
       "  background-color: #e9f2fa;\n",
       "  color: #000000;\n",
       "}\n",
       "#T_e0d03_row1_col1, #T_e0d03_row4_col2 {\n",
       "  background-color: #f6faff;\n",
       "  color: #000000;\n",
       "}\n",
       "#T_e0d03_row2_col2 {\n",
       "  background-color: #f1f7fd;\n",
       "  color: #000000;\n",
       "}\n",
       "#T_e0d03_row2_col3 {\n",
       "  background-color: #e5eff9;\n",
       "  color: #000000;\n",
       "}\n",
       "#T_e0d03_row3_col1 {\n",
       "  background-color: #f2f8fd;\n",
       "  color: #000000;\n",
       "}\n",
       "#T_e0d03_row3_col3, #T_e0d03_row5_col3 {\n",
       "  background-color: #e0ecf8;\n",
       "  color: #000000;\n",
       "}\n",
       "#T_e0d03_row4_col3 {\n",
       "  background-color: #e2edf8;\n",
       "  color: #000000;\n",
       "}\n",
       "#T_e0d03_row6_col2 {\n",
       "  background-color: #ddeaf7;\n",
       "  color: #000000;\n",
       "}\n",
       "#T_e0d03_row6_col3 {\n",
       "  background-color: #c1d9ed;\n",
       "  color: #000000;\n",
       "}\n",
       "#T_e0d03_row7_col2 {\n",
       "  background-color: #d8e7f5;\n",
       "  color: #000000;\n",
       "}\n",
       "#T_e0d03_row7_col3 {\n",
       "  background-color: #dbe9f6;\n",
       "  color: #000000;\n",
       "}\n",
       "</style>\n",
       "<table id=\"T_e0d03\">\n",
       "  <thead>\n",
       "    <tr>\n",
       "      <th class=\"index_name level0\" >road_surface</th>\n",
       "      <th id=\"T_e0d03_level0_col0\" class=\"col_heading level0 col0\" >dry</th>\n",
       "      <th id=\"T_e0d03_level0_col1\" class=\"col_heading level0 col1\" >slippery</th>\n",
       "      <th id=\"T_e0d03_level0_col2\" class=\"col_heading level0 col2\" >snowy</th>\n",
       "      <th id=\"T_e0d03_level0_col3\" class=\"col_heading level0 col3\" >wet</th>\n",
       "    </tr>\n",
       "    <tr>\n",
       "      <th class=\"index_name level0\" >road_condition_1</th>\n",
       "      <th class=\"blank col0\" >&nbsp;</th>\n",
       "      <th class=\"blank col1\" >&nbsp;</th>\n",
       "      <th class=\"blank col2\" >&nbsp;</th>\n",
       "      <th class=\"blank col3\" >&nbsp;</th>\n",
       "    </tr>\n",
       "  </thead>\n",
       "  <tbody>\n",
       "    <tr>\n",
       "      <th id=\"T_e0d03_level0_row0\" class=\"row_heading level0 row0\" >construction</th>\n",
       "      <td id=\"T_e0d03_row0_col0\" class=\"data row0 col0\" >1.276429</td>\n",
       "      <td id=\"T_e0d03_row0_col1\" class=\"data row0 col1\" >0.003786</td>\n",
       "      <td id=\"T_e0d03_row0_col2\" class=\"data row0 col2\" >0.003643</td>\n",
       "      <td id=\"T_e0d03_row0_col3\" class=\"data row0 col3\" >0.088429</td>\n",
       "    </tr>\n",
       "    <tr>\n",
       "      <th id=\"T_e0d03_level0_row1\" class=\"row_heading level0 row1\" >flooded</th>\n",
       "      <td id=\"T_e0d03_row1_col0\" class=\"data row1 col0\" >0.006000</td>\n",
       "      <td id=\"T_e0d03_row1_col1\" class=\"data row1 col1\" >0.001214</td>\n",
       "      <td id=\"T_e0d03_row1_col2\" class=\"data row1 col2\" >0.000857</td>\n",
       "      <td id=\"T_e0d03_row1_col3\" class=\"data row1 col3\" >0.071000</td>\n",
       "    </tr>\n",
       "    <tr>\n",
       "      <th id=\"T_e0d03_level0_row2\" class=\"row_heading level0 row2\" >holes</th>\n",
       "      <td id=\"T_e0d03_row2_col0\" class=\"data row2 col0\" >0.215357</td>\n",
       "      <td id=\"T_e0d03_row2_col1\" class=\"data row2 col1\" >0.004786</td>\n",
       "      <td id=\"T_e0d03_row2_col2\" class=\"data row2 col2\" >0.011714</td>\n",
       "      <td id=\"T_e0d03_row2_col3\" class=\"data row2 col3\" >0.024429</td>\n",
       "    </tr>\n",
       "    <tr>\n",
       "      <th id=\"T_e0d03_level0_row3\" class=\"row_heading level0 row3\" >loose material</th>\n",
       "      <td id=\"T_e0d03_row3_col0\" class=\"data row3 col0\" >0.162214</td>\n",
       "      <td id=\"T_e0d03_row3_col1\" class=\"data row3 col1\" >0.010714</td>\n",
       "      <td id=\"T_e0d03_row3_col2\" class=\"data row3 col2\" >0.006857</td>\n",
       "      <td id=\"T_e0d03_row3_col3\" class=\"data row3 col3\" >0.024786</td>\n",
       "    </tr>\n",
       "    <tr>\n",
       "      <th id=\"T_e0d03_level0_row4\" class=\"row_heading level0 row4\" >normal</th>\n",
       "      <td id=\"T_e0d03_row4_col0\" class=\"data row4 col0\" >85.970214</td>\n",
       "      <td id=\"T_e0d03_row4_col1\" class=\"data row4 col1\" >0.055929</td>\n",
       "      <td id=\"T_e0d03_row4_col2\" class=\"data row4 col2\" >0.426643</td>\n",
       "      <td id=\"T_e0d03_row4_col3\" class=\"data row4 col3\" >9.308643</td>\n",
       "    </tr>\n",
       "    <tr>\n",
       "      <th id=\"T_e0d03_level0_row5\" class=\"row_heading level0 row5\" >obstruction</th>\n",
       "      <td id=\"T_e0d03_row5_col0\" class=\"data row5 col0\" >0.330929</td>\n",
       "      <td id=\"T_e0d03_row5_col1\" class=\"data row5 col1\" >0.001857</td>\n",
       "      <td id=\"T_e0d03_row5_col2\" class=\"data row5 col2\" >0.002643</td>\n",
       "      <td id=\"T_e0d03_row5_col3\" class=\"data row5 col3\" >0.039786</td>\n",
       "    </tr>\n",
       "    <tr>\n",
       "      <th id=\"T_e0d03_level0_row6\" class=\"row_heading level0 row6\" >other</th>\n",
       "      <td id=\"T_e0d03_row6_col0\" class=\"data row6 col0\" >0.249786</td>\n",
       "      <td id=\"T_e0d03_row6_col1\" class=\"data row6 col1\" >0.018786</td>\n",
       "      <td id=\"T_e0d03_row6_col2\" class=\"data row6 col2\" >0.049000</td>\n",
       "      <td id=\"T_e0d03_row6_col3\" class=\"data row6 col3\" >0.080786</td>\n",
       "    </tr>\n",
       "    <tr>\n",
       "      <th id=\"T_e0d03_level0_row7\" class=\"row_heading level0 row7\" >reduced width</th>\n",
       "      <td id=\"T_e0d03_row7_col0\" class=\"data row7 col0\" >0.085071</td>\n",
       "      <td id=\"T_e0d03_row7_col1\" class=\"data row7 col1\" >0.000357</td>\n",
       "      <td id=\"T_e0d03_row7_col2\" class=\"data row7 col2\" >0.013714</td>\n",
       "      <td id=\"T_e0d03_row7_col3\" class=\"data row7 col3\" >0.012286</td>\n",
       "    </tr>\n",
       "  </tbody>\n",
       "</table>\n"
      ],
      "text/plain": [
       "<pandas.io.formats.style.Styler at 0xc26c63e310>"
      ]
     },
     "execution_count": 17,
     "metadata": {},
     "output_type": "execute_result"
    }
   ],
   "source": [
    "query = '''\n",
    "WITH\n",
    "condition_count AS\n",
    "    (SELECT road_condition_1,\n",
    "            road_surface,\n",
    "            COUNT(*)\n",
    "     FROM collisions\n",
    "     GROUP BY road_condition_1, road_surface)\n",
    "\n",
    "SELECT *,\n",
    "       count / SUM(count) OVER () * 100 as percent\n",
    "FROM condition_count\n",
    ";'''\n",
    "df = pd.read_sql_query(sql=query, con=engine).dropna()\n",
    "\n",
    "df.pivot(index='road_condition_1', columns=['road_surface'], values='percent').style.background_gradient(cmap='Blues', axis=1)#\\\n",
    "#.format(precision=3)"
   ]
  },
  {
   "cell_type": "markdown",
   "id": "882003cd-b723-4ce3-acba-89fa337bf9db",
   "metadata": {},
   "source": [
    "Какой бы ни была дорога - насыпной, полуразрушенной или с гигантскими ямами - больше всего ДТП зарегистрировано на обычной, сухой дороге: почти 86%. 9.3% всех аварий произошло на мокрой, но неразрушенной дороге. Еще 1.2% - на сухом участке, где велись дорожные работы, и 0.4% - на заснеженной дороге. Остальные 4.1% произошли при других условиях, но также в основном на сухой дороге."
   ]
  },
  {
   "cell_type": "markdown",
   "id": "cf1a2e1e-b794-490e-8655-49692d7d2e52",
   "metadata": {},
   "source": [
    "#### Какой процент аварий происходит при плохом освещении?"
   ]
  },
  {
   "cell_type": "code",
   "execution_count": 18,
   "id": "c9fae46d-1175-4c65-973e-2e57642798de",
   "metadata": {},
   "outputs": [
    {
     "data": {
      "image/png": "[encoded data removed]",
      "text/plain": [
       "<Figure size 600x400 with 1 Axes>"
      ]
     },
     "metadata": {},
     "output_type": "display_data"
    }
   ],
   "source": [
    "query = '''\n",
    "WITH\n",
    "lighting_count AS\n",
    "    (SELECT lighting,\n",
    "            COUNT(*)\n",
    "     FROM collisions\n",
    "     GROUP BY lighting)\n",
    "\n",
    "SELECT *,\n",
    "       count / SUM(count) OVER () * 100 as percent\n",
    "FROM lighting_count\n",
    ";'''\n",
    "ax = pd.read_sql_query(sql=query, con=engine).plot(x='lighting', y='percent', kind='barh',\n",
    "                                                       figsize=(6, 4), ylabel='', legend='');\n",
    "ax.bar_label(ax.containers[0], fmt='%.1f');"
   ]
  },
  {
   "cell_type": "markdown",
   "id": "1467d177-4308-498f-81cb-dc280f0399f4",
   "metadata": {},
   "source": [
    "Всего около 12% процентов ДТП произошло в темное время суток без работающих фонарей, почти 21% в темное время при фонарях и 67% в светлое время суток. Скорее всего, это связано с количеством машин на дорогах в разное время."
   ]
  },
  {
   "cell_type": "markdown",
   "id": "220a3c43-f5eb-4c80-b21c-1b365b7d146e",
   "metadata": {},
   "source": [
    "#### Как часто водитель не виноват в ДТП?"
   ]
  },
  {
   "cell_type": "code",
   "execution_count": 19,
   "id": "2577f1cb-59fb-4a38-9dd7-d1e3f4fb441f",
   "metadata": {},
   "outputs": [
    {
     "data": {
      "image/png": "[encoded data removed]",
      "text/plain": [
       "<Figure size 640x480 with 1 Axes>"
      ]
     },
     "metadata": {},
     "output_type": "display_data"
    }
   ],
   "source": [
    "query = '''\n",
    "WITH \n",
    "car_party AS (\n",
    "    SELECT party_type,\n",
    "           at_fault,\n",
    "           COUNT(*)\n",
    "    FROM parties\n",
    "    WHERE party_type = 'car'\n",
    "    GROUP BY party_type, at_fault\n",
    "    UNION\n",
    "    SELECT *, COUNT(*)\n",
    "    FROM (SELECT 'other' AS party_type,\n",
    "               at_fault\n",
    "        FROM parties\n",
    "        WHERE party_type != 'car') AS f\n",
    "    GROUP BY party_type, at_fault)\n",
    "\n",
    "SELECT *,\n",
    "       count / SUM(count) OVER () * 100 AS percent\n",
    "FROM car_party\n",
    ";'''\n",
    "ax = pd.read_sql_query(sql=query, con=engine).pivot(index='at_fault', columns='party_type', values='percent').plot(kind='bar', stacked=True);\n",
    "ax.bar_label(ax.containers[0], fmt='%.1f', label_type='center'); ax.bar_label(ax.containers[1], fmt='%.1f', label_type='center');"
   ]
  },
  {
   "cell_type": "markdown",
   "id": "af044a53-4c58-4140-b8c0-426ee6f0b472",
   "metadata": {},
   "source": [
    "Из 100% участников всех ДТП 44.7% водителей не были виноваты в аварии. 8.5% - это другие невиновные участники ДТП, вроде пешеходов, дорожных знаков и зданий. Да, в данных среди участников были знаки и здания - может, это просто ошибка, а может, в случае со знаками, они действительно могут быть виноваты, если установлены в неправильном месте?      \n",
    "45.1% участников - водители, устроившие ДТП. Процент виновных и невиновных водителей близок - виновных больше всего на 1.6%."
   ]
  },
  {
   "cell_type": "markdown",
   "id": "c706e0ea-4b94-4529-abc0-ec5cabe4cd08",
   "metadata": {},
   "source": [
    "## 4. Подготовка данных"
   ]
  },
  {
   "cell_type": "markdown",
   "id": "fd85516b-5dc2-4a4d-80f6-4eabc59b4616",
   "metadata": {},
   "source": [
    "Для обучения модели нужно выбрать признаки, на основе которых получится сделать предсказание.    \n",
    "\n",
    "Предсказывать будем вероятность ДТП, когда водитель сел за руль и выбрал маршрут, значит, выбираем тип участника только `car` и известные в этот момент условия:\n",
    "- тип дороги, наличие светофоров\n",
    "- состояние дороги - обычная, скользкая или с ямами\n",
    "- погода, освещение дороги\n",
    "- состояние водителя\n",
    "- возраст машины\n",
    "\n",
    "Город и регион со своими особенностями дорог могут влиять на вероятность ДТП, но чтобы точно что-то предсказать, нужно строить отдельную модель для каждого города.     \n",
    "Взятые из данных предыдущих ДТП причина аварии, тип нарушения, тип и серьезность столкновения не имеют смысла для прогноза аварии."
   ]
  },
  {
   "cell_type": "code",
   "execution_count": 20,
   "id": "97752a67-bc7b-405d-8cfe-72165eb5e6ba",
   "metadata": {},
   "outputs": [],
   "source": [
    "query = '''\n",
    "WITH \n",
    "collision_filter AS\n",
    "                (SELECT * FROM collisions \n",
    "                 WHERE EXTRACT('YEAR' FROM collision_date) = 2012\n",
    "                       AND collision_damage != 'scratch'), \n",
    "party_filter AS \n",
    "            (SELECT * FROM parties\n",
    "             WHERE party_type = 'car')\n",
    "                \n",
    "SELECT  cf.case_id,\n",
    "        collision_time,\n",
    "        CAST(EXTRACT('MONTH' FROM collision_date) AS int) AS collision_month, -- месяц \n",
    "        \n",
    "        intersection,\n",
    "        location_type,     -- тип дороги\n",
    "        control_device,\n",
    "        \n",
    "        weather_1,         -- погодные условия\n",
    "        lighting,\n",
    "        road_surface,      -- состояние дороги\n",
    "        road_condition_1,\n",
    "        \n",
    "        party_sobriety,    -- состояние водителя\n",
    "        party_drug_physical, -- возраст машины\n",
    "        vehicle_age,\n",
    "        vehicle_type,\n",
    "        \n",
    "        at_fault           -- целевой признак\n",
    "        \n",
    "FROM collision_filter AS cf\n",
    "JOIN party_filter AS pf ON cf.case_id = pf.case_id\n",
    "JOIN vehicles AS vf ON pf.case_id = vf.case_id \n",
    "                    AND pf.party_number = vf.party_number\n",
    "ORDER BY cf.case_id\n",
    ";\n",
    "'''"
   ]
  },
  {
   "cell_type": "code",
   "execution_count": 21,
   "id": "074a643d",
   "metadata": {
    "scrolled": true
   },
   "outputs": [
    {
     "data": {
      "text/html": [
       "<div>\n",
       "<style scoped>\n",
       "    .dataframe tbody tr th:only-of-type {\n",
       "        vertical-align: middle;\n",
       "    }\n",
       "\n",
       "    .dataframe tbody tr th {\n",
       "        vertical-align: top;\n",
       "    }\n",
       "\n",
       "    .dataframe thead th {\n",
       "        text-align: right;\n",
       "    }\n",
       "</style>\n",
       "<table border=\"1\" class=\"dataframe\">\n",
       "  <thead>\n",
       "    <tr style=\"text-align: right;\">\n",
       "      <th></th>\n",
       "      <th>case_id</th>\n",
       "      <th>collision_time</th>\n",
       "      <th>collision_month</th>\n",
       "      <th>intersection</th>\n",
       "      <th>location_type</th>\n",
       "      <th>control_device</th>\n",
       "      <th>weather_1</th>\n",
       "      <th>lighting</th>\n",
       "      <th>road_surface</th>\n",
       "      <th>road_condition_1</th>\n",
       "      <th>party_sobriety</th>\n",
       "      <th>party_drug_physical</th>\n",
       "      <th>vehicle_age</th>\n",
       "      <th>vehicle_type</th>\n",
       "      <th>at_fault</th>\n",
       "    </tr>\n",
       "  </thead>\n",
       "  <tbody>\n",
       "    <tr>\n",
       "      <th>0</th>\n",
       "      <td>5125160</td>\n",
       "      <td>07:40:00</td>\n",
       "      <td>3</td>\n",
       "      <td>1.0</td>\n",
       "      <td>None</td>\n",
       "      <td>none</td>\n",
       "      <td>cloudy</td>\n",
       "      <td>daylight</td>\n",
       "      <td>dry</td>\n",
       "      <td>other</td>\n",
       "      <td>had not been drinking</td>\n",
       "      <td>None</td>\n",
       "      <td>2.0</td>\n",
       "      <td>sedan</td>\n",
       "      <td>0</td>\n",
       "    </tr>\n",
       "    <tr>\n",
       "      <th>1</th>\n",
       "      <td>5173738</td>\n",
       "      <td>12:54:00</td>\n",
       "      <td>4</td>\n",
       "      <td>1.0</td>\n",
       "      <td>None</td>\n",
       "      <td>none</td>\n",
       "      <td>clear</td>\n",
       "      <td>daylight</td>\n",
       "      <td>dry</td>\n",
       "      <td>normal</td>\n",
       "      <td>had not been drinking</td>\n",
       "      <td>None</td>\n",
       "      <td>5.0</td>\n",
       "      <td>sedan</td>\n",
       "      <td>0</td>\n",
       "    </tr>\n",
       "    <tr>\n",
       "      <th>2</th>\n",
       "      <td>5269486</td>\n",
       "      <td>16:35:00</td>\n",
       "      <td>11</td>\n",
       "      <td>1.0</td>\n",
       "      <td>None</td>\n",
       "      <td>functioning</td>\n",
       "      <td>clear</td>\n",
       "      <td>daylight</td>\n",
       "      <td>dry</td>\n",
       "      <td>normal</td>\n",
       "      <td>had not been drinking</td>\n",
       "      <td>None</td>\n",
       "      <td>1.0</td>\n",
       "      <td>sedan</td>\n",
       "      <td>0</td>\n",
       "    </tr>\n",
       "    <tr>\n",
       "      <th>3</th>\n",
       "      <td>5319820</td>\n",
       "      <td>19:32:00</td>\n",
       "      <td>9</td>\n",
       "      <td>0.0</td>\n",
       "      <td>None</td>\n",
       "      <td>functioning</td>\n",
       "      <td>clear</td>\n",
       "      <td>dark with street lights</td>\n",
       "      <td>dry</td>\n",
       "      <td>normal</td>\n",
       "      <td>had not been drinking</td>\n",
       "      <td>None</td>\n",
       "      <td>4.0</td>\n",
       "      <td>sedan</td>\n",
       "      <td>0</td>\n",
       "    </tr>\n",
       "    <tr>\n",
       "      <th>4</th>\n",
       "      <td>5329109</td>\n",
       "      <td>13:15:00</td>\n",
       "      <td>11</td>\n",
       "      <td>1.0</td>\n",
       "      <td>None</td>\n",
       "      <td>functioning</td>\n",
       "      <td>clear</td>\n",
       "      <td>daylight</td>\n",
       "      <td>dry</td>\n",
       "      <td>normal</td>\n",
       "      <td>had not been drinking</td>\n",
       "      <td>None</td>\n",
       "      <td>6.0</td>\n",
       "      <td>coupe</td>\n",
       "      <td>1</td>\n",
       "    </tr>\n",
       "    <tr>\n",
       "      <th>...</th>\n",
       "      <td>...</td>\n",
       "      <td>...</td>\n",
       "      <td>...</td>\n",
       "      <td>...</td>\n",
       "      <td>...</td>\n",
       "      <td>...</td>\n",
       "      <td>...</td>\n",
       "      <td>...</td>\n",
       "      <td>...</td>\n",
       "      <td>...</td>\n",
       "      <td>...</td>\n",
       "      <td>...</td>\n",
       "      <td>...</td>\n",
       "      <td>...</td>\n",
       "      <td>...</td>\n",
       "    </tr>\n",
       "    <tr>\n",
       "      <th>56243</th>\n",
       "      <td>5668337</td>\n",
       "      <td>07:55:00</td>\n",
       "      <td>6</td>\n",
       "      <td>0.0</td>\n",
       "      <td>highway</td>\n",
       "      <td>none</td>\n",
       "      <td>clear</td>\n",
       "      <td>daylight</td>\n",
       "      <td>dry</td>\n",
       "      <td>normal</td>\n",
       "      <td>had not been drinking</td>\n",
       "      <td>None</td>\n",
       "      <td>6.0</td>\n",
       "      <td>sedan</td>\n",
       "      <td>0</td>\n",
       "    </tr>\n",
       "    <tr>\n",
       "      <th>56244</th>\n",
       "      <td>5668348</td>\n",
       "      <td>20:29:00</td>\n",
       "      <td>5</td>\n",
       "      <td>1.0</td>\n",
       "      <td>None</td>\n",
       "      <td>functioning</td>\n",
       "      <td>clear</td>\n",
       "      <td>daylight</td>\n",
       "      <td>dry</td>\n",
       "      <td>normal</td>\n",
       "      <td>had not been drinking</td>\n",
       "      <td>None</td>\n",
       "      <td>3.0</td>\n",
       "      <td>sedan</td>\n",
       "      <td>0</td>\n",
       "    </tr>\n",
       "    <tr>\n",
       "      <th>56245</th>\n",
       "      <td>5668349</td>\n",
       "      <td>23:05:00</td>\n",
       "      <td>6</td>\n",
       "      <td>0.0</td>\n",
       "      <td>highway</td>\n",
       "      <td>none</td>\n",
       "      <td>clear</td>\n",
       "      <td>dark with street lights</td>\n",
       "      <td>dry</td>\n",
       "      <td>normal</td>\n",
       "      <td>had not been drinking</td>\n",
       "      <td>None</td>\n",
       "      <td>12.0</td>\n",
       "      <td>sedan</td>\n",
       "      <td>1</td>\n",
       "    </tr>\n",
       "    <tr>\n",
       "      <th>56246</th>\n",
       "      <td>5668352</td>\n",
       "      <td>12:01:00</td>\n",
       "      <td>5</td>\n",
       "      <td>1.0</td>\n",
       "      <td>ramp</td>\n",
       "      <td>functioning</td>\n",
       "      <td>clear</td>\n",
       "      <td>daylight</td>\n",
       "      <td>dry</td>\n",
       "      <td>normal</td>\n",
       "      <td>had not been drinking</td>\n",
       "      <td>None</td>\n",
       "      <td>3.0</td>\n",
       "      <td>sedan</td>\n",
       "      <td>0</td>\n",
       "    </tr>\n",
       "    <tr>\n",
       "      <th>56247</th>\n",
       "      <td>5668356</td>\n",
       "      <td>14:44:00</td>\n",
       "      <td>5</td>\n",
       "      <td>1.0</td>\n",
       "      <td>None</td>\n",
       "      <td>functioning</td>\n",
       "      <td>clear</td>\n",
       "      <td>daylight</td>\n",
       "      <td>dry</td>\n",
       "      <td>normal</td>\n",
       "      <td>had not been drinking</td>\n",
       "      <td>None</td>\n",
       "      <td>7.0</td>\n",
       "      <td>sedan</td>\n",
       "      <td>1</td>\n",
       "    </tr>\n",
       "  </tbody>\n",
       "</table>\n",
       "<p>56248 rows × 15 columns</p>\n",
       "</div>"
      ],
      "text/plain": [
       "       case_id collision_time  collision_month  intersection location_type  \\\n",
       "0      5125160       07:40:00                3           1.0          None   \n",
       "1      5173738       12:54:00                4           1.0          None   \n",
       "2      5269486       16:35:00               11           1.0          None   \n",
       "3      5319820       19:32:00                9           0.0          None   \n",
       "4      5329109       13:15:00               11           1.0          None   \n",
       "...        ...            ...              ...           ...           ...   \n",
       "56243  5668337       07:55:00                6           0.0       highway   \n",
       "56244  5668348       20:29:00                5           1.0          None   \n",
       "56245  5668349       23:05:00                6           0.0       highway   \n",
       "56246  5668352       12:01:00                5           1.0          ramp   \n",
       "56247  5668356       14:44:00                5           1.0          None   \n",
       "\n",
       "      control_device weather_1                 lighting road_surface  \\\n",
       "0               none    cloudy                 daylight          dry   \n",
       "1               none     clear                 daylight          dry   \n",
       "2        functioning     clear                 daylight          dry   \n",
       "3        functioning     clear  dark with street lights          dry   \n",
       "4        functioning     clear                 daylight          dry   \n",
       "...              ...       ...                      ...          ...   \n",
       "56243           none     clear                 daylight          dry   \n",
       "56244    functioning     clear                 daylight          dry   \n",
       "56245           none     clear  dark with street lights          dry   \n",
       "56246    functioning     clear                 daylight          dry   \n",
       "56247    functioning     clear                 daylight          dry   \n",
       "\n",
       "      road_condition_1         party_sobriety party_drug_physical  \\\n",
       "0                other  had not been drinking                None   \n",
       "1               normal  had not been drinking                None   \n",
       "2               normal  had not been drinking                None   \n",
       "3               normal  had not been drinking                None   \n",
       "4               normal  had not been drinking                None   \n",
       "...                ...                    ...                 ...   \n",
       "56243           normal  had not been drinking                None   \n",
       "56244           normal  had not been drinking                None   \n",
       "56245           normal  had not been drinking                None   \n",
       "56246           normal  had not been drinking                None   \n",
       "56247           normal  had not been drinking                None   \n",
       "\n",
       "       vehicle_age vehicle_type  at_fault  \n",
       "0              2.0        sedan         0  \n",
       "1              5.0        sedan         0  \n",
       "2              1.0        sedan         0  \n",
       "3              4.0        sedan         0  \n",
       "4              6.0        coupe         1  \n",
       "...            ...          ...       ...  \n",
       "56243          6.0        sedan         0  \n",
       "56244          3.0        sedan         0  \n",
       "56245         12.0        sedan         1  \n",
       "56246          3.0        sedan         0  \n",
       "56247          7.0        sedan         1  \n",
       "\n",
       "[56248 rows x 15 columns]"
      ]
     },
     "execution_count": 21,
     "metadata": {},
     "output_type": "execute_result"
    }
   ],
   "source": [
    "df = pd.read_sql_query(sql=query, con=engine)\n",
    "df"
   ]
  },
  {
   "cell_type": "markdown",
   "id": "2b34de02-6576-4ea2-bc67-7d0a00cc02c0",
   "metadata": {},
   "source": [
    "Получился датафрейм с 56248 записями и 15 столбцами. Столбец `case_id` нужен был для объединения таблиц и теперь его можно убрать."
   ]
  },
  {
   "cell_type": "code",
   "execution_count": 22,
   "id": "e769327c-f974-4ef0-a84b-180954fd75d5",
   "metadata": {
    "scrolled": true
   },
   "outputs": [
    {
     "name": "stdout",
     "output_type": "stream",
     "text": [
      "<class 'pandas.core.frame.DataFrame'>\n",
      "RangeIndex: 56248 entries, 0 to 56247\n",
      "Data columns (total 14 columns):\n",
      " #   Column               Non-Null Count  Dtype  \n",
      "---  ------               --------------  -----  \n",
      " 0   collision_time       56160 non-null  object \n",
      " 1   collision_month      56248 non-null  int64  \n",
      " 2   intersection         56073 non-null  float64\n",
      " 3   location_type        25932 non-null  object \n",
      " 4   control_device       56033 non-null  object \n",
      " 5   weather_1            56080 non-null  object \n",
      " 6   lighting             56094 non-null  object \n",
      " 7   road_surface         55900 non-null  object \n",
      " 8   road_condition_1     55999 non-null  object \n",
      " 9   party_sobriety       55376 non-null  object \n",
      " 10  party_drug_physical  2857 non-null   object \n",
      " 11  vehicle_age          54554 non-null  float64\n",
      " 12  vehicle_type         56248 non-null  object \n",
      " 13  at_fault             56248 non-null  int64  \n",
      "dtypes: float64(2), int64(2), object(10)\n",
      "memory usage: 6.0+ MB\n"
     ]
    },
    {
     "data": {
      "text/plain": [
       "None"
      ]
     },
     "metadata": {},
     "output_type": "display_data"
    },
    {
     "data": {
      "text/plain": [
       "collision_time\n",
       "15:00:00    413\n",
       "15:30:00    362\n",
       "16:00:00    342\n",
       "18:00:00    317\n",
       "15:20:00    302\n",
       "           ... \n",
       "03:02:00      1\n",
       "04:34:00      1\n",
       "06:23:00      1\n",
       "05:54:00      1\n",
       "04:04:00      1\n",
       "Name: count, Length: 1435, dtype: int64"
      ]
     },
     "metadata": {},
     "output_type": "display_data"
    },
    {
     "data": {
      "text/plain": [
       "collision_month\n",
       "3     11511\n",
       "4     10865\n",
       "1     10789\n",
       "2     10331\n",
       "5      9683\n",
       "6      1308\n",
       "8       374\n",
       "9       342\n",
       "7       327\n",
       "11      264\n",
       "10      262\n",
       "12      192\n",
       "Name: count, dtype: int64"
      ]
     },
     "metadata": {},
     "output_type": "display_data"
    },
    {
     "data": {
      "text/plain": [
       "intersection\n",
       "0.0    43651\n",
       "1.0    12422\n",
       "Name: count, dtype: int64"
      ]
     },
     "metadata": {},
     "output_type": "display_data"
    },
    {
     "data": {
      "text/plain": [
       "location_type\n",
       "highway         21323\n",
       "ramp             3267\n",
       "intersection     1342\n",
       "Name: count, dtype: int64"
      ]
     },
     "metadata": {},
     "output_type": "display_data"
    },
    {
     "data": {
      "text/plain": [
       "control_device\n",
       "none               37578\n",
       "functioning        18310\n",
       "not functioning      116\n",
       "obscured              29\n",
       "Name: count, dtype: int64"
      ]
     },
     "metadata": {},
     "output_type": "display_data"
    },
    {
     "data": {
      "text/plain": [
       "weather_1\n",
       "clear      45092\n",
       "cloudy      8427\n",
       "raining     2178\n",
       "fog          181\n",
       "snowing      157\n",
       "other         34\n",
       "wind          11\n",
       "Name: count, dtype: int64"
      ]
     },
     "metadata": {},
     "output_type": "display_data"
    },
    {
     "data": {
      "text/plain": [
       "lighting\n",
       "daylight                                   38064\n",
       "dark with street lights                    11017\n",
       "dark with no street lights                  5109\n",
       "dusk or dawn                                1769\n",
       "dark with street lights not functioning      135\n",
       "Name: count, dtype: int64"
      ]
     },
     "metadata": {},
     "output_type": "display_data"
    },
    {
     "data": {
      "text/plain": [
       "road_surface\n",
       "dry         50242\n",
       "wet          5258\n",
       "snowy         357\n",
       "slippery       43\n",
       "Name: count, dtype: int64"
      ]
     },
     "metadata": {},
     "output_type": "display_data"
    },
    {
     "data": {
      "text/plain": [
       "road_condition_1\n",
       "normal            54066\n",
       "construction       1003\n",
       "obstruction         248\n",
       "other               228\n",
       "holes               222\n",
       "loose material      128\n",
       "reduced width        72\n",
       "flooded              32\n",
       "Name: count, dtype: int64"
      ]
     },
     "metadata": {},
     "output_type": "display_data"
    },
    {
     "data": {
      "text/plain": [
       "party_sobriety\n",
       "had not been drinking                     48577\n",
       "had been drinking, under influence         4475\n",
       "impairment unknown                         1238\n",
       "had been drinking, not under influence      575\n",
       "had been drinking, impairment unknown       261\n",
       "not applicable                              250\n",
       "Name: count, dtype: int64"
      ]
     },
     "metadata": {},
     "output_type": "display_data"
    },
    {
     "data": {
      "text/plain": [
       "party_drug_physical\n",
       "G                        1238\n",
       "under drug influence      857\n",
       "sleepy/fatigued           390\n",
       "not applicable            250\n",
       "impairment - physical     122\n",
       "Name: count, dtype: int64"
      ]
     },
     "metadata": {},
     "output_type": "display_data"
    },
    {
     "data": {
      "text/plain": [
       "vehicle_age\n",
       "3.0      11012\n",
       "4.0       7157\n",
       "2.0       6048\n",
       "5.0       5565\n",
       "6.0       3940\n",
       "7.0       3838\n",
       "8.0       3509\n",
       "0.0       3087\n",
       "9.0       2770\n",
       "1.0       2545\n",
       "10.0      1942\n",
       "11.0      1380\n",
       "12.0       879\n",
       "13.0       551\n",
       "14.0       282\n",
       "15.0        37\n",
       "16.0         6\n",
       "17.0         3\n",
       "161.0        2\n",
       "19.0         1\n",
       "Name: count, dtype: int64"
      ]
     },
     "metadata": {},
     "output_type": "display_data"
    },
    {
     "data": {
      "text/plain": [
       "vehicle_type\n",
       "sedan    37180\n",
       "coupe    19064\n",
       "other        4\n",
       "Name: count, dtype: int64"
      ]
     },
     "metadata": {},
     "output_type": "display_data"
    },
    {
     "data": {
      "text/plain": [
       "at_fault\n",
       "1    28373\n",
       "0    27875\n",
       "Name: count, dtype: int64"
      ]
     },
     "metadata": {},
     "output_type": "display_data"
    }
   ],
   "source": [
    "df = df.drop('case_id', axis=1)\n",
    "display(df.info())\n",
    "for n in df.columns:\n",
    "    display(df[n].value_counts())"
   ]
  },
  {
   "cell_type": "markdown",
   "id": "3eefea1c-2a28-437f-a669-3425f40591ed",
   "metadata": {},
   "source": [
    "В столбце с возрастом машин есть пропуски - заполнить их каким-либо логичным значением не получится - удалим их.     \n",
    "Среди машин есть всего несколько возрастом больше 15 лет, а также две машины возрастом 161 год. Может, вместо этого должно было быть 16? Заменим возраст, больше чем 15 лет на ровно 15:"
   ]
  },
  {
   "cell_type": "code",
   "execution_count": 23,
   "id": "5a9c9df6-351a-477b-8b4a-1271aecaea2b",
   "metadata": {},
   "outputs": [
    {
     "data": {
      "text/plain": [
       "vehicle_age\n",
       "3.0     11012\n",
       "4.0      7157\n",
       "2.0      6048\n",
       "5.0      5565\n",
       "6.0      3940\n",
       "7.0      3838\n",
       "8.0      3509\n",
       "0.0      3087\n",
       "9.0      2770\n",
       "1.0      2545\n",
       "10.0     1942\n",
       "11.0     1380\n",
       "12.0      879\n",
       "13.0      551\n",
       "14.0      282\n",
       "15.0       49\n",
       "Name: count, dtype: int64"
      ]
     },
     "execution_count": 23,
     "metadata": {},
     "output_type": "execute_result"
    }
   ],
   "source": [
    "df = df.dropna(subset=['vehicle_age']).reset_index(drop=True)\n",
    "df.loc[df['vehicle_age'] > 15, 'vehicle_age'] = 15\n",
    "df['vehicle_age'].value_counts()"
   ]
  },
  {
   "cell_type": "markdown",
   "id": "1ef20a42-862e-40ee-bfbf-fd8d5a18b61d",
   "metadata": {},
   "source": [
    "В столбцах с перекрестками и с типом дороги значения не всегда совпадали - там, где в одном столбце было указано шоссе, в другом мог стоять перекресток. Возьмем за основу столбец `location_type` и заполним пропуски значениями из `intersection`. Оставшиеся пропуски заменим на `highway`, как самое часто встречающееся значение:"
   ]
  },
  {
   "cell_type": "code",
   "execution_count": 24,
   "id": "44f7bcb9-7f91-4976-97e5-ad4cd41789b7",
   "metadata": {},
   "outputs": [
    {
     "data": {
      "text/plain": [
       "array(['intersection', 'highway', 'ramp'], dtype=object)"
      ]
     },
     "execution_count": 24,
     "metadata": {},
     "output_type": "execute_result"
    }
   ],
   "source": [
    "df.loc[(df['intersection'] == 1) & (df['location_type'].isna()), 'location_type'] = 'intersection'\n",
    "df.loc[(df['intersection'] == 0) & (df['location_type'].isna()), 'location_type'] = 'highway'\n",
    "df['location_type'] = df['location_type'].fillna('highway')\n",
    "df = df.drop('intersection', axis=1)\n",
    "df['location_type'].unique()"
   ]
  },
  {
   "cell_type": "markdown",
   "id": "629e3d5b-8fa6-405d-bb00-1c8147e25cee",
   "metadata": {},
   "source": [
    "Заменим редко встречающиеся значения и заполним пропуски в оставшихся столбцах:"
   ]
  },
  {
   "cell_type": "code",
   "execution_count": 25,
   "id": "8df9198a-2e16-401d-ac00-437fb0a7b4be",
   "metadata": {},
   "outputs": [],
   "source": [
    "df['control_device'] = df['control_device'].replace([None], ['none'])# 'not functioning', 'obscured'],\\\n",
    "#                                                    ['none', 'none', 'none'])\n",
    "df['weather_1'] = df['weather_1'].replace([None], ['clear'])#['wind', 'fog', 'snowing', None],\\\n",
    "#                                          ['other', 'other', 'other', 'other'])\n",
    "df['lighting'] = df['lighting'].replace([None], ['dark with no street lights'])#['dark with street lights not functioning', None],\\\n",
    "#                                        ['dark with no street lights', 'dark with no street lights'])\n",
    "df['road_surface'] = df['road_surface'].replace([None], ['dry'])#[None, 'slippery'],\\\n",
    "#                                                ['dry', 'wet'])\n",
    "df['road_condition_1'] = df['road_condition_1'].fillna('normal')\n",
    "#df.loc[df['road_condition_1'] != 'normal', 'road_condition_1'] = 'other'\n",
    "df['vehicle_type'] = df['vehicle_type'].replace([None, 'other'], ['none', 'coupe'])"
   ]
  },
  {
   "cell_type": "code",
   "execution_count": 26,
   "id": "88707516-fa9a-47b5-af05-9d985b4d33b0",
   "metadata": {},
   "outputs": [],
   "source": [
    "df['party_sobriety'] = df['party_sobriety'].replace([None], ['had not been drinking'])#[None, 'not applicable'],\\\n",
    "#                                                    ['had not been drinking', 'impairment unknown'])\n",
    "df['party_drug_physical'] = df['party_drug_physical'].replace(['G', None],\\\n",
    "                                                              ['unknown', 'no impairment'])"
   ]
  },
  {
   "cell_type": "code",
   "execution_count": 27,
   "id": "15c995f5-d9be-492a-a144-c02a56660692",
   "metadata": {},
   "outputs": [],
   "source": [
    "df['collision_time'] = df['collision_time'].fillna(df['collision_time'].mode()[0])\n",
    "df['collision_time'] = df['collision_time'].apply(lambda x: x.hour * 60 + x.minute)"
   ]
  },
  {
   "cell_type": "code",
   "execution_count": 28,
   "id": "8d0ad034-724b-4d0b-9564-12e1a0df3ba7",
   "metadata": {},
   "outputs": [
    {
     "name": "stdout",
     "output_type": "stream",
     "text": [
      "<class 'pandas.core.frame.DataFrame'>\n",
      "RangeIndex: 54554 entries, 0 to 54553\n",
      "Data columns (total 13 columns):\n",
      " #   Column               Non-Null Count  Dtype  \n",
      "---  ------               --------------  -----  \n",
      " 0   collision_time       54554 non-null  int64  \n",
      " 1   collision_month      54554 non-null  int64  \n",
      " 2   location_type        54554 non-null  object \n",
      " 3   control_device       54554 non-null  object \n",
      " 4   weather_1            54554 non-null  object \n",
      " 5   lighting             54554 non-null  object \n",
      " 6   road_surface         54554 non-null  object \n",
      " 7   road_condition_1     54554 non-null  object \n",
      " 8   party_sobriety       54554 non-null  object \n",
      " 9   party_drug_physical  54554 non-null  object \n",
      " 10  vehicle_age          54554 non-null  float64\n",
      " 11  vehicle_type         54554 non-null  object \n",
      " 12  at_fault             54554 non-null  int64  \n",
      "dtypes: float64(1), int64(3), object(9)\n",
      "memory usage: 5.4+ MB\n"
     ]
    }
   ],
   "source": [
    "df.info()"
   ]
  },
  {
   "cell_type": "markdown",
   "id": "705635bf-6fe5-4f27-84d1-f1eb170af390",
   "metadata": {},
   "source": [
    "Все пропуски заполнены. В данных осталось 54554 записей, 12 признаков и 1 целевой."
   ]
  },
  {
   "cell_type": "markdown",
   "id": "74ba0492-79c6-497b-b254-c5e3b0d7a023",
   "metadata": {},
   "source": [
    "### Подготовка выборок"
   ]
  },
  {
   "cell_type": "markdown",
   "id": "c4423ea7-9ba3-4dc8-b79e-5d26e10b31cb",
   "metadata": {},
   "source": [
    "Разделим данные на тренировочную и тестовую выборки:"
   ]
  },
  {
   "cell_type": "code",
   "execution_count": 30,
   "id": "a568cad6-a1a7-4adc-b598-4bd540aadfaa",
   "metadata": {},
   "outputs": [],
   "source": [
    "features = df.drop(['at_fault'], axis=1)\n",
    "target = df['at_fault']\n",
    "\n",
    "X_train, X_test, y_train, y_test = train_test_split(\n",
    "        features, target, test_size=0.25, shuffle=True, stratify=target, random_state=SEED)"
   ]
  },
  {
   "cell_type": "markdown",
   "id": "1dbeb27f-81dc-4aa3-8c9c-525a7f5ecc61",
   "metadata": {},
   "source": [
    "В данных есть категориальные и числовые признаки. Выберем признаки для ОНЕ и порядкового кодирования, а также масштабирования:"
   ]
  },
  {
   "cell_type": "code",
   "execution_count": 31,
   "id": "3ce1f6e0-59dd-4cac-be12-253eab9ed51f",
   "metadata": {},
   "outputs": [],
   "source": [
    "ohe_features = X_train.select_dtypes(include='object').columns.to_list()\n",
    "ordinal_features = X_train.select_dtypes(include='int64').columns.to_list()\n",
    "ord_cat_features = X_train.select_dtypes(exclude='float64').columns.to_list()\n",
    "num_features = X_train.select_dtypes(include='float64').columns.to_list()"
   ]
  },
  {
   "cell_type": "markdown",
   "id": "d2a14a6d-63ab-4b5f-a422-de4c83497934",
   "metadata": {},
   "source": [
    "## 5. Обучение моделей"
   ]
  },
  {
   "cell_type": "markdown",
   "id": "8fed45af-f0e2-4d69-919d-109f413195ed",
   "metadata": {},
   "source": [
    "Для того, чтобы строить модели, осталось определиться с метрикой для оценки их качества. Задача модели - не пропустить потенциальные аварии, при этом не предсказывая их постоянно, на всякий случай. Чтобы оценить способность модели предсказывать целевое действие, можно использовать метрику recall (полнота). При этом, чтобы среди предсказаний было как можно меньше ложно-положительных, можно использовать precision (точность). По отдельности эти метрики плохо показывают качество, но их можно объединить в одну метрику - F-beta меру. Это среднее гармоническое полноты и точности, которое достигает максимума при этих двух метриках, равных единице, и близко к нулю, когда одна из них близка к нулю. Также для оценки качества можно вывести на график кривую полноты и точности, показывающую компромисс между ними - чем ближе к единице значение одной метрики, тем ближе к нулю может быть значение другой.       \n",
    "На графике ниже показан пример отношения полноты и точности. Пунктирная линия - это результат случайной модели, просто угадывающей значения. Синяя линия показывает, насколько точно были предсказаны положительные значения, и насколько много. Когда модель предсказывает положительный класс точно, но не часто, кривая будет расположена большей частью слева вверху, и будет снижаться к правому нижнему углу. Когда часто, но неточно, кривая будет высоко в правой части и низко в левой. Обычно такой график должен сходиться к правому верхнему углу, чем лучше модель, тем ближе. Также на графике указано значение АР - средняя точность модели."
   ]
  },
  {
   "cell_type": "code",
   "execution_count": 32,
   "id": "98aaa7af-8f2b-4cbf-957b-2055861f7158",
   "metadata": {},
   "outputs": [
    {
     "data": {
      "image/png": "[encoded data removed]",
      "text/plain": [
       "<Figure size 640x480 with 1 Axes>"
      ]
     },
     "metadata": {},
     "output_type": "display_data"
    }
   ],
   "source": [
    "a = [1, 0, 0, 1, 1, 0, 0, 0, 1, 0]\n",
    "b = [1, 0, 0, 1, 0, 0, 0, 1, 1, 0]\n",
    "PrecisionRecallDisplay.from_predictions(a, b)\n",
    "no_skill = 4 / 10\n",
    "plt.plot([0, 1], [no_skill, no_skill], linestyle='--', label=f'No Skill ({no_skill:.3f})')\n",
    "plt.legend(loc='upper right');"
   ]
  },
  {
   "cell_type": "markdown",
   "id": "001d9df3-e50a-4637-9586-64969a2a36a5",
   "metadata": {},
   "source": [
    "Дальше можно написать функцию для обучения моделей. Она кодирует выборки, проводит подбор гиперпараметров и кросс-валидацию, а также выводит метрики лучшей модели. На вход ей нужна модель, сетка гиперпараметров, тренировочная выборка и набор названий признаков для кодирования их определенным способом. Метрика качества - F-beta."
   ]
  },
  {
   "cell_type": "code",
   "execution_count": 33,
   "id": "a4ff034a-7127-4b23-886a-26be03f46942",
   "metadata": {},
   "outputs": [],
   "source": [
    "fbeta = make_scorer(fbeta_score, beta=2)"
   ]
  },
  {
   "cell_type": "code",
   "execution_count": 34,
   "id": "373f9adc-6e81-4d03-a123-b1d6466ba165",
   "metadata": {},
   "outputs": [],
   "source": [
    "def pipe_validate(model, param_grid, X_train, y_train, scoring={'fbeta': fbeta, 'AP':'average_precision'},\\\n",
    "                              ohe_features=ohe_features, ordinal_features=ordinal_features, num_features=num_features):\n",
    "    transformer = make_column_transformer(\n",
    "        (OneHotEncoder(drop='first', handle_unknown='ignore'), ohe_features),\n",
    "        (OrdinalEncoder(handle_unknown='use_encoded_value', unknown_value=-1), ordinal_features),\n",
    "        (StandardScaler(), num_features),\n",
    "        remainder='passthrough',\n",
    "        verbose_feature_names_out=False)\n",
    "    transformer.fit(X_train);\n",
    "\n",
    "    pipe = make_pipeline(transformer, model)\n",
    "    search = RandomizedSearchCV(estimator=pipe, param_distributions=param_grid,\n",
    "                          scoring=scoring, verbose=1, random_state=SEED, refit='fbeta')\n",
    "    search.fit(X_train, y_train)\n",
    "    \n",
    "    print(f'best_score: {search.best_score_}')\n",
    "    print(f'best_params: {search.best_params_}')\n",
    "    PrecisionRecallDisplay.from_estimator(search, X_train, y_train)\n",
    "    no_skill = len(y_train[y_train==1]) / len(y_train)\n",
    "    plt.plot([0, 1], [no_skill, no_skill], linestyle='--', label=f'No Skill ({no_skill:.3f})')\n",
    "    plt.legend(loc='upper right')\n",
    "    return search"
   ]
  },
  {
   "cell_type": "markdown",
   "id": "2f91cb3c-668d-45e3-8aa6-c485ff1ecd33",
   "metadata": {},
   "source": [
    "Также создадим список, в который будут занесены результаты обучения моделей:"
   ]
  },
  {
   "cell_type": "code",
   "execution_count": 35,
   "id": "7c998b70-f645-444b-a467-c838c99e97d2",
   "metadata": {},
   "outputs": [],
   "source": [
    "stat_table = []"
   ]
  },
  {
   "cell_type": "markdown",
   "id": "5bf08322-478d-4590-b533-709a3b1e8651",
   "metadata": {},
   "source": [
    "### LogisticRegression"
   ]
  },
  {
   "cell_type": "markdown",
   "id": "74076fa6-e332-4634-b94e-5191e4ab3756",
   "metadata": {},
   "source": [
    "Первая модель - логистическая регрессия:"
   ]
  },
  {
   "cell_type": "code",
   "execution_count": 36,
   "id": "26379444-5a4b-4ba4-a2c4-01cf0cd6c943",
   "metadata": {},
   "outputs": [
    {
     "name": "stdout",
     "output_type": "stream",
     "text": [
      "Fitting 5 folds for each of 2 candidates, totalling 10 fits\n",
      "best_score: 0.5189859420042617\n",
      "best_params: {'logisticregression__solver': 'liblinear', 'logisticregression__penalty': 'l2'}\n",
      "CPU times: total: 12.9 s\n",
      "Wall time: 12.9 s\n"
     ]
    },
    {
     "data": {
      "image/png": "[encoded data removed]",
      "text/plain": [
       "<Figure size 640x480 with 1 Axes>"
      ]
     },
     "metadata": {},
     "output_type": "display_data"
    }
   ],
   "source": [
    "%%time\n",
    "\n",
    "logreg = LogisticRegression(random_state=SEED)\n",
    "\n",
    "param_log = {'logisticregression__penalty': ['l1', 'l2'],\n",
    "             'logisticregression__solver': ['liblinear']}\n",
    "\n",
    "res_log = pipe_validate(logreg, param_log, X_train, y_train);"
   ]
  },
  {
   "cell_type": "code",
   "execution_count": 37,
   "id": "a0839d12-2373-40f6-81f2-0304fb6a6d94",
   "metadata": {},
   "outputs": [],
   "source": [
    "stat_table.append(['LogisticRegression', res_log.best_score_,\\\n",
    "                   res_log.cv_results_['mean_test_AP'][res_log.best_index_]])"
   ]
  },
  {
   "cell_type": "markdown",
   "id": "c3c0f884-6ff0-4c21-89fc-64af7cc5b3f1",
   "metadata": {
    "scrolled": true
   },
   "source": [
    "Лучшее значение F-beta на валидации - 0.52. Средняя точность при этом равна 0.73. Похоже, модель часто предсказывает отрицательный класс и редко положительный."
   ]
  },
  {
   "cell_type": "markdown",
   "id": "847d5759-4e87-4ec0-9717-63ac79a9614d",
   "metadata": {},
   "source": [
    "### RandomForest"
   ]
  },
  {
   "cell_type": "markdown",
   "id": "8d6f4980-0d34-45fc-a43a-444a47c43959",
   "metadata": {},
   "source": [
    "Следующий - случайный лес:"
   ]
  },
  {
   "cell_type": "code",
   "execution_count": 38,
   "id": "7b2a12cd-9e88-4961-8a02-83140cc96883",
   "metadata": {},
   "outputs": [
    {
     "name": "stdout",
     "output_type": "stream",
     "text": [
      "Fitting 5 folds for each of 10 candidates, totalling 50 fits\n",
      "best_score: 0.5464472861262537\n",
      "best_params: {'randomforestclassifier__n_estimators': 10, 'randomforestclassifier__min_samples_split': 3, 'randomforestclassifier__max_depth': 11}\n",
      "CPU times: total: 50.2 s\n",
      "Wall time: 50.6 s\n"
     ]
    },
    {
     "data": {
      "image/png": "[encoded data removed]",
      "text/plain": [
       "<Figure size 640x480 with 1 Axes>"
      ]
     },
     "metadata": {},
     "output_type": "display_data"
    }
   ],
   "source": [
    "%%time\n",
    "\n",
    "forest = RandomForestClassifier(random_state=SEED)\n",
    "\n",
    "param_rf = {'randomforestclassifier__n_estimators': range(10, 110, 20),\n",
    "            'randomforestclassifier__max_depth': range(3, 12),\n",
    "            'randomforestclassifier__min_samples_split': (2, 3, 4)}\n",
    "\n",
    "res_forest = pipe_validate(forest, param_rf, X_train, y_train, ohe_features=[], ordinal_features=ord_cat_features);"
   ]
  },
  {
   "cell_type": "code",
   "execution_count": 39,
   "id": "e31acfe7-afaa-43bb-ad35-d0fc402fc8a5",
   "metadata": {},
   "outputs": [],
   "source": [
    "stat_table.append(['RandomForestClassifier', res_forest.best_score_,\\\n",
    "                   res_forest.cv_results_['mean_test_AP'][res_forest.best_index_]])"
   ]
  },
  {
   "cell_type": "markdown",
   "id": "e6a89351-642a-46ca-8720-1d0b835fa169",
   "metadata": {},
   "source": [
    "Лес немного лучше, чем случайная модель. F-beta равна 0.54, АР также чуть больше - 0.78. График выглядит таким же наклоненным, но уже гораздо более плавным."
   ]
  },
  {
   "cell_type": "markdown",
   "id": "a4acd37b-78a1-4e55-9b6d-f000299cc932",
   "metadata": {},
   "source": [
    "### SGD"
   ]
  },
  {
   "cell_type": "markdown",
   "id": "f3329591-f36c-40fc-a5b9-ea8e540c7262",
   "metadata": {},
   "source": [
    "SGD - или стохастический градиентный спуск - это всего лишь другой способ обучить модель. В основе этого классификатора лежат линейные модели:"
   ]
  },
  {
   "cell_type": "code",
   "execution_count": 40,
   "id": "847eb6d6-2828-4168-9f87-c45e94ea778b",
   "metadata": {},
   "outputs": [
    {
     "name": "stdout",
     "output_type": "stream",
     "text": [
      "Fitting 5 folds for each of 8 candidates, totalling 40 fits\n",
      "best_score: 0.5257356323633723\n",
      "best_params: {'sgdclassifier__loss': 'hinge', 'sgdclassifier__alpha': 0.1}\n",
      "CPU times: total: 17.8 s\n",
      "Wall time: 17.8 s\n"
     ]
    },
    {
     "data": {
      "image/png": "[encoded data removed]",
      "text/plain": [
       "<Figure size 640x480 with 1 Axes>"
      ]
     },
     "metadata": {},
     "output_type": "display_data"
    }
   ],
   "source": [
    "%%time\n",
    "\n",
    "sgd = SGDClassifier(max_iter=250, early_stopping=True, random_state=SEED)\n",
    "\n",
    "param_sgd = {'sgdclassifier__loss': ['hinge', 'modified_huber'],\n",
    "             'sgdclassifier__alpha': (0.0001, 0.001, 0.01, 0.1)}\n",
    "\n",
    "res_sgd = pipe_validate(sgd, param_sgd, X_train, y_train);"
   ]
  },
  {
   "cell_type": "code",
   "execution_count": 41,
   "id": "f75a8bb9-f84f-4e31-ab92-1c426033d1b4",
   "metadata": {},
   "outputs": [],
   "source": [
    "stat_table.append(['SGDClassifier', res_sgd.best_score_,\\\n",
    "                   res_sgd.cv_results_['mean_test_AP'][res_log.best_index_]])"
   ]
  },
  {
   "cell_type": "markdown",
   "id": "271b5441-6699-4f73-88ee-31de9ae27601",
   "metadata": {},
   "source": [
    "Результат вышел немного лучше лог. регрессии - F-бета равна 0.525. Средняя точность всего 0.59, график в начале резко дернулся вниз - выглядит странно."
   ]
  },
  {
   "cell_type": "markdown",
   "id": "ad27dc3b-eae3-4458-a8a3-3128f0311a5b",
   "metadata": {},
   "source": [
    "### CatBoost"
   ]
  },
  {
   "cell_type": "markdown",
   "id": "6b65f89e-4ea3-4240-b991-c26b25c736b7",
   "metadata": {},
   "source": [
    "В данных большая часть признаков - категориальные. Для работы с ними можно попробовать CatBoost:"
   ]
  },
  {
   "cell_type": "code",
   "execution_count": 42,
   "id": "3e4edf39-95ba-43a4-9b9f-278f08e6c194",
   "metadata": {},
   "outputs": [
    {
     "name": "stdout",
     "output_type": "stream",
     "text": [
      "Fitting 5 folds for each of 10 candidates, totalling 50 fits\n",
      "best_score: 0.5716214025296408\n",
      "best_params: {'catboostclassifier__learning_rate': 0.7, 'catboostclassifier__l2_leaf_reg': 0.3, 'catboostclassifier__depth': 9}\n",
      "CPU times: total: 2min 46s\n",
      "Wall time: 1min 23s\n"
     ]
    },
    {
     "data": {
      "image/png": "[encoded data removed]",
      "text/plain": [
       "<Figure size 640x480 with 1 Axes>"
      ]
     },
     "metadata": {},
     "output_type": "display_data"
    }
   ],
   "source": [
    "%%time\n",
    "\n",
    "cat = CatBoostClassifier(iterations=100, early_stopping_rounds=10, random_seed=SEED, logging_level='Silent')\n",
    "\n",
    "param_cat = {'catboostclassifier__learning_rate': [0.1, 0.3, 0.5, 0.7],\n",
    "             'catboostclassifier__depth': range(3, 12, 3),\n",
    "             'catboostclassifier__l2_leaf_reg': [0.1, 0.3, 0.5]}\n",
    "\n",
    "res_cat = pipe_validate(cat, param_cat, X_train, y_train, ohe_features=[], ordinal_features=ord_cat_features);"
   ]
  },
  {
   "cell_type": "code",
   "execution_count": 43,
   "id": "81995823-91d3-40d9-9d90-cae8588e600a",
   "metadata": {},
   "outputs": [],
   "source": [
    "stat_table.append(['CatBoostClassifier', res_cat.best_score_,\\\n",
    "                   res_cat.cv_results_['mean_test_AP'][res_log.best_index_]])"
   ]
  },
  {
   "cell_type": "markdown",
   "id": "18ae35bb-57ee-49d1-ba8d-6414839889ca",
   "metadata": {},
   "source": [
    "F-beta мера получилась лучше, чем у других моделей - 0.57. Средняя точность на графике - 0.84. Сама кривая выглядит более выгнутой, чем у леса, что очень хорошо."
   ]
  },
  {
   "cell_type": "markdown",
   "id": "e9e7f121-65d9-4a0f-9ae4-d474e34414fb",
   "metadata": {},
   "source": [
    "Построим таблицу для сравнения:"
   ]
  },
  {
   "cell_type": "code",
   "execution_count": 44,
   "id": "d16e230a-dedf-4c18-8a92-0b17a700dd56",
   "metadata": {},
   "outputs": [
    {
     "data": {
      "text/html": [
       "<style type=\"text/css\">\n",
       "#T_f3fcc_row0_col1, #T_f3fcc_row2_col2 {\n",
       "  background-color: #f7fbff;\n",
       "  color: #000000;\n",
       "}\n",
       "#T_f3fcc_row0_col2 {\n",
       "  background-color: #084082;\n",
       "  color: #f1f1f1;\n",
       "}\n",
       "#T_f3fcc_row1_col1 {\n",
       "  background-color: #64a9d3;\n",
       "  color: #f1f1f1;\n",
       "}\n",
       "#T_f3fcc_row1_col2 {\n",
       "  background-color: #083471;\n",
       "  color: #f1f1f1;\n",
       "}\n",
       "#T_f3fcc_row2_col1 {\n",
       "  background-color: #deebf7;\n",
       "  color: #000000;\n",
       "}\n",
       "#T_f3fcc_row3_col1, #T_f3fcc_row3_col2 {\n",
       "  background-color: #08306b;\n",
       "  color: #f1f1f1;\n",
       "}\n",
       "</style>\n",
       "<table id=\"T_f3fcc\">\n",
       "  <thead>\n",
       "    <tr>\n",
       "      <th class=\"blank level0\" >&nbsp;</th>\n",
       "      <th id=\"T_f3fcc_level0_col0\" class=\"col_heading level0 col0\" >model</th>\n",
       "      <th id=\"T_f3fcc_level0_col1\" class=\"col_heading level0 col1\" >FBeta</th>\n",
       "      <th id=\"T_f3fcc_level0_col2\" class=\"col_heading level0 col2\" >AP</th>\n",
       "    </tr>\n",
       "  </thead>\n",
       "  <tbody>\n",
       "    <tr>\n",
       "      <th id=\"T_f3fcc_level0_row0\" class=\"row_heading level0 row0\" >0</th>\n",
       "      <td id=\"T_f3fcc_row0_col0\" class=\"data row0 col0\" >LogisticRegression</td>\n",
       "      <td id=\"T_f3fcc_row0_col1\" class=\"data row0 col1\" >0.518986</td>\n",
       "      <td id=\"T_f3fcc_row0_col2\" class=\"data row0 col2\" >0.726782</td>\n",
       "    </tr>\n",
       "    <tr>\n",
       "      <th id=\"T_f3fcc_level0_row1\" class=\"row_heading level0 row1\" >1</th>\n",
       "      <td id=\"T_f3fcc_row1_col0\" class=\"data row1 col0\" >RandomForestClassifier</td>\n",
       "      <td id=\"T_f3fcc_row1_col1\" class=\"data row1 col1\" >0.546447</td>\n",
       "      <td id=\"T_f3fcc_row1_col2\" class=\"data row1 col2\" >0.734137</td>\n",
       "    </tr>\n",
       "    <tr>\n",
       "      <th id=\"T_f3fcc_level0_row2\" class=\"row_heading level0 row2\" >2</th>\n",
       "      <td id=\"T_f3fcc_row2_col0\" class=\"data row2 col0\" >SGDClassifier</td>\n",
       "      <td id=\"T_f3fcc_row2_col1\" class=\"data row2 col1\" >0.525736</td>\n",
       "      <td id=\"T_f3fcc_row2_col2\" class=\"data row2 col2\" >0.563760</td>\n",
       "    </tr>\n",
       "    <tr>\n",
       "      <th id=\"T_f3fcc_level0_row3\" class=\"row_heading level0 row3\" >3</th>\n",
       "      <td id=\"T_f3fcc_row3_col0\" class=\"data row3 col0\" >CatBoostClassifier</td>\n",
       "      <td id=\"T_f3fcc_row3_col1\" class=\"data row3 col1\" >0.571621</td>\n",
       "      <td id=\"T_f3fcc_row3_col2\" class=\"data row3 col2\" >0.737444</td>\n",
       "    </tr>\n",
       "  </tbody>\n",
       "</table>\n"
      ],
      "text/plain": [
       "<pandas.io.formats.style.Styler at 0xc272218a90>"
      ]
     },
     "execution_count": 44,
     "metadata": {},
     "output_type": "execute_result"
    }
   ],
   "source": [
    "pd.DataFrame(stat_table, columns=['model', 'FBeta', 'AP']).style.background_gradient(cmap='Blues')"
   ]
  },
  {
   "cell_type": "markdown",
   "id": "5024169d-5e4c-40d7-94aa-85b3e6719d3a",
   "metadata": {},
   "source": [
    "Случайный лес и Катбуст выглядят достойными конкурентами по AP, но раз главная метрика качества у нас F-beta, то лучшей считаем Катбуст."
   ]
  },
  {
   "cell_type": "markdown",
   "id": "3c98e696-c379-4286-aa47-685398a13cc5",
   "metadata": {},
   "source": [
    "## 6. Тест модели"
   ]
  },
  {
   "cell_type": "markdown",
   "id": "bf25c408-b3b2-425a-96d2-4581e6322c83",
   "metadata": {
    "jp-MarkdownHeadingCollapsed": true
   },
   "source": [
    "Протестируем лучшую модель. Сначала подготовим данные:"
   ]
  },
  {
   "cell_type": "code",
   "execution_count": 45,
   "id": "2dc6d861-5674-42e7-aaf3-cd526f99f59a",
   "metadata": {},
   "outputs": [
    {
     "data": {
      "text/html": [
       "<div>\n",
       "<style scoped>\n",
       "    .dataframe tbody tr th:only-of-type {\n",
       "        vertical-align: middle;\n",
       "    }\n",
       "\n",
       "    .dataframe tbody tr th {\n",
       "        vertical-align: top;\n",
       "    }\n",
       "\n",
       "    .dataframe thead th {\n",
       "        text-align: right;\n",
       "    }\n",
       "</style>\n",
       "<table border=\"1\" class=\"dataframe\">\n",
       "  <thead>\n",
       "    <tr style=\"text-align: right;\">\n",
       "      <th></th>\n",
       "      <th>collision_time</th>\n",
       "      <th>collision_month</th>\n",
       "      <th>location_type</th>\n",
       "      <th>control_device</th>\n",
       "      <th>weather_1</th>\n",
       "      <th>lighting</th>\n",
       "      <th>road_surface</th>\n",
       "      <th>road_condition_1</th>\n",
       "      <th>party_sobriety</th>\n",
       "      <th>party_drug_physical</th>\n",
       "      <th>vehicle_type</th>\n",
       "      <th>vehicle_age</th>\n",
       "    </tr>\n",
       "  </thead>\n",
       "  <tbody>\n",
       "    <tr>\n",
       "      <th>0</th>\n",
       "      <td>505.0</td>\n",
       "      <td>0.0</td>\n",
       "      <td>0.0</td>\n",
       "      <td>1.0</td>\n",
       "      <td>0.0</td>\n",
       "      <td>3.0</td>\n",
       "      <td>0.0</td>\n",
       "      <td>4.0</td>\n",
       "      <td>2.0</td>\n",
       "      <td>1.0</td>\n",
       "      <td>1.0</td>\n",
       "      <td>-0.592622</td>\n",
       "    </tr>\n",
       "    <tr>\n",
       "      <th>1</th>\n",
       "      <td>988.0</td>\n",
       "      <td>3.0</td>\n",
       "      <td>0.0</td>\n",
       "      <td>1.0</td>\n",
       "      <td>0.0</td>\n",
       "      <td>3.0</td>\n",
       "      <td>0.0</td>\n",
       "      <td>4.0</td>\n",
       "      <td>3.0</td>\n",
       "      <td>1.0</td>\n",
       "      <td>1.0</td>\n",
       "      <td>0.700247</td>\n",
       "    </tr>\n",
       "    <tr>\n",
       "      <th>2</th>\n",
       "      <td>380.0</td>\n",
       "      <td>9.0</td>\n",
       "      <td>1.0</td>\n",
       "      <td>0.0</td>\n",
       "      <td>0.0</td>\n",
       "      <td>4.0</td>\n",
       "      <td>0.0</td>\n",
       "      <td>4.0</td>\n",
       "      <td>3.0</td>\n",
       "      <td>1.0</td>\n",
       "      <td>0.0</td>\n",
       "      <td>0.700247</td>\n",
       "    </tr>\n",
       "  </tbody>\n",
       "</table>\n",
       "</div>"
      ],
      "text/plain": [
       "   collision_time  collision_month  location_type  control_device  weather_1  \\\n",
       "0           505.0              0.0            0.0             1.0        0.0   \n",
       "1           988.0              3.0            0.0             1.0        0.0   \n",
       "2           380.0              9.0            1.0             0.0        0.0   \n",
       "\n",
       "   lighting  road_surface  road_condition_1  party_sobriety  \\\n",
       "0       3.0           0.0               4.0             2.0   \n",
       "1       3.0           0.0               4.0             3.0   \n",
       "2       4.0           0.0               4.0             3.0   \n",
       "\n",
       "   party_drug_physical  vehicle_type  vehicle_age  \n",
       "0                  1.0           1.0    -0.592622  \n",
       "1                  1.0           1.0     0.700247  \n",
       "2                  1.0           0.0     0.700247  "
      ]
     },
     "execution_count": 45,
     "metadata": {},
     "output_type": "execute_result"
    }
   ],
   "source": [
    "transformer = make_column_transformer(\n",
    "    (OrdinalEncoder(handle_unknown='use_encoded_value', unknown_value=-1), ord_cat_features),\n",
    "    (StandardScaler(), num_features),\n",
    "    remainder='passthrough',\n",
    "    verbose_feature_names_out=False)\n",
    "\n",
    "transformer.fit(X_train);\n",
    "\n",
    "X_train_enc = pd.DataFrame(\n",
    "    transformer.transform(X_train),\n",
    "    columns=transformer.get_feature_names_out())\n",
    "\n",
    "X_test_enc = pd.DataFrame(\n",
    "    transformer.transform(X_test),\n",
    "    columns=transformer.get_feature_names_out())\n",
    "\n",
    "X_test_enc.head(3)"
   ]
  },
  {
   "cell_type": "code",
   "execution_count": 46,
   "id": "303c4fdb-92fc-4442-9a4c-ab477ad939a5",
   "metadata": {},
   "outputs": [
    {
     "name": "stdout",
     "output_type": "stream",
     "text": [
      "0.5950296967802438\n"
     ]
    },
    {
     "data": {
      "image/png": "[encoded data removed]",
      "text/plain": [
       "<Figure size 640x480 with 2 Axes>"
      ]
     },
     "metadata": {},
     "output_type": "display_data"
    }
   ],
   "source": [
    "res_cat.best_estimator_.fit(X_train_enc, y_train)\n",
    "preds = res_cat.best_estimator_.predict(X_test_enc)\n",
    "\n",
    "print(f1_score(y_test, preds))\n",
    "ConfusionMatrixDisplay.from_predictions(y_test, preds);"
   ]
  },
  {
   "cell_type": "markdown",
   "id": "a9fbc1c1-47c1-4ee9-8ce0-bc6811977b6e",
   "metadata": {},
   "source": [
    "На тестовой выборке F-beta вышла чуть больше, чем на тренировочной - 0.59. Матрица ошибок выглядит плохо: правильно определять обычные поездки модель еще хоть как-то может, а вот ДТП она предсказывает почти что подкидывая монетку."
   ]
  },
  {
   "cell_type": "code",
   "execution_count": 47,
   "id": "a2eb3f53-7407-4aa2-9882-ed38862793eb",
   "metadata": {},
   "outputs": [
    {
     "data": {
      "image/png": "[encoded data removed]",
      "text/plain": [
       "<Figure size 640x480 with 1 Axes>"
      ]
     },
     "metadata": {},
     "output_type": "display_data"
    }
   ],
   "source": [
    "PrecisionRecallDisplay.from_estimator(res_cat.best_estimator_, X_test_enc, y_test)\n",
    "no_skill = len(y_test[y_test==1]) / len(y_test)\n",
    "plt.plot([0, 1], [no_skill, no_skill], linestyle='--', label=f'No Skill ({no_skill:.3f})')\n",
    "plt.legend(loc='upper right');"
   ]
  },
  {
   "cell_type": "markdown",
   "id": "77266763-884e-40a5-8af7-8d60080d81b5",
   "metadata": {},
   "source": [
    "График точности и полноты выглядит хуже, чем на тренировке. Средняя точность 0.71."
   ]
  },
  {
   "cell_type": "code",
   "execution_count": 48,
   "id": "d09882de-dd11-4b67-929e-d9b76394f229",
   "metadata": {},
   "outputs": [
    {
     "name": "stdout",
     "output_type": "stream",
     "text": [
      "collision_time :  16.85593668150313\n",
      "collision_month :  11.074308233242016\n",
      "location_type :  6.920212406806244\n",
      "control_device :  6.509164307286018\n",
      "weather_1 :  4.090796145356604\n",
      "lighting :  5.321653961986372\n",
      "road_surface :  2.7082332276088246\n",
      "road_condition_1 :  1.6803409953950283\n",
      "party_sobriety :  14.418972329488378\n",
      "party_drug_physical :  4.864942565393117\n",
      "vehicle_type :  9.054819995638463\n",
      "vehicle_age :  16.500619150295822\n"
     ]
    }
   ],
   "source": [
    "for n in range(len(res_cat.best_estimator_.feature_names_in_)):\n",
    "    print(res_cat.best_estimator_.feature_names_in_[n], \": \",\\\n",
    "          res_cat.best_estimator_.steps[1][1].feature_importances_[n])"
   ]
  },
  {
   "cell_type": "markdown",
   "id": "800e5e36-69fe-4bb8-ac07-c10bc4b50d18",
   "metadata": {},
   "source": [
    "C важностью признаков модель справилась неплохо. Из анализа было ясно, что трезвость водителя очень сильно влияет на риск ДТП. Здесь этому признаку присвоено 14 единиц. Кроме этого очень важно было состояние водителя (не сонный ли он), но модель посчитала это не таким вадным фактором. Возраст машины также немного влиял на риск ДТП, здесь он важен. Из всех изученных признаков только у этих была заметная зависимость с целевым признаком. Также модель посчитала очень важным время аварии, до часов и минут, а не просто освещенность дороги."
   ]
  },
  {
   "cell_type": "code",
   "execution_count": 49,
   "id": "18672f65-c94e-48cc-a62f-6474d3827c2d",
   "metadata": {},
   "outputs": [
    {
     "data": {
      "image/png": "[encoded data removed]",
      "text/plain": [
       "<Figure size 640x480 with 2 Axes>"
      ]
     },
     "metadata": {},
     "output_type": "display_data"
    }
   ],
   "source": [
    "stat = df.pivot_table(index=['party_sobriety', 'at_fault'],\\\n",
    "                      values='collision_month', aggfunc='count').reset_index()\n",
    "sums = stat.groupby(['party_sobriety']).sum()['collision_month'].values\n",
    "percent = [stat[stat['at_fault']==0]['collision_month'].values,\\\n",
    "           stat[stat['at_fault']==1]['collision_month'].values] / sums * 100\n",
    "pdf = pd.DataFrame(data=percent, columns=stat['party_sobriety'].unique(), index=['0', '1']).T\n",
    "ax = pdf.plot(kind='barh');\n",
    "ax.bar_label(ax.containers[0], fmt='%.1f', label_type='center');\n",
    "ax.bar_label(ax.containers[1], fmt='%.1f', label_type='center');\n",
    "ax2 = ax.twinx(); ax2.set_ylim(ax.get_ylim()); ax2.set_ylabel('всего ДТП', rotation=-90)\n",
    "ax2.set_yticks(np.arange(len(sums)), labels=sums);"
   ]
  },
  {
   "cell_type": "markdown",
   "id": "955ed4f4-e1bc-4697-868b-c4bfb75a20ba",
   "metadata": {},
   "source": [
    "График выше показывает зависимость целевой переменной от самого важного для модели признака - трезвости водителя.    \n",
    "Количественно трезвые водители создали больше ДТП, чем все нетрезвые вместе. Если смотреть только на количество можно решить, что у трезвых водителей больше риск попасть в аварию, что конечно же не так. Если смотреть на процент виновных водителей в каждой категории, то среди трезвых виновных всего 45.3% - это не просто самый низкий процент среди всех, этот процент также показывает, что трезвые водители чаще были невиновны, им просто не повезло и кто-то другой врезался в них. Например, кто-то не совсем трезвый - у таких водителей процент виновных выше 71.5. Те, кто нетрезв и по анализу и по состоянию, создают ДТП в 95.7% случаев - всего 4.3% попали в аварию случайно.\n",
    "\n",
    "В этих данных о ДТП нетрезвых водителей не так много, всего чуть больше 6.6 тыс. Несмотря на это, именно их нельзя пропустить и допустить к вождению - они не только с большей вероятностью создадут опасную ситуацию, но также, как было видно из статистического анализа, с большей вероятностью нанесут серьезный ущерб участникам ДТП.     \n",
    "Чтобы не допустить нетрезвого водителя за руль можно перед поездкой оценить его состояние анализатором алкогольного опьянения. Чтобы убедиться, что в анализатор дышит именно водитель, можно добавить камеру, направленную на водительское место. Камера также может помочь определить степень сонливости водителя, а это немаловажный фактор."
   ]
  },
  {
   "cell_type": "markdown",
   "id": "c0460f96-8cdd-4a73-bbe1-c5243fd3e3a5",
   "metadata": {},
   "source": [
    "## 7. Вывод"
   ]
  },
  {
   "cell_type": "markdown",
   "id": "a5f6f446-17fe-4bfb-885f-10bc2dbd128e",
   "metadata": {},
   "source": [
    "С текущими данными из базы у моделей плохо получается предсказывать ДТП. Даже у лучшей модели, \"заточенной\" под работу с категориальными признаками, F-beta мера равна всего 0.59. Модель неплохо справляется с предсказанием не-аварий, но аварии предсказывает плохо - из них правильно отмечено всего 55%.       \n",
    "Похоже, что создать систему оценки риска ДТП будет трудно. Для этого нужно собирать данные, которые предшествовали аварии.      \n",
    "Для улучшения точности можно собрать данные о плотности трафика. Если узнать, как много машин было на дороге во время аварии, скорее всего, невозможно, то можно хотя бы узнать, насколько это обычно оживленная дорога и попытаться предсказать на основе этого. Также можно попробовать собрать данные о стаже водителя.       \n",
    "Данные о погоде, состоянии дороги, о перекрестках, развилках и нерабочих светофорах лучше оставить водителю - предупредить его о возможных трудностях на выбранном маршруте будет достаточно. Если и пробовать предсказывать ДТП по погоде и освещенности, то нужно собрать гораздо больше информации об авариях в плохих условиях, вроде темноты, мокрой дороги, гололедицы, метели и др. В текущих данных их слишком мало для уверенных предсказаний."
   ]
  },
  {
   "cell_type": "code",
   "execution_count": null,
   "id": "48f1917b",
   "metadata": {},
   "outputs": [],
   "source": []
  }
 ],
 "metadata": {
  "ExecuteTimeLog": [
   {
    "duration": 1937,
    "start_time": "2023-10-25T13:03:19.740Z"
   },
   {
    "duration": 4,
    "start_time": "2023-10-25T13:05:08.367Z"
   },
   {
    "duration": 11154,
    "start_time": "2023-10-25T13:05:09.373Z"
   },
   {
    "duration": 1081,
    "start_time": "2023-10-25T13:05:20.767Z"
   },
   {
    "duration": 212,
    "start_time": "2023-10-25T13:05:21.850Z"
   },
   {
    "duration": 1598,
    "start_time": "2023-10-25T13:05:23.313Z"
   },
   {
    "duration": 615,
    "start_time": "2023-10-25T13:05:24.922Z"
   },
   {
    "duration": 9216,
    "start_time": "2023-10-25T13:05:25.539Z"
   },
   {
    "duration": 602,
    "start_time": "2023-10-25T13:05:45.558Z"
   },
   {
    "duration": 4835,
    "start_time": "2023-10-25T13:06:32.336Z"
   },
   {
    "duration": 490,
    "start_time": "2023-10-25T13:07:11.438Z"
   },
   {
    "duration": 438,
    "start_time": "2023-10-25T13:07:15.870Z"
   },
   {
    "duration": 473,
    "start_time": "2023-10-25T13:07:20.817Z"
   },
   {
    "duration": 4432,
    "start_time": "2023-10-25T13:07:26.904Z"
   },
   {
    "duration": 4318,
    "start_time": "2023-10-25T13:07:45.094Z"
   },
   {
    "duration": 269,
    "start_time": "2023-10-25T13:07:56.286Z"
   },
   {
    "duration": 283,
    "start_time": "2023-10-25T13:08:05.933Z"
   },
   {
    "duration": 372,
    "start_time": "2023-10-25T13:08:37.863Z"
   },
   {
    "duration": 589,
    "start_time": "2023-10-25T13:08:46.570Z"
   },
   {
    "duration": 3,
    "start_time": "2023-10-25T13:09:32.417Z"
   },
   {
    "duration": 1172,
    "start_time": "2023-10-25T13:09:46.570Z"
   },
   {
    "duration": 180,
    "start_time": "2023-10-25T13:10:01.764Z"
   },
   {
    "duration": 16,
    "start_time": "2023-10-25T13:10:04.071Z"
   },
   {
    "duration": 42,
    "start_time": "2023-10-25T13:10:27.977Z"
   },
   {
    "duration": 40,
    "start_time": "2023-10-25T13:10:59.347Z"
   },
   {
    "duration": 78,
    "start_time": "2023-10-25T13:11:06.492Z"
   },
   {
    "duration": 16,
    "start_time": "2023-10-25T13:11:06.572Z"
   },
   {
    "duration": 49,
    "start_time": "2023-10-25T13:11:28.684Z"
   },
   {
    "duration": 57,
    "start_time": "2023-10-25T13:11:40.713Z"
   },
   {
    "duration": 4,
    "start_time": "2023-10-25T13:11:45.690Z"
   },
   {
    "duration": 48,
    "start_time": "2023-10-25T13:15:13.129Z"
   },
   {
    "duration": 33,
    "start_time": "2023-10-25T13:15:16.470Z"
   },
   {
    "duration": 4,
    "start_time": "2023-10-25T13:16:08.379Z"
   },
   {
    "duration": 4,
    "start_time": "2023-10-25T13:16:15.996Z"
   },
   {
    "duration": 4,
    "start_time": "2023-10-25T13:16:21.884Z"
   },
   {
    "duration": 3,
    "start_time": "2023-10-25T13:16:27.082Z"
   },
   {
    "duration": 6,
    "start_time": "2023-10-25T13:16:32.254Z"
   },
   {
    "duration": 125,
    "start_time": "2023-11-09T22:47:05.716Z"
   }
  ],
  "kernelspec": {
   "display_name": "Python 3 (ipykernel)",
   "language": "python",
   "name": "python3"
  },
  "language_info": {
   "codemirror_mode": {
    "name": "ipython",
    "version": 3
   },
   "file_extension": ".py",
   "mimetype": "text/x-python",
   "name": "python",
   "nbconvert_exporter": "python",
   "pygments_lexer": "ipython3",
   "version": "3.11.5"
  },
  "toc": {
   "base_numbering": 1,
   "nav_menu": {},
   "number_sections": true,
   "sideBar": true,
   "skip_h1_title": true,
   "title_cell": "Table of Contents",
   "title_sidebar": "Contents",
   "toc_cell": false,
   "toc_position": {},
   "toc_section_display": true,
   "toc_window_display": true
  }
 },
 "nbformat": 4,
 "nbformat_minor": 5
}
